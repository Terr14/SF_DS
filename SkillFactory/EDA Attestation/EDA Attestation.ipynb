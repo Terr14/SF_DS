{
 "cells": [
  {
   "cell_type": "code",
   "execution_count": 5,
   "metadata": {},
   "outputs": [],
   "source": [
    "import pandas as pd"
   ]
  },
  {
   "cell_type": "code",
   "execution_count": 6,
   "metadata": {},
   "outputs": [
    {
     "data": {
      "text/html": [
       "<div>\n",
       "<style scoped>\n",
       "    .dataframe tbody tr th:only-of-type {\n",
       "        vertical-align: middle;\n",
       "    }\n",
       "\n",
       "    .dataframe tbody tr th {\n",
       "        vertical-align: top;\n",
       "    }\n",
       "\n",
       "    .dataframe thead th {\n",
       "        text-align: right;\n",
       "    }\n",
       "</style>\n",
       "<table border=\"1\" class=\"dataframe\">\n",
       "  <thead>\n",
       "    <tr style=\"text-align: right;\">\n",
       "      <th></th>\n",
       "      <th>site</th>\n",
       "      <th>dwell-time</th>\n",
       "    </tr>\n",
       "  </thead>\n",
       "  <tbody>\n",
       "    <tr>\n",
       "      <th>0</th>\n",
       "      <td>0</td>\n",
       "      <td>2</td>\n",
       "    </tr>\n",
       "    <tr>\n",
       "      <th>1</th>\n",
       "      <td>1</td>\n",
       "      <td>48</td>\n",
       "    </tr>\n",
       "    <tr>\n",
       "      <th>2</th>\n",
       "      <td>0</td>\n",
       "      <td>15</td>\n",
       "    </tr>\n",
       "    <tr>\n",
       "      <th>3</th>\n",
       "      <td>1</td>\n",
       "      <td>16</td>\n",
       "    </tr>\n",
       "    <tr>\n",
       "      <th>4</th>\n",
       "      <td>0</td>\n",
       "      <td>38</td>\n",
       "    </tr>\n",
       "    <tr>\n",
       "      <th>...</th>\n",
       "      <td>...</td>\n",
       "      <td>...</td>\n",
       "    </tr>\n",
       "    <tr>\n",
       "      <th>295</th>\n",
       "      <td>0</td>\n",
       "      <td>22</td>\n",
       "    </tr>\n",
       "    <tr>\n",
       "      <th>296</th>\n",
       "      <td>0</td>\n",
       "      <td>7</td>\n",
       "    </tr>\n",
       "    <tr>\n",
       "      <th>297</th>\n",
       "      <td>1</td>\n",
       "      <td>144</td>\n",
       "    </tr>\n",
       "    <tr>\n",
       "      <th>298</th>\n",
       "      <td>0</td>\n",
       "      <td>89</td>\n",
       "    </tr>\n",
       "    <tr>\n",
       "      <th>299</th>\n",
       "      <td>0</td>\n",
       "      <td>138</td>\n",
       "    </tr>\n",
       "  </tbody>\n",
       "</table>\n",
       "<p>300 rows × 2 columns</p>\n",
       "</div>"
      ],
      "text/plain": [
       "     site  dwell-time\n",
       "0       0           2\n",
       "1       1          48\n",
       "2       0          15\n",
       "3       1          16\n",
       "4       0          38\n",
       "..    ...         ...\n",
       "295     0          22\n",
       "296     0           7\n",
       "297     1         144\n",
       "298     0          89\n",
       "299     0         138\n",
       "\n",
       "[300 rows x 2 columns]"
      ]
     },
     "execution_count": 6,
     "metadata": {},
     "output_type": "execute_result"
    }
   ],
   "source": [
    "data = pd.read_csv('new-site.csv', sep='\\t')\n",
    "data\n",
    "\n"
   ]
  },
  {
   "cell_type": "code",
   "execution_count": 20,
   "metadata": {},
   "outputs": [
    {
     "name": "stdout",
     "output_type": "stream",
     "text": [
      "16898\n",
      "10032\n"
     ]
    }
   ],
   "source": [
    "print(data[data['site']==0]['dwell-time'].sum())\n",
    "print(data[data['site']==1]['dwell-time'].sum())\n"
   ]
  },
  {
   "cell_type": "code",
   "execution_count": 21,
   "metadata": {},
   "outputs": [
    {
     "name": "stdout",
     "output_type": "stream",
     "text": [
      "90.84946236559139\n",
      "88.0\n"
     ]
    }
   ],
   "source": [
    "print(data[data['site']==0]['dwell-time'].mean())\n",
    "print(data[data['site']==1]['dwell-time'].mean())"
   ]
  },
  {
   "cell_type": "code",
   "execution_count": 1,
   "metadata": {},
   "outputs": [],
   "source": [
    "from scipy.stats import shapiro"
   ]
  },
  {
   "cell_type": "code",
   "execution_count": 9,
   "metadata": {},
   "outputs": [
    {
     "name": "stdout",
     "output_type": "stream",
     "text": [
      "Для группы А:\n",
      "p = 0.0\n",
      "0.0 < 0.05. Данные не распределены нормально (мы отвергаем H0)\n",
      "\n",
      "Для группы В:\n",
      "p = 0.0\n",
      "0.0 < 0.05. Данные не распределены нормально (мы отвергаем H0)\n"
     ]
    }
   ],
   "source": [
    "# Формулируем гипотезы\n",
    "H0 = 'Данные распределены нормально'\n",
    "Ha = 'Данные не распределены нормально (мы отвергаем H0)'\n",
    "\n",
    "# Установим уровень значимости\n",
    "alpha = 0.05\n",
    "\n",
    "print('Для группы А:')\n",
    "\n",
    "# Вычисляем p-value \n",
    "_, p = shapiro(data[data['site']==0]['dwell-time'])\n",
    "print('p =', round(p, 3))\n",
    "\n",
    "# Интерпретация\n",
    "if p > alpha:\n",
    "\tprint(f\"{round(p, 3)} > {alpha}. {H0}\")\n",
    "else:\n",
    "\tprint(f\"{round(p, 3)} < {alpha}. {Ha}\")\n",
    " \n",
    "print('')\n",
    " \n",
    "print('Для группы В:')\n",
    "\n",
    "# Вычисляем p-value для столбца Magadan\n",
    "_, p = shapiro(data[data['site']==1]['dwell-time'])\n",
    "print('p =', round(p, 3))\n",
    "\n",
    "# Интерпретация\n",
    "if p > alpha:\n",
    "\tprint(f\"{round(p, 3)} > {alpha}. {H0}\")\n",
    "else:\n",
    "\tprint(f\"{round(p, 3)} < {alpha}. {Ha}\")"
   ]
  },
  {
   "cell_type": "code",
   "execution_count": 13,
   "metadata": {},
   "outputs": [],
   "source": [
    "from statsmodels.stats.weightstats import ztest"
   ]
  },
  {
   "cell_type": "code",
   "execution_count": 16,
   "metadata": {},
   "outputs": [
    {
     "name": "stdout",
     "output_type": "stream",
     "text": [
      "p = 0.814\n",
      "0.814 > 0.05. Мы не можем отвергнуть нулевую гипотезу. Среднее время пребывания в группах А и B равны.\n"
     ]
    }
   ],
   "source": [
    "# Формулируем гипотезы\n",
    "H0 = 'Среднее время пребывания в группах А и B равны.'\n",
    "Ha = 'Среднее время пребывания в группе А больше, чем в группе B.'\n",
    "\n",
    "# Вычисляем p-value\n",
    "_,p = ztest(data[data['site']==0]['dwell-time'], data[data['site']==1]['dwell-time'])\n",
    "print('p =', round(p, 3))\n",
    "\n",
    "# Интерпретация\n",
    "if p > alpha:\n",
    "    print(f\"{round(p, 3)} > {alpha}. Мы не можем отвергнуть нулевую гипотезу. {H0}\")\n",
    "else:\n",
    "    print(f\"{round(p, 3)} <= {alpha}. Мы отвергаем нулевую гипотезу. {Ha}\")"
   ]
  }
 ],
 "metadata": {
  "kernelspec": {
   "display_name": "Python 3.10.1 64-bit",
   "language": "python",
   "name": "python3"
  },
  "language_info": {
   "codemirror_mode": {
    "name": "ipython",
    "version": 3
   },
   "file_extension": ".py",
   "mimetype": "text/x-python",
   "name": "python",
   "nbconvert_exporter": "python",
   "pygments_lexer": "ipython3",
   "version": "3.10.1"
  },
  "orig_nbformat": 4,
  "vscode": {
   "interpreter": {
    "hash": "bb33f6d328f18c07440802b8c66874c52744b86bff5cfe8eb1d71afeb55a2150"
   }
  }
 },
 "nbformat": 4,
 "nbformat_minor": 2
}
