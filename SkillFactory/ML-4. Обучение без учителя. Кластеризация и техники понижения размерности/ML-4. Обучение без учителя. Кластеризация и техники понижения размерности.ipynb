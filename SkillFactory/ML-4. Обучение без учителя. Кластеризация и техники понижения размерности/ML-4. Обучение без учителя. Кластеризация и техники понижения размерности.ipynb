{
 "cells": [
  {
   "cell_type": "markdown",
   "metadata": {},
   "source": [
    "# **ML-4. Обучение без учителя: кластеризация и техники понижения размерности**"
   ]
  },
  {
   "cell_type": "markdown",
   "metadata": {},
   "source": [
    "# 1. Введение"
   ]
  },
  {
   "cell_type": "markdown",
   "metadata": {},
   "source": [
    "Давайте вспомним нашу карту машинного обучения:\n",
    "\n",
    "![](https://lms.skillfactory.ru/assets/courseware/v1/555ac515171ab695b3f02b3faae9779b/asset-v1:SkillFactory+DST-3.0+28FEB2021+type@asset+block/dst3-ml1-3_1.png)"
   ]
  },
  {
   "cell_type": "markdown",
   "metadata": {},
   "source": [
    "При обучении с учителем у нас всегда есть размеченные данные , т. е. «правильные ответы». В данном случае мы предсказываем бинарные значения (например, уйдёт клиент от сотового оператора или нет) или точные значения (например, прибыль, которую получит магазин). Строить модели обучения с учителем вы уже умеете.\n",
    "\n",
    "Однако в реальной жизни данные зачастую приходят неразмеченными. Также не всегда есть возможность размечать их вручную, так как это может быть долго и/или дорого. Например, вы можете быть владельцем интернет-магазина и собирать данные о покупках, но в ваших данных никто не ставит отметки о лояльности клиентов. Или перед вами может стоять задача отделить рентгеновские снимки, на которых есть опухоль в лёгких, от снимков, на которых опухоли нет. Пока врач вручную не разметит данные, правильных ответов для обучения модели не будет.\n",
    "\n",
    "→ Если размеченных данных нет, невозможно использовать подходы обучения с учителем. В таком случае на помощь приходят **методы обучения без учителя**.\n",
    "\n",
    "**К обучению без учителя можно отнести:**\n",
    "\n",
    "* **Методы кластеризации.** Они позволяют разделить объекты на группы, внутри которых объекты максимально похожи друг на друга.\n",
    "* **Методы понижения размерности.** С их помощью можно уменьшить число признаков, которые характеризуют объект. Обычно количество признаков уменьшают до двух-трёх для дальнейшей визуализации данных или использования при обучении моделей.\n",
    "* **Методы ассоциации.** Они используются для того, чтобы найти правила и законы, по которым существует последовательность действий."
   ]
  },
  {
   "cell_type": "markdown",
   "metadata": {},
   "source": [
    "### КАКИЕ ПРОБЛЕМЫ МОЖНО РЕШАТЬ С ПОМОЩЬЮ МЕТОДОВ ОБУЧЕНИЯ БЕЗ УЧИТЕЛЯ?\n",
    "\n",
    "* Используя подходы, которые мы изучим в данном модуле, мы сможем лучше понимать данные, с которыми предстоит работать, например разделять данные на группы, которые схожи по каким-то признакам.\n",
    "\n",
    "    Данные до кластеризации можно сравнить с фруктовым салатом, состав которого нам нужно понять. Используя методы кластеризации и визуализацию, мы можем понять, из чего состоят наши данные (наш «салат»):\n",
    "\n",
    "    ![](https://lms.skillfactory.ru/assets/courseware/v1/1c8992462c048ca1d0641a294607b6ee/asset-v1:SkillFactory+DST-3.0+28FEB2021+type@asset+block/dst3-ml4-1_1.png)\n",
    "\n",
    "* Если данных, с которыми вы работаете, много, то методы машинного обучения без учителя позволяют **уменьшить их объём**, убрав схожие данные и оставив только несколько представителей различных групп.\n",
    "\n",
    "* Если разработанная модель плохо или долго обучается, причина может быть в том, что у объекта слишком много признаков. Методы уменьшения размерности помогают **уменьшить количество признаков**, которые характеризуют объект, и ускорить обучение модели.\n",
    "\n",
    "    Например, данные, которые изначально описывались тремя признаками (куб на рисунке ниже), мы можем описать и двумя признаками, спроецировав их на плоскость. Далее мы можем спроецировать полученный результат на одну ось и описывать объекты уже одним признаком:\n",
    "\n",
    "    ![](https://lms.skillfactory.ru/assets/courseware/v1/172cf9deba85a905ec213d9cc6d149a7/asset-v1:SkillFactory+DST-3.0+28FEB2021+type@asset+block/dst3-ml4-1_2.png)\n",
    "\n",
    "* Некоторые методы кластеризации помогают **найти выбросы в данных**.\n",
    "\n",
    "* Методы ассоциации позволяют **создавать шаблоны.** Это может помочь правильно расставить товары на полках в магазине или спрогнозировать продукты, которые могут купить вместе (например, если человек купил творог, то, возможно, ему будет нужна и сметана).\n",
    "\n",
    "Таким образом, методы обучения без учителя решают весьма разнообразные задачи и могут помочь Data Science-специалисту в работе.\n"
   ]
  },
  {
   "cell_type": "markdown",
   "metadata": {},
   "source": [
    "### ГДЕ ПРИМЕНЯЮТСЯ КЛАСТЕРИЗАЦИЯ И ПОНИЖЕНИЕ РАЗМЕРНОСТИ ДАННЫХ?\n",
    "\n",
    "**МЕДИЦИНА**\n",
    "\n",
    "Один из примеров использования методов обучения без учителя — классификация антибиотиков по их антибактериальной активности.\n",
    "\n",
    "Также кластерный анализ можно использовать для того, чтобы различить разные типы тканей на трёхмерных снимках томографа.\n",
    "\n",
    "**ОБРАБОТКА ИЗОБРАЖЕНИЙ**\n",
    "\n",
    "Изображение состоит из пикселей, которые можно рассматривать как набор точек в многомерном пространстве. С помощью метода понижения размерности (PCA), который мы изучим, можно преобразовать этот набор точек и оставить только первые компоненты, полученные после преобразования. В этих компонентах будет содержаться основная информация об изображении, но не будет шума. Таким образом мы улучшим качество изображения.\n",
    "\n",
    "Качество изображения с шумом и без него:\n",
    "\n",
    "![](https://lms.skillfactory.ru/assets/courseware/v1/66a9a41ebfff559bf97e998ed3b04de9/asset-v1:SkillFactory+DST-3.0+28FEB2021+type@asset+block/dst3-ml4-1_3.png)\n",
    "\n",
    "**ИНТЕРНЕТ**\n",
    "\n",
    "Повышение релевантности ответов на поисковые запросы путём группировки сайтов по смысловым значениям запросов."
   ]
  },
  {
   "cell_type": "markdown",
   "metadata": {},
   "source": [
    "Итак, знания, полученные в данном модуле, могут пригодиться для решения самых разных задач.\n",
    "\n",
    "✍ В данном модуле мы:\n",
    "\n",
    "* изучим принципы работы алгоритма **k-means** для кластеризации;\n",
    "* познакомимся с другими алгоритмами кластеризации (**иерархические** и **спектральные методы**, **гауссовская смешанная модель**, **DBSCAN**);\n",
    "* научимся строить **кластеры** и оценивать качество кластеризации;\n",
    "* рассмотрим способы визуализации полученных кластеров;\n",
    "* научимся уменьшать размерность данных и поймём, как это может пригодиться в работе."
   ]
  },
  {
   "cell_type": "markdown",
   "metadata": {},
   "source": [
    "# 2. Введение в обучение без учителя. Базовая кластеризация"
   ]
  },
  {
   "cell_type": "markdown",
   "metadata": {},
   "source": [
    "? Представьте, что вы работаете дата-сайентистом и получаете задачу по маркетинговому исследованию клиентов. Вам необходимо выделить группы покупателей по степени интереса к продукту и по сумме, которую они тратят.\n",
    "\n",
    "**Как решить данную задачу?**\n",
    "\n",
    "Обучение с учителем здесь не подходит, так как у нас нет правильных ответов о степени заинтересованности покупателей в продукте.\n",
    "\n",
    "Однако не спешите расстраиваться — на помощь придёт обучение без учителя, а именно **кластеризация**.\n",
    "\n",
    "Мы уже рассматривали суть кластеризации в [модуле ML-1](https://lms.skillfactory.ru/courses/course-v1:SkillFactory+DST-3.0+28FEB2021/jump_to_id/256f282fcf604ca5ac22f865d54230c0#clustering).\n",
    "\n",
    "![](https://lms.skillfactory.ru/assets/courseware/v1/db1a45caf3442f690b61a292b6a01147/asset-v1:SkillFactory+DST-3.0+28FEB2021+type@asset+block/dst3-ml1-4_2.png)"
   ]
  },
  {
   "cell_type": "markdown",
   "metadata": {},
   "source": [
    "> Кластеризация позволяет разбить объекты на группы, которые называются **кластерами**.\n",
    "\n",
    "Например, на картинке ниже изображены разные кластеры еды и напитков:\n",
    "\n",
    "![](https://lms.skillfactory.ru/assets/courseware/v1/71ed6695ea8ac1cb291898658a7a9e98/asset-v1:SkillFactory+DST-3.0+28FEB2021+type@asset+block/dst3-ml1-4_3.png)\n",
    "\n",
    "→ Похожие объекты оказываются внутри одного кластера. Если же объекты разные, то они должны оказаться в разных кластерах.\n",
    "\n",
    "Также у каждого кластера есть центроид.\n",
    "\n",
    "> **Центроид** — это центр масс кластера, или среднее значение координат объектов кластера.\n",
    "\n",
    "На рисунке ниже изображено три кластера, крестик в каждом из них — это центроид:\n",
    "\n",
    "![](https://lms.skillfactory.ru/assets/courseware/v1/d12a718367e0550f78ed02f2d4a312dd/asset-v1:SkillFactory+DST-3.0+28FEB2021+type@asset+block/dst3-ml4-2_1.png)"
   ]
  },
  {
   "cell_type": "markdown",
   "metadata": {},
   "source": [
    "**Как найти этот центроид?**\n",
    "\n",
    "Допустим, у нас есть маленький кластер, состоящий из четырёх точек. Каждая точка описывается только одним свойством — $x_1$, рост человека:\n",
    "\n",
    "Человек\\рост|$x_1$, рост\n",
    "------------|-----------\n",
    "Человек № 1\t|180\n",
    "Человек № 2\t|170\n",
    "Человек № 3\t|181\n",
    "Человек № 4\t|160\n",
    "\n",
    "Тогда для нахождения центроида мы берём все значения по оси x и считаем среднее:\n",
    "\n",
    "$$x_{1}(центроид \\ кластера) = (180+170+181+160)/4 = 172$$\n",
    "\n",
    "Что делать, если данные описываются двумя свойствами, например, рост ($x_1$) и вес (x_2)?\n",
    "\n",
    "Тогда у этих точек есть $x_1$- и $x_2$-координаты:\n",
    "\n",
    "Человек\\рост, вес   |$x_1$, рост    |$x_2$, вес\n",
    "--------------------|---------------|----------\n",
    "Человек № 1\t        |180\t        |70\n",
    "Человек № 2\t        |170\t        |60\n",
    "Человек № 3\t        |181\t        |65\n",
    "Человек № 4\t        |160\t        |45\n",
    "\n",
    "Для нахождения координат центроида мы последовательно находим:\n",
    "\n",
    "* Координату $x_1$: $x_{1} (центроид) = (180+170+181+160)/4 = 172$\n",
    "* Координату $x_2$: $x_{2} (центроид) = (70+60+65+45)/4 = 60$\n",
    "\n",
    "Таким образом, координаты центроида — (172, 60).\n",
    "\n",
    "Если объект описывается бόльшим количеством признаков (например, рост ($x_1$), вес ($x_2$), объём талии ($x_3$) и т. д.), то для нахождения координат центроида мы последовательно, по каждому признаку (координате), ищем среднее значение."
   ]
  },
  {
   "cell_type": "markdown",
   "metadata": {},
   "source": [
    "## АЛГОРИТМ K-MEANS\n",
    "\n",
    "Рассмотрим один из наиболее популярных методов кластеризации — k-means.\n",
    "\n",
    "Данный алгоритм был разработан ещё в 1950-х, но благодаря скорости своей работы он до сих пор остаётся востребованным.\n",
    "\n",
    "**Идея алгоритма** состоит в том, что он разбивает множество элементов векторного пространства на заранее заданное пользователем число кластеров, а далее стремится минимизировать суммарное квадратичное отклонение объектов внутри кластера до центроида кластера.\n",
    "\n",
    "Математически это выглядит следующим образом: \n",
    "\n",
    "$$V = \\sum_{i=1}^{k} \\sum_{x\\in S_{i}} (x - \\mu_{i})^2$$\n",
    "\n",
    "Мы итерируемся по каждому кластеру и для всех векторов $x$ внутри кластера $S_i$ подсчитываем центроиды ($\\mu_{i}$). Далее рассчитываем разницу между каждым вектором $x$ кластера $S_i$ и центроидом кластера . Необходимо, чтобы это значение, возведённое в квадрат ($V$), было минимальным для каждого кластера.\n",
    "\n",
    "А сейчас переведём сложные математические термины на человеческий язык.\n",
    "\n",
    "Рассмотрим работу данного алгоритма на примере. Допустим, у нас есть данные с разными значениями свойства $x_1$. Эти данные необходимо разделить на кластеры. Нанесём значения свойства $x_1$ на ось X:\n",
    "\n",
    "![](https://lms.skillfactory.ru/assets/courseware/v1/f19d1adb53f5dd9b7a09f391a787d8e7/asset-v1:SkillFactory+DST-3.0+28FEB2021+type@asset+block/dst3-ml4-2_2.png)\n",
    "\n",
    "Для этих данных нам нужно провести анализ и выделить три кластера. Вы с большой вероятностью скажете, что данные можно разделить на кластеры (жёлтый, розовый и зелёный) следующим образом:\n",
    "\n",
    "![](https://lms.skillfactory.ru/assets/courseware/v1/928a7e81fe759b00e500ce5670a659d4/asset-v1:SkillFactory+DST-3.0+28FEB2021+type@asset+block/dst3-ml4-2_3.png)\n",
    "\n",
    "Но как реализовать это в алгоритме? Алгоритм k-means состоит из девяти шагов. Давайте подробно рассмотрим каждый из них:"
   ]
  },
  {
   "cell_type": "markdown",
   "metadata": {},
   "source": [
    "1. Решаем, на сколько кластеров хотим разделить данные.\n",
    "\n",
    "    В данном случае у нас будет три кластера. Значит, у алгоритма k-means $k=3$.\n",
    "\n",
    "    ![](https://lms.skillfactory.ru/assets/courseware/v1/f19d1adb53f5dd9b7a09f391a787d8e7/asset-v1:SkillFactory+DST-3.0+28FEB2021+type@asset+block/dst3-ml4-2_2.png)\n",
    "\n",
    "2. Чтобы сформировать кластеры, случайным образом выбираем три объекта из датасета. Эти три объекта будут представлять три разных кластера (жёлтый, розовый и зелёный). Так как в этих кластерах находится по одному объекту, то эти объекты будут считаться исходными центроидами кластеров:\n",
    "\n",
    "    ![](https://lms.skillfactory.ru/assets/courseware/v1/dca3f980e1d668a72ec0d682b8c15539/asset-v1:SkillFactory+DST-3.0+28FEB2021+type@asset+block/dst3-ml4-2_4.png)\n",
    "\n",
    "3. Распределим оставшиеся объекты датасета по трём кластерам.\n",
    "\n",
    "    Считается, что объект принадлежит к тому кластеру, к центроиду которого он находится ближе всего.\n",
    "\n",
    "    Возьмём первый объект датасета и рассчитаем расстояние (L1, L2 и L3) от этого объекта до центроида каждого кластера:\n",
    "\n",
    "    ![](https://lms.skillfactory.ru/assets/courseware/v1/2b221835890d4bed33d32b167b75f4a3/asset-v1:SkillFactory+DST-3.0+28FEB2021+type@asset+block/dst3-ml4-2_5.png)\n",
    "\n",
    "    Найдём, к какому центроиду данный объект находится ближе всего. L1 имеет наименьшее значение — значит, объект располагается ближе всего к центроиду жёлтого кластера и будет отнесён к нему:\n",
    "\n",
    "    ![](https://lms.skillfactory.ru/assets/courseware/v1/5a929898a4704c251a9aa21211d19bae/asset-v1:SkillFactory+DST-3.0+28FEB2021+type@asset+block/dst3-ml4-2_6.png)\n",
    "\n",
    "    После этого такую же процедуру мы проводим для остальных объектов датасета. В итоге получаем следующее распределение данных:\n",
    "\n",
    "    ![](https://lms.skillfactory.ru/assets/courseware/v1/928a7e81fe759b00e500ce5670a659d4/asset-v1:SkillFactory+DST-3.0+28FEB2021+type@asset+block/dst3-ml4-2_3.png)\n",
    "\n",
    "    Два объекта оказались ближе всего к розовому кластеру, три объекта — к зелёному."
   ]
  },
  {
   "cell_type": "markdown",
   "metadata": {},
   "source": [
    "4. Теперь в каждом из кластеров больше одного объекта, и центр этих кластеров тоже изменился. Поэтому рассчитаем новые центроиды и для удобства выделим их на рисунке вертикальной линией:\n",
    "\n",
    "    ![](https://lms.skillfactory.ru/assets/courseware/v1/da8cf69d060d07da24a7eeab645f8350/asset-v1:SkillFactory+DST-3.0+28FEB2021+type@asset+block/dst3-ml4-2_7.png)\n",
    "\n",
    "5. После этого для каждого объекта в выборке повторяем шаг 3, т. е. для каждого объекта датасета рассчитываем расстояние до центроидов:\n",
    "\n",
    "    ![](https://lms.skillfactory.ru/assets/courseware/v1/2ddfede09b8dfb32612255ad2a2f3e5a/asset-v1:SkillFactory+DST-3.0+28FEB2021+type@asset+block/dst3-ml4-2_8.png)\n",
    "\n",
    "    Так как у нас новые кластеры, центроиды могли сильно измениться. Поэтому при подсчёте расстояний ближайшим к объекту может оказаться уже другой центроид. Значит, этот объект будет принадлежать к другому кластеру.\n",
    "\n",
    "    В нашем случае центроиды изменились несильно, и все объекты остались в своих кластерах.\n",
    "\n",
    "6. Шаг 5 повторяется до тех пор, пока объекты датасета не перестанут менять кластеры, к которым они относятся. Как только объекты перестают это делать, алгоритм завершается и мы переходим к шагу 7.\n",
    "\n",
    "7. Далее для каждого кластера подсчитаем среднеквадратичное отклонение объектов кластера до центроида: для каждого кластера считаем сумму квадратов расстояний от элементов кластера до его центроида.\n",
    "\n",
    "    Находим суммарное отклонение:\n",
    "\n",
    "    ![](https://lms.skillfactory.ru/assets/courseware/v1/fa2028cfec0ab04ec3debf610271fe35/asset-v1:SkillFactory+DST-3.0+28FEB2021+type@asset+block/dst3-ml4-2_9.png)"
   ]
  },
  {
   "cell_type": "markdown",
   "metadata": {},
   "source": [
    "8. Далее мы несколько раз заново запускаем алгоритм кластеризации, начиная с шага 2.\n",
    "\n",
    "    **Зачем это нужно?**\n",
    "\n",
    "    В шаге 1 мы выбирали первые объекты кластера случайным образом, но так можно выбрать не разные объекты, а те, что находятся рядом. В таком случае кластеризация получится некачественной (шесть оставшихся объектов будут принадлежать к зелёному кластеру), как на рисунке ниже:\n",
    "\n",
    "    ![](https://lms.skillfactory.ru/assets/courseware/v1/f9688bc98356f53cabc2e6570f605fa4/asset-v1:SkillFactory+DST-3.0+28FEB2021+type@asset+block/dst3-ml4-2_10.png)\n",
    "\n",
    "    Чтобы такого не происходило, мы повторяем весь алгоритм несколько раз, начиная с шага 2. В sklearn по умолчанию проводится десять итераций.\n",
    "\n",
    "9. Среди получившихся кластеров нам необходимо найти наилучший вариант кластеризации.\n",
    "\n",
    "    Лучшей будет признана кластеризация с минимальным значением среднеквадратичного отклонения, которое рассчитывали на шаге 7.\n",
    "\n",
    "Очевидно, что если все объекты будут в одном кластере, это будет худший сценарий с максимальным среднеквадратичным отклонением:\n",
    "\n",
    "![](https://lms.skillfactory.ru/assets/courseware/v1/d9f5ceb6b99c428077de95c3e2bfae59/asset-v1:SkillFactory+DST-3.0+28FEB2021+type@asset+block/dst3-ml4-2_11.png)"
   ]
  },
  {
   "cell_type": "markdown",
   "metadata": {},
   "source": [
    "Если каждый объект будет принадлежать собственному кластеру, отклонение будет нулевым, так как один объект будет являться и объектом кластера, и его центром масс, а значит расстояние между объектом кластера и центроидом кластера равно нулю. Такое разбиение будет считаться переобучением, так как мы слишком подстраиваемся под данные:\n",
    "\n",
    "![](https://lms.skillfactory.ru/assets/courseware/v1/7f5b47b5a001aacd890086b3683363a6/asset-v1:SkillFactory+DST-3.0+28FEB2021+type@asset+block/dst3-ml4-2_12.png)\n",
    "\n",
    "Только что мы рассмотрели, как работает алгоритм для одномерного случая (если есть только один признак, описывающий объект). Ниже вы можете увидеть, как работает алгоритм для двухмерного случая (когда объект описывается двумя признаками).\n",
    "\n",
    "![](https://lms.skillfactory.ru/assets/courseware/v1/e2631c90908fb50354cbb866f2008b92/asset-v1:SkillFactory+DST-3.0+28FEB2021+type@asset+block/dst3-ml4-2_37.gif)"
   ]
  },
  {
   "cell_type": "markdown",
   "metadata": {},
   "source": [
    "Если объект описывается тремя и более признаками, поиск кластеров идёт в -мерном пространстве признаков. Однако такую работу алгоритма довольно сложно визуализировать.\n",
    "\n",
    "Рассмотренный нами алгоритм был основан на центроидах: мы находили центры кластеров и присваивали объекты к ближайшему центроиду кластера.\n",
    "\n",
    "На самом деле центры кластера можно определять разными способами. В зависимости от этого выделяется **несколько вариаций алгоритма k-means**:"
   ]
  },
  {
   "cell_type": "markdown",
   "metadata": {},
   "source": [
    "### **K-MEANS**  \n",
    "Находит центроиды кластера как среднее значение координат.\n",
    "\n",
    "[Документация](https://scikit-learn.org/stable/modules/generated/sklearn.cluster.KMeans.html)\n",
    "\n",
    "(```init='random'```)\n",
    "\n",
    "### **K-MEANS++**  \n",
    "В классическом алгоритме k-means центроиды выбираются случайно, но это может приводить к тому, что два объекта, которые находятся близко друг к другу, будут центроидами двух разных кластеров — это будет приводить к долгой работе алгоритма.\n",
    "\n",
    "Алгоритм k-means++ чуть «хитрее» и выбирает центроиды кластеров не совсем случайно.\n",
    "\n",
    "[Документация](https://scikit-learn.org/stable/modules/generated/sklearn.cluster.KMeans.html)\n",
    "\n",
    "(```init='k-means++'```; по умолчанию в ```sklearn``` при запуске ```k-means``` используется алгоритм ```k-means++```)\n",
    "\n",
    "### **K-MEDIANS**  \n",
    "На этапе поиска центроидов кластера находит не среднее значение координат, а медиану.\n",
    "\n",
    "[Документация](https://github.com/UBC-MDS/KMediansPy)\n",
    "\n",
    "### **K-MEDOIDS**  \n",
    "Работает так же, как k-medians, но медианой кластера будет не какая-то точка в кластере, а объект, который находится ближе всего к этим координатам медианы кластера.\n",
    "\n",
    "[Документация](https://scikit-learn-extra.readthedocs.io/en/stable/generated/sklearn_extra.cluster.KMedoids.html)\n",
    "\n",
    "### **FUZZY C-MEANS**  \n",
    "Данный алгоритм разрешает нечётко присваивать кластеры. Каждый объект может принадлежать к разным кластерам с разной вероятностью.\n",
    "\n",
    "[Документация](https://github.com/omadson/fuzzy-c-means)"
   ]
  },
  {
   "cell_type": "markdown",
   "metadata": {},
   "source": [
    "Теперь мы знаем, как работает алгоритм k-means, но не хотелось бы реализовывать его с нуля. Для того чтобы запустить алгоритм кластеризации k-means, нам нужна библиотека sklearn и модуль KMeans.\n",
    "\n",
    "**Что необходимо для запуска?**\n",
    "\n",
    "* Обязательно задать количество кластеров, на которые необходимо разделить данные.\n",
    "* Данные, т. е. параметры объектов ($X_i$), которые мы будем передавать в виде матрицы наблюдений X.\n",
    "\n",
    "После этого можно запустить алгоритм и для каждого объекта в данных получить метку, к какому кластеру этот объект относится:\n",
    "\n",
    "```py\n",
    "\n",
    "# импортируем нужный модуль k-means-кластеризации\n",
    "from sklearn.cluster import KMeans\n",
    "\n",
    "# инициализируем алгоритм, при желании задаём разные параметры для алгоритма\n",
    "k_means = KMeans(n_clusters=2, init='k-means++', n_init=10, random_state=42)\n",
    "X = df[[\"x1\", \"x2\", \"x3\"]]\n",
    "# обучаем модель на данных, передав матрицу наблюдений X\n",
    "k_means.fit(X)\n",
    "# получаем результаты кластеризации (список меток, к какому кластеру относится каждый объект из X)\n",
    "labels = k_means.labels_\n",
    "\n",
    "```\n",
    "Таким образом, мы обучили модель кластеризации. Если нужно определить, к какому из существующих кластеров будут отнесены новые данные из df2, то мы просто воспользуемся методом predict:\n",
    "\n",
    "```py\n",
    "\n",
    "X_new = df2[[\"x1\", \"x2\", \"x3\"]]\n",
    "k_means.predict(X_new)\n",
    "\n",
    "```\n",
    "\n",
    "\n"
   ]
  },
  {
   "cell_type": "markdown",
   "metadata": {},
   "source": [
    "Чтобы запустить алгоритм, необходимо задать **параметры кластеризации**:\n",
    "\n",
    "* n_clusters — количество кластеров. По умолчанию — 8.\n",
    "* init — способ инициализации центроидов. Есть две опции: random (выбирает центроиды случайным образом) и k-means++ (более «хитрый» алгоритм, который позволяет модели быстрее сходиться). По умолчанию используется k-means++.\n",
    "* n_init — количество случайных инициализаций алгоритма k-means. В конце будут выбраны те результаты, которые имеют наилучшие значения критерия k-means. По умолчанию n_init = 10.\n",
    "* max_iter — максимальное количество итераций алгоритма k-means при одном запуске. По умолчанию — 300.\n",
    "* random_state — параметр, который определяет генерацию случайных чисел для инициализации центроида. Чтобы детерминировать случайность, нужно задать какое-нибудь число.\n",
    "\n",
    "Теперь попробуем применить полученные знания на практике.\n",
    "\n",
    "У нас есть данные по покемонам. Для каждого покемона известны его сила атаки, уровень защиты, скорость бега и ещё пара параметров. Попробуем найти кластеры покемонов, основываясь на силе атаки и уровне защиты."
   ]
  },
  {
   "cell_type": "code",
   "execution_count": 27,
   "metadata": {},
   "outputs": [
    {
     "data": {
      "text/html": [
       "<div>\n",
       "<style scoped>\n",
       "    .dataframe tbody tr th:only-of-type {\n",
       "        vertical-align: middle;\n",
       "    }\n",
       "\n",
       "    .dataframe tbody tr th {\n",
       "        vertical-align: top;\n",
       "    }\n",
       "\n",
       "    .dataframe thead th {\n",
       "        text-align: right;\n",
       "    }\n",
       "</style>\n",
       "<table border=\"1\" class=\"dataframe\">\n",
       "  <thead>\n",
       "    <tr style=\"text-align: right;\">\n",
       "      <th></th>\n",
       "      <th>Name</th>\n",
       "      <th>Total</th>\n",
       "      <th>HP</th>\n",
       "      <th>Attack</th>\n",
       "      <th>Defense</th>\n",
       "      <th>Sp. Atk</th>\n",
       "      <th>Sp. Def</th>\n",
       "      <th>Speed</th>\n",
       "      <th>RealClusters</th>\n",
       "    </tr>\n",
       "  </thead>\n",
       "  <tbody>\n",
       "    <tr>\n",
       "      <th>0</th>\n",
       "      <td>Bulbasaur</td>\n",
       "      <td>318</td>\n",
       "      <td>45</td>\n",
       "      <td>77.634658</td>\n",
       "      <td>50.854702</td>\n",
       "      <td>65</td>\n",
       "      <td>65</td>\n",
       "      <td>45</td>\n",
       "      <td>2</td>\n",
       "    </tr>\n",
       "    <tr>\n",
       "      <th>1</th>\n",
       "      <td>Ivysaur</td>\n",
       "      <td>405</td>\n",
       "      <td>60</td>\n",
       "      <td>67.454273</td>\n",
       "      <td>39.202323</td>\n",
       "      <td>80</td>\n",
       "      <td>80</td>\n",
       "      <td>60</td>\n",
       "      <td>1</td>\n",
       "    </tr>\n",
       "    <tr>\n",
       "      <th>2</th>\n",
       "      <td>Venusaur</td>\n",
       "      <td>525</td>\n",
       "      <td>80</td>\n",
       "      <td>76.007423</td>\n",
       "      <td>47.605846</td>\n",
       "      <td>100</td>\n",
       "      <td>100</td>\n",
       "      <td>80</td>\n",
       "      <td>2</td>\n",
       "    </tr>\n",
       "    <tr>\n",
       "      <th>3</th>\n",
       "      <td>VenusaurMega Venusaur</td>\n",
       "      <td>625</td>\n",
       "      <td>80</td>\n",
       "      <td>77.828031</td>\n",
       "      <td>50.744911</td>\n",
       "      <td>122</td>\n",
       "      <td>120</td>\n",
       "      <td>80</td>\n",
       "      <td>2</td>\n",
       "    </tr>\n",
       "    <tr>\n",
       "      <th>4</th>\n",
       "      <td>Charmander</td>\n",
       "      <td>309</td>\n",
       "      <td>39</td>\n",
       "      <td>68.658104</td>\n",
       "      <td>37.890027</td>\n",
       "      <td>60</td>\n",
       "      <td>50</td>\n",
       "      <td>65</td>\n",
       "      <td>1</td>\n",
       "    </tr>\n",
       "  </tbody>\n",
       "</table>\n",
       "</div>"
      ],
      "text/plain": [
       "                    Name  Total  HP     Attack    Defense  Sp. Atk  Sp. Def  \\\n",
       "0              Bulbasaur    318  45  77.634658  50.854702       65       65   \n",
       "1                Ivysaur    405  60  67.454273  39.202323       80       80   \n",
       "2               Venusaur    525  80  76.007423  47.605846      100      100   \n",
       "3  VenusaurMega Venusaur    625  80  77.828031  50.744911      122      120   \n",
       "4             Charmander    309  39  68.658104  37.890027       60       50   \n",
       "\n",
       "   Speed  RealClusters  \n",
       "0     45             2  \n",
       "1     60             1  \n",
       "2     80             2  \n",
       "3     80             2  \n",
       "4     65             1  "
      ]
     },
     "execution_count": 27,
     "metadata": {},
     "output_type": "execute_result"
    }
   ],
   "source": [
    "# импортируем библиотеку pandas для работы с датафреймами\n",
    "import pandas as pd\n",
    "# импортируем seaborn для визуализации\n",
    "import seaborn as sns\n",
    "# импортируем sklearn для кластеризации\n",
    "from sklearn.cluster import KMeans \n",
    "\n",
    "# загружаем данные\n",
    "df = pd.read_csv('data\\pokemon.csv')\n",
    "# датасет содержит название покемона, уровень его защиты, силу атаки и скорость\n",
    "df.head()"
   ]
  },
  {
   "cell_type": "code",
   "execution_count": 28,
   "metadata": {},
   "outputs": [
    {
     "name": "stderr",
     "output_type": "stream",
     "text": [
      "c:\\Users\\Home\\AppData\\Local\\Programs\\Python\\Python310\\lib\\site-packages\\seaborn\\_decorators.py:36: FutureWarning: Pass the following variables as keyword args: x, y. From version 0.12, the only valid positional argument will be `data`, and passing other arguments without an explicit keyword will result in an error or misinterpretation.\n",
      "  warnings.warn(\n"
     ]
    },
    {
     "data": {
      "text/plain": [
       "<AxesSubplot:xlabel='Attack', ylabel='Defense'>"
      ]
     },
     "execution_count": 28,
     "metadata": {},
     "output_type": "execute_result"
    },
    {
     "data": {
      "image/png": "[encoded data removed]",
      "text/plain": [
       "<Figure size 432x288 with 1 Axes>"
      ]
     },
     "metadata": {
      "needs_background": "light"
     },
     "output_type": "display_data"
    }
   ],
   "source": [
    "# попробуем кластеризовать покемонов по их силе атаки и уровню защиты\n",
    "# для этого сохраним в матрицу X два интересующих нас признака: атаку и защиту\n",
    "X = df[['Attack', 'Defense']]\n",
    "\n",
    "#визуализируем\n",
    "sns.scatterplot(df.Attack, df.Defense)"
   ]
  },
  {
   "cell_type": "markdown",
   "metadata": {},
   "source": [
    "Из получившегося графика непонятно, сколько кластеров должно быть и как их выбрать. Попробуем разделить данные на три кластера.\n",
    "\n",
    "Инициализируем алгоритм k-means. При инициализации зададим **параметры моделирования**:\n",
    "\n",
    "* n_clusters — количество кластеров;\n",
    "* init — стратегия кластеризации;\n",
    "* n_init — количество запусков алгоритма k-means;\n",
    "* random_state — чтобы результаты воспроизводились от запуска к запуску."
   ]
  },
  {
   "cell_type": "code",
   "execution_count": 29,
   "metadata": {},
   "outputs": [
    {
     "name": "stderr",
     "output_type": "stream",
     "text": [
      "c:\\Users\\Home\\AppData\\Local\\Programs\\Python\\Python310\\lib\\site-packages\\seaborn\\_decorators.py:36: FutureWarning: Pass the following variables as keyword args: x, y. From version 0.12, the only valid positional argument will be `data`, and passing other arguments without an explicit keyword will result in an error or misinterpretation.\n",
      "  warnings.warn(\n"
     ]
    },
    {
     "data": {
      "text/plain": [
       "<AxesSubplot:xlabel='Attack', ylabel='Defense'>"
      ]
     },
     "execution_count": 29,
     "metadata": {},
     "output_type": "execute_result"
    },
    {
     "data": {
      "image/png": "[encoded data removed]",
      "text/plain": [
       "<Figure size 432x288 with 1 Axes>"
      ]
     },
     "metadata": {
      "needs_background": "light"
     },
     "output_type": "display_data"
    }
   ],
   "source": [
    "# инициализируем алгоритм k-means с количеством кластеров 3\n",
    "kmeans = KMeans(n_clusters=3, init='k-means++', n_init=10, random_state=42)\n",
    "\n",
    "# запустим обучение модели\n",
    "kmeans.fit(X)\n",
    "\n",
    "# предскажем, к какому кластеру принадлежат покемоны \n",
    "predictions = kmeans.predict(X)\n",
    "# если мы хотим получить метки класса для тех же данных, на которых обучили модель, можно запросить labels\n",
    "predictions = kmeans.labels_\n",
    "\n",
    "# сохраним предсказания в датафрейм\n",
    "df['Clusters_k3'] = predictions\n",
    "\n",
    "#визуализируем результаты. Параметр c принимает вектор с номерами классов для группировки объектов по цветам \n",
    "sns.scatterplot(df.Attack, df.Defense, c=predictions)"
   ]
  },
  {
   "cell_type": "markdown",
   "metadata": {},
   "source": [
    "В данном случае видно, что данные хорошо делятся на три кластера, а также есть одна точка-выброс. \n",
    "\n",
    "Попробуем увеличить количество кластеров до четырёх, чтобы вынести выброс в отдельный кластер:"
   ]
  },
  {
   "cell_type": "code",
   "execution_count": 30,
   "metadata": {},
   "outputs": [
    {
     "name": "stderr",
     "output_type": "stream",
     "text": [
      "c:\\Users\\Home\\AppData\\Local\\Programs\\Python\\Python310\\lib\\site-packages\\seaborn\\_decorators.py:36: FutureWarning: Pass the following variables as keyword args: x, y. From version 0.12, the only valid positional argument will be `data`, and passing other arguments without an explicit keyword will result in an error or misinterpretation.\n",
      "  warnings.warn(\n"
     ]
    },
    {
     "data": {
      "text/plain": [
       "<AxesSubplot:xlabel='Attack', ylabel='Defense'>"
      ]
     },
     "execution_count": 30,
     "metadata": {},
     "output_type": "execute_result"
    },
    {
     "data": {
      "image/png": "[encoded data removed]",
      "text/plain": [
       "<Figure size 432x288 with 1 Axes>"
      ]
     },
     "metadata": {
      "needs_background": "light"
     },
     "output_type": "display_data"
    }
   ],
   "source": [
    "# инициализируем алгоритм k-means с количеством кластеров 3\n",
    "kmeans = KMeans(n_clusters=4, init='k-means++', n_init=10, random_state=42)\n",
    "\n",
    "# запустим обучение модели\n",
    "kmeans.fit(X)\n",
    "\n",
    "# предскажем, к какому кластеру принадлежат покемоны \n",
    "predictions = kmeans.predict(X)\n",
    "# если мы хотим получить метки класса для тех же данных, на которых обучили модель, можно запросить labels\n",
    "predictions = kmeans.labels_\n",
    "\n",
    "# сохраним предсказания в датафрейм\n",
    "df['Clusters_k4'] = predictions\n",
    "\n",
    "#визуализируем результаты. Параметр c принимает вектор с номерами классов для группировки объектов по цветам \n",
    "sns.scatterplot(df.Attack, df.Defense, c=predictions)"
   ]
  },
  {
   "cell_type": "markdown",
   "metadata": {},
   "source": [
    "Как видим, «отделить» выброс от других данных не получается: k-means не умеет обрабатывать выбросы.\n",
    "\n",
    "В данном случае мы проводили кластеризацию по двум признакам. Мы сделали это для того, чтобы можно было визуализировать результаты. Для кластеризации можно использовать и более двух признаков, однако в таком случае кластеризация будет проходить в n-мерном пространстве (для трёх признаков пространство будет трёхмерным), и визуализировать результаты будет непросто.\n",
    "\n",
    "В трёхмерном и другом n-мерном случае кластеризация запускается следующим образом:\n",
    "\n",
    "```py\n",
    "\n",
    "# добавляем третий признак — скорость покемона, алгоритм такой же\n",
    "X = df[['Attack', 'Defense', 'Speed']]\n",
    " \n",
    "# инициализируем алгоритм k-means с количеством кластеров 3\n",
    "kmeans = KMeans(n_clusters=3, init='k-means++', n_init=10, random_state=42)\n",
    " \n",
    "# запускаем обучение модели\n",
    "kmeans.fit(X)\n",
    " \n",
    "# предсказываем, к какому кластеру принадлежат покемоны \n",
    "predictions = kmeans.predict(X)\n",
    "# если мы хотим получить метки класса для тех же данных, на которых обучили модель, можно запросить labels\n",
    "predictions = kmeans.labels_\n",
    "\n",
    "```"
   ]
  },
  {
   "cell_type": "markdown",
   "metadata": {},
   "source": [
    "Методы визуализации результатов 3D-кластеризации мы рассмотрим чуть позже."
   ]
  },
  {
   "cell_type": "markdown",
   "metadata": {},
   "source": [
    "### НЕДОСТАТКИ АЛГОРИТМА K-MEANS\n",
    "\n",
    "* Необходимо заранее знать, на сколько кластеров мы хотим разделить данные. В учебных примерах известно, каким должно быть k, и определить это значение довольно легко. В реальности данные сложнее и трудно заранее предугадать, сколько кластеров мы хотим получить.\n",
    "\n",
    "* Очевидно, что для объектов, которые в равной степени принадлежат к разным кластерам, алгоритм k-means будет отрабатывать плохо.\n",
    "\n",
    "* Алгоритм чувствителен к выбросам в данных, так как выбросы сильно искажают местонахождение центроида кластера.\n",
    "\n",
    "    Например, на картинке ниже зелёная точка справа — явный выброс. Но получилось так, что этот выброс находится ближе всего к зелёному кластеру, поэтому выброс был отнесён к нему. При подсчёте центроида для зелёного кластера появится искажение, так как выброс сильно на это повлияет:\n",
    "\n",
    "    ![](https://lms.skillfactory.ru/assets/courseware/v1/7fdd4c37704bb9f6e7e13d27c7024ea7/asset-v1:SkillFactory+DST-3.0+28FEB2021+type@asset+block/dst3-ml4-2_17.png)\n",
    "\n",
    "* Плохо работает на данных, которые образуют удлинённые кластеры, а также на кластерах неправильной формы.\n",
    "\n",
    "    Например, если данные распределены, как на левом и среднем рисунках ниже, алгоритм k-means будет проводить кластеризацию некорректно и выделять два довольно странных кластера (синий и оранжевый). На правом рисунке изображены кластеры удлинённой формы, и для них k-means также отрабатывает плохо. Так происходит потому, что алгоритм ищет ближайших соседей и поэтому выделяет зелёным две нижних части двух разных кластеров, считая их ближайшими соседями.\n",
    "\n",
    "    ![](https://lms.skillfactory.ru/assets/courseware/v1/4e419ec85a62b0d683baaf78d540ab89/asset-v1:SkillFactory+DST-3.0+28FEB2021+type@asset+block/dst3-ml4-2_18.png)\n",
    "\n",
    "Так как в самом начале работы алгоритма центроиды определяются случайным образом, результат сильно зависит от того, какие начальные объекты будут определены как центры кластеров."
   ]
  },
  {
   "cell_type": "markdown",
   "metadata": {},
   "source": [
    "## ОПРЕДЕЛЕНИЕ ОПТИМАЛЬНОГО K ДЛЯ АЛГОРИТМА K-MEANS\n",
    "\n",
    "Рассмотрим, как побороть один из существенных недостатков алгоритма, а именно — как подобрать оптимальное количество кластеров.\n",
    "\n",
    "→ Для этого можно использовать несколько способов: метод локтя (elbow plot), статистику разрыва (Gap Statistic Method), коэффициент силуэта (Average Silhouette Method). Мы рассмотрим **метод локтя** и **коэффициент силуэта**.\n",
    "\n",
    "Начнём с **метода локтя**.\n",
    "\n",
    "Данный метод позволяет найти такое оптимальное число кластеров, чтобы добавление ещё одного кластера не приводило к лучшему моделированию данных.\n",
    "\n",
    "Идея состоит в том, что в самом начале при добавлении новых кластеров качество моделирования улучшается. Эта область называется **недообученной (underfitting)**.\n",
    "\n",
    "Дальнейшее добавление новых кластеров существенно не улучшает качество моделирования, а значит стоит прекратить их добавление. Данная область называется **переобученной (overfitting)**.\n",
    "\n",
    "Чтобы определить оптимальное количество кластеров, используя метод локтя, необходимо нарисовать график, на котором по оси x будет отложено количество кластеров, а по оси y — инерция.\n",
    "\n",
    "> **Инерция** — это сумма квадратов расстояний объектов датасета до центра масс ближайшего к ним кластера.\n",
    "\n",
    "![](https://lms.skillfactory.ru/assets/courseware/v1/48d1812a0a7baa0cf1b267ef23ea21c1/asset-v1:SkillFactory+DST-3.0+28FEB2021+type@asset+block/dst3-ml4-2_33.png)\n",
    "\n"
   ]
  },
  {
   "cell_type": "markdown",
   "metadata": {},
   "source": [
    "Когда инерция быстро снижается, область считается недообученной, а далее, после «перегиба», идёт очень медленное снижение инерции, и область считается переобученной.\n",
    "\n",
    "![](https://lms.skillfactory.ru/assets/courseware/v1/bbc9751013a95517736c8ad4c118ac7b/asset-v1:SkillFactory+DST-3.0+28FEB2021+type@asset+block/dst3-ml4-2_19.png)\n",
    "\n",
    "На графике видно, что линия напоминает локоть — отсюда и название метода. Оптимальное число кластеров находится как раз на «локтевом сгибе». \n",
    "\n",
    "Таким образом, нам необходимо построить график и найти тот самый перегиб с оптимальным количеством кластеров. В данном случае оптимальное количество кластеров равно 4.\n",
    "\n",
    "Теперь реализуем это в виде кода. Нам нужно посчитать значение инерции для кластеризаций с разным количеством кластеров. Для этого напишем функцию get_inertia, которая будет принимать данные и количество кластеров и возвращать значение инерции:"
   ]
  },
  {
   "cell_type": "code",
   "execution_count": 31,
   "metadata": {},
   "outputs": [
    {
     "data": {
      "text/plain": [
       "[<matplotlib.lines.Line2D at 0x1d9f6e903a0>]"
      ]
     },
     "execution_count": 31,
     "metadata": {},
     "output_type": "execute_result"
    },
    {
     "data": {
      "image/png": "[encoded data removed]",
      "text/plain": [
       "<Figure size 432x288 with 1 Axes>"
      ]
     },
     "metadata": {
      "needs_background": "light"
     },
     "output_type": "display_data"
    }
   ],
   "source": [
    "import matplotlib.pyplot as plt\n",
    "import pandas as pd\n",
    "from sklearn.cluster import KMeans\n",
    "\n",
    "# функция, которая принимает количество кластеров для k-means и матрицу с признаками объектов и возвращает инерцию \n",
    "def get_inertia(cluster_num, X):\n",
    "# инициализируем алгоритм кластеризации\n",
    "    k_means =  KMeans(n_clusters=cluster_num, random_state=42)\n",
    "# запускаем алгоритм k-means\n",
    "    k_means.fit(X)\n",
    "# находим значение инерции\n",
    "    inertia = k_means.inertia_\n",
    "# возвращаем значение инерции\n",
    "    return inertia\n",
    "\n",
    "# создаём пустой список для значений инерции\n",
    "inertia = []\n",
    "# итерируемся по разным размерам кластеров (от 1 до 9) и сохраняем значение инерции для каждого кластера\n",
    "for cluster_num in range(1, 10):\n",
    "# сохраняем значения\n",
    "    inertia.append(get_inertia(cluster_num, X))\n",
    "\n",
    "# визуализируем, как менялась инерция в зависимости от количества кластеров\n",
    "# задаём названия осям x и y\n",
    "plt.xlabel(\"cluster\", fontsize=12)\n",
    "plt.ylabel(\"inertia\", fontsize=12)\n",
    "# рисуем изменение инерции\n",
    "plt.plot([i for i in range(1, 10)], inertia, 'xb-')"
   ]
  },
  {
   "cell_type": "markdown",
   "metadata": {},
   "source": [
    "Как можно заметить из графика, на сгибе k=3. Значит, оптимальное количество кластеров, подобранное с помощью алгоритма локтя, равняется трём. Значения k от 1 до 2 — недообученная область, а после значения 3 идёт переобучение.\n",
    "\n",
    "→ Таким образом, метод локтя — это довольно простой метод, основанный на учёте евклидова расстояния между объектами кластера и центроидами.\n",
    "\n",
    "Однако изгиб на графике также может быть представлен нечётко:\n",
    "\n",
    "![](https://lms.skillfactory.ru/assets/courseware/v1/a70bee58d4ddfc5b65492a7995a46b90/asset-v1:SkillFactory+DST-3.0+28FEB2021+type@asset+block/dst3-ml4-2_21.png)\n",
    "\n",
    "Как быть в таком случае? Какое оптимальное количество кластеров выбрать?\n",
    "\n",
    "Если вдруг в ходе работы вы встречаете график, на котором невозможно найти «локоть», на помощь придёт коэффициент силуэта."
   ]
  },
  {
   "cell_type": "markdown",
   "metadata": {},
   "source": [
    "График силуэта, в отличие от графика локтя, имеет пиковый характер, поэтому его проще визуализировать и анализировать.\n",
    "\n",
    "На графике ниже по оси x отложено количество кластеров, а по оси y — значение коэффициента силуэта. Можно отчётливо увидеть, что пик графика приходится на количество кластеров, равное 3:\n",
    "\n",
    "![](https://lms.skillfactory.ru/assets/courseware/v1/f2d8a5a95d784aeb8ea10c39e4badbb2/asset-v1:SkillFactory+DST-3.0+28FEB2021+type@asset+block/dst3-ml4-2_34.png)\n",
    "\n",
    "Коэффициент силуэта показывает, насколько объект похож на объекты кластера, в котором он находится, по сравнению с объектами из других кластеров.\n",
    "\n",
    "Силуэт варьируется от -1 до +1: чем выше значение, тем больше объекты похожи на объекты своего кластера и меньше похожи на объекты соседних кластеров.\n",
    "\n",
    "Если силуэт равен 1, это означает, что кластеры хорошо разделены между собой и имеют высокую плотность внутри себя, например, такая кластеризация, где данные чётко разделены на три группы:\n",
    "\n",
    "![](https://lms.skillfactory.ru/assets/courseware/v1/7959f5f575571f684136123b96e33a4a/asset-v1:SkillFactory+DST-3.0+28FEB2021+type@asset+block/dst3-ml4-2_22.png)\n",
    "\n",
    "Рассмотрим, как рассчитывается коэффициент силуэта, если у нас есть три разных кластера (красный, зелёный и серый):\n",
    "\n",
    "![](https://lms.skillfactory.ru/assets/courseware/v1/47d54f35b427f6c460c688677c0a6e2e/asset-v1:SkillFactory+DST-3.0+28FEB2021+type@asset+block/dst3-ml4-2_23.png)"
   ]
  },
  {
   "cell_type": "markdown",
   "metadata": {},
   "source": [
    "Возьмём красный кластер. Для объекта из красного кластера рассчитаем расстояние до каждого объекта в этом кластере (пусть это будет a). Далее для красного кластера найдём ближайший кластер. Посчитаем расстояние от того же объекта из красного кластера  до каждого объекта зелёного кластера (примем это значение за b).\n",
    "\n",
    "Для каждой точки датасета рассчитывается значение силуэта:\n",
    "\n",
    "$$s_{i} = \\frac{(b_{i}-a_{i})}{max(a_{i},b_{i})}$$\n",
    "\n",
    "Далее рассчитывается среднее значение силуэта для всего датасета.\n",
    "\n",
    "Посчитаем силуэт, используя sklearn:"
   ]
  },
  {
   "cell_type": "code",
   "execution_count": 32,
   "metadata": {},
   "outputs": [
    {
     "data": {
      "text/plain": [
       "[<matplotlib.lines.Line2D at 0x1d9f6ef82b0>]"
      ]
     },
     "execution_count": 32,
     "metadata": {},
     "output_type": "execute_result"
    },
    {
     "data": {
      "image/png": "[encoded data removed]",
      "text/plain": [
       "<Figure size 432x288 with 1 Axes>"
      ]
     },
     "metadata": {
      "needs_background": "light"
     },
     "output_type": "display_data"
    }
   ],
   "source": [
    "# импортируем метрику силуэта\n",
    "from sklearn.metrics import silhouette_score\n",
    "\n",
    "# напишем функцию, как и при подсчёте метода локтя\n",
    "def get_silhouette(cluster_num, X):\n",
    "    k_means =  KMeans(n_clusters=cluster_num, random_state=42)\n",
    "    k_means.fit(X)\n",
    "# подсчитаем метрику силуэта, передав данные и то, к каким кластерам относятся объекты\n",
    "    silhouette = silhouette_score(X, k_means.labels_)\n",
    "    return silhouette\n",
    "\n",
    "silhouette = []\n",
    "for clust_num in range(2, 10):\n",
    "    silhouette.append(get_silhouette(clust_num, X))\n",
    "\n",
    "# визуализируем коэффициенты силуэта для разного количества кластеров\n",
    "plt.xlabel(\"cluster\", fontsize=12)\n",
    "plt.ylabel(\"silhouette\", fontsize=12)\n",
    "plt.plot([i for i in range(2, 10)], silhouette, 'xb-')"
   ]
  },
  {
   "cell_type": "markdown",
   "metadata": {},
   "source": [
    "На графике для метода силуэта отчётливо виден пик с наибольшим значением коэффициента силуэта. Значит, оптимальное количество кластеров равно 3.\n",
    "\n",
    "Если вам нужно найти оптимальное количество кластеров для датасета, наиболее наглядным графиком будет график коэффициента силуэта, поэтому можно сразу воспользоваться им. Но стоит помнить, что для построения данного графика нужно **минимум два кластера**, так как мы сравниваем объекты одного кластера с другим, наиболее близким кластером."
   ]
  },
  {
   "cell_type": "markdown",
   "metadata": {},
   "source": [
    "### Задание 2.7\n",
    "\n",
    "Вам как специалисту по анализу данных поступили [показания с прибора](https://lms.skillfactory.ru/assets/courseware/v1/89b083afa0b2aa24e00b10aaa523fbce/asset-v1:SkillFactory+DST-3.0+28FEB2021+type@asset+block/values_from_the_instrument.zip), измеряющего количество нитратов и пестицидов в разных фруктах и овощах.\n",
    "\n",
    "Значения количества пестицидов и нитратов записаны в столбцы с названиями x1 и x2.\n",
    "\n",
    "Основываясь на этих двух свойствах, кластеризуйте данные и, используя коэффициент силуэта, найдите оптимальное количество кластеров."
   ]
  },
  {
   "cell_type": "code",
   "execution_count": 33,
   "metadata": {},
   "outputs": [
    {
     "data": {
      "text/html": [
       "<div>\n",
       "<style scoped>\n",
       "    .dataframe tbody tr th:only-of-type {\n",
       "        vertical-align: middle;\n",
       "    }\n",
       "\n",
       "    .dataframe tbody tr th {\n",
       "        vertical-align: top;\n",
       "    }\n",
       "\n",
       "    .dataframe thead th {\n",
       "        text-align: right;\n",
       "    }\n",
       "</style>\n",
       "<table border=\"1\" class=\"dataframe\">\n",
       "  <thead>\n",
       "    <tr style=\"text-align: right;\">\n",
       "      <th></th>\n",
       "      <th>x1</th>\n",
       "      <th>x2</th>\n",
       "    </tr>\n",
       "  </thead>\n",
       "  <tbody>\n",
       "    <tr>\n",
       "      <th>0</th>\n",
       "      <td>48.848600</td>\n",
       "      <td>67.882051</td>\n",
       "    </tr>\n",
       "    <tr>\n",
       "      <th>1</th>\n",
       "      <td>60.343304</td>\n",
       "      <td>74.215686</td>\n",
       "    </tr>\n",
       "    <tr>\n",
       "      <th>2</th>\n",
       "      <td>48.155670</td>\n",
       "      <td>68.313920</td>\n",
       "    </tr>\n",
       "    <tr>\n",
       "      <th>3</th>\n",
       "      <td>48.546786</td>\n",
       "      <td>68.090451</td>\n",
       "    </tr>\n",
       "    <tr>\n",
       "      <th>4</th>\n",
       "      <td>47.124609</td>\n",
       "      <td>67.132278</td>\n",
       "    </tr>\n",
       "  </tbody>\n",
       "</table>\n",
       "</div>"
      ],
      "text/plain": [
       "          x1         x2\n",
       "0  48.848600  67.882051\n",
       "1  60.343304  74.215686\n",
       "2  48.155670  68.313920\n",
       "3  48.546786  68.090451\n",
       "4  47.124609  67.132278"
      ]
     },
     "execution_count": 33,
     "metadata": {},
     "output_type": "execute_result"
    }
   ],
   "source": [
    "data = pd.read_csv('data/values_from_the_instrument.csv')\n",
    "data.head()"
   ]
  },
  {
   "cell_type": "code",
   "execution_count": 34,
   "metadata": {},
   "outputs": [
    {
     "name": "stderr",
     "output_type": "stream",
     "text": [
      "c:\\Users\\Home\\AppData\\Local\\Programs\\Python\\Python310\\lib\\site-packages\\seaborn\\_decorators.py:36: FutureWarning: Pass the following variables as keyword args: x, y. From version 0.12, the only valid positional argument will be `data`, and passing other arguments without an explicit keyword will result in an error or misinterpretation.\n",
      "  warnings.warn(\n"
     ]
    },
    {
     "data": {
      "text/plain": [
       "<AxesSubplot:xlabel='x1', ylabel='x2'>"
      ]
     },
     "execution_count": 34,
     "metadata": {},
     "output_type": "execute_result"
    },
    {
     "data": {
      "image/png": "[encoded data removed]",
      "text/plain": [
       "<Figure size 432x288 with 1 Axes>"
      ]
     },
     "metadata": {
      "needs_background": "light"
     },
     "output_type": "display_data"
    }
   ],
   "source": [
    "# попробуем кластеризовать покемонов по их силе атаки и уровню защиты\n",
    "# для этого сохраним в матрицу X два интересующих нас признака: атаку и защиту\n",
    "X = data[['x1', 'x2']]\n",
    "\n",
    "#визуализируем\n",
    "sns.scatterplot(data.x1, data.x2)"
   ]
  },
  {
   "cell_type": "code",
   "execution_count": 35,
   "metadata": {},
   "outputs": [
    {
     "data": {
      "text/plain": [
       "[<matplotlib.lines.Line2D at 0x1d9f6f9dc00>]"
      ]
     },
     "execution_count": 35,
     "metadata": {},
     "output_type": "execute_result"
    },
    {
     "data": {
      "image/png": "[encoded data removed]",
      "text/plain": [
       "<Figure size 432x288 with 1 Axes>"
      ]
     },
     "metadata": {
      "needs_background": "light"
     },
     "output_type": "display_data"
    }
   ],
   "source": [
    "import matplotlib.pyplot as plt\n",
    "import pandas as pd\n",
    "from sklearn.cluster import KMeans\n",
    "\n",
    "# функция, которая принимает количество кластеров для k-means и матрицу с признаками объектов и возвращает инерцию \n",
    "def get_inertia(cluster_num, X):\n",
    "# инициализируем алгоритм кластеризации\n",
    "    k_means =  KMeans(n_clusters=cluster_num, random_state=42)\n",
    "# запускаем алгоритм k-means\n",
    "    k_means.fit(X)\n",
    "# находим значение инерции\n",
    "    inertia = k_means.inertia_\n",
    "# возвращаем значение инерции\n",
    "    return inertia\n",
    "\n",
    "# создаём пустой список для значений инерции\n",
    "inertia = []\n",
    "# итерируемся по разным размерам кластеров (от 1 до 9) и сохраняем значение инерции для каждого кластера\n",
    "for cluster_num in range(1, 10):\n",
    "# сохраняем значения\n",
    "    inertia.append(get_inertia(cluster_num, X))\n",
    "\n",
    "# визуализируем, как менялась инерция в зависимости от количества кластеров\n",
    "# задаём названия осям x и y\n",
    "plt.xlabel(\"cluster\", fontsize=12)\n",
    "plt.ylabel(\"inertia\", fontsize=12)\n",
    "# рисуем изменение инерции\n",
    "plt.plot([i for i in range(1, 10)], inertia, 'xb-')"
   ]
  },
  {
   "cell_type": "markdown",
   "metadata": {},
   "source": [
    "# 3. Метрики"
   ]
  },
  {
   "cell_type": "markdown",
   "metadata": {},
   "source": [
    "✍Итак, подбирать оптимальное количество кластеров мы научились. Но как оценить, насколько хорошие кластеры у нас получились?\n",
    "\n",
    "Допустим, мы разделили кошек и собак на два кластера: в каждом из кластеров находятся либо только кошки, либо только собаки. Но может получиться так, что в ходе кластеризации мы разделим одинаковых собак по разным кластерам или кошки с собаками перемешаются, как на рисунке ниже:\n",
    "\n",
    "![](https://lms.skillfactory.ru/assets/courseware/v1/165ace16885306ee414000bf085debca/asset-v1:SkillFactory+DST-3.0+28FEB2021+type@asset+block/dst3-ml4-2_25.png)"
   ]
  },
  {
   "cell_type": "markdown",
   "metadata": {},
   "source": [
    "Поэтому было бы хорошо как-то оценивать, не создали ли мы лишние кластеры или одинаковые ли объекты в нашем кластере. В этом нам помогут метрики, которые мы рассмотрим далее.\n",
    "\n",
    "Чтобы понять, правильно ли объекты распределились по кластерам, необходимо знать, в каких кластерах должны быть объекты.\n",
    "\n",
    "→ Ранее мы говорили, что кластеризация относится к методу машинного обучения без учителя и применяется, когда нет размеченных данных, а значит мы не знаем правильных ответов. Однако иногда размеченные данные всё же есть. В таком случае мы можем провести дополнительный анализ получившихся кластеров.\n",
    "\n",
    "Существует ряд метрик, которые можно подсчитать, **если данные размечены**. Мы рассмотрим четыре метрики, которые больше всего помогут нам при анализе результатов кластеризации:\n",
    "\n",
    "### 1. ОДНОРОДНОСТЬ КЛАСТЕРОВ (HOMOGENEITY SCORE)  \n",
    "    \n",
    "Данная метрика, как и три последующих, может применяться, только когда есть размеченные данные.\n",
    "\n",
    "> Кластер считается однородным, если в нём содержатся объекты, принадлежащие только к одному кластеру.\n",
    "\n",
    "Значение метрики уменьшается, если объединить два разных кластера, которые содержат непохожие объекты.\n",
    "\n",
    "$$homogeneity = 1 - \\frac{H(Y_{true} | Y_{pred})}{H(Y_{true})},$$\n",
    "\n",
    "где $Y_{true}$ — реальные значения номеров кластеров для элементов, $Y_{pred}$ — предсказанные значения номеров кластеров для элементов, $H$ —  функция, которая называется **критерием информативности**, или **энтропией**.\n",
    "\n",
    "Для $Y_{true}$, принимающей $n$ независимых значений $y_i$ с вероятностями $P(y_i)$, энтропия считается следующим образом:\n",
    "\n",
    "$$H(Y_{true}) = - \\sum_{i=1}^{n} P(y_{i}) * log P(y_{i})$$\n",
    "\n",
    "Условная энтропия $Y_{true}$ относительно $Y_{pred}$ рассчитывается так:\n",
    "\n",
    "$$H(Y_{true} | Y_{pred}) = H(Y_{true}, Y_{pred}) - H(Y_{pred})$$\n",
    "\n",
    "Например, нам нужно распределить кошек и собак по разным кластерам. В первом случае нам это удалось, а во втором одна собака «убежала» к кошкам, одна кошка — к собакам, и животные перемешались:\n",
    "\n",
    "![](https://lms.skillfactory.ru/assets/courseware/v1/6a741b17a75cba91064eebcdc04e6ef8/asset-v1:SkillFactory+DST-3.0+28FEB2021+type@asset+block/dst3-ml4-2_26.png)\n",
    "\n"
   ]
  },
  {
   "cell_type": "markdown",
   "metadata": {},
   "source": [
    "Таким образом, во втором случае в кластере оказались разные животные, поэтому однородность снизилась.\n",
    "\n",
    "→ В первом кластере метрика однородности будет максимальной и равна 1, во втором значение однородности будет меньше, так как животные немного перемешались. Если бы кластер был максимально неоднородный, значение метрики было бы равно 0.\n",
    "\n",
    "Теперь посмотрим, как рассчитать метрику однородности в sklearn:"
   ]
  },
  {
   "cell_type": "code",
   "execution_count": 36,
   "metadata": {},
   "outputs": [
    {
     "name": "stdout",
     "output_type": "stream",
     "text": [
      "1.0\n"
     ]
    }
   ],
   "source": [
    "# импортируем подсчёт метрики однородности кластеров\n",
    "from sklearn.metrics.cluster import homogeneity_score\n",
    "\n",
    "# передаём предсказанную информацию (к какому кластеру относятся объекты датасета) и правильные ответы\n",
    "print(homogeneity_score(labels_true=[0, 0, 1, 1], labels_pred=[0, 0, 1, 1]))"
   ]
  },
  {
   "cell_type": "markdown",
   "metadata": {},
   "source": [
    "Во втором случае мы получаем метрику, равную 1, хотя предсказывали совершенно противоположный результат. Почему так получилось?\n",
    "\n",
    "Допустим, наши 0 и 1 — это номера кластеров, в которых находятся кошки и собаки:\n",
    "\n",
    "![](https://lms.skillfactory.ru/assets/courseware/v1/683e195cf5f2a36a95ba83ec8ad7fec5/asset-v1:SkillFactory+DST-3.0+28FEB2021+type@asset+block/dst3-ml4-2_27.png)"
   ]
  },
  {
   "cell_type": "markdown",
   "metadata": {},
   "source": [
    "labels_true — это реальные значения: в кластере 0 — собаки, в кластере 1 — кошки. В первый раз мы предсказали, что в кластере 0 находятся две собаки, а в кластере 1 — две кошки. Метрика однородности равна 1, так как внутри кластеров разные объекты и наши ответы полностью совпали с labels_true.\n",
    "\n",
    "Во втором случае, казалось бы, будет неверно, если в кластере 0 будут кошки, а в кластере 1 — собаки. Но, судя по составу кластеров, кошки и собаки не перемешались, поэтому однородность кластеров будет равна 1.\n",
    "\n",
    "Рассмотрим метрику однородности на примере результатов кластеризации покемонов. Возьмём два случая — с тремя и четырьмя кластерами:\n",
    "\n",
    "![](https://lms.skillfactory.ru/assets/courseware/v1/de8837941190e8780e6aa0248adb41a9/asset-v1:SkillFactory+DST-3.0+28FEB2021+type@asset+block/dst3-ml4-3_47.png)"
   ]
  },
  {
   "cell_type": "code",
   "execution_count": 37,
   "metadata": {},
   "outputs": [
    {
     "name": "stdout",
     "output_type": "stream",
     "text": [
      "1.0\n",
      "1.0\n"
     ]
    }
   ],
   "source": [
    "# передадим информацию о том, какие на самом деле должны быть кластеры и результаты предсказания\n",
    "print(homogeneity_score(labels_true=df.RealClusters, labels_pred=df.Clusters_k3))\n",
    "# 1.0\n",
    "print(homogeneity_score(labels_true=df.RealClusters, labels_pred=df.Clusters_k4))\n",
    "# 1.0"
   ]
  },
  {
   "cell_type": "markdown",
   "metadata": {},
   "source": [
    "Вы можете удивиться, что во втором случае метрика равна 1, но это нормально: хоть мы и разделили данные на большее количество кластеров, внутри кластеров данные остались однородными."
   ]
  },
  {
   "cell_type": "markdown",
   "metadata": {},
   "source": [
    "### 2. ПОЛНОТА КЛАСТЕРА (COMPLETENESS SCORE)\n",
    "\n",
    "Значение данной метрики показывает, насколько кластер заполнен объектами, которые в действительности должны принадлежать к этому кластеру.\n",
    "\n",
    "Результат кластеризации удовлетворяет требованиям полноты, если все элементы данных, принадлежащие к одному классу, при кластеризации оказались в одном кластере.\n",
    "\n",
    "Значение метрики уменьшается, если эталонный кластер разделить на части. Например, если кластер, в котором находятся только собаки, разделить на два более мелких кластера, то метрика полноты у такой кластеризации будет меньше:\n",
    "\n",
    "![](https://lms.skillfactory.ru/assets/courseware/v1/f03c2ff48e0146f04fd2c794dc5ba316/asset-v1:SkillFactory+DST-3.0+28FEB2021+type@asset+block/dst3-ml4-2_28.png)\n",
    "\n",
    "На рисунке выше c — это completeness, или полнота."
   ]
  },
  {
   "cell_type": "markdown",
   "metadata": {},
   "source": [
    "$$completeness = 1 - \\frac{H(Y_{pred}|Y_{true})}{H(Y_{pred})},$$\n",
    "\n",
    "где $Y_{true}$ — реальные значения номеров кластеров для элементов, $Y_{pred}$ — предсказанные значения номеров кластеров для элементов, $H$ —  функция, которая называется **критерием информативности**, или **энтропией**.\n",
    "\n",
    "Для $Y_{true}$, принимающей $n$ независимых значений $y_i$ с вероятностями $P(y_i)$, энтропия считается следующим образом:\n",
    "\n",
    "$$H(Y_{pred}) = - \\sum_{i=1}^{n} P(y_{i}) * log P(y_{i})$$\n",
    "\n",
    "Условная энтропия $Y_{true}$ относительно $Y_{pred}$ рассчитывается так:\n",
    "\n",
    "$$H(Y_{pred}|Y_{true}) = H(Y_{pred}, Y_{true}) - H(Y_{true})$$\n",
    "\n",
    "При максимальном заполнении кластеров схожими объектами полнота равняется 1 (когда есть один большой кластер со всеми собаками), при минимальном заполнении — 0."
   ]
  },
  {
   "cell_type": "code",
   "execution_count": 38,
   "metadata": {},
   "outputs": [
    {
     "data": {
      "text/plain": [
       "1.0"
      ]
     },
     "execution_count": 38,
     "metadata": {},
     "output_type": "execute_result"
    }
   ],
   "source": [
    "# импортируем метрику полноты\n",
    "from sklearn.metrics.cluster import completeness_score\n",
    "\n",
    "# передаём предсказанную информацию (к какому кластеру относятся объекты датасета) и правильные ответы, подсчитываем метрику\n",
    "completeness_score(labels_true=[0, 0, 1, 1], labels_pred=[0, 0, 1, 1])\n",
    "# 1.0"
   ]
  },
  {
   "cell_type": "markdown",
   "metadata": {},
   "source": [
    "Рассмотрим метрику полноты на примере результатов кластеризации покемонов. Возьмём два случая — с тремя и четырьмя кластерами:\n",
    "\n",
    "![](https://lms.skillfactory.ru/assets/courseware/v1/05cfec8a46ae0b8999af953e30d4c88a/asset-v1:SkillFactory+DST-3.0+28FEB2021+type@asset+block/dst3-ml4-2_35.png)"
   ]
  },
  {
   "cell_type": "code",
   "execution_count": 39,
   "metadata": {},
   "outputs": [
    {
     "name": "stdout",
     "output_type": "stream",
     "text": [
      "1.0\n",
      "0.829867483307009\n"
     ]
    }
   ],
   "source": [
    "# посчитаем, насколько полными получились кластеры с покемонами\n",
    "print(completeness_score(labels_true=df.RealClusters, labels_pred=df.Clusters_k3))\n",
    "# 1.0\n",
    "# посчитаем, насколько полными получились кластеры с покемонами\n",
    "print(completeness_score(labels_true=df.RealClusters, labels_pred=df.Clusters_k4))\n",
    "# 0.829867483307009"
   ]
  },
  {
   "cell_type": "markdown",
   "metadata": {},
   "source": [
    "Во втором случае третий кластер оказался неполным, так как предсказано, что половина объектов принадлежит к третьему кластеру, а другая половина — к четвёртому. Однако два других кластера предсказаны правильно, поэтому метрика полноты меньше 1, но всё же её значение не такое низкое."
   ]
  },
  {
   "cell_type": "markdown",
   "metadata": {},
   "source": [
    "### 3. V-МЕРА (V-MEASURE)\n",
    "\n",
    "Эта метрика — комбинация метрик полноты и однородности.\n",
    "\n",
    "Значение V-меры варьируется от 0 до 1. Метрика будет равна 1 только в том случае, если кластеры будут однородными и полными одновременно.\n",
    "\n",
    "V-мера рассчитывается по формуле:\n",
    "\n",
    "$$v = \\frac{(1 + \\beta) \\times homogeneity \\times completeness}{(\\beta \\times homogeneity + completeness)}$$\n",
    "\n",
    "По умолчанию $\\beta=1$, но это значение можно варьировать, если хочется дать разный вес разным свойствам.\n",
    "\n",
    "* Если однородность кластеров важнее, чем их полнота, следует указать значение $\\beta<0$. Тогда значение $\\beta \\times homogenity$ в знаменателе получится небольшим и тем самым будет сильнее влиять на значение . Чем меньше $\\beta \\times homogenity$, тем выше $v$.\n",
    "* Если однородность кластеров не особо важна, но важно, чтобы каждый кластер содержал максимальное количество похожих объектов, тогда мы регулируем значение $\\beta$ так, чтобы $\\beta>1$.\n",
    "\n",
    "Данную метрику можно сравнить с метрикой [F-меры](https://lms.skillfactory.ru/courses/course-v1:SkillFactory+DST-3.0+28FEB2021/jump_to_id/cd2452fe27f3423dbace36790066b077#f1_measure), которую вы изучили, когда проходили метрики для оценки моделей классификации. F-мера рассчитывается следующим образом:\n",
    "\n",
    "$$F_{1} = 2\\frac{precision \\cdot recall}{precision + recall},$$\n",
    "\n",
    "где $precision$ показывает точность, а $recall$ — полноту.\n",
    "\n",
    "При стандартном расчёте V-меры $\\beta$ равна 1:\n",
    "\n",
    "$$v = \\frac{(1 + \\beta) * homogeneity * completeness}{\\beta * homogeneity + completeness} = \\frac{(1 + 1) * homogeneity * completeness}{1 * homogeneity + completeness}$$\n",
    "\n",
    "Получается такая же формула, как и при расчёте F-меры.\n"
   ]
  },
  {
   "cell_type": "markdown",
   "metadata": {},
   "source": [
    "→ Метрику однородности кластера при кластеризации можно сравнить с метрикой precision из задачи классификации: метрика однородности также показывает, насколько точно мы предсказали, к какому классу принадлежит объект. Метрика полноты так же, как метрика recall из задачи классификации, показывает, насколько мы наполнили кластеры теми объектами, которые должны принадлежать к данным кластерам.\n",
    "\n",
    "Данную метрику можно вычислять, когда одновременно важны и наполненность кластеров, и их однородность.\n",
    "\n",
    "Допустим, мы разделили данные следующим образом:\n",
    "\n",
    "![](https://lms.skillfactory.ru/assets/courseware/v1/ccbe0a75b58bf4f101773f92495d2c6d/asset-v1:SkillFactory+DST-3.0+28FEB2021+type@asset+block/dst3-ml4-2_29.png)\n",
    "\n",
    "Если бы мы считали метрику однородности кластеров, то она была бы равна 1, так как кластеры однородны и собаки и кошки внутри них не перемешаны. Но очевидно, что кластеризация неидеальна: вместо одного кластера с собаками у нас целых два. Поэтому если бы мы неправильно выбрали метрику (считали бы однородность) для определения качества кластеризации, то сделали бы неверные выводы. Но если мы будем считать V-меру, то будем одновременно учитывать оба фактора (полноту и однородность кластеров). Если же какой-то из факторов для нас важнее, мы можем изменять значение , придавая больший вес однородности кластера или полноте."
   ]
  },
  {
   "cell_type": "markdown",
   "metadata": {},
   "source": [
    "Посчитаем V-меру для двух случаев кластеризации датасета с покемонами:\n",
    "\n",
    "![](https://lms.skillfactory.ru/assets/courseware/v1/5cae6f4052a5cc14dab6fabfd765bc4d/asset-v1:SkillFactory+DST-3.0+28FEB2021+type@asset+block/dst3-ml4-2_36.png)"
   ]
  },
  {
   "cell_type": "code",
   "execution_count": 40,
   "metadata": {},
   "outputs": [
    {
     "name": "stdout",
     "output_type": "stream",
     "text": [
      "1.0\n",
      "0.9070246789753754\n"
     ]
    }
   ],
   "source": [
    "# импортируем из библиотеки sklearn подсчёт V-меры\n",
    "from sklearn.metrics import v_measure_score\n",
    "\n",
    "# посчитаем V-меру для кластеров с покемонами\n",
    "print(v_measure_score(labels_true=df.RealClusters, labels_pred=df.Clusters_k3))\n",
    "# 1.0\n",
    "\n",
    "print(v_measure_score(labels_true=df.RealClusters, labels_pred=df.Clusters_k4))\n",
    "# 0.9070246789753754"
   ]
  },
  {
   "cell_type": "markdown",
   "metadata": {},
   "source": [
    "В первом случае и полнота, и однородность кластеров были равны 1, поэтому V-мера, основанная на этих двух метриках, получила максимальное значение (1). Во втором случае полнота кластеризации была равна 0.83, так как один из кластеров был наполнен наполовину. Этот факт отразился и на значении V-меры, но, так как однородность кластеров имела максимальное значение,V-мера приняла значение 0.9."
   ]
  },
  {
   "cell_type": "markdown",
   "metadata": {},
   "source": [
    "### 4. ИНДЕКС РЭНДА\n",
    "\n",
    "Данный индекс сравнивает предсказанный датасет и размеченные данные и подсчитывает, сколько образовалось пар объектов, которые оказались в одном кластере (number of agreeing pairs), среди предсказанных и размеченных данных.\n",
    "\n",
    "$$Rand \\ Index = \\frac{number \\ of \\ agreeing \\ pairs}{number \\ of \\ pairs},$$\n",
    "\n",
    "где $number \\ of \\ pairs$ — общее количество пар, $number \\ of \\ agreeing \\ pairs$ — количество пар, для которых предсказание и истинные значения совпали.\n",
    "\n",
    "По сути, данная метрика подсчитывает, для какой доли объектов датасета мы правильно определили кластер.\n",
    "\n",
    "![](https://lms.skillfactory.ru/assets/courseware/v1/d2dfbf210e7669415b15d48b5357d0a2/asset-v1:SkillFactory+DST-3.0+28FEB2021+type@asset+block/dst3-ml4-2_30.png)\n",
    "\n",
    "Вернёмся к нашим кошкам и собакам. Слева на рисунке выше — предсказанная кластеризация, справа — «правильные ответы».\n",
    "\n",
    "Теперь для каждого объекта найдём пару предсказанное значение-реальное значение. "
   ]
  },
  {
   "cell_type": "markdown",
   "metadata": {},
   "source": [
    "number of agreeing pairs = 5, т. е. для трёх собак и двух кошек кластеры были предсказаны верно, а для двух пар (они соединены красной линией) — неверно.\n",
    "\n",
    "number of pairs = 7\n",
    "\n",
    "Таким образом, $Rand \\ Index = 5/7=0.71$.\n",
    "\n",
    "Запустим подсчёт индекса Рэнда в sklearn:"
   ]
  },
  {
   "cell_type": "code",
   "execution_count": 41,
   "metadata": {},
   "outputs": [
    {
     "data": {
      "text/plain": [
       "1.0"
      ]
     },
     "execution_count": 41,
     "metadata": {},
     "output_type": "execute_result"
    }
   ],
   "source": [
    "# импортируем из библиотеки sklearn подсчёт индекса Рэнда\n",
    "from sklearn.metrics.cluster import rand_score\n",
    "# передаём в rand_score размеченные и предсказанные данные\n",
    "rand_score([0, 0, 1, 1], [0, 0, 1, 1])\n",
    "# 1.0"
   ]
  },
  {
   "cell_type": "markdown",
   "metadata": {},
   "source": [
    "В данном случае мы получили индекс Рэнда, равный 1. Это означает, что все объекты в предсказанном кластере попали в те кластеры, в которые должны были попасть."
   ]
  },
  {
   "cell_type": "markdown",
   "metadata": {},
   "source": [
    "МЕТРИКА|ИНТЕРПРЕТАЦИЯ И ПРИМЕНЕНИЕ|ДИАПАЗОН ЗНАЧЕНИЙ|ФУНКЦИЯ В МОДУЛЕ METRICS БИБЛИОТЕКИ SKLEARN\n",
    "-|-|-|-\n",
    "**Однородность (homogeneity score)**|Показывает, насколько однородны получившиеся кластеры. Если в кластере оказались элементы из другого кластера, значение метрики уменьшается.|1 — идеально однородные кластеры; 0 — кластеры максимально разнородные.|```homogeneity_score```\n",
    "**Полнота (completeness score)**|Показывает, насколько кластер заполнен объектами, которые в действительности должны принадлежать к этому кластеру.|1 — идеальное значение; 0 — объекты, которые должны образовывать один кластер, разделились на большее количество кластеров.|```completeness_score```\n",
    "**V-мера (V-measure)**|Комбинация метрик полноты и однородности кластеров.|1 — идеально полные и однородные кластеры; 0 — полученные кластеры неоднородные, количество кластеров слишком большое.|```v_measure_score```\n",
    "**Индекс Рэнда**|Показывает долю объектов датасета, которые мы правильно определили в кластер.|1 — все объекты в предсказанном кластере попали в правильные кластеры.|```rand_score```"
   ]
  },
  {
   "cell_type": "markdown",
   "metadata": {},
   "source": [
    "### Задание 3.3\n",
    "\n",
    "Для пяти объектов вы провели кластеризацию k-means. Известно, что объекты должны относиться к следующим кластерам: 1, 2, 2, 1, 0. В ходе работы алгоритма вы получили следующие предсказания для каждого элемента: 1, 0, 2, 1, 2.\n",
    "\n",
    "Рассчитайте метрику однородности полученных кластеров. Введите полученное значение, округлив его до второго знака после точки-разделителя."
   ]
  },
  {
   "cell_type": "code",
   "execution_count": 42,
   "metadata": {},
   "outputs": [
    {
     "data": {
      "text/plain": [
       "0.74"
      ]
     },
     "execution_count": 42,
     "metadata": {},
     "output_type": "execute_result"
    }
   ],
   "source": [
    "round(homogeneity_score([1, 2, 2, 1, 0], [1, 0, 2, 1, 2]),2)"
   ]
  },
  {
   "cell_type": "markdown",
   "metadata": {},
   "source": [
    "# 4. Иерархическая кластеризация"
   ]
  },
  {
   "cell_type": "markdown",
   "metadata": {},
   "source": [
    "✍ Алгоритмов кластеризации настолько много, что по ним можно сделать отдельный курс. И, как вы можете догадаться, не существует такого метода кластеризации, который всегда будет выдавать хорошие результаты — всё зависит от того, с какими данными вы работаете.\n",
    "\n",
    "На сегодняшний день существует более 40 видов кластеризации, но общепринятой системы классификации алгоритмов кластеризации не существует.\n",
    "\n",
    "В этом и последующих юнитах мы познакомимся с некоторыми популярными алгоритмами кластеризации:\n",
    "\n",
    "* иерархическая кластеризация,\n",
    "* EM-алгоритмы кластеризации,\n",
    "* спектральная кластеризация,\n",
    "* кластеризация на основе плотности.\n",
    "\n",
    "Мы рассмотрим различные подходы, их плюсы и минусы, а также применение.\n",
    "\n",
    "## ИЕРАРХИЧЕСКАЯ КЛАСТЕРИЗАЦИЯ\n",
    "\n",
    "Принцип иерархической кластеризации основан на построении дерева (иерархии) вложенных кластеров.\n",
    "\n",
    "При иерархической кластеризации строится дендрограмма. Её можно сравнить с древом языков мира, на котором языки объединяются в различные семьи, укрупняясь и образуя всё более обширные языковые ветви:\n",
    "\n",
    "![](https://lms.skillfactory.ru/assets/courseware/v1/79e2f856b8817691a6b1fe50b416921e/asset-v1:SkillFactory+DST-3.0+28FEB2021+type@asset+block/dst3-ml4-3_1.png)"
   ]
  },
  {
   "cell_type": "markdown",
   "metadata": {},
   "source": [
    "> **Дендрограмма**  — это древовидная диаграмма, которая содержит  уровней. Каждый уровень — это шаг укрупнения кластеров.\n",
    "\n",
    "![](https://lms.skillfactory.ru/assets/courseware/v1/ea3eb84720f60c6be03ccb0b6a9c719f/asset-v1:SkillFactory+DST-3.0+28FEB2021+type@asset+block/dst3-ml4-3_2.png)\n",
    "\n",
    "Чем больше схожесть между двумя объектами на дендрограмме, тем ниже высота внутренней ветки, которая идёт из объекта или кластера:\n",
    "\n",
    "![](https://lms.skillfactory.ru/assets/courseware/v1/96d8fa2d5f36508e5915fe258158d2e3/asset-v1:SkillFactory+DST-3.0+28FEB2021+type@asset+block/dst3-ml4-3_3.png)"
   ]
  },
  {
   "cell_type": "markdown",
   "metadata": {},
   "source": [
    "На дендрограмме выше Сельма и Пэтти Бувье, сёстры Мардж Симпсон, похожи друг на друга, поэтому высота соединяющей их внутренней ветки маленькая, а сама Мардж не похожа на своих сестёр, поэтому высота внутренней ветки гораздо больше.\n",
    "\n",
    "Перейдём к более реальным примерам.\n",
    "\n",
    "Например, дендрограмма для кластеризации трёх видов ирисов будет выглядеть следующим образом:\n",
    "\n",
    "![](https://lms.skillfactory.ru/assets/courseware/v1/b5aeab3fc61ad2c6f7c0e3916c7eb2a9/asset-v1:SkillFactory+DST-3.0+28FEB2021+type@asset+block/dst3-ml4-3_4.png)"
   ]
  },
  {
   "cell_type": "markdown",
   "metadata": {},
   "source": [
    "Справа расположены **листья** дендрограммы. Внизу дендрограммы отложена схожесть объектов. Количество уровней дендрограммы соответствует числу шагов слияния или разделения кластеров. На листьях находятся исходные объекты. Далее мы объединяем эти объекты в маленькие группы — это первый шаг кластеризации. После этого с каждым шагом объекты образуют всё большие и большие кластеры, пока на последнем шаге не образуется один большой кластер (**корень** дендрограммы), содержащий все три вида ирисов. Для определения количества кластеров на каждом шаге мы можем мысленно проводить вертикальную линию и смотреть, сколько внутренних веток пересекла эта линия. \n",
    "\n",
    "Наши линии на картинке пересекают две и четыре линии. Это означает, что на этих шагах данные делятся на два или четыре кластера.\n",
    "\n",
    "Если ещё раз посмотреть на график с дендрограммой ирисов, можно сказать, что при кластеризации мы можем пойти снизу вверх (от листьев к корню) или сверху вниз (от корня к листьям). И действительно — при иерархической кластеризации выделяют два подхода: **агломеративный** и **дивизионный**. В первом случае кластеры образуются снизу вверх, т. е. при объединении кластеров, а во втором — сверху вниз, в ходе деления крупных кластеров:\n",
    "\n",
    "![](https://lms.skillfactory.ru/assets/courseware/v1/17a3629f5ac5b30b3873f06d5c394a00/asset-v1:SkillFactory+DST-3.0+28FEB2021+type@asset+block/dst3-ml4-3_5.png)"
   ]
  },
  {
   "cell_type": "markdown",
   "metadata": {},
   "source": [
    "**Агломеративный метод (agglomerative)**\n",
    "\n",
    "Новые кластеры создаются в ходе объединения более мелких кластеров:\n",
    "\n",
    "![](https://lms.skillfactory.ru/assets/courseware/v1/3842c4df18dcf25f0d83a6a39d0ee736/asset-v1:SkillFactory+DST-3.0+28FEB2021+type@asset+block/dst3-ml4-3_6.png)\n",
    "\n",
    "**Дивизионный (дивизивный) метод (divisive)**\n",
    "\n",
    "Кластеры создаются при делении крупных кластеров:\n",
    "\n",
    "![](https://lms.skillfactory.ru/assets/courseware/v1/25433f8dd0456eab40b9870130c9c4f4/asset-v1:SkillFactory+DST-3.0+28FEB2021+type@asset+block/dst3-ml4-3_7.png)"
   ]
  },
  {
   "cell_type": "markdown",
   "metadata": {},
   "source": [
    "Для того чтобы построить дендрограмму, нужна **матрица сходства**, построенная на основе расстояний между кластерами.\n",
    "\n",
    "В общем виде матрица сходства выглядит следующим образом:\n",
    "\n",
    "![](https://lms.skillfactory.ru/assets/courseware/v1/b08ac8eb355c8baf180eec10e4834c5d/asset-v1:SkillFactory+DST-3.0+28FEB2021+type@asset+block/dst3-ml4-3_8.png)\n",
    "\n",
    "$K$ — это мера сходства между двумя кластерами. По диагонали в матрице записаны единицы, так как объекты максимально похожи на самих себя.\n",
    "\n",
    "Чтобы рассчитать данную матрицу, нужно знать расстояния между двумя кластерами. Существуют разные подходы его вычисления, и выбранный подход влияет на результат кластеризации.\n",
    "\n",
    "**Методы определения расстояния между кластерами:**"
   ]
  },
  {
   "cell_type": "markdown",
   "metadata": {},
   "source": [
    "\n",
    "МЕТОД|ИДЕЯ|ФОРМУЛА|ВИЗУАЛИЗАЦИЯ ПОДХОДА\n",
    "-|-|-|-\n",
    "**Метод одиночной связи (single linkage)**|Поиск минимального расстояния между объектами из разных кластеров.|Расстояние между двумя кластерами ($A$ и $B$) рассчитывается по формуле: $min\\left \\{ d(a,b) : a \\in A, b \\in B \\right \\}$|![](https://lms.skillfactory.ru/assets/courseware/v1/6f7c83f97d5acd26e9cf403b459855c9/asset-v1:SkillFactory+DST-3.0+28FEB2021+type@asset+block/dst3-ml4-3_9.png)\n",
    "**Метод полной связи (complete (maximum) linkage)**|Поиск максимального расстояния между объектами из разных кластеров.|\tРасстояние между двумя кластерами ($A$ и $B$): $max\\left \\{ d(a,b) : a \\in A, b \\in B \\right \\}$|![](https://lms.skillfactory.ru/assets/courseware/v1/8302c3ae26010a63f7cf44541c5f61d4/asset-v1:SkillFactory+DST-3.0+28FEB2021+type@asset+block/dst3-ml4-3_10.png)\n",
    "**Метод средней связи (pair group method using arithmetic mean)**|Расстояние между двумя кластерами считается как среднее от расстояния между двумя элементами этих кластеров.|Расстояние между двумя кластерами ($A$ и $B$): $\\frac{1}{abs(A*B)} \\sum_{a \\in A} \\sum_{b \\in B} d(a,b)$|![](https://lms.skillfactory.ru/assets/courseware/v1/c95452e94833fbe8ddfb85e888d4c60b/asset-v1:SkillFactory+DST-3.0+28FEB2021+type@asset+block/dst3-ml4-3_11.png)\n",
    "**Центроидный метод (centroid)**|Расстояния между кластерами рассчитываются как расстояния между центроидами этих кластеров.|Расстояние между двумя кластерами ($A$ и $B$): $d = \\sqrt{(p_{1} - q_{1})^{2} + (p_{2} - q_{2})^{2}}$ Координаты центроида кластера $A$: $p = (p_{1}, p_{2})$. Координаты центроида $B$: $q = (q_{1}, q_{2})$.|![](https://lms.skillfactory.ru/assets/courseware/v1/594b0836523c299a8375f5451f60f9bc/asset-v1:SkillFactory+DST-3.0+28FEB2021+type@asset+block/dst3-ml4-3_12.png)\n",
    "\n"
   ]
  },
  {
   "cell_type": "markdown",
   "metadata": {},
   "source": [
    "В зависимости от того, каким способом рассчитывается расстояние, можно получить разные результаты кластеризации.\n",
    "\n",
    "На картинке ниже рассматривается иерархическая кластеризация при использовании разных подходов для подсчёта расстояния ↓\n",
    "\n",
    "![](https://lms.skillfactory.ru/assets/courseware/v1/f7a927787a5afbbcf0395609a1e8a2f4/asset-v1:SkillFactory+DST-3.0+28FEB2021+type@asset+block/dst3-ml4-3_13.png)"
   ]
  },
  {
   "cell_type": "markdown",
   "metadata": {},
   "source": [
    "В **первом** столбце представлено использование метода одиночной связи, во **втором** — метода средней связи, в **третьем** — метода полной связи.\n",
    "\n",
    "Различные кластеры обозначены разными цветами: оранжевым, зелёным и синим. \n",
    "\n",
    "Как видим, иерархическая кластеризация с использованием метода одиночной связи хорошо отрабатывает на первых двух распределениях датасетов, но очень плохо справляется с вытянутыми и перекрывающимися данными. Алгоритм иерархической кластеризации работает по принципу «богатый становится богаче». Это может приводить к неравномерному распределению кластеров. Данный способ больше других страдает от неравномерного распределения кластеров: это можно наблюдать в третьей, четвёртой и шестой строках части Single Linkage на картинке — мы видим очень редкие вкрапления зелёного кластера, а всё остальное пространство принадлежит синему кластеру.\n",
    "\n",
    "Использование методов средней связи и полной связи приносит хорошие результаты только при условии, что данные имеют высокую плотность и не пересекаются, или же для однородно распределённых данных. В остальных случаях они отрабатывают плохо"
   ]
  },
  {
   "cell_type": "markdown",
   "metadata": {},
   "source": [
    "## ДЛЯ КАКИХ ЗАДАЧ ИСПОЛЬЗУЕТСЯ ИЕРАРХИЧЕСКАЯ КЛАСТЕРИЗАЦИЯ?\n",
    "\n",
    "* Для построения филогенетического дерева.\n",
    "\n",
    "    Например, если известна ДНК-последовательность, можно построить филогенетическое дерево.\n",
    "\n",
    "    На рисунке ниже иерархическая кластеризация была проведена на основе ДНК животных:\n",
    "\n",
    "    ![](https://lms.skillfactory.ru/assets/courseware/v1/47a344947f15f9050d30cea2ab3c22ab/asset-v1:SkillFactory+DST-3.0+28FEB2021+type@asset+block/dst3-ml4-3_14.png)\n",
    "\n",
    "* Для анализа текстов.\n",
    "\n",
    "    Например, с помощью кластеризации Брауна (частный случай иерархической кластеризации) можно сгруппировать слова и найти синонимы. Слова, которые были встроены в похожие контексты и считаются семантически связанными, оказываются в одном кластере:\n",
    "\n",
    "    ![](https://lms.skillfactory.ru/assets/courseware/v1/61b8a8108d9c0e9197c983aa22d93f8c/asset-v1:SkillFactory+DST-3.0+28FEB2021+type@asset+block/dst3-ml4-3_15.png)\n",
    "\n"
   ]
  },
  {
   "cell_type": "markdown",
   "metadata": {},
   "source": [
    "### КАК ЗАПУСТИТЬ ИЕРАРХИЧЕСКУЮ КЛАСТЕРИЗАЦИЮ?\n",
    "\n",
    "Давайте попробуем кластеризовать датасет с покемонами с помощью иерархической кластеризации.\n",
    "\n",
    "Запустим алгоритм (такой же, как k-means). Из библиотеки sklearn импортируем алгомеративную кластеризацию, далее запустим метод fit(), передав вектор X из признаков объектов, и обучим модель кластеризации. "
   ]
  },
  {
   "cell_type": "code",
   "execution_count": 43,
   "metadata": {},
   "outputs": [
    {
     "data": {
      "text/plain": [
       "array([0, 0, 0, 0, 0, 1, 0, 0, 1, 0, 1, 0, 0, 0, 0, 1, 0, 1, 0, 0, 0, 1,\n",
       "       0, 0, 0, 0, 0, 0, 1, 1, 0, 0, 0, 0, 0, 1, 1, 0, 1, 1, 1, 1, 0, 1,\n",
       "       1, 1, 1, 0, 0, 1, 0, 0, 1, 0, 0, 1, 1, 0, 0, 1, 0, 0, 0, 0, 0, 0,\n",
       "       1, 1, 0, 0, 0, 0, 0, 0, 0, 0, 1, 0, 0, 0, 0, 0, 0, 0, 0, 0, 0, 1,\n",
       "       0, 1, 0, 1, 1, 0, 1, 0, 0, 1, 0, 0, 0, 0, 0, 1, 0, 0, 0, 0, 1, 1,\n",
       "       0, 0, 0, 0, 0, 0, 0, 0, 0, 1, 0, 1, 0, 0, 0, 1, 0, 0, 0, 0, 0, 0,\n",
       "       0, 0, 0, 0, 0, 1, 0, 0, 0, 0, 0, 0, 0, 0, 0, 0, 0, 0, 0, 0, 0, 0,\n",
       "       0, 0, 0, 1, 1, 0, 0, 0, 0, 0, 0, 0, 0, 0, 1, 1, 1, 0, 0, 0, 0, 0,\n",
       "       1, 0, 0, 0, 0, 0, 0, 1, 1, 0, 0, 1, 0, 0, 1, 0, 1, 0, 0, 0, 0, 0,\n",
       "       1, 1, 0, 0, 1, 0, 0, 0, 0, 0, 1, 0, 0, 0, 0, 0, 1, 0, 0, 0, 0, 0,\n",
       "       0, 0, 0, 0, 0, 1, 0, 0, 0, 0, 0, 1, 0, 1, 0, 1, 0, 1, 0, 0, 0, 0,\n",
       "       0, 0, 0, 0, 0, 0, 1, 1, 1, 1, 0, 0, 1, 0, 1, 0, 0, 1, 0, 1, 1, 1,\n",
       "       0, 1, 0, 0, 0, 0, 0, 1, 0, 0, 0, 0, 0, 0, 0, 0, 1, 0, 1, 1, 1, 0,\n",
       "       0, 0, 1, 0, 0, 0, 1, 1, 1, 0, 0, 1, 0, 1, 1, 1, 1, 0, 0, 0, 1, 0,\n",
       "       0, 0, 0, 0, 0, 0, 0, 1, 0, 1, 0, 1, 0, 1, 0, 0, 1, 0, 1, 0, 0, 1,\n",
       "       1, 0, 0, 0, 0, 0, 0, 0, 0, 1, 0, 1, 1, 0, 1, 1, 0, 1, 0, 1, 0, 0,\n",
       "       0, 0, 1, 0, 0, 0, 0, 0, 1, 0, 1, 1, 0, 0, 0, 0, 0, 1, 1, 1, 1, 0,\n",
       "       0, 1, 0, 0, 0, 0, 0, 0, 0, 1, 1, 0, 0, 1, 0, 1, 0, 0, 1, 0, 0, 0,\n",
       "       1, 0, 1, 1, 1, 0, 0, 0, 1, 0, 0, 1, 1, 0, 0, 0, 0, 0, 0, 0, 1, 1,\n",
       "       1, 0, 0, 0, 1, 0, 0, 1, 0, 1, 1, 0, 0, 0, 0, 0, 0, 1, 0, 0, 1, 1,\n",
       "       0, 1, 0, 0, 0, 0, 1, 0, 1, 0, 0, 1, 0, 1, 0, 0, 1, 0, 0, 1, 0, 0,\n",
       "       0, 1, 0, 0, 0, 0, 0, 0, 0, 0, 1, 0, 1, 0, 0, 0, 0, 0, 1, 0, 0, 0,\n",
       "       1, 1, 1, 1, 0, 0, 1, 0, 0, 0, 1, 1, 1, 0, 0, 0, 0, 0, 0, 1, 1, 1,\n",
       "       1, 0, 0, 0, 1, 0, 1, 1, 1, 0, 1, 0, 0, 0, 0, 0, 0, 1, 0, 1, 0, 1,\n",
       "       1, 0, 1, 0, 1, 0, 0, 0, 0, 1, 1, 0, 0, 0, 1, 0, 0, 0, 0, 0, 1, 0,\n",
       "       0, 1, 0, 0, 0, 1, 0, 0, 0, 0, 1, 1, 0, 0, 1, 1, 1, 1, 0, 0, 0, 1,\n",
       "       0, 1, 1, 1, 0, 1, 0, 0, 1, 0, 0, 1, 0, 0, 0, 0, 1, 0, 0, 0, 0, 0,\n",
       "       1, 0, 0, 0, 0, 0, 1, 1, 0, 1, 0, 0, 0, 0, 1, 0, 0, 0, 0, 1, 1, 1,\n",
       "       0, 0, 0, 1, 0, 0, 1, 0, 0, 0, 1, 0, 0, 0, 0, 0, 0, 0, 0, 1, 1, 1,\n",
       "       0, 1, 1, 0, 0, 0, 0, 0, 0, 0, 0, 0, 1, 0, 0, 0, 0, 1, 0, 0, 0, 0,\n",
       "       0, 0, 1, 1, 1, 0, 1, 1, 0, 0, 0, 1, 1, 0, 1, 0, 1, 0, 0, 1, 0, 0,\n",
       "       0, 0, 1, 1, 0, 0, 0, 0, 0, 0, 0, 1, 1, 0, 0, 1, 0, 1, 0, 0, 0, 1,\n",
       "       0, 0, 1, 0, 1, 0, 0, 0, 0, 0, 1, 1, 0, 0, 1, 0, 0, 1, 1, 0, 1, 0,\n",
       "       1, 0, 0, 0, 1, 1, 0, 0, 0, 0, 0, 0, 1, 1, 0, 0, 0, 1, 1, 0, 0, 1,\n",
       "       0, 1, 0, 0, 1, 1, 1, 0, 1, 1, 1, 0, 1, 0, 0, 0, 1, 1, 0, 0, 0, 1,\n",
       "       1, 1, 0, 0, 1, 0, 1, 0, 0, 0, 1, 1, 0, 0, 0, 0, 1, 0, 0, 0, 1, 0,\n",
       "       0, 0, 0, 0, 0, 0, 0, 0, 0, 1, 1, 1, 1, 0, 0, 0, 0, 0, 0, 0, 0, 1,\n",
       "       0, 1, 0, 0, 1, 0, 0, 0, 0, 0, 1, 0, 1, 0, 1, 0, 0, 0, 1, 0, 0, 1,\n",
       "       1, 0, 1, 1, 1, 1, 1, 1, 1, 0, 1, 0, 1, 0, 0, 1, 0, 1, 0, 0, 0, 0,\n",
       "       0, 0, 0, 1, 0, 0, 0, 0, 0, 0, 0, 1, 0, 1, 1, 1, 0, 0, 1, 1, 0, 0,\n",
       "       1, 1, 0, 0, 0, 1, 0, 1, 0, 0, 1, 0, 0, 0, 0, 0, 0, 1, 0, 0, 0, 1,\n",
       "       1, 0, 1, 0, 0, 0, 0, 0, 1, 0, 1, 0, 0, 0, 1, 0, 0, 1, 0, 1, 0, 0,\n",
       "       0, 0, 1, 0, 0, 1, 0, 0, 1, 0, 1, 1, 1, 1, 1, 0, 0, 0, 0, 0, 1, 1,\n",
       "       1, 0, 0, 1, 0, 0, 0, 0, 1, 0, 1, 0, 0, 0, 0, 0, 0, 1, 0, 0, 1, 1,\n",
       "       1, 1, 1, 1, 0, 1, 1, 1, 1, 0, 1, 0, 0, 0, 0, 0, 0, 1, 0, 0, 0, 1,\n",
       "       1, 0, 0, 0, 0, 1, 0, 1, 0, 1], dtype=int64)"
      ]
     },
     "execution_count": 43,
     "metadata": {},
     "output_type": "execute_result"
    }
   ],
   "source": [
    "from sklearn.cluster import AgglomerativeClustering\n",
    "\n",
    "agglomerative_clustering = AgglomerativeClustering(n_clusters=2)\n",
    "\n",
    "agglomerative_clustering.fit(X)\n",
    "\n",
    "agglomerative_clustering.labels_"
   ]
  },
  {
   "cell_type": "markdown",
   "metadata": {},
   "source": [
    "Базовые параметры, которые необходимо передать в AgglomerativeClustering:\n",
    "\n",
    "* n_clusters — количество кластеров; по умолчанию — 2.\n",
    "* linkage — метод определения расстояния между кластерами, которое мы рассматривали выше. Можно выбрать single, ward, average, complete; по умолчанию используется ward.\n",
    "\n",
    "**Какое количество кластеров задать в начале?**\n",
    "\n",
    "* Иногда при постановке задачи может быть чётко указано, что необходимо разделить данные на N кластеров. В таком случае проблем не возникнет.\n",
    "* Если кластеризацию требуется провести по двум-трём признакам, можно визуализировать данные и прикинуть, на сколько кластеров их можно разделить.\n",
    "* Выбрать какое-нибудь количество кластеров, например три-четыре, провести кластеризацию и визуализировать дендрограмму. Далее, основываясь на дендрограмме, можно примерно определить оптимальное количество кластеров.\n",
    "\n",
    "Чуть позже мы научимся визуализировать дендрограмму, а сейчас давайте посмотрим на дендрограмму проведённой кластеризации. Попытаемся понять, какое оптимальное количество кластеров для кластеризации нужно выбрать. Дендрограмма получилась большой и сложной для восприятия и понимания. Можно увидеть, что, если мы проведём горизонтальную линию на расстоянии между кластерами, равном 6, данные отлично разделятся на три кластера:\n",
    "\n",
    "![](https://lms.skillfactory.ru/assets/courseware/v1/ba4997a9cffc7024696505e185db730f/asset-v1:SkillFactory+DST-3.0+28FEB2021+type@asset+block/dst3-ml4-3_16.png)"
   ]
  },
  {
   "cell_type": "markdown",
   "metadata": {},
   "source": [
    "### ПРЕИМУЩЕСТВА И НЕДОСТАТКИ ИЕРАРХИЧЕСКОЙ КЛАСТЕРИЗАЦИИ\n",
    "\n",
    "**ПРЕИМУЩЕСТВА**\n",
    "\n",
    "* Можно построить дендрограмму и понять, как устроены данные.\n",
    "* Работает на небольшом датасете.\n",
    "\n",
    "**НЕДОСТАТКИ**\n",
    "\n",
    "* Необходимость выбора оптимального количества кластеров.\n",
    "* Если данных много, дендрограмма становится большой и сложной для понимания.\n",
    "* Может неравномерно разделять данные на кластеры."
   ]
  },
  {
   "cell_type": "markdown",
   "metadata": {},
   "source": [
    "# 5. EM-алгоритмы кластеризации"
   ]
  },
  {
   "cell_type": "markdown",
   "metadata": {},
   "source": [
    "> В основе данного подхода лежит предположение, что любой объект принадлежит ко всем кластерам, но с разной вероятностью.\n",
    "\n",
    "Один из примеров EM (Expectation-maximization)-алгоритма — это k-means-кластеризация, рассмотренная нами ранее.\n",
    "\n",
    "Алгоритм состоит из двух шагов. Если рассмотреть их на примере k-means, то:\n",
    "\n",
    "* на шаге **E** мы вычисляем, к какому кластеру будет относиться объект на основании расстояний до центроида;\n",
    "* на шаге **M** мы пересчитываем центроиды кластеров.\n",
    "\n",
    "Когда данные распределены в форме вытянутых эллипсов (см. график ниже), алгоритм k-means не справляется с кластеризацией. В качестве альтернативы можно взять ещё один из алгоритмов EM-кластеризации — **модель гауссовой смеси (Gaussian Mixture Model, GMM)**, в котором данные описываются функцией Гаусса. Это значит, что мы можем выделить два параметра для описания кластеров: среднее значение и стандартное отклонение. Если рассмотреть двухмерный случай, то кластеры могут принимать любую эллиптическую форму, так как есть стандартное отклонение в обоих направлениях (по x и по y).\n",
    "\n",
    "![](https://lms.skillfactory.ru/assets/courseware/v1/ed5c25926a67660b3ad829436b4b55a2/asset-v1:SkillFactory+DST-3.0+28FEB2021+type@asset+block/dst3-ml4-3_17.png)\n",
    "\n",
    "На шаге E данного алгоритма мы будем определять вероятность того, что объект принадлежит к кластеру, а на шаге M будем пересчитывать параметры функции Гаусса, чтобы подобрать наиболее подходящие кластеры для наших данных.\n",
    "\n",
    "На анимации ниже гауссовы функции подгоняются под размеры кластеров:\n",
    "\n",
    "![](https://lms.skillfactory.ru/assets/courseware/v1/3b25e08ac7b6d5adb70f9242b2cf1396/asset-v1:SkillFactory+DST-3.0+28FEB2021+type@asset+block/dst3-ml4-3_18.gif)\n",
    "\n"
   ]
  },
  {
   "cell_type": "markdown",
   "metadata": {},
   "source": [
    "## ДЛЯ КАКИХ ЗАДАЧ ИСПОЛЬЗУЕТСЯ EM-КЛАСТЕРИЗАЦИЯ?\n",
    "\n",
    "* K-means-кластеризацию можно использовать для кластеризации документов по разным категориям, основываясь на тегах, заголовках или содержимом документа. Для этого текст документа представляется в виде вектора, а далее используется в кластеризации. Если у разных документов похожие векторы, их можно объединить в одну группу.\n",
    "\n",
    "    ![](https://lms.skillfactory.ru/assets/courseware/v1/87f49d3de56e2d6aabb85e84ffe8d8a7/asset-v1:SkillFactory+DST-3.0+28FEB2021+type@asset+block/dst3-ml4-3_19.png)\n",
    "\n",
    "* GMM можно использовать для сегментации изображений, например чтобы находить опухоли на снимках МРТ. Для этого мы представляем изображение в виде вектора и далее используем такое представление снимка в кластеризации.\n",
    "\n",
    "    ![](https://lms.skillfactory.ru/assets/courseware/v1/6982bc045abe8c62e8dcf60e72e4d646/asset-v1:SkillFactory+DST-3.0+28FEB2021+type@asset+block/dst3-ml4-3_20.png)\n",
    "\n",
    "* Используя GMM, можно анализировать временные ряды цен в периоды действия акций."
   ]
  },
  {
   "cell_type": "markdown",
   "metadata": {},
   "source": [
    "## КАК ЗАПУСТИТЬ EM-КЛАСТЕРИЗАЦИЮ?\n",
    "\n",
    "Запустим алгоритм на датасете покемонов и попробуем кластеризовать их по силе атаки и уровню защиты:"
   ]
  },
  {
   "cell_type": "code",
   "execution_count": 61,
   "metadata": {},
   "outputs": [],
   "source": [
    "X = df[['Attack', 'Defense']]"
   ]
  },
  {
   "cell_type": "code",
   "execution_count": 71,
   "metadata": {},
   "outputs": [],
   "source": [
    "# импортируем библиотеки numpy и sklearn\n",
    "import numpy as np\n",
    "from sklearn.mixture import GaussianMixture\n",
    "\n",
    "gm_clustering = GaussianMixture(n_components=3, random_state=42)\n",
    "\n",
    "# обучаем модель \n",
    "gm_clustering.fit(X)\n",
    "\n",
    "# для матрицы X получаем предсказания, к какому кластеру принадлежат объекты\n",
    "gm_prediction = gm_clustering.predict(X)"
   ]
  },
  {
   "cell_type": "markdown",
   "metadata": {},
   "source": [
    "Основные параметры, которые необходимо задать для запуска алгоритма GaussianMixture:\n",
    "\n",
    "* n_components — количество кластеров.\n",
    "* random_state — так как в алгоритме есть случайность при инициализации, то для воспроизводимости результатов от запуска к запуску следует передать какое-то число.\n",
    "\n",
    "Параметров при запуске может быть больше, при желании можно почитать о них в документации sklearn:\n",
    "\n",
    "```py\n",
    "\n",
    "from sklearn.mixture import GaussianMixture\n",
    "help(GaussianMixture)\n",
    ">>> Help on class GaussianMixture in module sklearn.mixture._gaussian_mixture:\n",
    "\n",
    "class GaussianMixture(sklearn.mixture._base.BaseMixture)\n",
    "\n",
    "```"
   ]
  },
  {
   "cell_type": "markdown",
   "metadata": {},
   "source": [
    "Визуализируем результаты:\n",
    "\n"
   ]
  },
  {
   "cell_type": "code",
   "execution_count": 75,
   "metadata": {},
   "outputs": [
    {
     "name": "stderr",
     "output_type": "stream",
     "text": [
      "c:\\Users\\Home\\AppData\\Local\\Programs\\Python\\Python310\\lib\\site-packages\\seaborn\\_decorators.py:36: FutureWarning: Pass the following variables as keyword args: x, y. From version 0.12, the only valid positional argument will be `data`, and passing other arguments without an explicit keyword will result in an error or misinterpretation.\n",
      "  warnings.warn(\n"
     ]
    },
    {
     "data": {
      "text/plain": [
       "<AxesSubplot:xlabel='Attack', ylabel='Defense'>"
      ]
     },
     "execution_count": 75,
     "metadata": {},
     "output_type": "execute_result"
    },
    {
     "data": {
      "image/png": "[encoded data removed]",
      "text/plain": [
       "<Figure size 432x288 with 1 Axes>"
      ]
     },
     "metadata": {
      "needs_background": "light"
     },
     "output_type": "display_data"
    }
   ],
   "source": [
    "#визуализируем результаты. Параметр c принимает вектор с номерами классов для группировки объектов по цветам \n",
    "sns.scatterplot(df.Attack, df.Defense, c=gm_prediction)"
   ]
  },
  {
   "cell_type": "markdown",
   "metadata": {},
   "source": [
    "Алгоритм отлично справился со своей задачей и разделил данные на три кластера, которые получились однородными. Как видим, есть также одна точка-выброс, которую алгоритм не выделил в отдельный кластер.\n",
    "\n",
    "Если выбрать количество кластеров, равное 4, получим следующий результат:"
   ]
  },
  {
   "cell_type": "code",
   "execution_count": 73,
   "metadata": {},
   "outputs": [
    {
     "name": "stderr",
     "output_type": "stream",
     "text": [
      "c:\\Users\\Home\\AppData\\Local\\Programs\\Python\\Python310\\lib\\site-packages\\seaborn\\_decorators.py:36: FutureWarning: Pass the following variables as keyword args: x, y. From version 0.12, the only valid positional argument will be `data`, and passing other arguments without an explicit keyword will result in an error or misinterpretation.\n",
      "  warnings.warn(\n"
     ]
    },
    {
     "data": {
      "text/plain": [
       "<AxesSubplot:xlabel='Attack', ylabel='Defense'>"
      ]
     },
     "execution_count": 73,
     "metadata": {},
     "output_type": "execute_result"
    },
    {
     "data": {
      "image/png": "[encoded data removed]",
      "text/plain": [
       "<Figure size 432x288 with 1 Axes>"
      ]
     },
     "metadata": {
      "needs_background": "light"
     },
     "output_type": "display_data"
    }
   ],
   "source": [
    "gm_clustering_n4 = GaussianMixture(n_components=4, random_state=42)\n",
    "\n",
    "# обучаем модель \n",
    "gm_clustering_n4.fit(X)\n",
    "\n",
    "# для матрицы X получаем предсказания, к какому кластеру принадлежат объекты\n",
    "gm_prediction_n4 = gm_clustering_n4.predict(X)\n",
    "\n",
    "#визуализируем результаты. Параметр c принимает вектор с номерами классов для группировки объектов по цветам \n",
    "sns.scatterplot(df.Attack, df.Defense, c=gm_prediction_n4)"
   ]
  },
  {
   "cell_type": "markdown",
   "metadata": {},
   "source": [
    "Как мы видим, в данном случае алгоритм тоже не выделил выброс в отдельный класс, но с кластеризацией также справился отлично."
   ]
  },
  {
   "cell_type": "markdown",
   "metadata": {},
   "source": [
    "### ПРЕИМУЩЕСТВА И НЕДОСТАТКИ EM-КЛАСТЕРИЗАЦИИ\n",
    "\n",
    "**ПРЕИМУЩЕСТВА**\n",
    "\n",
    "* Кластеры, которые находит этот алгоритм, могут принимать форму эллипса, а не ограничиваться окружностями. K-Means является частным случаем GMM.\n",
    "\n",
    "    ![](https://lms.skillfactory.ru/assets/courseware/v1/32f24c20454faf47ee135cc0d6110e04/asset-v1:SkillFactory+DST-3.0+28FEB2021+type@asset+block/dst3-ml4-3_23.png)\n",
    "\n",
    "* Если объект находится в середине двух перекрывающихся кластеров, то, в отличие от k-means, не нужно решать, к какому кластеру он принадлежит: объект может принадлежать к двум разным кластерам с разной вероятностью.\n",
    "\n",
    "    ![](https://lms.skillfactory.ru/assets/courseware/v1/afd530fb94ba7c77894c10464c118596/asset-v1:SkillFactory+DST-3.0+28FEB2021+type@asset+block/dst3-ml4-3_24.png)\n",
    "\n",
    "**НЕДОСТАТКИ**\n",
    "\n",
    "* Нужно задавать количество кластеров.\n",
    "* Чувствителен к тому, с какой точки начинается алгоритм.\n",
    "* Может медленно сходиться, т. е. искать, как оптимально описать кластеры.\n"
   ]
  },
  {
   "cell_type": "markdown",
   "metadata": {},
   "source": [
    "### Задание 5.4\n",
    "\n",
    "Скачайте [датасет](https://lms.skillfactory.ru/assets/courseware/v1/c5ffc8e0c422b2cd1ed3e2ec0b50a7b8/asset-v1:SkillFactory+DST-3.0+28FEB2021+type@asset+block/housing.zip), в котором представлены цены на однокомнатные квартиры и возраст этих квартир. Проведите кластеризацию GMM, используя два признака: цену и возраст квартир. Какое оптимальное количество кластеров получилось?"
   ]
  },
  {
   "cell_type": "code",
   "execution_count": 76,
   "metadata": {},
   "outputs": [
    {
     "data": {
      "text/html": [
       "<div>\n",
       "<style scoped>\n",
       "    .dataframe tbody tr th:only-of-type {\n",
       "        vertical-align: middle;\n",
       "    }\n",
       "\n",
       "    .dataframe tbody tr th {\n",
       "        vertical-align: top;\n",
       "    }\n",
       "\n",
       "    .dataframe thead th {\n",
       "        text-align: right;\n",
       "    }\n",
       "</style>\n",
       "<table border=\"1\" class=\"dataframe\">\n",
       "  <thead>\n",
       "    <tr style=\"text-align: right;\">\n",
       "      <th></th>\n",
       "      <th>year</th>\n",
       "      <th>price</th>\n",
       "    </tr>\n",
       "  </thead>\n",
       "  <tbody>\n",
       "    <tr>\n",
       "      <th>0</th>\n",
       "      <td>0.081091</td>\n",
       "      <td>23.790515</td>\n",
       "    </tr>\n",
       "    <tr>\n",
       "      <th>1</th>\n",
       "      <td>9.483270</td>\n",
       "      <td>10.784598</td>\n",
       "    </tr>\n",
       "    <tr>\n",
       "      <th>2</th>\n",
       "      <td>9.901805</td>\n",
       "      <td>10.003782</td>\n",
       "    </tr>\n",
       "    <tr>\n",
       "      <th>3</th>\n",
       "      <td>1.930438</td>\n",
       "      <td>21.879849</td>\n",
       "    </tr>\n",
       "    <tr>\n",
       "      <th>4</th>\n",
       "      <td>1.618601</td>\n",
       "      <td>21.851806</td>\n",
       "    </tr>\n",
       "  </tbody>\n",
       "</table>\n",
       "</div>"
      ],
      "text/plain": [
       "       year      price\n",
       "0  0.081091  23.790515\n",
       "1  9.483270  10.784598\n",
       "2  9.901805  10.003782\n",
       "3  1.930438  21.879849\n",
       "4  1.618601  21.851806"
      ]
     },
     "execution_count": 76,
     "metadata": {},
     "output_type": "execute_result"
    }
   ],
   "source": [
    "housing = pd.read_csv('data/housing.csv')\n",
    "housing.head()"
   ]
  },
  {
   "cell_type": "code",
   "execution_count": 78,
   "metadata": {},
   "outputs": [
    {
     "name": "stderr",
     "output_type": "stream",
     "text": [
      "c:\\Users\\Home\\AppData\\Local\\Programs\\Python\\Python310\\lib\\site-packages\\seaborn\\_decorators.py:36: FutureWarning: Pass the following variables as keyword args: x, y. From version 0.12, the only valid positional argument will be `data`, and passing other arguments without an explicit keyword will result in an error or misinterpretation.\n",
      "  warnings.warn(\n"
     ]
    },
    {
     "data": {
      "text/plain": [
       "<AxesSubplot:xlabel='year', ylabel='price'>"
      ]
     },
     "execution_count": 78,
     "metadata": {},
     "output_type": "execute_result"
    },
    {
     "data": {
      "image/png": "[encoded data removed]",
      "text/plain": [
       "<Figure size 432x288 with 1 Axes>"
      ]
     },
     "metadata": {
      "needs_background": "light"
     },
     "output_type": "display_data"
    }
   ],
   "source": [
    "#визуализируем результаты. Параметр c принимает вектор с номерами классов для группировки объектов по цветам \n",
    "sns.scatterplot(housing.year, housing.price)"
   ]
  },
  {
   "cell_type": "code",
   "execution_count": 82,
   "metadata": {},
   "outputs": [
    {
     "name": "stderr",
     "output_type": "stream",
     "text": [
      "c:\\Users\\Home\\AppData\\Local\\Programs\\Python\\Python310\\lib\\site-packages\\seaborn\\_decorators.py:36: FutureWarning: Pass the following variables as keyword args: x, y. From version 0.12, the only valid positional argument will be `data`, and passing other arguments without an explicit keyword will result in an error or misinterpretation.\n",
      "  warnings.warn(\n"
     ]
    },
    {
     "data": {
      "text/plain": [
       "<AxesSubplot:xlabel='year', ylabel='price'>"
      ]
     },
     "execution_count": 82,
     "metadata": {},
     "output_type": "execute_result"
    },
    {
     "data": {
      "image/png": "[encoded data removed]",
      "text/plain": [
       "<Figure size 432x288 with 1 Axes>"
      ]
     },
     "metadata": {
      "needs_background": "light"
     },
     "output_type": "display_data"
    }
   ],
   "source": [
    "gm_clustering = GaussianMixture(n_components=3, random_state=42)\n",
    "\n",
    "# обучаем модель \n",
    "gm_clustering.fit(housing)\n",
    "\n",
    "# для матрицы X получаем предсказания, к какому кластеру принадлежат объекты\n",
    "gm_prediction = gm_clustering.predict(housing)\n",
    "\n",
    "#визуализируем результаты. Параметр c принимает вектор с номерами классов для группировки объектов по цветам \n",
    "sns.scatterplot(housing.year, housing.price,c=gm_prediction)"
   ]
  },
  {
   "cell_type": "markdown",
   "metadata": {},
   "source": [
    "# 6. Спектральная кластеризация"
   ]
  }
 ],
 "metadata": {
  "kernelspec": {
   "display_name": "Python 3.10.1 64-bit",
   "language": "python",
   "name": "python3"
  },
  "language_info": {
   "codemirror_mode": {
    "name": "ipython",
    "version": 3
   },
   "file_extension": ".py",
   "mimetype": "text/x-python",
   "name": "python",
   "nbconvert_exporter": "python",
   "pygments_lexer": "ipython3",
   "version": "3.10.1"
  },
  "orig_nbformat": 4,
  "vscode": {
   "interpreter": {
    "hash": "bb33f6d328f18c07440802b8c66874c52744b86bff5cfe8eb1d71afeb55a2150"
   }
  }
 },
 "nbformat": 4,
 "nbformat_minor": 2
}
