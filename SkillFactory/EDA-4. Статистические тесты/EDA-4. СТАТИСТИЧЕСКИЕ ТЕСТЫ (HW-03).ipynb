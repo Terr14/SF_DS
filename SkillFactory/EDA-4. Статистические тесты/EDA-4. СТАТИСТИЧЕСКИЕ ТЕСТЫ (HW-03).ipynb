{
 "cells": [
  {
   "cell_type": "markdown",
   "metadata": {},
   "source": [
    "# EDA-4. СТАТИСТИЧЕСКИЕ ТЕСТЫ (HW-03)"
   ]
  },
  {
   "cell_type": "code",
   "execution_count": 7,
   "metadata": {},
   "outputs": [],
   "source": [
    "import pandas as pd\n",
    "import numpy as np\n",
    "\n",
    "from scipy.stats import shapiro\n",
    "from scipy.stats import spearmanr\n",
    "from scipy.stats import ttest_ind"
   ]
  },
  {
   "cell_type": "markdown",
   "metadata": {},
   "source": [
    "## Объединение двух массивов в DataFrame."
   ]
  },
  {
   "cell_type": "code",
   "execution_count": 8,
   "metadata": {},
   "outputs": [
    {
     "data": {
      "text/html": [
       "<div>\n",
       "<style scoped>\n",
       "    .dataframe tbody tr th:only-of-type {\n",
       "        vertical-align: middle;\n",
       "    }\n",
       "\n",
       "    .dataframe tbody tr th {\n",
       "        vertical-align: top;\n",
       "    }\n",
       "\n",
       "    .dataframe thead th {\n",
       "        text-align: right;\n",
       "    }\n",
       "</style>\n",
       "<table border=\"1\" class=\"dataframe\">\n",
       "  <thead>\n",
       "    <tr style=\"text-align: right;\">\n",
       "      <th></th>\n",
       "      <th>Petersburg</th>\n",
       "      <th>Magadan</th>\n",
       "    </tr>\n",
       "  </thead>\n",
       "  <tbody>\n",
       "    <tr>\n",
       "      <th>0</th>\n",
       "      <td>0.0974</td>\n",
       "      <td>0.1033</td>\n",
       "    </tr>\n",
       "    <tr>\n",
       "      <th>1</th>\n",
       "      <td>0.1352</td>\n",
       "      <td>0.0915</td>\n",
       "    </tr>\n",
       "    <tr>\n",
       "      <th>2</th>\n",
       "      <td>0.0817</td>\n",
       "      <td>0.0781</td>\n",
       "    </tr>\n",
       "    <tr>\n",
       "      <th>3</th>\n",
       "      <td>0.1016</td>\n",
       "      <td>0.0685</td>\n",
       "    </tr>\n",
       "    <tr>\n",
       "      <th>4</th>\n",
       "      <td>0.0968</td>\n",
       "      <td>0.0677</td>\n",
       "    </tr>\n",
       "    <tr>\n",
       "      <th>5</th>\n",
       "      <td>0.1064</td>\n",
       "      <td>0.0697</td>\n",
       "    </tr>\n",
       "    <tr>\n",
       "      <th>6</th>\n",
       "      <td>0.1050</td>\n",
       "      <td>0.0764</td>\n",
       "    </tr>\n",
       "    <tr>\n",
       "      <th>7</th>\n",
       "      <td>0.1016</td>\n",
       "      <td>0.0689</td>\n",
       "    </tr>\n",
       "  </tbody>\n",
       "</table>\n",
       "</div>"
      ],
      "text/plain": [
       "   Petersburg  Magadan\n",
       "0      0.0974   0.1033\n",
       "1      0.1352   0.0915\n",
       "2      0.0817   0.0781\n",
       "3      0.1016   0.0685\n",
       "4      0.0968   0.0677\n",
       "5      0.1064   0.0697\n",
       "6      0.1050   0.0764\n",
       "7      0.1016   0.0689"
      ]
     },
     "execution_count": 8,
     "metadata": {},
     "output_type": "execute_result"
    }
   ],
   "source": [
    "petersburg = [0.0974, 0.1352, 0.0817, 0.1016, 0.0968, 0.1064, 0.105]\n",
    "magadan = [0.1033, 0.0915, 0.0781, 0.0685, 0.0677, 0.0697, 0.0764,\n",
    "           0.0689]\n",
    "\n",
    "# В petersburg добавим значение NaN чтобы списки были одинаковыми по длине\n",
    "petersburg.append(np.nan)\n",
    "\n",
    "# Создаем DataFrame\n",
    "data = pd.DataFrame({\n",
    "    'Petersburg':petersburg,\n",
    "    'Magadan':magadan\n",
    "    })\n",
    "\n",
    "# Пропущенное значение заменим на среднее\n",
    "data = data.fillna({\n",
    "    'Petersburg': data['Petersburg'].median()\n",
    "})\n",
    "\n",
    "data"
   ]
  },
  {
   "cell_type": "markdown",
   "metadata": {},
   "source": [
    "## Выбор теста на корреляцию"
   ]
  },
  {
   "cell_type": "markdown",
   "metadata": {},
   "source": [
    "Для выбора теста на корреляцию проверим нормальность распределения данных."
   ]
  },
  {
   "cell_type": "code",
   "execution_count": 9,
   "metadata": {},
   "outputs": [
    {
     "name": "stdout",
     "output_type": "stream",
     "text": [
      "Для столбца Petersburg:\n",
      "p = 0.106\n",
      "0.106 > 0.05. Данные распределены нормально\n",
      "\n",
      "Для столбца Magadan:\n",
      "p = 0.036\n",
      "0.036 < 0.05. Данные не распределены нормально (мы отвергаем H0)\n"
     ]
    }
   ],
   "source": [
    "# Формулируем гипотезы\n",
    "H0 = 'Данные распределены нормально'\n",
    "Ha = 'Данные не распределены нормально (мы отвергаем H0)'\n",
    "\n",
    "# Установим уровень значимости\n",
    "alpha = 0.05\n",
    "\n",
    "print('Для столбца Petersburg:')\n",
    "\n",
    "# Вычисляем p-value для столбца Petrsburg\n",
    "_, p = shapiro(data['Petersburg'])\n",
    "print('p =', round(p, 3))\n",
    "\n",
    "# Интерпретация\n",
    "if p > alpha:\n",
    "\tprint(f\"{round(p, 3)} > {alpha}. {H0}\")\n",
    "else:\n",
    "\tprint(f\"{round(p, 3)} < {alpha}. {Ha}\")\n",
    " \n",
    "print('') \n",
    " \n",
    "print('Для столбца Magadan:')\n",
    "\n",
    "# Вычисляем p-value для столбца Magadan\n",
    "_, p = shapiro(data['Magadan'])\n",
    "print('p =', round(p, 3))\n",
    "\n",
    "# Интерпретация\n",
    "if p > alpha:\n",
    "\tprint(f\"{round(p, 3)} > {alpha}. {H0}\")\n",
    "else:\n",
    "\tprint(f\"{round(p, 3)} < {alpha}. {Ha}\")"
   ]
  },
  {
   "cell_type": "markdown",
   "metadata": {},
   "source": [
    "В качестве теста на корреляцию выбираем расчет коэффициента корреляции Спирмена, поскольку данные распределены ненормально."
   ]
  },
  {
   "cell_type": "markdown",
   "metadata": {},
   "source": [
    " ## Вывод по гипотезе"
   ]
  },
  {
   "cell_type": "code",
   "execution_count": 10,
   "metadata": {},
   "outputs": [
    {
     "name": "stdout",
     "output_type": "stream",
     "text": [
      "corr = 0.156, p = 0.713\n",
      "0.713 > 0.05. Мы не можем отвергнуть нулевую гипотезу. Связь между переменными отсутствует.\n",
      "Между выборками очень слабая связь, либо связь отсутствует.\n"
     ]
    }
   ],
   "source": [
    "# Формулируем гипотезы\n",
    "H0 = 'Между переменными нет связи.'\n",
    "Ha = 'Есть связь между переменными.'\n",
    "\n",
    "# Расчитываем коэффициент корреляции между выборками\n",
    "corr, p = spearmanr(data['Petersburg'], data['Magadan'])\n",
    "\n",
    "# Интерпретация\n",
    "print(f\"corr = {round(corr, 3)}, p = {round(p, 3)}\")\n",
    "\n",
    "if p > alpha:\n",
    "    print(f\"{round(p, 3)} > {alpha}. Мы не можем отвергнуть нулевую гипотезу. {H0}\")\n",
    "else:\n",
    "    print(f\"{round(p, 3)} <= {alpha}. Мы отвергаем нулевую гипотезу. {Ha}\")\n",
    "\n",
    "if corr < 0.3:\n",
    "    print('Между выборками очень слабая связь, либо связь отсутствует.')\n",
    "if corr >= 0.3 and corr < 0.5:\n",
    "    print('Между выборками слабая связь.')\n",
    "if corr >= 0.5 and corr < 0.7:\n",
    "    print('Между выборками средняя связь.')\n",
    "if corr >= 0.7 and corr < 0.9:\n",
    "    print('Между выборками сильная связь.')\n",
    "if corr >= 0.9:\n",
    "    print('Между выборками очень сильная или абсолютная связь.')  "
   ]
  },
  {
   "cell_type": "markdown",
   "metadata": {},
   "source": [
    "## Определяем наличие разницы в среднем размере мидии в зависимости от города-производителя"
   ]
  },
  {
   "cell_type": "markdown",
   "metadata": {},
   "source": [
    "Выбираем независимый Т-тест для сравнения выборок, поскольку количественные группы происходят из разных совокупностей, а размер мидиии является количественной переменной. "
   ]
  },
  {
   "cell_type": "code",
   "execution_count": 11,
   "metadata": {},
   "outputs": [
    {
     "name": "stdout",
     "output_type": "stream",
     "text": [
      "p = 0.003\n",
      "0.003 <= 0.05. Мы отвергаем нулевую гипотезу. Есть значимая разница между диаметрами пиццы в разных пиццериях.\n"
     ]
    }
   ],
   "source": [
    "# Формулируем гипотезы\n",
    "H0 = 'Нет значимой разницы между диаметрами пиццы в разных пиццериях.'\n",
    "Ha = 'Есть значимая разница между диаметрами пиццы в разных пиццериях.'\n",
    "\n",
    "# Вычисляем p-value\n",
    "_,p = ttest_ind(data['Petersburg'], data['Magadan'], equal_var=True)\n",
    "print('p =', round(p, 3))\n",
    "\n",
    "# Интерпретация\n",
    "if p > alpha:\n",
    "    print(f\"{round(p, 3)} > {alpha}. Мы не можем отвергнуть нулевую гипотезу. {H0}\")\n",
    "else:\n",
    "    print(f\"{round(p, 3)} <= {alpha}. Мы отвергаем нулевую гипотезу. {Ha}\")\n"
   ]
  }
 ],
 "metadata": {
  "interpreter": {
   "hash": "bb33f6d328f18c07440802b8c66874c52744b86bff5cfe8eb1d71afeb55a2150"
  },
  "kernelspec": {
   "display_name": "Python 3.10.1 64-bit",
   "language": "python",
   "name": "python3"
  },
  "language_info": {
   "codemirror_mode": {
    "name": "ipython",
    "version": 3
   },
   "file_extension": ".py",
   "mimetype": "text/x-python",
   "name": "python",
   "nbconvert_exporter": "python",
   "pygments_lexer": "ipython3",
   "version": "3.10.1"
  },
  "orig_nbformat": 4
 },
 "nbformat": 4,
 "nbformat_minor": 2
}
