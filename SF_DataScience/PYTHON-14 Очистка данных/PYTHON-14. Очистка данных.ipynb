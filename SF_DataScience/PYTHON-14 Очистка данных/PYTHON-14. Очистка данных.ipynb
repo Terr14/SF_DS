{
 "cells": [
  {
   "cell_type": "markdown",
   "metadata": {},
   "source": [
    "#Очистка данных\n",
    "\n",
    "##Введение\n",
    "\n",
    "Очистка данных (data cleaning) — это процесс обнаружения и удаления (или исправления) повреждённых, ложных или неинформативных записей таблицы или целой базы данных. Процесс состоит из двух этапов: поиск и ликвидация (или редактирование).\n",
    "\n",
    "Цель очистки данных — избавиться от «мусора», который может помешать моделированию или исказить его результаты. Во многих задачах очистка данных — это самая главная часть этапа подготовки данных к построению модели, которая нередко занимает большую часть времени работы над задачей.\n",
    "\n",
    "Сложность очистки и, соответственно, время, затраченное на неё, зависят от сложности задачи и размера данных. Чем больше у вас источников данных, тем больше вероятность того, что необходимо будет проводить тщательную очистку. \n",
    "\n",
    "Время, которое специалист тратит на очистку, довольно индивидуально и зависит ещё и от его навыков. В среднем при работе с данными оно занимает около 40-60 % от общего времени работы с данными (включая построение модели).\n",
    "\n",
    "Нередко оказывается так, что начинающие специалисты пропускают этот этап, сразу переходя к построению своей глубочайшей нейронной сети с невероятно сложной архитектурой и современными наворотами. Однако в результате есть риск столкнуться либо с ошибкой выполнения кода, либо переобученной под «мусор» моделью, предсказания которой мало сопоставимы с действительностью. \n",
    "\n",
    "Вспомните поговорку: «мусор на входе — мусор на выходе»."
   ]
  },
  {
   "cell_type": "markdown",
   "metadata": {},
   "source": [
    "##Знакомство с новыми данными: данные о квартирах от Сбера\n",
    "\n",
    "В этом модуле мы с вами будем работать с данными с самого настоящего соревнования на платформе Kaggle, инициатором которого стал Сбер. Соревнование проводилось в 2017 году, его призовой фонд составил 25 000 $. Требования Сбера состояли в построении модели, которая бы прогнозировала цены на жильё в Москве, опираясь на параметры самого жилья, а также состояние экономики и финансового сектора в стране.\n",
    "\n",
    "Датасет представляет собой набор данных из таблицы с информацией о параметрах жилья (train.csv). В ней содержатся 292 признака о состоянии экономики России на момент продажи недвижимости (macro.csv). \n",
    "\n",
    "Для упрощения техники очистки данных мы будем отрабатывать на урезанном датасете.\n",
    "\n",
    "Скачать набор данных в формате csv (разделитель — ',') можно здесь (csv-файл находится в zip-архиве — распакуйте архив, прежде чем продолжать работу!)\n",
    "\n",
    "Он содержит информацию о 61 признаке. Их значение мы будем объяснять в процессе работы с данными.\n",
    "\n",
    "Импортируем библиотеки, которые нам понадобятся (pandas для работы с данными, numpy для математических преобразований, matplotlib и seaborn для визуализации):"
   ]
  },
  {
   "cell_type": "code",
   "execution_count": 96,
   "metadata": {},
   "outputs": [],
   "source": [
    "import pandas as pd\n",
    "import numpy as np\n",
    "import matplotlib.pyplot as plt\n",
    "import seaborn as sns"
   ]
  },
  {
   "cell_type": "markdown",
   "metadata": {},
   "source": [
    "Прочитаем наши данные и выведем первые пять строк таблицы с помощью head(), чтобы убедиться в том, что всё подгрузилось верно:"
   ]
  },
  {
   "cell_type": "code",
   "execution_count": 97,
   "metadata": {},
   "outputs": [
    {
     "data": {
      "text/html": [
       "<div>\n",
       "<style scoped>\n",
       "    .dataframe tbody tr th:only-of-type {\n",
       "        vertical-align: middle;\n",
       "    }\n",
       "\n",
       "    .dataframe tbody tr th {\n",
       "        vertical-align: top;\n",
       "    }\n",
       "\n",
       "    .dataframe thead th {\n",
       "        text-align: right;\n",
       "    }\n",
       "</style>\n",
       "<table border=\"1\" class=\"dataframe\">\n",
       "  <thead>\n",
       "    <tr style=\"text-align: right;\">\n",
       "      <th></th>\n",
       "      <th>id</th>\n",
       "      <th>full_sq</th>\n",
       "      <th>life_sq</th>\n",
       "      <th>floor</th>\n",
       "      <th>sub_area</th>\n",
       "      <th>preschool_quota</th>\n",
       "      <th>preschool_education_centers_raion</th>\n",
       "      <th>school_quota</th>\n",
       "      <th>school_education_centers_raion</th>\n",
       "      <th>school_education_centers_top_20_raion</th>\n",
       "      <th>...</th>\n",
       "      <th>office_km</th>\n",
       "      <th>additional_education_km</th>\n",
       "      <th>preschool_km</th>\n",
       "      <th>big_church_km</th>\n",
       "      <th>church_synagogue_km</th>\n",
       "      <th>theater_km</th>\n",
       "      <th>museum_km</th>\n",
       "      <th>ecology</th>\n",
       "      <th>mosque_count_1000</th>\n",
       "      <th>price_doc</th>\n",
       "    </tr>\n",
       "  </thead>\n",
       "  <tbody>\n",
       "    <tr>\n",
       "      <th>0</th>\n",
       "      <td>1</td>\n",
       "      <td>43</td>\n",
       "      <td>27.0</td>\n",
       "      <td>4.0</td>\n",
       "      <td>Bibirevo</td>\n",
       "      <td>5001.0</td>\n",
       "      <td>5</td>\n",
       "      <td>11065.0</td>\n",
       "      <td>5</td>\n",
       "      <td>0</td>\n",
       "      <td>...</td>\n",
       "      <td>0.637189</td>\n",
       "      <td>0.947962</td>\n",
       "      <td>0.177975</td>\n",
       "      <td>0.625783</td>\n",
       "      <td>0.628187</td>\n",
       "      <td>14.053047</td>\n",
       "      <td>7.389498</td>\n",
       "      <td>good</td>\n",
       "      <td>0</td>\n",
       "      <td>5850000</td>\n",
       "    </tr>\n",
       "    <tr>\n",
       "      <th>1</th>\n",
       "      <td>2</td>\n",
       "      <td>34</td>\n",
       "      <td>19.0</td>\n",
       "      <td>3.0</td>\n",
       "      <td>Nagatinskij Zaton</td>\n",
       "      <td>3119.0</td>\n",
       "      <td>5</td>\n",
       "      <td>6237.0</td>\n",
       "      <td>8</td>\n",
       "      <td>0</td>\n",
       "      <td>...</td>\n",
       "      <td>0.688796</td>\n",
       "      <td>1.072315</td>\n",
       "      <td>0.273345</td>\n",
       "      <td>0.967821</td>\n",
       "      <td>0.471447</td>\n",
       "      <td>6.829889</td>\n",
       "      <td>0.709260</td>\n",
       "      <td>excellent</td>\n",
       "      <td>0</td>\n",
       "      <td>6000000</td>\n",
       "    </tr>\n",
       "    <tr>\n",
       "      <th>2</th>\n",
       "      <td>3</td>\n",
       "      <td>43</td>\n",
       "      <td>29.0</td>\n",
       "      <td>2.0</td>\n",
       "      <td>Tekstil'shhiki</td>\n",
       "      <td>1463.0</td>\n",
       "      <td>4</td>\n",
       "      <td>5580.0</td>\n",
       "      <td>7</td>\n",
       "      <td>0</td>\n",
       "      <td>...</td>\n",
       "      <td>1.543049</td>\n",
       "      <td>0.391957</td>\n",
       "      <td>0.158072</td>\n",
       "      <td>3.178751</td>\n",
       "      <td>0.755946</td>\n",
       "      <td>4.273200</td>\n",
       "      <td>3.156423</td>\n",
       "      <td>poor</td>\n",
       "      <td>0</td>\n",
       "      <td>5700000</td>\n",
       "    </tr>\n",
       "    <tr>\n",
       "      <th>3</th>\n",
       "      <td>4</td>\n",
       "      <td>89</td>\n",
       "      <td>50.0</td>\n",
       "      <td>9.0</td>\n",
       "      <td>Mitino</td>\n",
       "      <td>6839.0</td>\n",
       "      <td>9</td>\n",
       "      <td>17063.0</td>\n",
       "      <td>10</td>\n",
       "      <td>0</td>\n",
       "      <td>...</td>\n",
       "      <td>0.934273</td>\n",
       "      <td>0.892674</td>\n",
       "      <td>0.236455</td>\n",
       "      <td>1.031777</td>\n",
       "      <td>1.561505</td>\n",
       "      <td>16.990677</td>\n",
       "      <td>16.041521</td>\n",
       "      <td>good</td>\n",
       "      <td>0</td>\n",
       "      <td>13100000</td>\n",
       "    </tr>\n",
       "    <tr>\n",
       "      <th>4</th>\n",
       "      <td>5</td>\n",
       "      <td>77</td>\n",
       "      <td>77.0</td>\n",
       "      <td>4.0</td>\n",
       "      <td>Basmannoe</td>\n",
       "      <td>3240.0</td>\n",
       "      <td>7</td>\n",
       "      <td>7770.0</td>\n",
       "      <td>9</td>\n",
       "      <td>0</td>\n",
       "      <td>...</td>\n",
       "      <td>0.077901</td>\n",
       "      <td>0.810801</td>\n",
       "      <td>0.376838</td>\n",
       "      <td>0.378756</td>\n",
       "      <td>0.121681</td>\n",
       "      <td>1.112486</td>\n",
       "      <td>1.800125</td>\n",
       "      <td>excellent</td>\n",
       "      <td>0</td>\n",
       "      <td>16331452</td>\n",
       "    </tr>\n",
       "  </tbody>\n",
       "</table>\n",
       "<p>5 rows × 61 columns</p>\n",
       "</div>"
      ],
      "text/plain": [
       "   id  full_sq  life_sq  floor           sub_area  preschool_quota  \\\n",
       "0   1       43     27.0    4.0           Bibirevo           5001.0   \n",
       "1   2       34     19.0    3.0  Nagatinskij Zaton           3119.0   \n",
       "2   3       43     29.0    2.0     Tekstil'shhiki           1463.0   \n",
       "3   4       89     50.0    9.0             Mitino           6839.0   \n",
       "4   5       77     77.0    4.0          Basmannoe           3240.0   \n",
       "\n",
       "   preschool_education_centers_raion  school_quota  \\\n",
       "0                                  5       11065.0   \n",
       "1                                  5        6237.0   \n",
       "2                                  4        5580.0   \n",
       "3                                  9       17063.0   \n",
       "4                                  7        7770.0   \n",
       "\n",
       "   school_education_centers_raion  school_education_centers_top_20_raion  ...  \\\n",
       "0                               5                                      0  ...   \n",
       "1                               8                                      0  ...   \n",
       "2                               7                                      0  ...   \n",
       "3                              10                                      0  ...   \n",
       "4                               9                                      0  ...   \n",
       "\n",
       "   office_km  additional_education_km  preschool_km  big_church_km  \\\n",
       "0   0.637189                 0.947962      0.177975       0.625783   \n",
       "1   0.688796                 1.072315      0.273345       0.967821   \n",
       "2   1.543049                 0.391957      0.158072       3.178751   \n",
       "3   0.934273                 0.892674      0.236455       1.031777   \n",
       "4   0.077901                 0.810801      0.376838       0.378756   \n",
       "\n",
       "   church_synagogue_km  theater_km  museum_km    ecology mosque_count_1000  \\\n",
       "0             0.628187   14.053047   7.389498       good                 0   \n",
       "1             0.471447    6.829889   0.709260  excellent                 0   \n",
       "2             0.755946    4.273200   3.156423       poor                 0   \n",
       "3             1.561505   16.990677  16.041521       good                 0   \n",
       "4             0.121681    1.112486   1.800125  excellent                 0   \n",
       "\n",
       "  price_doc  \n",
       "0   5850000  \n",
       "1   6000000  \n",
       "2   5700000  \n",
       "3  13100000  \n",
       "4  16331452  \n",
       "\n",
       "[5 rows x 61 columns]"
      ]
     },
     "execution_count": 97,
     "metadata": {},
     "output_type": "execute_result"
    }
   ],
   "source": [
    "sber_data = pd.read_csv('data/sber_data.csv')\n",
    "sber_data.head()"
   ]
  },
  {
   "cell_type": "markdown",
   "metadata": {},
   "source": [
    "Дополнительно посмотрим на последние пять строк таблицы с помощью tail():"
   ]
  },
  {
   "cell_type": "code",
   "execution_count": 98,
   "metadata": {},
   "outputs": [
    {
     "data": {
      "text/html": [
       "<div>\n",
       "<style scoped>\n",
       "    .dataframe tbody tr th:only-of-type {\n",
       "        vertical-align: middle;\n",
       "    }\n",
       "\n",
       "    .dataframe tbody tr th {\n",
       "        vertical-align: top;\n",
       "    }\n",
       "\n",
       "    .dataframe thead th {\n",
       "        text-align: right;\n",
       "    }\n",
       "</style>\n",
       "<table border=\"1\" class=\"dataframe\">\n",
       "  <thead>\n",
       "    <tr style=\"text-align: right;\">\n",
       "      <th></th>\n",
       "      <th>id</th>\n",
       "      <th>full_sq</th>\n",
       "      <th>life_sq</th>\n",
       "      <th>floor</th>\n",
       "      <th>sub_area</th>\n",
       "      <th>preschool_quota</th>\n",
       "      <th>preschool_education_centers_raion</th>\n",
       "      <th>school_quota</th>\n",
       "      <th>school_education_centers_raion</th>\n",
       "      <th>school_education_centers_top_20_raion</th>\n",
       "      <th>...</th>\n",
       "      <th>office_km</th>\n",
       "      <th>additional_education_km</th>\n",
       "      <th>preschool_km</th>\n",
       "      <th>big_church_km</th>\n",
       "      <th>church_synagogue_km</th>\n",
       "      <th>theater_km</th>\n",
       "      <th>museum_km</th>\n",
       "      <th>ecology</th>\n",
       "      <th>mosque_count_1000</th>\n",
       "      <th>price_doc</th>\n",
       "    </tr>\n",
       "  </thead>\n",
       "  <tbody>\n",
       "    <tr>\n",
       "      <th>30466</th>\n",
       "      <td>30469</td>\n",
       "      <td>44</td>\n",
       "      <td>27.0</td>\n",
       "      <td>7.0</td>\n",
       "      <td>Otradnoe</td>\n",
       "      <td>5088.0</td>\n",
       "      <td>4</td>\n",
       "      <td>12721.0</td>\n",
       "      <td>4</td>\n",
       "      <td>0</td>\n",
       "      <td>...</td>\n",
       "      <td>1.103579</td>\n",
       "      <td>0.167718</td>\n",
       "      <td>0.349899</td>\n",
       "      <td>1.235066</td>\n",
       "      <td>0.612359</td>\n",
       "      <td>7.482165</td>\n",
       "      <td>4.836787</td>\n",
       "      <td>good</td>\n",
       "      <td>0</td>\n",
       "      <td>7400000</td>\n",
       "    </tr>\n",
       "    <tr>\n",
       "      <th>30467</th>\n",
       "      <td>30470</td>\n",
       "      <td>86</td>\n",
       "      <td>59.0</td>\n",
       "      <td>3.0</td>\n",
       "      <td>Tverskoe</td>\n",
       "      <td>1874.0</td>\n",
       "      <td>4</td>\n",
       "      <td>6772.0</td>\n",
       "      <td>4</td>\n",
       "      <td>1</td>\n",
       "      <td>...</td>\n",
       "      <td>0.069986</td>\n",
       "      <td>0.086552</td>\n",
       "      <td>0.362681</td>\n",
       "      <td>0.850385</td>\n",
       "      <td>0.310021</td>\n",
       "      <td>0.778428</td>\n",
       "      <td>1.450108</td>\n",
       "      <td>poor</td>\n",
       "      <td>0</td>\n",
       "      <td>25000000</td>\n",
       "    </tr>\n",
       "    <tr>\n",
       "      <th>30468</th>\n",
       "      <td>30471</td>\n",
       "      <td>45</td>\n",
       "      <td>NaN</td>\n",
       "      <td>10.0</td>\n",
       "      <td>Poselenie Vnukovskoe</td>\n",
       "      <td>NaN</td>\n",
       "      <td>0</td>\n",
       "      <td>NaN</td>\n",
       "      <td>0</td>\n",
       "      <td>0</td>\n",
       "      <td>...</td>\n",
       "      <td>4.338453</td>\n",
       "      <td>1.339078</td>\n",
       "      <td>1.234235</td>\n",
       "      <td>1.192543</td>\n",
       "      <td>1.186621</td>\n",
       "      <td>13.459593</td>\n",
       "      <td>9.890758</td>\n",
       "      <td>no data</td>\n",
       "      <td>0</td>\n",
       "      <td>6970959</td>\n",
       "    </tr>\n",
       "    <tr>\n",
       "      <th>30469</th>\n",
       "      <td>30472</td>\n",
       "      <td>64</td>\n",
       "      <td>32.0</td>\n",
       "      <td>5.0</td>\n",
       "      <td>Obruchevskoe</td>\n",
       "      <td>2372.0</td>\n",
       "      <td>6</td>\n",
       "      <td>6083.0</td>\n",
       "      <td>8</td>\n",
       "      <td>0</td>\n",
       "      <td>...</td>\n",
       "      <td>1.204798</td>\n",
       "      <td>1.340017</td>\n",
       "      <td>0.130667</td>\n",
       "      <td>1.644053</td>\n",
       "      <td>0.476021</td>\n",
       "      <td>2.088193</td>\n",
       "      <td>4.119706</td>\n",
       "      <td>satisfactory</td>\n",
       "      <td>0</td>\n",
       "      <td>13500000</td>\n",
       "    </tr>\n",
       "    <tr>\n",
       "      <th>30470</th>\n",
       "      <td>30473</td>\n",
       "      <td>43</td>\n",
       "      <td>28.0</td>\n",
       "      <td>1.0</td>\n",
       "      <td>Novogireevo</td>\n",
       "      <td>2215.0</td>\n",
       "      <td>4</td>\n",
       "      <td>5824.0</td>\n",
       "      <td>4</td>\n",
       "      <td>0</td>\n",
       "      <td>...</td>\n",
       "      <td>2.108265</td>\n",
       "      <td>0.825811</td>\n",
       "      <td>0.378950</td>\n",
       "      <td>0.480531</td>\n",
       "      <td>0.867332</td>\n",
       "      <td>0.688707</td>\n",
       "      <td>0.127867</td>\n",
       "      <td>poor</td>\n",
       "      <td>0</td>\n",
       "      <td>5600000</td>\n",
       "    </tr>\n",
       "  </tbody>\n",
       "</table>\n",
       "<p>5 rows × 61 columns</p>\n",
       "</div>"
      ],
      "text/plain": [
       "          id  full_sq  life_sq  floor              sub_area  preschool_quota  \\\n",
       "30466  30469       44     27.0    7.0              Otradnoe           5088.0   \n",
       "30467  30470       86     59.0    3.0              Tverskoe           1874.0   \n",
       "30468  30471       45      NaN   10.0  Poselenie Vnukovskoe              NaN   \n",
       "30469  30472       64     32.0    5.0          Obruchevskoe           2372.0   \n",
       "30470  30473       43     28.0    1.0           Novogireevo           2215.0   \n",
       "\n",
       "       preschool_education_centers_raion  school_quota  \\\n",
       "30466                                  4       12721.0   \n",
       "30467                                  4        6772.0   \n",
       "30468                                  0           NaN   \n",
       "30469                                  6        6083.0   \n",
       "30470                                  4        5824.0   \n",
       "\n",
       "       school_education_centers_raion  school_education_centers_top_20_raion  \\\n",
       "30466                               4                                      0   \n",
       "30467                               4                                      1   \n",
       "30468                               0                                      0   \n",
       "30469                               8                                      0   \n",
       "30470                               4                                      0   \n",
       "\n",
       "       ...  office_km  additional_education_km  preschool_km  big_church_km  \\\n",
       "30466  ...   1.103579                 0.167718      0.349899       1.235066   \n",
       "30467  ...   0.069986                 0.086552      0.362681       0.850385   \n",
       "30468  ...   4.338453                 1.339078      1.234235       1.192543   \n",
       "30469  ...   1.204798                 1.340017      0.130667       1.644053   \n",
       "30470  ...   2.108265                 0.825811      0.378950       0.480531   \n",
       "\n",
       "       church_synagogue_km  theater_km  museum_km       ecology  \\\n",
       "30466             0.612359    7.482165   4.836787          good   \n",
       "30467             0.310021    0.778428   1.450108          poor   \n",
       "30468             1.186621   13.459593   9.890758       no data   \n",
       "30469             0.476021    2.088193   4.119706  satisfactory   \n",
       "30470             0.867332    0.688707   0.127867          poor   \n",
       "\n",
       "      mosque_count_1000 price_doc  \n",
       "30466                 0   7400000  \n",
       "30467                 0  25000000  \n",
       "30468                 0   6970959  \n",
       "30469                 0  13500000  \n",
       "30470                 0   5600000  \n",
       "\n",
       "[5 rows x 61 columns]"
      ]
     },
     "metadata": {},
     "output_type": "display_data"
    }
   ],
   "source": [
    "display(sber_data.tail())"
   ]
  },
  {
   "cell_type": "markdown",
   "metadata": {},
   "source": [
    "Задание 2.1\n",
    "Чему равно число строк в таблице?"
   ]
  },
  {
   "cell_type": "code",
   "execution_count": 99,
   "metadata": {},
   "outputs": [
    {
     "name": "stdout",
     "output_type": "stream",
     "text": [
      "<class 'pandas.core.frame.DataFrame'>\n",
      "RangeIndex: 30471 entries, 0 to 30470\n",
      "Data columns (total 61 columns):\n",
      " #   Column                                 Non-Null Count  Dtype  \n",
      "---  ------                                 --------------  -----  \n",
      " 0   id                                     30471 non-null  int64  \n",
      " 1   full_sq                                30471 non-null  int64  \n",
      " 2   life_sq                                24088 non-null  float64\n",
      " 3   floor                                  30304 non-null  float64\n",
      " 4   sub_area                               30471 non-null  object \n",
      " 5   preschool_quota                        23783 non-null  float64\n",
      " 6   preschool_education_centers_raion      30471 non-null  int64  \n",
      " 7   school_quota                           23786 non-null  float64\n",
      " 8   school_education_centers_raion         30471 non-null  int64  \n",
      " 9   school_education_centers_top_20_raion  30471 non-null  int64  \n",
      " 10  hospital_beds_raion                    16030 non-null  float64\n",
      " 11  healthcare_centers_raion               30471 non-null  int64  \n",
      " 12  university_top_20_raion                30471 non-null  int64  \n",
      " 13  sport_objects_raion                    30471 non-null  int64  \n",
      " 14  additional_education_raion             30471 non-null  int64  \n",
      " 15  culture_objects_top_25_raion           30471 non-null  int64  \n",
      " 16  shopping_centers_raion                 30471 non-null  int64  \n",
      " 17  office_raion                           30471 non-null  int64  \n",
      " 18  oil_chemistry_raion                    30471 non-null  object \n",
      " 19  railroad_terminal_raion                30471 non-null  object \n",
      " 20  nuclear_reactor_raion                  30471 non-null  object \n",
      " 21  metro_min_avto                         30471 non-null  float64\n",
      " 22  metro_km_avto                          30471 non-null  float64\n",
      " 23  metro_min_walk                         30446 non-null  float64\n",
      " 24  metro_km_walk                          30446 non-null  float64\n",
      " 25  kindergarten_km                        30471 non-null  float64\n",
      " 26  school_km                              30471 non-null  float64\n",
      " 27  park_km                                30471 non-null  float64\n",
      " 28  green_zone_km                          30471 non-null  float64\n",
      " 29  industrial_km                          30471 non-null  float64\n",
      " 30  railroad_station_walk_km               30446 non-null  float64\n",
      " 31  railroad_station_walk_min              30446 non-null  float64\n",
      " 32  public_transport_station_km            30471 non-null  float64\n",
      " 33  public_transport_station_min_walk      30471 non-null  float64\n",
      " 34  mkad_km                                30471 non-null  float64\n",
      " 35  ttk_km                                 30471 non-null  float64\n",
      " 36  sadovoe_km                             30471 non-null  float64\n",
      " 37  bulvar_ring_km                         30471 non-null  float64\n",
      " 38  kremlin_km                             30471 non-null  float64\n",
      " 39  big_road1_1line                        30471 non-null  object \n",
      " 40  big_market_km                          30471 non-null  float64\n",
      " 41  market_shop_km                         30471 non-null  float64\n",
      " 42  fitness_km                             30471 non-null  float64\n",
      " 43  swim_pool_km                           30471 non-null  float64\n",
      " 44  ice_rink_km                            30471 non-null  float64\n",
      " 45  stadium_km                             30471 non-null  float64\n",
      " 46  basketball_km                          30471 non-null  float64\n",
      " 47  hospice_morgue_km                      30471 non-null  float64\n",
      " 48  university_km                          30471 non-null  float64\n",
      " 49  workplaces_km                          30471 non-null  float64\n",
      " 50  shopping_centers_km                    30471 non-null  float64\n",
      " 51  office_km                              30471 non-null  float64\n",
      " 52  additional_education_km                30471 non-null  float64\n",
      " 53  preschool_km                           30471 non-null  float64\n",
      " 54  big_church_km                          30471 non-null  float64\n",
      " 55  church_synagogue_km                    30471 non-null  float64\n",
      " 56  theater_km                             30471 non-null  float64\n",
      " 57  museum_km                              30471 non-null  float64\n",
      " 58  ecology                                30471 non-null  object \n",
      " 59  mosque_count_1000                      30471 non-null  int64  \n",
      " 60  price_doc                              30471 non-null  int64  \n",
      "dtypes: float64(41), int64(14), object(6)\n",
      "memory usage: 14.2+ MB\n"
     ]
    }
   ],
   "source": [
    "sber_data.info()"
   ]
  },
  {
   "cell_type": "markdown",
   "metadata": {},
   "source": [
    "Задание 2.2\n",
    "Сколько районов Москвы и Московской области представлено в данных?"
   ]
  },
  {
   "cell_type": "code",
   "execution_count": 100,
   "metadata": {},
   "outputs": [
    {
     "data": {
      "text/html": [
       "<div>\n",
       "<style scoped>\n",
       "    .dataframe tbody tr th:only-of-type {\n",
       "        vertical-align: middle;\n",
       "    }\n",
       "\n",
       "    .dataframe tbody tr th {\n",
       "        vertical-align: top;\n",
       "    }\n",
       "\n",
       "    .dataframe thead th {\n",
       "        text-align: right;\n",
       "    }\n",
       "</style>\n",
       "<table border=\"1\" class=\"dataframe\">\n",
       "  <thead>\n",
       "    <tr style=\"text-align: right;\">\n",
       "      <th></th>\n",
       "      <th>sub_area</th>\n",
       "      <th>oil_chemistry_raion</th>\n",
       "      <th>railroad_terminal_raion</th>\n",
       "      <th>nuclear_reactor_raion</th>\n",
       "      <th>big_road1_1line</th>\n",
       "      <th>ecology</th>\n",
       "    </tr>\n",
       "  </thead>\n",
       "  <tbody>\n",
       "    <tr>\n",
       "      <th>count</th>\n",
       "      <td>30471</td>\n",
       "      <td>30471</td>\n",
       "      <td>30471</td>\n",
       "      <td>30471</td>\n",
       "      <td>30471</td>\n",
       "      <td>30471</td>\n",
       "    </tr>\n",
       "    <tr>\n",
       "      <th>unique</th>\n",
       "      <td>146</td>\n",
       "      <td>2</td>\n",
       "      <td>2</td>\n",
       "      <td>2</td>\n",
       "      <td>2</td>\n",
       "      <td>5</td>\n",
       "    </tr>\n",
       "    <tr>\n",
       "      <th>top</th>\n",
       "      <td>Poselenie Sosenskoe</td>\n",
       "      <td>no</td>\n",
       "      <td>no</td>\n",
       "      <td>no</td>\n",
       "      <td>no</td>\n",
       "      <td>poor</td>\n",
       "    </tr>\n",
       "    <tr>\n",
       "      <th>freq</th>\n",
       "      <td>1776</td>\n",
       "      <td>30175</td>\n",
       "      <td>29335</td>\n",
       "      <td>29608</td>\n",
       "      <td>29690</td>\n",
       "      <td>8018</td>\n",
       "    </tr>\n",
       "  </tbody>\n",
       "</table>\n",
       "</div>"
      ],
      "text/plain": [
       "                   sub_area oil_chemistry_raion railroad_terminal_raion  \\\n",
       "count                 30471               30471                   30471   \n",
       "unique                  146                   2                       2   \n",
       "top     Poselenie Sosenskoe                  no                      no   \n",
       "freq                   1776               30175                   29335   \n",
       "\n",
       "       nuclear_reactor_raion big_road1_1line ecology  \n",
       "count                  30471           30471   30471  \n",
       "unique                     2               2       5  \n",
       "top                       no              no    poor  \n",
       "freq                   29608           29690    8018  "
      ]
     },
     "execution_count": 100,
     "metadata": {},
     "output_type": "execute_result"
    }
   ],
   "source": [
    "sber_data.describe(include=['object'])"
   ]
  },
  {
   "cell_type": "markdown",
   "metadata": {},
   "source": [
    "Задание 2.3\n",
    "Чему равна максимальная цена квартир (price_doc)? Введите это число полностью, без округлений."
   ]
  },
  {
   "cell_type": "code",
   "execution_count": 101,
   "metadata": {},
   "outputs": [
    {
     "data": {
      "text/plain": [
       "111111112"
      ]
     },
     "execution_count": 101,
     "metadata": {},
     "output_type": "execute_result"
    }
   ],
   "source": [
    "sber_data['price_doc'].max()"
   ]
  },
  {
   "cell_type": "markdown",
   "metadata": {},
   "source": [
    "Задание 2.4\n",
    "Проверим, влияет ли уровень экологической обстановки в районе на цену квартиры. Постройте коробчатую диаграмму цен на квартиры (price_doc) в зависимости от уровня экологической обстановки в районе (ecology). Какой уровень ценится на рынке меньше всего?"
   ]
  },
  {
   "cell_type": "code",
   "execution_count": 102,
   "metadata": {},
   "outputs": [
    {
     "data": {
      "image/png": "[encoded data removed]",
      "text/plain": [
       "<Figure size 1440x360 with 1 Axes>"
      ]
     },
     "metadata": {
      "needs_background": "light"
     },
     "output_type": "display_data"
    }
   ],
   "source": [
    "import matplotlib.pyplot as plt\n",
    "import seaborn as sns\n",
    "import pandas as pd\n",
    "\n",
    "fig = plt.figure(figsize=(20, 5))\n",
    "boxplot = sns.boxplot(data=sber_data, x='price_doc', y='ecology')\n"
   ]
  },
  {
   "cell_type": "markdown",
   "metadata": {},
   "source": [
    "Задание 2.5\n",
    "Постройте диаграмму рассеяния, которая покажет, как цена на квартиру (price_doc) связана с расстоянием до центра Москвы (kremlin_km). Выберите все верные утверждения."
   ]
  },
  {
   "cell_type": "code",
   "execution_count": 103,
   "metadata": {},
   "outputs": [
    {
     "data": {
      "image/png": "[encoded data removed]",
      "text/plain": [
       "<Figure size 576x288 with 1 Axes>"
      ]
     },
     "metadata": {
      "needs_background": "light"
     },
     "output_type": "display_data"
    }
   ],
   "source": [
    "fig = plt.figure(figsize=(8, 4))\n",
    "axes = fig.add_axes([0, 0, 1, 1])\n",
    "axes.scatter(\n",
    "    x=sber_data['kremlin_km'], \n",
    "    y=sber_data['price_doc'], \n",
    "    s=100,\n",
    "    marker='o',\n",
    "    c = 'green'\n",
    ");"
   ]
  },
  {
   "attachments": {},
   "cell_type": "markdown",
   "metadata": {},
   "source": [
    "## Работа с пропусками: как их обнаружить?\n",
    "\n",
    " Добавить страницу в мои закладки\n",
    "Работа с отсутствующими записями в таблице, пожалуй, одна из самых сложных и неоднозначных. Она же — самая распространённая для реальных данных. С неё мы и начнём!\n",
    "\n",
    "В pandas пропуски обозначаются специальным символом NaN (Not-a-Number — «не число»). \n",
    "\n",
    "Мы с вами уже сталкивались с пропусками, как только начали работать с настоящими данными. Вспомните датасеты о домах в Мельбурне и коронавирусе. \n",
    "\n",
    "?\n",
    "Чем так плохи пропуски, почему так важно их предобработать?\n",
    "\n",
    "Ответ очень прост: преобладающее большинство моделей машинного обучения не умеют обрабатывать пропуски, так как они работают только с числами. Если в данных содержится пустая ячейка таблицы, модель выдаст ошибку. \n",
    "\n",
    "ПРИЧИНЫ ПОЯВЛЕНИЯ ПРОПУСКОВ В ДАННЫХ\n",
    "\n",
    "Ошибка ввода данных. Как правило, такая ошибка обусловлена человеческим фактором: никто не застрахован от случайного пропуска графы при заполнении данных.\n",
    "Ошибка передачи данных. Эта причина на сегодняшний момент возникает довольно редко: с появлением протоколов проверки выгружаемой информации потерять данные при передаче их по сети становится сложнее, но вероятность такого события ненулевая.\n",
    "Намеренное сокрытие информации. Одна из самых распространённых причин, особенно в социологических опросах. Дело в том, что пользователи/опрашиваемые/клиенты часто скрывают информацию о себе. Например, люди, занимающие высокие должности, могут быть связаны контрактом о неразглашении своих доходов. \n",
    "Прямое отсутствие информации. Эта причина очень распространена в данных для рекомендательных систем. Представьте, что у нас есть таблицы фильмов и пользователей, которые просматривают их и ставят им оценки. Мы объединяем всю информацию в одну большую сводную таблицу: например, по строкам идут пользователи, а по столбцам — фильмы. Но вот незадача: у нас нет информации о рейтингах фильмов, которые пользователь ещё не посмотрел. В таком случае на пересечении строки с именем пользователя и столбца с названием фильма, который он ещё не смотрел, ставится пропуск. Главное несчастье состоит в том, что 99 % процентов такой таблицы — это сплошной пропуск.\n",
    "Мошенничество. Очень острая проблема в финансовой сфере, особенно в банковских данных. Мошенники нередко указывают ложную информацию или не указывают её вовсе.\n",
    "КАК ОБНАРУЖИТЬ ПРОПУСКИ?\n",
    "\n",
    "Ранее мы определяли наличие пропусков в данных с помощью метода info(). Но этот метод не позволяет точно локализовать места пропущенных значений, он выводит только число непустых значений и предназначен для определения факта наличия пропусков:"
   ]
  },
  {
   "cell_type": "code",
   "execution_count": 104,
   "metadata": {},
   "outputs": [
    {
     "name": "stdout",
     "output_type": "stream",
     "text": [
      "<class 'pandas.core.frame.DataFrame'>\n",
      "RangeIndex: 30471 entries, 0 to 30470\n",
      "Data columns (total 61 columns):\n",
      " #   Column                                 Non-Null Count  Dtype  \n",
      "---  ------                                 --------------  -----  \n",
      " 0   id                                     30471 non-null  int64  \n",
      " 1   full_sq                                30471 non-null  int64  \n",
      " 2   life_sq                                24088 non-null  float64\n",
      " 3   floor                                  30304 non-null  float64\n",
      " 4   sub_area                               30471 non-null  object \n",
      " 5   preschool_quota                        23783 non-null  float64\n",
      " 6   preschool_education_centers_raion      30471 non-null  int64  \n",
      " 7   school_quota                           23786 non-null  float64\n",
      " 8   school_education_centers_raion         30471 non-null  int64  \n",
      " 9   school_education_centers_top_20_raion  30471 non-null  int64  \n",
      " 10  hospital_beds_raion                    16030 non-null  float64\n",
      " 11  healthcare_centers_raion               30471 non-null  int64  \n",
      " 12  university_top_20_raion                30471 non-null  int64  \n",
      " 13  sport_objects_raion                    30471 non-null  int64  \n",
      " 14  additional_education_raion             30471 non-null  int64  \n",
      " 15  culture_objects_top_25_raion           30471 non-null  int64  \n",
      " 16  shopping_centers_raion                 30471 non-null  int64  \n",
      " 17  office_raion                           30471 non-null  int64  \n",
      " 18  oil_chemistry_raion                    30471 non-null  object \n",
      " 19  railroad_terminal_raion                30471 non-null  object \n",
      " 20  nuclear_reactor_raion                  30471 non-null  object \n",
      " 21  metro_min_avto                         30471 non-null  float64\n",
      " 22  metro_km_avto                          30471 non-null  float64\n",
      " 23  metro_min_walk                         30446 non-null  float64\n",
      " 24  metro_km_walk                          30446 non-null  float64\n",
      " 25  kindergarten_km                        30471 non-null  float64\n",
      " 26  school_km                              30471 non-null  float64\n",
      " 27  park_km                                30471 non-null  float64\n",
      " 28  green_zone_km                          30471 non-null  float64\n",
      " 29  industrial_km                          30471 non-null  float64\n",
      " 30  railroad_station_walk_km               30446 non-null  float64\n",
      " 31  railroad_station_walk_min              30446 non-null  float64\n",
      " 32  public_transport_station_km            30471 non-null  float64\n",
      " 33  public_transport_station_min_walk      30471 non-null  float64\n",
      " 34  mkad_km                                30471 non-null  float64\n",
      " 35  ttk_km                                 30471 non-null  float64\n",
      " 36  sadovoe_km                             30471 non-null  float64\n",
      " 37  bulvar_ring_km                         30471 non-null  float64\n",
      " 38  kremlin_km                             30471 non-null  float64\n",
      " 39  big_road1_1line                        30471 non-null  object \n",
      " 40  big_market_km                          30471 non-null  float64\n",
      " 41  market_shop_km                         30471 non-null  float64\n",
      " 42  fitness_km                             30471 non-null  float64\n",
      " 43  swim_pool_km                           30471 non-null  float64\n",
      " 44  ice_rink_km                            30471 non-null  float64\n",
      " 45  stadium_km                             30471 non-null  float64\n",
      " 46  basketball_km                          30471 non-null  float64\n",
      " 47  hospice_morgue_km                      30471 non-null  float64\n",
      " 48  university_km                          30471 non-null  float64\n",
      " 49  workplaces_km                          30471 non-null  float64\n",
      " 50  shopping_centers_km                    30471 non-null  float64\n",
      " 51  office_km                              30471 non-null  float64\n",
      " 52  additional_education_km                30471 non-null  float64\n",
      " 53  preschool_km                           30471 non-null  float64\n",
      " 54  big_church_km                          30471 non-null  float64\n",
      " 55  church_synagogue_km                    30471 non-null  float64\n",
      " 56  theater_km                             30471 non-null  float64\n",
      " 57  museum_km                              30471 non-null  float64\n",
      " 58  ecology                                30471 non-null  object \n",
      " 59  mosque_count_1000                      30471 non-null  int64  \n",
      " 60  price_doc                              30471 non-null  int64  \n",
      "dtypes: float64(41), int64(14), object(6)\n",
      "memory usage: 14.2+ MB\n"
     ]
    }
   ],
   "source": [
    "sber_data.info()"
   ]
  },
  {
   "cell_type": "markdown",
   "metadata": {},
   "source": [
    "Найти пропуски зачастую довольно просто за исключением тех случаев, когда пропуски скрыты.\n",
    "\n",
    "В библиотеке pandas специально для этого реализован метод isnull(). Этот метод возвращает новый DataFrame, в ячейках которого стоят булевы значения True и False. True ставится на месте, где ранее находилось значение NaN.\n",
    "\n",
    "Посмотрим на результат работы метода на нашей таблице:"
   ]
  },
  {
   "cell_type": "code",
   "execution_count": 105,
   "metadata": {},
   "outputs": [
    {
     "data": {
      "text/html": [
       "<div>\n",
       "<style scoped>\n",
       "    .dataframe tbody tr th:only-of-type {\n",
       "        vertical-align: middle;\n",
       "    }\n",
       "\n",
       "    .dataframe tbody tr th {\n",
       "        vertical-align: top;\n",
       "    }\n",
       "\n",
       "    .dataframe thead th {\n",
       "        text-align: right;\n",
       "    }\n",
       "</style>\n",
       "<table border=\"1\" class=\"dataframe\">\n",
       "  <thead>\n",
       "    <tr style=\"text-align: right;\">\n",
       "      <th></th>\n",
       "      <th>id</th>\n",
       "      <th>full_sq</th>\n",
       "      <th>life_sq</th>\n",
       "      <th>floor</th>\n",
       "      <th>sub_area</th>\n",
       "      <th>preschool_quota</th>\n",
       "      <th>preschool_education_centers_raion</th>\n",
       "      <th>school_quota</th>\n",
       "      <th>school_education_centers_raion</th>\n",
       "      <th>school_education_centers_top_20_raion</th>\n",
       "      <th>...</th>\n",
       "      <th>office_km</th>\n",
       "      <th>additional_education_km</th>\n",
       "      <th>preschool_km</th>\n",
       "      <th>big_church_km</th>\n",
       "      <th>church_synagogue_km</th>\n",
       "      <th>theater_km</th>\n",
       "      <th>museum_km</th>\n",
       "      <th>ecology</th>\n",
       "      <th>mosque_count_1000</th>\n",
       "      <th>price_doc</th>\n",
       "    </tr>\n",
       "  </thead>\n",
       "  <tbody>\n",
       "    <tr>\n",
       "      <th>30466</th>\n",
       "      <td>False</td>\n",
       "      <td>False</td>\n",
       "      <td>False</td>\n",
       "      <td>False</td>\n",
       "      <td>False</td>\n",
       "      <td>False</td>\n",
       "      <td>False</td>\n",
       "      <td>False</td>\n",
       "      <td>False</td>\n",
       "      <td>False</td>\n",
       "      <td>...</td>\n",
       "      <td>False</td>\n",
       "      <td>False</td>\n",
       "      <td>False</td>\n",
       "      <td>False</td>\n",
       "      <td>False</td>\n",
       "      <td>False</td>\n",
       "      <td>False</td>\n",
       "      <td>False</td>\n",
       "      <td>False</td>\n",
       "      <td>False</td>\n",
       "    </tr>\n",
       "    <tr>\n",
       "      <th>30467</th>\n",
       "      <td>False</td>\n",
       "      <td>False</td>\n",
       "      <td>False</td>\n",
       "      <td>False</td>\n",
       "      <td>False</td>\n",
       "      <td>False</td>\n",
       "      <td>False</td>\n",
       "      <td>False</td>\n",
       "      <td>False</td>\n",
       "      <td>False</td>\n",
       "      <td>...</td>\n",
       "      <td>False</td>\n",
       "      <td>False</td>\n",
       "      <td>False</td>\n",
       "      <td>False</td>\n",
       "      <td>False</td>\n",
       "      <td>False</td>\n",
       "      <td>False</td>\n",
       "      <td>False</td>\n",
       "      <td>False</td>\n",
       "      <td>False</td>\n",
       "    </tr>\n",
       "    <tr>\n",
       "      <th>30468</th>\n",
       "      <td>False</td>\n",
       "      <td>False</td>\n",
       "      <td>True</td>\n",
       "      <td>False</td>\n",
       "      <td>False</td>\n",
       "      <td>True</td>\n",
       "      <td>False</td>\n",
       "      <td>True</td>\n",
       "      <td>False</td>\n",
       "      <td>False</td>\n",
       "      <td>...</td>\n",
       "      <td>False</td>\n",
       "      <td>False</td>\n",
       "      <td>False</td>\n",
       "      <td>False</td>\n",
       "      <td>False</td>\n",
       "      <td>False</td>\n",
       "      <td>False</td>\n",
       "      <td>False</td>\n",
       "      <td>False</td>\n",
       "      <td>False</td>\n",
       "    </tr>\n",
       "    <tr>\n",
       "      <th>30469</th>\n",
       "      <td>False</td>\n",
       "      <td>False</td>\n",
       "      <td>False</td>\n",
       "      <td>False</td>\n",
       "      <td>False</td>\n",
       "      <td>False</td>\n",
       "      <td>False</td>\n",
       "      <td>False</td>\n",
       "      <td>False</td>\n",
       "      <td>False</td>\n",
       "      <td>...</td>\n",
       "      <td>False</td>\n",
       "      <td>False</td>\n",
       "      <td>False</td>\n",
       "      <td>False</td>\n",
       "      <td>False</td>\n",
       "      <td>False</td>\n",
       "      <td>False</td>\n",
       "      <td>False</td>\n",
       "      <td>False</td>\n",
       "      <td>False</td>\n",
       "    </tr>\n",
       "    <tr>\n",
       "      <th>30470</th>\n",
       "      <td>False</td>\n",
       "      <td>False</td>\n",
       "      <td>False</td>\n",
       "      <td>False</td>\n",
       "      <td>False</td>\n",
       "      <td>False</td>\n",
       "      <td>False</td>\n",
       "      <td>False</td>\n",
       "      <td>False</td>\n",
       "      <td>False</td>\n",
       "      <td>...</td>\n",
       "      <td>False</td>\n",
       "      <td>False</td>\n",
       "      <td>False</td>\n",
       "      <td>False</td>\n",
       "      <td>False</td>\n",
       "      <td>False</td>\n",
       "      <td>False</td>\n",
       "      <td>False</td>\n",
       "      <td>False</td>\n",
       "      <td>False</td>\n",
       "    </tr>\n",
       "  </tbody>\n",
       "</table>\n",
       "<p>5 rows × 61 columns</p>\n",
       "</div>"
      ],
      "text/plain": [
       "          id  full_sq  life_sq  floor  sub_area  preschool_quota  \\\n",
       "30466  False    False    False  False     False            False   \n",
       "30467  False    False    False  False     False            False   \n",
       "30468  False    False     True  False     False             True   \n",
       "30469  False    False    False  False     False            False   \n",
       "30470  False    False    False  False     False            False   \n",
       "\n",
       "       preschool_education_centers_raion  school_quota  \\\n",
       "30466                              False         False   \n",
       "30467                              False         False   \n",
       "30468                              False          True   \n",
       "30469                              False         False   \n",
       "30470                              False         False   \n",
       "\n",
       "       school_education_centers_raion  school_education_centers_top_20_raion  \\\n",
       "30466                           False                                  False   \n",
       "30467                           False                                  False   \n",
       "30468                           False                                  False   \n",
       "30469                           False                                  False   \n",
       "30470                           False                                  False   \n",
       "\n",
       "       ...  office_km  additional_education_km  preschool_km  big_church_km  \\\n",
       "30466  ...      False                    False         False          False   \n",
       "30467  ...      False                    False         False          False   \n",
       "30468  ...      False                    False         False          False   \n",
       "30469  ...      False                    False         False          False   \n",
       "30470  ...      False                    False         False          False   \n",
       "\n",
       "       church_synagogue_km  theater_km  museum_km  ecology  mosque_count_1000  \\\n",
       "30466                False       False      False    False              False   \n",
       "30467                False       False      False    False              False   \n",
       "30468                False       False      False    False              False   \n",
       "30469                False       False      False    False              False   \n",
       "30470                False       False      False    False              False   \n",
       "\n",
       "       price_doc  \n",
       "30466      False  \n",
       "30467      False  \n",
       "30468      False  \n",
       "30469      False  \n",
       "30470      False  \n",
       "\n",
       "[5 rows x 61 columns]"
      ]
     },
     "metadata": {},
     "output_type": "display_data"
    }
   ],
   "source": [
    "display(sber_data.isnull().tail())"
   ]
  },
  {
   "cell_type": "markdown",
   "metadata": {},
   "source": [
    "Из таблицы можно увидеть, где были пропущены значения: ячейки со значением True; ячейки, где стоит False, были изначально заполнены.\n",
    "\n",
    "✍️ Как вы сами понимаете, результат метода isnull() — это, мягко говоря, не самый удобный метод поиска пропусков, однако он является промежуточным этапом других способов, которые мы рассмотрим далее."
   ]
  },
  {
   "cell_type": "markdown",
   "metadata": {},
   "source": [
    "##СПИСОК СТОЛБЦОВ С ПРОПУСКАМИ\n",
    "\n",
    "Первый способ — это вывести на экран названия столбцов, где число пропусков больше 0. \n",
    "\n",
    "Для этого вычислим средний по столбцам результат метода isnull(). Получим долю пропусков в каждом столбце.\n",
    "\n",
    "Умножаем на 100 %, находим столбцы, где доля пропусков больше 0, сортируем по убыванию и выводим результат:"
   ]
  },
  {
   "cell_type": "code",
   "execution_count": 106,
   "metadata": {},
   "outputs": [
    {
     "data": {
      "text/plain": [
       "id                    0.000000\n",
       "full_sq               0.000000\n",
       "life_sq              20.947786\n",
       "floor                 0.548062\n",
       "sub_area              0.000000\n",
       "                       ...    \n",
       "theater_km            0.000000\n",
       "museum_km             0.000000\n",
       "ecology               0.000000\n",
       "mosque_count_1000     0.000000\n",
       "price_doc             0.000000\n",
       "Length: 61, dtype: float64"
      ]
     },
     "execution_count": 106,
     "metadata": {},
     "output_type": "execute_result"
    }
   ],
   "source": [
    "cols_null_percent = sber_data.isnull().mean() * 100\n",
    "cols_null_percent"
   ]
  },
  {
   "cell_type": "code",
   "execution_count": 107,
   "metadata": {},
   "outputs": [
    {
     "data": {
      "text/plain": [
       "hospital_beds_raion          47.392603\n",
       "preschool_quota              21.948738\n",
       "school_quota                 21.938893\n",
       "life_sq                      20.947786\n",
       "floor                         0.548062\n",
       "metro_min_walk                0.082045\n",
       "metro_km_walk                 0.082045\n",
       "railroad_station_walk_km      0.082045\n",
       "railroad_station_walk_min     0.082045\n",
       "dtype: float64"
      ]
     },
     "metadata": {},
     "output_type": "display_data"
    }
   ],
   "source": [
    "cols_with_null = cols_null_percent[cols_null_percent>0].sort_values(ascending=False)\n",
    "display(cols_with_null)"
   ]
  },
  {
   "cell_type": "markdown",
   "metadata": {},
   "source": [
    "Итак, можно увидеть, что у нас большое число пропусков (более 47 %) в столбце hospital_beds_raion (количество больничных коек в округе). \n",
    "\n",
    "Далее у нас идут столбцы с числом пропусков чуть больше 20 %: \n",
    "\n",
    "preschool_quota (число мест в детском саду в районе);\n",
    "school_quota (число мест в школах в районе);\n",
    "life_sq (жилая площадь здания в квадратных метрах). \n",
    "Менее одного процента пропусков содержат признаки:\n",
    "\n",
    "floor (число этажей в доме);\n",
    "metro_min_walk (время от дома до ближайшего метро пешком в минутах);\n",
    "metro_km_walk (расстояние до ближайшего метро в километрах);\n",
    "railroad_station_walk_km (расстояние до ближайшей ж. д. станции в километрах);\n",
    "railroad_station_walk_min (время до ближайшей ж. д. станции пешком в минутах). "
   ]
  },
  {
   "cell_type": "markdown",
   "metadata": {},
   "source": [
    "Эти соотношения дают базовое понимание, какие дальнейшие преобразования со столбцами предстоит производить. Например, уже сейчас ясно, что столбец, в котором почти половина данных пропущена, не может дать нам полезной информации при прогнозировании. Если мы попытаемся его как-то исправить, мы можем только навредить и «нафантазировать» лишнего, поэтому от него, возможно, стоит избавиться. А вот столбцы с менее 1 % пропусков легко можно скорректировать: заполнить отсутствующие значения какими-то числами."
   ]
  },
  {
   "attachments": {},
   "cell_type": "markdown",
   "metadata": {},
   "source": [
    "## СТОЛБЧАТАЯ ДИАГРАММА ПРОПУСКОВ\n",
    "\n",
    "Иногда столбцов с пропусками становится слишком много и прочитать информацию о них из списка признаков с цифрами становится слишком затруднительно — цифры начинают сливаться воедино. \n",
    "\n",
    "Можно воспользоваться столбчатой диаграммой, чтобы визуально оценить соотношение числа пропусков к числу записей. Самый быстрый способ построить её — использовать метод plot():"
   ]
  },
  {
   "cell_type": "code",
   "execution_count": 108,
   "metadata": {},
   "outputs": [
    {
     "data": {
      "image/png": "[encoded data removed]",
      "text/plain": [
       "<Figure size 720x288 with 1 Axes>"
      ]
     },
     "metadata": {
      "needs_background": "light"
     },
     "output_type": "display_data"
    }
   ],
   "source": [
    "cols_with_null.plot(\n",
    "    kind='bar',\n",
    "    figsize=(10, 4),\n",
    "    title='Распределение пропусков в данных'\n",
    ");"
   ]
  },
  {
   "cell_type": "markdown",
   "metadata": {},
   "source": [
    "На диаграмме мы видим те же соотношения, что и раньше, но представленные в удобном для визуального восприятия формате. Из неё отчётливо видно, что число пропусков в столбце hospital_beds_raion превышает 45 %. Также мы видим признаки с числом пропусков близ 0."
   ]
  },
  {
   "attachments": {},
   "cell_type": "markdown",
   "metadata": {},
   "source": [
    "## ТЕПЛОВАЯ КАРТА ПРОПУСКОВ \n",
    "\n",
    "Ещё один распространённый способ визуализации пропусков — тепловая карта. \n",
    "\n",
    "Её часто используют, когда столбцов с пропусками не так много (меньше 10). Она позволяет понять не только соотношение пропусков в данных, но и их характерное местоположение в таблице. \n",
    "\n",
    "Для создания такой тепловой карты можно воспользоваться результатом метода isnull(). Ячейки таблицы, в которых есть пропуск, будем отмечать жёлтым цветом, а остальные — синим. Для этого создадим собственную палитру цветов тепловой карты с помощью метода color_pallete() из библиотеки seaborn."
   ]
  },
  {
   "cell_type": "code",
   "execution_count": 109,
   "metadata": {},
   "outputs": [
    {
     "data": {
      "image/png": "[encoded data removed]",
      "text/plain": [
       "<Figure size 720x288 with 2 Axes>"
      ]
     },
     "metadata": {
      "needs_background": "light"
     },
     "output_type": "display_data"
    }
   ],
   "source": [
    "colors = ['blue', 'yellow'] \n",
    "fig = plt.figure(figsize=(10, 4))\n",
    "cols = cols_with_null.index\n",
    "ax = sns.heatmap(\n",
    "    sber_data[cols].isnull(),\n",
    "    cmap=sns.color_palette(colors),\n",
    ")"
   ]
  },
  {
   "cell_type": "markdown",
   "metadata": {},
   "source": [
    "На полученной тепловой карте мы не видим чётких процентных соотношений для числа пропусков в данных, однако мы можем увидеть места их концентрации в таблице. Например, видно, что признаки preschool_quota и school_quota очень сильно связаны друг с другом по части пропусков: во всех записях, где хотя бы один не определён, не указан и второй (жёлтые линии для двух этих признаков полностью совпадают друг с другом)."
   ]
  },
  {
   "attachments": {},
   "cell_type": "markdown",
   "metadata": {},
   "source": [
    "# Работа с пропусками: методы обработки"
   ]
  },
  {
   "attachments": {},
   "cell_type": "markdown",
   "metadata": {},
   "source": [
    "## МЕТОДЫ ОБРАБОТКИ ПРОПУЩЕННЫХ ЗНАЧЕНИЙ\n",
    "\n",
    "Наибольшая сложность в очистке данных от пропусков заключается в выборе метода их обработки. Все методы, которые мы рассмотрим, по сути являются простыми эвристиками, без математического обоснования. \n",
    "\n",
    "Не существует общего решения проблемы с отсутствующими данными. Для каждого конкретного случая приходится подбирать наиболее подходящие методы или их комбинации. При этом каждая модель уникальна и часто предполагает случайность, поэтому невозможно предсказать заранее, какая комбинация методов сработает на ваших данных лучше всего.\n",
    "\n",
    "Однако не стоит расстраиваться! Мы рассмотрим главные рекомендации по методам, которые позволят вам работать с пропусками, как минимум, не испортив ваши данные."
   ]
  },
  {
   "attachments": {},
   "cell_type": "markdown",
   "metadata": {},
   "source": [
    "## ОТБРАСЫВАНИЕ ЗАПИСЕЙ И ПРИЗНАКОВ\n",
    "\n",
    "Первая техника — самая простая из всех. Она предполагает простое удаление записей или признаков, в которых содержатся пропуски. \n",
    "\n",
    "Здесь важно правильно выбрать ось удаления: если мы избавимся от большого числа строк, то рискуем потерять важные данные, а если мы удалим столбцы, то можем потерять важные признаки."
   ]
  },
  {
   "cell_type": "markdown",
   "metadata": {},
   "source": [
    "Прежде всего порассуждаем логически: в столбце hospital_beds_raion более 47 % пропусков. Если мы будем удалять все строки, в которых этот признак пропущен, мы потеряем почти половину наших данных! \n",
    "\n",
    "Правильнее будет просто удалить столбец, ведь число мест в районных больницах — это не самый информативный признак для определения цены квартиры.\n",
    "\n",
    "А вот если мы удалим весь столбец metro_km_walk, где менее 1 % пропусков, то потеряем полезный признак при формировании прогноза цены, ведь расстояние до ближайшего метро — это важный фактор при выборе квартиры. В данном случае лучше будет удалить сами записи."
   ]
  },
  {
   "cell_type": "markdown",
   "metadata": {},
   "source": [
    ">Специалисты рекомендуют при использовании метода удаления придерживаться следующих правил: удаляйте столбец, если число пропусков в нем более 30-40 %. В остальных случаях лучше удалять записи.\n",
    "\n",
    "Для удаления строк и столбцов будем использовать метод dropna(), который позволяет удалять пропуски с тонким подходом к настройке. \n",
    "\n",
    "Основные параметры метода:\n",
    "\n",
    "* axis — ось, по которой производится удаление (по умолчанию 0 — строки).  \n",
    "* how — как производится удаление строк (any — если хотя бы в одном из столбцов есть пропуск, стоит по умолчанию; all — если во всех столбцах есть пропуски).   \n",
    "* thresh — порог удаления. Определяет минимальное число непустых значений в строке/столбце, при котором она/он сохраняется.    Например, если мы установим thresh в значение 2, то мы удалим строки, где число пропусков  и более, где  — число признаков.\n",
    "* subset — список признаков, по которым производится поиск"
   ]
  },
  {
   "cell_type": "markdown",
   "metadata": {},
   "source": [
    "Предварительно создадим копию исходной таблицы — drop_data, чтобы не повредить её. Зададимся порогом в 70 %: будем оставлять только те столбцы, в которых 70 и более процентов записей не являются пустыми . После этого удалим записи, в которых содержится хотя бы один пропуск. Наконец, выведем информацию о числе пропусков и наслаждаемся нулями."
   ]
  },
  {
   "cell_type": "code",
   "execution_count": 110,
   "metadata": {},
   "outputs": [
    {
     "data": {
      "text/plain": [
       "id                                       0.0\n",
       "full_sq                                  0.0\n",
       "life_sq                                  0.0\n",
       "floor                                    0.0\n",
       "sub_area                                 0.0\n",
       "preschool_quota                          0.0\n",
       "preschool_education_centers_raion        0.0\n",
       "school_quota                             0.0\n",
       "school_education_centers_raion           0.0\n",
       "school_education_centers_top_20_raion    0.0\n",
       "healthcare_centers_raion                 0.0\n",
       "university_top_20_raion                  0.0\n",
       "sport_objects_raion                      0.0\n",
       "additional_education_raion               0.0\n",
       "culture_objects_top_25_raion             0.0\n",
       "shopping_centers_raion                   0.0\n",
       "office_raion                             0.0\n",
       "oil_chemistry_raion                      0.0\n",
       "railroad_terminal_raion                  0.0\n",
       "nuclear_reactor_raion                    0.0\n",
       "metro_min_avto                           0.0\n",
       "metro_km_avto                            0.0\n",
       "metro_min_walk                           0.0\n",
       "metro_km_walk                            0.0\n",
       "kindergarten_km                          0.0\n",
       "school_km                                0.0\n",
       "park_km                                  0.0\n",
       "green_zone_km                            0.0\n",
       "industrial_km                            0.0\n",
       "railroad_station_walk_km                 0.0\n",
       "railroad_station_walk_min                0.0\n",
       "public_transport_station_km              0.0\n",
       "public_transport_station_min_walk        0.0\n",
       "mkad_km                                  0.0\n",
       "ttk_km                                   0.0\n",
       "sadovoe_km                               0.0\n",
       "bulvar_ring_km                           0.0\n",
       "kremlin_km                               0.0\n",
       "big_road1_1line                          0.0\n",
       "big_market_km                            0.0\n",
       "market_shop_km                           0.0\n",
       "fitness_km                               0.0\n",
       "swim_pool_km                             0.0\n",
       "ice_rink_km                              0.0\n",
       "stadium_km                               0.0\n",
       "basketball_km                            0.0\n",
       "hospice_morgue_km                        0.0\n",
       "university_km                            0.0\n",
       "workplaces_km                            0.0\n",
       "shopping_centers_km                      0.0\n",
       "office_km                                0.0\n",
       "additional_education_km                  0.0\n",
       "preschool_km                             0.0\n",
       "big_church_km                            0.0\n",
       "church_synagogue_km                      0.0\n",
       "theater_km                               0.0\n",
       "museum_km                                0.0\n",
       "ecology                                  0.0\n",
       "mosque_count_1000                        0.0\n",
       "price_doc                                0.0\n",
       "dtype: float64"
      ]
     },
     "execution_count": 110,
     "metadata": {},
     "output_type": "execute_result"
    }
   ],
   "source": [
    "#создаем копию исходной таблицы\n",
    "drop_data = sber_data.copy()\n",
    "#задаем минимальный порог: вычисляем 70% от числа строк\n",
    "thresh = drop_data.shape[0]*0.7\n",
    "#удаляем столбцы, в которых более 30% (100-70) пропусков\n",
    "drop_data = drop_data.dropna(how='any', thresh=thresh, axis=1)\n",
    "#удаляем записи, в которых есть хотя бы 1 пропуск\n",
    "drop_data = drop_data.dropna(how='any', axis=0)\n",
    "#отображаем результирующую долю пропусков\n",
    "drop_data.isnull().mean()"
   ]
  },
  {
   "cell_type": "markdown",
   "metadata": {},
   "source": [
    "Посмотрим на результирующее число записей:\n",
    "\n"
   ]
  },
  {
   "cell_type": "code",
   "execution_count": 111,
   "metadata": {},
   "outputs": [
    {
     "name": "stdout",
     "output_type": "stream",
     "text": [
      "(20888, 60)\n"
     ]
    }
   ],
   "source": [
    "print(drop_data.shape)"
   ]
  },
  {
   "cell_type": "markdown",
   "metadata": {},
   "source": [
    "Итак, мы удалили один столбец и ⅓ всех записей для того, чтобы избавиться от пропусков. Не слишком ли это много и что с этим можно сделать?"
   ]
  },
  {
   "attachments": {},
   "cell_type": "markdown",
   "metadata": {},
   "source": [
    "## ЗАПОЛНЕНИЕ НЕДОСТАЮЩИХ ЗНАЧЕНИЙ КОНСТАНТАМИ\n",
    "\n",
    "Чтобы дырявая бочка не протекала, вставьте в дырку пробку. С этой мыслью связан другой способ бороться с пропусками — заполнение константами. \n",
    "\n",
    "Чаще всего пустые места заполняют средним/медианой/модой для числовых признаков и модальным значением для категориальных признаков. "
   ]
  },
  {
   "cell_type": "markdown",
   "metadata": {},
   "source": [
    "Вся сложность заключается в выборе метода заполнения. Важным фактором при выборе метода является распределение признаков с пропусками. Давайте выведем их на экран. \n",
    "\n",
    "В pandas это можно сделать с помощью метода hist():"
   ]
  },
  {
   "cell_type": "code",
   "execution_count": 112,
   "metadata": {},
   "outputs": [
    {
     "data": {
      "image/png": "[encoded data removed]",
      "text/plain": [
       "<Figure size 1440x576 with 9 Axes>"
      ]
     },
     "metadata": {
      "needs_background": "light"
     },
     "output_type": "display_data"
    }
   ],
   "source": [
    "cols = cols_with_null.index\n",
    "sber_data[cols].hist(figsize=(20, 8));"
   ]
  },
  {
   "cell_type": "markdown",
   "metadata": {},
   "source": [
    "Итак, рассмотрим несколько рекомендаций.\n",
    "\n",
    "Для распределений, похожих на логнормальное, где пик близ нуля, а далее наблюдается постепенный спад частоты, высока вероятность наличия выбросов (о них мы поговорим чуть позже). Математически доказывается, что среднее очень чувствительно к выбросам, а вот медиана — нет. Поэтому предпочтительнее использовать медианное значение для таких признаков.  \n",
    "Если признак числовой и дискретный (например, число этажей, школьная квота), то их заполнение средним/медианой является ошибочным, так как может получиться число, которое не может являться значением этого признака. Например, количество этажей — целочисленный признак, а расчёт среднего может дать 2.871. Поэтому такой признак заполняют либо модой, либо округляют до целого числа (или нужного количества знаков после запятой) среднее/медиану.  \n",
    "Категориальные признаки заполняются либо модальным значением, либо, если вы хотите оставить информацию о пропуске в данных, значением 'unknown'. На наше счастье, пропусков в категориях у нас нет.\n",
    "Иногда в данных бывает такой признак, основываясь на котором, можно заполнить пропуски в другом. Например, в наших данных есть признак full_sq (общая площадь квартиры). Давайте исходить из предположения, что, если жилая площадь (life_sq) неизвестна, то она будет равна суммарной площади!"
   ]
  },
  {
   "cell_type": "markdown",
   "metadata": {},
   "source": [
    "Заполнение значений осуществляется с помощью метода fillna(). Главный параметр метода — value (значение, на которое происходит заполнение данных в столбце). Если метод вызывается от имени всего DataFrame, то в качестве value можно использовать словарь, где ключи — названия столбцов таблицы, а значения словаря — заполняющие константы. \n",
    "\n",
    "Создадим такой словарь, соблюдая рекомендации, приведённые выше, а также копию исходной таблицы. Произведём операцию заполнения с помощью метода fillna() и удостоверимся, что пропусков в данных больше нет:"
   ]
  },
  {
   "cell_type": "code",
   "execution_count": 113,
   "metadata": {},
   "outputs": [
    {
     "data": {
      "text/plain": [
       "id                   0.0\n",
       "full_sq              0.0\n",
       "life_sq              0.0\n",
       "floor                0.0\n",
       "sub_area             0.0\n",
       "                    ... \n",
       "theater_km           0.0\n",
       "museum_km            0.0\n",
       "ecology              0.0\n",
       "mosque_count_1000    0.0\n",
       "price_doc            0.0\n",
       "Length: 61, dtype: float64"
      ]
     },
     "execution_count": 113,
     "metadata": {},
     "output_type": "execute_result"
    }
   ],
   "source": [
    "#создаем копию исходной таблицы\n",
    "fill_data = sber_data.copy()\n",
    "#создаем словарь имя столбца: число(признак) на который надо заменить пропуски\n",
    "values = {\n",
    "    'life_sq': fill_data['full_sq'],\n",
    "    'metro_min_walk': fill_data['metro_min_walk'].median(),\n",
    "    'metro_km_walk': fill_data['metro_km_walk'].median(),\n",
    "    'railroad_station_walk_km': fill_data['railroad_station_walk_km'].median(),\n",
    "    'railroad_station_walk_min': fill_data['railroad_station_walk_min'].median(),\n",
    "    'hospital_beds_raion': fill_data['hospital_beds_raion'].mode()[0],\n",
    "    'preschool_quota': fill_data['preschool_quota'].mode()[0],\n",
    "    'school_quota': fill_data['school_quota'].mode()[0],\n",
    "    'floor': fill_data['floor'].mode()[0]\n",
    "}\n",
    "#заполняем пропуски в соответствии с заявленным словарем\n",
    "fill_data = fill_data.fillna(values)\n",
    "#выводим результирующую долю пропусков\n",
    "fill_data.isnull().mean()"
   ]
  },
  {
   "cell_type": "markdown",
   "metadata": {},
   "source": [
    "Посмотрим, на то, как изменились распределения наших признаков:"
   ]
  },
  {
   "cell_type": "code",
   "execution_count": 114,
   "metadata": {},
   "outputs": [
    {
     "data": {
      "image/png": "[encoded data removed]",
      "text/plain": [
       "<Figure size 1440x576 with 9 Axes>"
      ]
     },
     "metadata": {
      "needs_background": "light"
     },
     "output_type": "display_data"
    }
   ],
   "source": [
    "cols = cols_with_null.index\n",
    "fill_data[cols].hist(figsize=(20, 8));"
   ]
  },
  {
   "cell_type": "markdown",
   "metadata": {},
   "source": [
    ">Обратите внимание на то, как сильно изменилось распределение для признака hospital_beds_raion. Это связано с тем, что мы заполнили модальным значением почти 47 % общих данных. В результате мы кардинально исказили исходное распределение признака, что может плохо сказаться на модели."
   ]
  },
  {
   "cell_type": "markdown",
   "metadata": {},
   "source": [
    "Недостаток метода заполнения константой состоит в том, что мы можем «нафантазировать» новые данные, которые не учитывают истинного распределения."
   ]
  },
  {
   "attachments": {},
   "cell_type": "markdown",
   "metadata": {},
   "source": [
    "## ЗАПОЛНЕНИЕ НЕДОСТАЮЩИХ ЗНАЧЕНИЙ КОНСТАНТАМИ С ДОБАВЛЕНИЕМ ИНДИКАТОРА\n",
    "\n",
    "Если мы используем заполнение пропусков константами, может быть, имеет смысл сказать модели о том, что на этом месте был пропуск? \n",
    "\n",
    "Давайте добавим к нашим данным признаки-индикаторы, которые будут сигнализировать о том, что в столбце на определённом месте в таблице был пропуск. Это место в столбце-индикаторе будем помечать как True. \n",
    "\n",
    "Эта эвристика пытается снизить влияние искажения признака, указав модели на места, где мы «нафантазировали» данные."
   ]
  },
  {
   "cell_type": "markdown",
   "metadata": {},
   "source": [
    "Посмотрим на реализацию. Как обычно, создадим копию indicator_data исходной таблицы. В цикле пройдёмся по столбцам с пропусками и будем добавлять в таблицу новый признак (с припиской \"was_null\"), который получается из исходного с помощью применения метода isnull(). После чего произведём обычное заполнение пропусков, которое мы совершали ранее, и выведем на экран число отсутствующих значений в столбце, чтобы убедиться в результате:"
   ]
  },
  {
   "cell_type": "code",
   "execution_count": 115,
   "metadata": {},
   "outputs": [
    {
     "data": {
      "text/plain": [
       "id                                    0.0\n",
       "full_sq                               0.0\n",
       "life_sq                               0.0\n",
       "floor                                 0.0\n",
       "sub_area                              0.0\n",
       "                                     ... \n",
       "floor_was_null                        0.0\n",
       "metro_min_walk_was_null               0.0\n",
       "metro_km_walk_was_null                0.0\n",
       "railroad_station_walk_km_was_null     0.0\n",
       "railroad_station_walk_min_was_null    0.0\n",
       "Length: 70, dtype: float64"
      ]
     },
     "execution_count": 115,
     "metadata": {},
     "output_type": "execute_result"
    }
   ],
   "source": [
    "#создаем копию исходной таблицы\n",
    "indicator_data = sber_data.copy()\n",
    "#в цикле пробегаемся по названиям столбцов с пропусками\n",
    "for col in cols_with_null.index:\n",
    "    #создаем новый признак-индикатор как col_was_null\n",
    "    indicator_data[col + '_was_null'] = indicator_data[col].isnull()\n",
    "#создаем словарь имя столбца: число(признак) на который надо заменить пропуски   \n",
    "values = {\n",
    "    'life_sq': indicator_data['full_sq'],\n",
    "    'metro_min_walk': indicator_data['metro_min_walk'].median(),\n",
    "    'metro_km_walk': indicator_data['metro_km_walk'].median(),\n",
    "    'railroad_station_walk_km': indicator_data['railroad_station_walk_km'].median(),\n",
    "    'railroad_station_walk_min': indicator_data['railroad_station_walk_min'].median(),\n",
    "    'hospital_beds_raion': indicator_data['hospital_beds_raion'].mode()[0],\n",
    "    'preschool_quota': indicator_data['preschool_quota'].mode()[0],\n",
    "    'school_quota': indicator_data['school_quota'].mode()[0],\n",
    "    'floor': indicator_data['floor'].mode()[0]\n",
    "}\n",
    "#заполняем пропуски в соответствии с заявленным словарем\n",
    "indicator_data = indicator_data.fillna(values)\n",
    "#выводим результирующую долю пропусков\n",
    "indicator_data.isnull().mean()"
   ]
  },
  {
   "cell_type": "markdown",
   "metadata": {},
   "source": [
    "Чтобы убедиться в добавлении признаков-индикаторов, выведем первые пять строк таблицы:"
   ]
  },
  {
   "cell_type": "code",
   "execution_count": 116,
   "metadata": {},
   "outputs": [
    {
     "data": {
      "text/html": [
       "<div>\n",
       "<style scoped>\n",
       "    .dataframe tbody tr th:only-of-type {\n",
       "        vertical-align: middle;\n",
       "    }\n",
       "\n",
       "    .dataframe tbody tr th {\n",
       "        vertical-align: top;\n",
       "    }\n",
       "\n",
       "    .dataframe thead th {\n",
       "        text-align: right;\n",
       "    }\n",
       "</style>\n",
       "<table border=\"1\" class=\"dataframe\">\n",
       "  <thead>\n",
       "    <tr style=\"text-align: right;\">\n",
       "      <th></th>\n",
       "      <th>id</th>\n",
       "      <th>full_sq</th>\n",
       "      <th>life_sq</th>\n",
       "      <th>floor</th>\n",
       "      <th>sub_area</th>\n",
       "      <th>preschool_quota</th>\n",
       "      <th>preschool_education_centers_raion</th>\n",
       "      <th>school_quota</th>\n",
       "      <th>school_education_centers_raion</th>\n",
       "      <th>school_education_centers_top_20_raion</th>\n",
       "      <th>...</th>\n",
       "      <th>price_doc</th>\n",
       "      <th>hospital_beds_raion_was_null</th>\n",
       "      <th>preschool_quota_was_null</th>\n",
       "      <th>school_quota_was_null</th>\n",
       "      <th>life_sq_was_null</th>\n",
       "      <th>floor_was_null</th>\n",
       "      <th>metro_min_walk_was_null</th>\n",
       "      <th>metro_km_walk_was_null</th>\n",
       "      <th>railroad_station_walk_km_was_null</th>\n",
       "      <th>railroad_station_walk_min_was_null</th>\n",
       "    </tr>\n",
       "  </thead>\n",
       "  <tbody>\n",
       "    <tr>\n",
       "      <th>0</th>\n",
       "      <td>1</td>\n",
       "      <td>43</td>\n",
       "      <td>27.0</td>\n",
       "      <td>4.0</td>\n",
       "      <td>Bibirevo</td>\n",
       "      <td>5001.0</td>\n",
       "      <td>5</td>\n",
       "      <td>11065.0</td>\n",
       "      <td>5</td>\n",
       "      <td>0</td>\n",
       "      <td>...</td>\n",
       "      <td>5850000</td>\n",
       "      <td>False</td>\n",
       "      <td>False</td>\n",
       "      <td>False</td>\n",
       "      <td>False</td>\n",
       "      <td>False</td>\n",
       "      <td>False</td>\n",
       "      <td>False</td>\n",
       "      <td>False</td>\n",
       "      <td>False</td>\n",
       "    </tr>\n",
       "    <tr>\n",
       "      <th>1</th>\n",
       "      <td>2</td>\n",
       "      <td>34</td>\n",
       "      <td>19.0</td>\n",
       "      <td>3.0</td>\n",
       "      <td>Nagatinskij Zaton</td>\n",
       "      <td>3119.0</td>\n",
       "      <td>5</td>\n",
       "      <td>6237.0</td>\n",
       "      <td>8</td>\n",
       "      <td>0</td>\n",
       "      <td>...</td>\n",
       "      <td>6000000</td>\n",
       "      <td>False</td>\n",
       "      <td>False</td>\n",
       "      <td>False</td>\n",
       "      <td>False</td>\n",
       "      <td>False</td>\n",
       "      <td>False</td>\n",
       "      <td>False</td>\n",
       "      <td>False</td>\n",
       "      <td>False</td>\n",
       "    </tr>\n",
       "    <tr>\n",
       "      <th>2</th>\n",
       "      <td>3</td>\n",
       "      <td>43</td>\n",
       "      <td>29.0</td>\n",
       "      <td>2.0</td>\n",
       "      <td>Tekstil'shhiki</td>\n",
       "      <td>1463.0</td>\n",
       "      <td>4</td>\n",
       "      <td>5580.0</td>\n",
       "      <td>7</td>\n",
       "      <td>0</td>\n",
       "      <td>...</td>\n",
       "      <td>5700000</td>\n",
       "      <td>False</td>\n",
       "      <td>False</td>\n",
       "      <td>False</td>\n",
       "      <td>False</td>\n",
       "      <td>False</td>\n",
       "      <td>False</td>\n",
       "      <td>False</td>\n",
       "      <td>False</td>\n",
       "      <td>False</td>\n",
       "    </tr>\n",
       "    <tr>\n",
       "      <th>3</th>\n",
       "      <td>4</td>\n",
       "      <td>89</td>\n",
       "      <td>50.0</td>\n",
       "      <td>9.0</td>\n",
       "      <td>Mitino</td>\n",
       "      <td>6839.0</td>\n",
       "      <td>9</td>\n",
       "      <td>17063.0</td>\n",
       "      <td>10</td>\n",
       "      <td>0</td>\n",
       "      <td>...</td>\n",
       "      <td>13100000</td>\n",
       "      <td>True</td>\n",
       "      <td>False</td>\n",
       "      <td>False</td>\n",
       "      <td>False</td>\n",
       "      <td>False</td>\n",
       "      <td>False</td>\n",
       "      <td>False</td>\n",
       "      <td>False</td>\n",
       "      <td>False</td>\n",
       "    </tr>\n",
       "    <tr>\n",
       "      <th>4</th>\n",
       "      <td>5</td>\n",
       "      <td>77</td>\n",
       "      <td>77.0</td>\n",
       "      <td>4.0</td>\n",
       "      <td>Basmannoe</td>\n",
       "      <td>3240.0</td>\n",
       "      <td>7</td>\n",
       "      <td>7770.0</td>\n",
       "      <td>9</td>\n",
       "      <td>0</td>\n",
       "      <td>...</td>\n",
       "      <td>16331452</td>\n",
       "      <td>False</td>\n",
       "      <td>False</td>\n",
       "      <td>False</td>\n",
       "      <td>False</td>\n",
       "      <td>False</td>\n",
       "      <td>False</td>\n",
       "      <td>False</td>\n",
       "      <td>False</td>\n",
       "      <td>False</td>\n",
       "    </tr>\n",
       "  </tbody>\n",
       "</table>\n",
       "<p>5 rows × 70 columns</p>\n",
       "</div>"
      ],
      "text/plain": [
       "   id  full_sq  life_sq  floor           sub_area  preschool_quota  \\\n",
       "0   1       43     27.0    4.0           Bibirevo           5001.0   \n",
       "1   2       34     19.0    3.0  Nagatinskij Zaton           3119.0   \n",
       "2   3       43     29.0    2.0     Tekstil'shhiki           1463.0   \n",
       "3   4       89     50.0    9.0             Mitino           6839.0   \n",
       "4   5       77     77.0    4.0          Basmannoe           3240.0   \n",
       "\n",
       "   preschool_education_centers_raion  school_quota  \\\n",
       "0                                  5       11065.0   \n",
       "1                                  5        6237.0   \n",
       "2                                  4        5580.0   \n",
       "3                                  9       17063.0   \n",
       "4                                  7        7770.0   \n",
       "\n",
       "   school_education_centers_raion  school_education_centers_top_20_raion  ...  \\\n",
       "0                               5                                      0  ...   \n",
       "1                               8                                      0  ...   \n",
       "2                               7                                      0  ...   \n",
       "3                              10                                      0  ...   \n",
       "4                               9                                      0  ...   \n",
       "\n",
       "   price_doc  hospital_beds_raion_was_null  preschool_quota_was_null  \\\n",
       "0    5850000                         False                     False   \n",
       "1    6000000                         False                     False   \n",
       "2    5700000                         False                     False   \n",
       "3   13100000                          True                     False   \n",
       "4   16331452                         False                     False   \n",
       "\n",
       "   school_quota_was_null  life_sq_was_null  floor_was_null  \\\n",
       "0                  False             False           False   \n",
       "1                  False             False           False   \n",
       "2                  False             False           False   \n",
       "3                  False             False           False   \n",
       "4                  False             False           False   \n",
       "\n",
       "   metro_min_walk_was_null  metro_km_walk_was_null  \\\n",
       "0                    False                   False   \n",
       "1                    False                   False   \n",
       "2                    False                   False   \n",
       "3                    False                   False   \n",
       "4                    False                   False   \n",
       "\n",
       "  railroad_station_walk_km_was_null railroad_station_walk_min_was_null  \n",
       "0                             False                              False  \n",
       "1                             False                              False  \n",
       "2                             False                              False  \n",
       "3                             False                              False  \n",
       "4                             False                              False  \n",
       "\n",
       "[5 rows x 70 columns]"
      ]
     },
     "execution_count": 116,
     "metadata": {},
     "output_type": "execute_result"
    }
   ],
   "source": [
    "indicator_data.head()"
   ]
  },
  {
   "cell_type": "markdown",
   "metadata": {},
   "source": [
    "Метод исходит из предположения, что, если дать модели информацию о том, что в ячейке ранее была пустота, то она будет меньше доверять таким записям и меньше учитывать её в процессе обучения. Иногда такие фишки действительно работают, иногда не дают эффекта, а иногда и вовсе могут ухудшить результат обучения и затруднить процесс обучения."
   ]
  },
  {
   "cell_type": "markdown",
   "metadata": {},
   "source": [
    "Когда мы добавляем признаки-индикаторы, мы повышаем размерность наших данных. Теперь представьте, что столбцов с пропусками сотня, по паре штук в каждом. \n",
    "\n",
    "Не нужно знать высшую математику, чтобы понять, что в таком случае мы увеличим размерность исходной таблицы ещё на сотню и 99 % строк этих столбцов будут заполнены нулями (False). При увеличении размерности в данных время обучения некоторых моделей растет экспоненциально — увеличив число признаков в два раза, вы увеличите время обучения в 7.38 раза! И при этом, возможно, даже не получите прироста в качестве. \n",
    "\n",
    "Более того, существует такое понятие, как проклятие размерности. Когда мы с вами будем обучать модели, мы будем искать глобальный минимум некоторой функции потерь. Размерность этой функции определяется числом признаков, на которых мы обучаем алгоритм. "
   ]
  },
  {
   "cell_type": "markdown",
   "metadata": {},
   "source": [
    "Проклятие размерности гласит, что, увеличивая размерность функции, мы повышаем сложность поиска этого минимума и рискуем вовсе не найти его! Об этом страшном проклятии мы ещё будем говорить в курсе по ML и даже попробуем его победить. Но об этом чуть позже.\n",
    "\n",
    "Однако, несмотря на свои недостатки, этот метод кажется наиболее логичным из предложенных ранее и часто используется в очистке данных."
   ]
  },
  {
   "attachments": {},
   "cell_type": "markdown",
   "metadata": {},
   "source": [
    "## КОМБИНИРОВАНИЕ МЕТОДОВ\n",
    "\n",
    "Наверняка вы уже догадались, что необязательно использовать один метод. Вы можете их комбинировать. Например, мы можем:\n",
    "\n",
    "удалить столбцы, в которых более 30 % пропусков;\n",
    "удалить записи, в которых более двух пропусков одновременно;\n",
    "заполнить оставшиеся ячейки константами.\n",
    "Посмотрим на реализацию такого подхода в коде:"
   ]
  },
  {
   "cell_type": "code",
   "execution_count": 117,
   "metadata": {},
   "outputs": [
    {
     "data": {
      "text/plain": [
       "id                                       0.0\n",
       "full_sq                                  0.0\n",
       "life_sq                                  0.0\n",
       "floor                                    0.0\n",
       "sub_area                                 0.0\n",
       "preschool_quota                          0.0\n",
       "preschool_education_centers_raion        0.0\n",
       "school_quota                             0.0\n",
       "school_education_centers_raion           0.0\n",
       "school_education_centers_top_20_raion    0.0\n",
       "healthcare_centers_raion                 0.0\n",
       "university_top_20_raion                  0.0\n",
       "sport_objects_raion                      0.0\n",
       "additional_education_raion               0.0\n",
       "culture_objects_top_25_raion             0.0\n",
       "shopping_centers_raion                   0.0\n",
       "office_raion                             0.0\n",
       "oil_chemistry_raion                      0.0\n",
       "railroad_terminal_raion                  0.0\n",
       "nuclear_reactor_raion                    0.0\n",
       "metro_min_avto                           0.0\n",
       "metro_km_avto                            0.0\n",
       "metro_min_walk                           0.0\n",
       "metro_km_walk                            0.0\n",
       "kindergarten_km                          0.0\n",
       "school_km                                0.0\n",
       "park_km                                  0.0\n",
       "green_zone_km                            0.0\n",
       "industrial_km                            0.0\n",
       "railroad_station_walk_km                 0.0\n",
       "railroad_station_walk_min                0.0\n",
       "public_transport_station_km              0.0\n",
       "public_transport_station_min_walk        0.0\n",
       "mkad_km                                  0.0\n",
       "ttk_km                                   0.0\n",
       "sadovoe_km                               0.0\n",
       "bulvar_ring_km                           0.0\n",
       "kremlin_km                               0.0\n",
       "big_road1_1line                          0.0\n",
       "big_market_km                            0.0\n",
       "market_shop_km                           0.0\n",
       "fitness_km                               0.0\n",
       "swim_pool_km                             0.0\n",
       "ice_rink_km                              0.0\n",
       "stadium_km                               0.0\n",
       "basketball_km                            0.0\n",
       "hospice_morgue_km                        0.0\n",
       "university_km                            0.0\n",
       "workplaces_km                            0.0\n",
       "shopping_centers_km                      0.0\n",
       "office_km                                0.0\n",
       "additional_education_km                  0.0\n",
       "preschool_km                             0.0\n",
       "big_church_km                            0.0\n",
       "church_synagogue_km                      0.0\n",
       "theater_km                               0.0\n",
       "museum_km                                0.0\n",
       "ecology                                  0.0\n",
       "mosque_count_1000                        0.0\n",
       "price_doc                                0.0\n",
       "dtype: float64"
      ]
     },
     "metadata": {},
     "output_type": "display_data"
    }
   ],
   "source": [
    "#создаём копию исходной таблицы\n",
    "combine_data = sber_data.copy()\n",
    "\n",
    "#отбрасываем столбцы с числом пропусков более 30% (100-70)\n",
    "n = combine_data.shape[0] #число строк в таблице\n",
    "thresh = n*0.7\n",
    "combine_data = combine_data.dropna(how='any', thresh=thresh, axis=1)\n",
    "\n",
    "#отбрасываем строки с числом пропусков более 2 в строке\n",
    "m = combine_data.shape[1] #число признаков после удаления столбцов\n",
    "combine_data = combine_data.dropna(how='any', thresh=m-2, axis=0)\n",
    "\n",
    "#создаём словарь 'имя_столбца': число (признак), на который надо заменить пропуски \n",
    "values = {\n",
    "    'life_sq': combine_data['full_sq'],\n",
    "    'metro_min_walk': combine_data['metro_min_walk'].median(),\n",
    "    'metro_km_walk': combine_data['metro_km_walk'].median(),\n",
    "    'railroad_station_walk_km': combine_data['railroad_station_walk_km'].median(),\n",
    "    'railroad_station_walk_min': combine_data['railroad_station_walk_min'].median(),\n",
    "    'preschool_quota': combine_data['preschool_quota'].mode()[0],\n",
    "    'school_quota': combine_data['school_quota'].mode()[0],\n",
    "    'floor': combine_data['floor'].mode()[0]\n",
    "}\n",
    "#заполняем оставшиеся записи константами в соответствии со словарем values\n",
    "combine_data = combine_data.fillna(values)\n",
    "#выводим результирующую долю пропусков\n",
    "display(combine_data.isnull().mean())"
   ]
  },
  {
   "cell_type": "markdown",
   "metadata": {},
   "source": [
    "Выведем результирующее число строк и столбцов:"
   ]
  },
  {
   "cell_type": "code",
   "execution_count": 118,
   "metadata": {},
   "outputs": [
    {
     "name": "stdout",
     "output_type": "stream",
     "text": [
      "(26800, 60)\n"
     ]
    }
   ],
   "source": [
    "print(combine_data.shape)"
   ]
  },
  {
   "cell_type": "markdown",
   "metadata": {},
   "source": [
    "Вы можете придумывать свои собственные комбинации методов и использовать их для борьбы с пропусками, главное — найти баланс между потерей информации и её искажением.\n",
    "\n",
    "Примечание. Стоит отметить, что предположение о том, что жилая площадь равна общей, слишком тривиально. Порассуждаем логически. Очевидно, что обычно в квартире есть хотя бы санузел, который не учитывается в жилой площади, и тогда жилая площадь будет меньше общей. Если взять соотношение жилой площади к общей площади и построить boxplot в log-масштабе, то медиана будет на около 0.6, а значение 1 (жилая = общая) не войдёт даже в последний квартиль. Поэтому в реальной задаче такая оценка соотношения площадей является не совсем корректной."
   ]
  },
  {
   "attachments": {},
   "cell_type": "markdown",
   "metadata": {},
   "source": [
    "## РЕЗЮМЕ ПО МЕТОДАМ РАБОТЫ С ПРОПУСКАМИ\n",
    "\n",
    "Итак, мы рассмотрели основные методы решения проблемы с недостающей информацией, а также их недостатки. \n",
    "\n",
    "Ещё раз хотим подчеркнуть, что выбор метода или комбинации методов является исключительно вашим решением. Однако важно держать в голове несколько рекомендаций:\n",
    "\n",
    "Если какой-то из признаков имеет более 30-40 % пропусков, лучше избавьтесь от него: его заполнение может привести к сильному искажению общего распределения, а удаление записей — к большой утрате данных. Однако если этот признак очень важен для прогнозирования, вам придётся поколдовать над ним, чтобы «заплатки», которыми вы закрываете пропуски, выглядели правдоподобно.\n",
    "Заполняйте данные с умом! Если перед вами количественный признак, то использование нецелого числа в качестве константы является как минимум нелогичным.\n",
    "Вы можете оставить пропуски как есть, просто заменив их на какой-то специальный символ. Например, для числовых неотрицательных признаков можно использовать число -1, а для категориальных — строку 'unknown'.\n",
    "Если вам позволяют сроки вашего проекта, попробуйте несколько кардинально разных подходов работы с пропусками."
   ]
  },
  {
   "cell_type": "markdown",
   "metadata": {},
   "source": [
    "#Выбросы: почему появляются и чем опасны?"
   ]
  },
  {
   "cell_type": "markdown",
   "metadata": {},
   "source": [
    "Ещё одна типичная проблема для больших данных — это наличие в них выбросов. \n",
    "\n",
    "Что такое выброс? На самом деле строгого математического определения нет, но часто используют следующее:\n",
    "\n",
    "Выброс (аномалия) — это наблюдение, которое существенно выбивается из общего распределения и сильно отличается от других данных.\n",
    "\n",
    "Как вы сами видите, в этом определении не определены точные границы терминов «существенно» и «сильно». В этом и заключается сложность поиска выбросов: как нащупать ту грань, когда наблюдение можно считать выбросом? Однозначного ответа нет, однако мы рассмотрим некоторые методы, которые могут помочь приблизительно найти её."
   ]
  },
  {
   "attachments": {},
   "cell_type": "markdown",
   "metadata": {},
   "source": [
    "## ЧЕМ ОПАСНЫ ВЫБРОСЫ?\n",
    "\n",
    "Выбросами могут быть как действительно реальные отклонения в данных (например, квартира в Москва-Сити за 2 млрд рублей выбивается из общего распределения, но она является вполне реальной), так и просто ошибкой (работа студента, оцененная в 8 баллов при наличии пятибалльной шкалы).\n",
    "\n",
    "Так или иначе, проблема выбросов состоит в том, что они могут «шокировать» модель. \n",
    "\n",
    "Модели — это математические методы, которые оперируют числами и пытаются подстроить зависимости в данных, чтобы выдать верный ответ. Когда модель сталкивается с выбросом, она пытается подстроиться и под него. В результате зависимость искажается, качество моделирования падает. Иногда выбросов может быть так много, что модель и вовсе начинает выдавать какую-то белиберду. Такие модели, конечно, никому не нужны, поэтому специалисты особенно озадачены поиском аномалий в данных.\n",
    "\n",
    "Чаще всего выбросы либо исключают из данных, либо корректируют значения на что-то правдоподобное, либо, если выбросов много, создают специальный датасет и обучают модели для них отдельно."
   ]
  },
  {
   "attachments": {},
   "cell_type": "markdown",
   "metadata": {},
   "source": [
    "## ПРИЧИНЫ ПОЯВЛЕНИЯ ВЫБРОСОВ\n",
    "\n",
    "* Ошибка ввода данных. Как и с пропусками, здесь играет роль человеческий фактор. Ввести лишний «ноль» на клавиатуре и не заметить этого — нередкий случай.\n",
    "\n",
    "* Ошибки отбора выборки. Когда начинающие специалисты составляют обучающую выборку для моделирования, они часто допускают ошибку, не выделив в отдельную группу часть данных. Типичный пример: смешать вместе данные об уровне жизни среднего класса, опрошенного на улице, и добавить туда людей из списка Forbes.\n",
    "\n",
    "* Преднамеренное искажение или мошенничество. Пользователи приложения часто намеренно указывают неверные данные о себе. Например, прибавляют к своему возрасту лишнюю сотню лет, создавая головную боль дата-сайентистам.\n",
    "\n",
    "Существует множество способов определить потенциальные выбросы. Какие-то из них основаны на простой логике, какие-то на математике, а некоторые и вовсе являются эвристиками. Проблема заключается в том, что ни один из методов не даёт никаких гарантий, поэтому необходимо проверять их результаты. Более того, используя разные методы, вы можете получить различных кандидатов на выбросы.\n"
   ]
  },
  {
   "attachments": {},
   "cell_type": "markdown",
   "metadata": {},
   "source": [
    "# Методы выявления выбросов\n",
    "\n",
    "## МЕТОД РУЧНОГО ПОИСКА И ЗДРАВОГО СМЫСЛА\n",
    "\n",
    "Это самый трудоёмкий метод, основанный на житейской логике, методе пристального взгляда и небольшом количестве статистики. Он предполагает поиск невозможных и нелогичных значений в данных.\n",
    "\n",
    "Пусть у нас есть признак, по которому мы будем искать выбросы. Давайте рассчитаем его статистические показатели (минимум, максимум, среднее, квантили) и по ним попробуем определить наличие аномалий.\n",
    "\n",
    "Сделать это можно с помощью уже знакомого вам метода describe(). Рассчитаем статистические показатели для признака жилой площади (life_sq)."
   ]
  },
  {
   "cell_type": "code",
   "execution_count": 119,
   "metadata": {},
   "outputs": [
    {
     "data": {
      "text/plain": [
       "count    24088.000000\n",
       "mean        34.403271\n",
       "std         52.285733\n",
       "min          0.000000\n",
       "25%         20.000000\n",
       "50%         30.000000\n",
       "75%         43.000000\n",
       "max       7478.000000\n",
       "Name: life_sq, dtype: float64"
      ]
     },
     "execution_count": 119,
     "metadata": {},
     "output_type": "execute_result"
    }
   ],
   "source": [
    "sber_data['life_sq'].describe()\n"
   ]
  },
  {
   "cell_type": "markdown",
   "metadata": {},
   "source": [
    "Что нам говорит метод describe()? Во-первых, у нас есть квартиры с нулевой жилой площадью. Во-вторых, в то время как 75-й квантиль равен 43, максимум превышает 7 тысяч квадратных метров (целый дворец, а не квартира!). \n",
    "\n",
    "Найдём число квартир с нулевой жилой площадью:"
   ]
  },
  {
   "cell_type": "code",
   "execution_count": 120,
   "metadata": {},
   "outputs": [
    {
     "name": "stdout",
     "output_type": "stream",
     "text": [
      "45\n"
     ]
    }
   ],
   "source": [
    "print(sber_data[sber_data['life_sq'] == 0].shape[0])\n"
   ]
  },
  {
   "cell_type": "markdown",
   "metadata": {},
   "source": [
    "Таких помещений оказывается 45 штук. Что это за зверь?\n",
    "\n",
    "Это могут быть апартаменты — вид коммерческой недвижимости, которая юридически не является жилой площадью, но законно продаётся по ценам, сопоставимым с квартирными. Оставим их в покое.     "
   ]
  },
  {
   "cell_type": "markdown",
   "metadata": {},
   "source": [
    "А теперь выведем здания с жилой площадью более 7 000 квадратных метров:"
   ]
  },
  {
   "cell_type": "code",
   "execution_count": 121,
   "metadata": {},
   "outputs": [
    {
     "data": {
      "text/html": [
       "<div>\n",
       "<style scoped>\n",
       "    .dataframe tbody tr th:only-of-type {\n",
       "        vertical-align: middle;\n",
       "    }\n",
       "\n",
       "    .dataframe tbody tr th {\n",
       "        vertical-align: top;\n",
       "    }\n",
       "\n",
       "    .dataframe thead th {\n",
       "        text-align: right;\n",
       "    }\n",
       "</style>\n",
       "<table border=\"1\" class=\"dataframe\">\n",
       "  <thead>\n",
       "    <tr style=\"text-align: right;\">\n",
       "      <th></th>\n",
       "      <th>id</th>\n",
       "      <th>full_sq</th>\n",
       "      <th>life_sq</th>\n",
       "      <th>floor</th>\n",
       "      <th>sub_area</th>\n",
       "      <th>preschool_quota</th>\n",
       "      <th>preschool_education_centers_raion</th>\n",
       "      <th>school_quota</th>\n",
       "      <th>school_education_centers_raion</th>\n",
       "      <th>school_education_centers_top_20_raion</th>\n",
       "      <th>...</th>\n",
       "      <th>office_km</th>\n",
       "      <th>additional_education_km</th>\n",
       "      <th>preschool_km</th>\n",
       "      <th>big_church_km</th>\n",
       "      <th>church_synagogue_km</th>\n",
       "      <th>theater_km</th>\n",
       "      <th>museum_km</th>\n",
       "      <th>ecology</th>\n",
       "      <th>mosque_count_1000</th>\n",
       "      <th>price_doc</th>\n",
       "    </tr>\n",
       "  </thead>\n",
       "  <tbody>\n",
       "    <tr>\n",
       "      <th>13546</th>\n",
       "      <td>13549</td>\n",
       "      <td>79</td>\n",
       "      <td>7478.0</td>\n",
       "      <td>8.0</td>\n",
       "      <td>Poselenie Voskresenskoe</td>\n",
       "      <td>NaN</td>\n",
       "      <td>0</td>\n",
       "      <td>NaN</td>\n",
       "      <td>0</td>\n",
       "      <td>0</td>\n",
       "      <td>...</td>\n",
       "      <td>5.072389</td>\n",
       "      <td>1.210613</td>\n",
       "      <td>0.826052</td>\n",
       "      <td>1.582378</td>\n",
       "      <td>0.756119</td>\n",
       "      <td>21.472421</td>\n",
       "      <td>14.917332</td>\n",
       "      <td>no data</td>\n",
       "      <td>0</td>\n",
       "      <td>7705000</td>\n",
       "    </tr>\n",
       "  </tbody>\n",
       "</table>\n",
       "<p>1 rows × 61 columns</p>\n",
       "</div>"
      ],
      "text/plain": [
       "          id  full_sq  life_sq  floor                 sub_area  \\\n",
       "13546  13549       79   7478.0    8.0  Poselenie Voskresenskoe   \n",
       "\n",
       "       preschool_quota  preschool_education_centers_raion  school_quota  \\\n",
       "13546              NaN                                  0           NaN   \n",
       "\n",
       "       school_education_centers_raion  school_education_centers_top_20_raion  \\\n",
       "13546                               0                                      0   \n",
       "\n",
       "       ...  office_km  additional_education_km  preschool_km  big_church_km  \\\n",
       "13546  ...   5.072389                 1.210613      0.826052       1.582378   \n",
       "\n",
       "       church_synagogue_km  theater_km  museum_km  ecology mosque_count_1000  \\\n",
       "13546             0.756119   21.472421  14.917332  no data                 0   \n",
       "\n",
       "      price_doc  \n",
       "13546   7705000  \n",
       "\n",
       "[1 rows x 61 columns]"
      ]
     },
     "metadata": {},
     "output_type": "display_data"
    }
   ],
   "source": [
    "display(sber_data[sber_data['life_sq'] > 7000])\n"
   ]
  },
  {
   "cell_type": "markdown",
   "metadata": {},
   "source": [
    "Вот он, красавец! Выброс налицо: гигантская жилая площадь (life_sq), да ещё почти в 100 раз превышает общую площадь (full_sq).\n",
    "\n",
    "?\n",
    "Логичен вопрос: а много ли у нас таких квартир, у которых жилая площадь больше, чем суммарная?\n",
    "\n",
    "Давайте проверим это с помощью фильтрации:"
   ]
  },
  {
   "cell_type": "code",
   "execution_count": 122,
   "metadata": {},
   "outputs": [
    {
     "name": "stdout",
     "output_type": "stream",
     "text": [
      "37\n"
     ]
    }
   ],
   "source": [
    "outliers = sber_data[sber_data['life_sq'] > sber_data['full_sq']]\n",
    "print(outliers.shape[0])"
   ]
  },
  {
   "cell_type": "markdown",
   "metadata": {},
   "source": [
    "Таких квартир оказывается 37 штук. Подобные наблюдения уже не поддаются здравому смыслу — они являются ошибочными, и от них стоит избавиться. Для этого можно воспользоваться методом drop() и удалить записи по их индексам:"
   ]
  },
  {
   "cell_type": "code",
   "execution_count": 123,
   "metadata": {},
   "outputs": [
    {
     "name": "stdout",
     "output_type": "stream",
     "text": [
      "Результирующее число записей: 30434\n"
     ]
    }
   ],
   "source": [
    "cleaned = sber_data.drop(outliers.index, axis=0)\n",
    "print(f'Результирующее число записей: {cleaned.shape[0]}')"
   ]
  },
  {
   "cell_type": "markdown",
   "metadata": {},
   "source": [
    "Ещё пример: давайте посмотрим на признак числа этажей (floor).\n",
    "\n"
   ]
  },
  {
   "cell_type": "code",
   "execution_count": 124,
   "metadata": {},
   "outputs": [
    {
     "data": {
      "text/plain": [
       "count    30304.000000\n",
       "mean         7.670803\n",
       "std          5.319989\n",
       "min          0.000000\n",
       "25%          3.000000\n",
       "50%          6.500000\n",
       "75%         11.000000\n",
       "max         77.000000\n",
       "Name: floor, dtype: float64"
      ]
     },
     "metadata": {},
     "output_type": "display_data"
    }
   ],
   "source": [
    "display(sber_data['floor'].describe())\n"
   ]
  },
  {
   "cell_type": "markdown",
   "metadata": {},
   "source": [
    "Снова видим подозрительную максимальную отметку в 77 этажей. Проверим все квартиры, которые находятся выше 50 этажей:"
   ]
  },
  {
   "cell_type": "code",
   "execution_count": 125,
   "metadata": {},
   "outputs": [
    {
     "data": {
      "text/html": [
       "<div>\n",
       "<style scoped>\n",
       "    .dataframe tbody tr th:only-of-type {\n",
       "        vertical-align: middle;\n",
       "    }\n",
       "\n",
       "    .dataframe tbody tr th {\n",
       "        vertical-align: top;\n",
       "    }\n",
       "\n",
       "    .dataframe thead th {\n",
       "        text-align: right;\n",
       "    }\n",
       "</style>\n",
       "<table border=\"1\" class=\"dataframe\">\n",
       "  <thead>\n",
       "    <tr style=\"text-align: right;\">\n",
       "      <th></th>\n",
       "      <th>id</th>\n",
       "      <th>full_sq</th>\n",
       "      <th>life_sq</th>\n",
       "      <th>floor</th>\n",
       "      <th>sub_area</th>\n",
       "      <th>preschool_quota</th>\n",
       "      <th>preschool_education_centers_raion</th>\n",
       "      <th>school_quota</th>\n",
       "      <th>school_education_centers_raion</th>\n",
       "      <th>school_education_centers_top_20_raion</th>\n",
       "      <th>...</th>\n",
       "      <th>office_km</th>\n",
       "      <th>additional_education_km</th>\n",
       "      <th>preschool_km</th>\n",
       "      <th>big_church_km</th>\n",
       "      <th>church_synagogue_km</th>\n",
       "      <th>theater_km</th>\n",
       "      <th>museum_km</th>\n",
       "      <th>ecology</th>\n",
       "      <th>mosque_count_1000</th>\n",
       "      <th>price_doc</th>\n",
       "    </tr>\n",
       "  </thead>\n",
       "  <tbody>\n",
       "    <tr>\n",
       "      <th>23584</th>\n",
       "      <td>23587</td>\n",
       "      <td>57</td>\n",
       "      <td>33.0</td>\n",
       "      <td>77.0</td>\n",
       "      <td>Lomonosovskoe</td>\n",
       "      <td>3091.0</td>\n",
       "      <td>5</td>\n",
       "      <td>8359.0</td>\n",
       "      <td>7</td>\n",
       "      <td>1</td>\n",
       "      <td>...</td>\n",
       "      <td>0.310557</td>\n",
       "      <td>0.731683</td>\n",
       "      <td>0.489763</td>\n",
       "      <td>0.86354</td>\n",
       "      <td>0.863266</td>\n",
       "      <td>2.920671</td>\n",
       "      <td>2.757058</td>\n",
       "      <td>satisfactory</td>\n",
       "      <td>0</td>\n",
       "      <td>13700000</td>\n",
       "    </tr>\n",
       "  </tbody>\n",
       "</table>\n",
       "<p>1 rows × 61 columns</p>\n",
       "</div>"
      ],
      "text/plain": [
       "          id  full_sq  life_sq  floor       sub_area  preschool_quota  \\\n",
       "23584  23587       57     33.0   77.0  Lomonosovskoe           3091.0   \n",
       "\n",
       "       preschool_education_centers_raion  school_quota  \\\n",
       "23584                                  5        8359.0   \n",
       "\n",
       "       school_education_centers_raion  school_education_centers_top_20_raion  \\\n",
       "23584                               7                                      1   \n",
       "\n",
       "       ...  office_km  additional_education_km  preschool_km  big_church_km  \\\n",
       "23584  ...   0.310557                 0.731683      0.489763        0.86354   \n",
       "\n",
       "       church_synagogue_km  theater_km  museum_km       ecology  \\\n",
       "23584             0.863266    2.920671   2.757058  satisfactory   \n",
       "\n",
       "      mosque_count_1000 price_doc  \n",
       "23584                 0  13700000  \n",
       "\n",
       "[1 rows x 61 columns]"
      ]
     },
     "metadata": {},
     "output_type": "display_data"
    }
   ],
   "source": [
    "display(sber_data[sber_data['floor']> 50])\n"
   ]
  },
  {
   "cell_type": "markdown",
   "metadata": {},
   "source": [
    "Всего одна квартира в Ломоносовском районе. Пора идти в интернет в поиске самых высоких зданий в Москве! \n",
    "\n",
    "Убеждаемся в том, что здания выше 70 этажей находятся на территории комплекса Москва-Сити (Пресненский район). В Ломоносовском районе таких жилых высоток нет. Получается, что данное наблюдение — выброс.\n",
    "\n",
    "Вы наверняка обратили внимание на сложность ручного поиска. Мы заранее знали про апартаменты и о том, что не бывает квартир с жилой площадью, которая превышает общую. Кроме того, мы «нагуглили» информацию о московских высотках. Однако бывают данные, где необходимо углубиться в предметную область, чтобы понять, что наблюдения являются «сверхъестественными»."
   ]
  },
  {
   "cell_type": "markdown",
   "metadata": {},
   "source": [
    "##МЕТОД МЕЖКВАРТИЛЬНОГО РАЗМАХА (МЕТОД ТЬЮКИ)\n",
    "\n",
    "Отличным помощником в поиске потенциальных выбросов является визуализация. Если признак является числовым, то можно построить гистограмму или коробчатую диаграмму, чтобы найти аномалии.\n",
    "\n",
    "На гистограмме мы можем увидеть потенциальные выбросы как низкие далеко отстоящие от основной группы столбцов «пеньки», а на коробчатой диаграмме — точки за пределами усов.\n",
    "\n",
    "✍️ Построим гистограмму и коробчатую диаграмму для признака полной площади (full_sq):"
   ]
  },
  {
   "cell_type": "code",
   "execution_count": 126,
   "metadata": {},
   "outputs": [
    {
     "data": {
      "image/png": "[encoded data removed]",
      "text/plain": [
       "<Figure size 1080x288 with 2 Axes>"
      ]
     },
     "metadata": {
      "needs_background": "light"
     },
     "output_type": "display_data"
    }
   ],
   "source": [
    "fig, axes = plt.subplots(nrows=1, ncols=2, figsize=(15, 4))\n",
    "histplot = sns.histplot(data=sber_data, x='full_sq', ax=axes[0]);\n",
    "histplot.set_title('Full Square Distribution');\n",
    "boxplot = sns.boxplot(data=sber_data, x='full_sq', ax=axes[1]);\n",
    "boxplot.set_title('Full Square Boxplot');"
   ]
  },
  {
   "cell_type": "markdown",
   "metadata": {},
   "source": [
    "Врага нужно знать в лицо! Запомните эти картинки: именно так выглядят типичные графики распределений с выбросами в данных. Гистограмма, реализованная в seaborn, автоматически выбирает число столбцов, необходимое для наилучшей визуализации распределения. Когда признак содержит выбивающиеся значения, число столбцов становится очень велико и в итоге получается такая «кракозябра». \n",
    "\n",
    "По этой же причине получается сплюснутая под весом выбросов коробчатая диаграмма. Она помогает более чётко увидеть потенциальные аномалии, которые находятся за пределами усов (1.5 межквартильных размаха)."
   ]
  },
  {
   "cell_type": "markdown",
   "metadata": {},
   "source": [
    "Основная масса квартир имеет общую площадь менее 250 квадратных метров, и лишь несколько невзрачных наблюдений выбиваются из этого интервала. Максимальная площадь, судя по гистограмме, превышает 5 000 квадратных метров.\n",
    "\n",
    "\n",
    "Визуализация помогает определить наличие выбросов. Для того чтобы их найти, можно воспользоваться статистическими подходами. \n",
    "\n",
    "Одним из таких подходов является метод межквартильного размаха (его еще называют методом Тьюки), который используется для построения коробчатой диаграммы."
   ]
  },
  {
   "attachments": {},
   "cell_type": "markdown",
   "metadata": {},
   "source": [
    "### Алгоритм метода:\n",
    "\n",
    "→ вычислить 25-ый и 75-ый квантили (первый и третий квартили) — и  для признака, который мы исследуем;\n",
    "\n",
    "→ вычислить межквартильное расстояние: IQR = Q75 - Q25 ;\n",
    "\n",
    "→ вычислить верхнюю и нижнюю границы Тьюки:\n",
    "Bound_lower = Q75 - 1.5 * IQR\n",
    "Bound_upper = Q75 + 1.5 * IQR \n",
    "\n",
    "→ найти наблюдения, которые выходят за пределы границ.\n",
    "\n",
    "В соответствии с этим алгоритмом напишем функцию outliers_iqr(), которая вам может ещё не раз пригодиться в реальных задачах. Эта функция принимает на вход DataFrame и признак, по которому ищутся выбросы, а затем возвращает потенциальные выбросы, найденные с помощью метода Тьюки, и очищенный от них датасет.\n",
    "\n",
    "Квантили вычисляются с помощью метода quantile(). Потенциальные выбросы определяются при помощи фильтрации данных по условию выхода за пределы верхней или нижней границы."
   ]
  },
  {
   "cell_type": "code",
   "execution_count": 127,
   "metadata": {},
   "outputs": [],
   "source": [
    "def outliers_iqr(data, feature):\n",
    "    x = data[feature]\n",
    "    quartile_1, quartile_3 = x.quantile(0.25), x.quantile(0.75),\n",
    "    iqr = quartile_3 - quartile_1\n",
    "    lower_bound = quartile_1 - (iqr * 1.5)\n",
    "    upper_bound = quartile_3 + (iqr * 1.5)\n",
    "    outliers = data[(x<lower_bound) | (x > upper_bound)]\n",
    "    cleaned = data[(x>lower_bound) & (x < upper_bound)]\n",
    "    return outliers, cleaned"
   ]
  },
  {
   "cell_type": "markdown",
   "metadata": {},
   "source": [
    "✍️ Применим эту функцию к таблице sber_data и признаку full_sq, а также выведем размерности результатов:"
   ]
  },
  {
   "cell_type": "code",
   "execution_count": 128,
   "metadata": {},
   "outputs": [
    {
     "name": "stdout",
     "output_type": "stream",
     "text": [
      "Число выбросов по методу Тьюки: 963\n",
      "Результирующее число записей: 29508\n"
     ]
    }
   ],
   "source": [
    "outliers, cleaned = outliers_iqr(sber_data, 'full_sq')\n",
    "print(f'Число выбросов по методу Тьюки: {outliers.shape[0]}')\n",
    "print(f'Результирующее число записей: {cleaned.shape[0]}')"
   ]
  },
  {
   "cell_type": "markdown",
   "metadata": {},
   "source": [
    "Согласно классическому методу Тьюки, под выбросы у нас попали 963 записи в таблице. Давайте построим гистограмму и коробчатую диаграмму на новых данных cleaned_sber_data:"
   ]
  },
  {
   "cell_type": "code",
   "execution_count": 129,
   "metadata": {},
   "outputs": [
    {
     "data": {
      "image/png": "[encoded data removed]",
      "text/plain": [
       "<Figure size 1080x288 with 2 Axes>"
      ]
     },
     "metadata": {
      "needs_background": "light"
     },
     "output_type": "display_data"
    }
   ],
   "source": [
    "fig, axes = plt.subplots(nrows=1, ncols=2, figsize=(15, 4))\n",
    "histplot = sns.histplot(data=cleaned, x='full_sq', ax=axes[0]);\n",
    "histplot.set_title('Cleaned Full Square Distribution');\n",
    "boxplot = sns.boxplot(data=cleaned, x='full_sq', ax=axes[1]);\n",
    "boxplot.set_title('Cleaned Full Square Boxplot');"
   ]
  },
  {
   "cell_type": "markdown",
   "metadata": {},
   "source": [
    "На первый взгляд — стерильно. Однако если присмотреться, то коробчатая диаграмма всё ещё продолжает говорить, что в данных есть одиночные выбросы с обеих сторон от границ. К тому же у нас сильно урезался диапазон жилой площади — максимальная площадь составляет около 100 кв. м. \n",
    "\n",
    "?\n",
    "Как же так, неужели метод не работает?\n",
    "\n",
    "Причина кроется в том, что после удаления выбросов квартили рассчитываются заново по новым данным, и так оказалось, что из-за свойств распределения были снова найдены точки, которые считаются выбросами.\n",
    "\n",
    "Классический метод межквартильного размаха не учитывает особенностей распределения! Он требует, чтобы данные были распределены плюс-минус нормально (гистограмма должна быть похожа на колокол) и требует от распределения примерной симметричности (чтобы у гистограммы были одинаковые хвосты в обе стороны).\n",
    "\n",
    "У нас же распределение (даже после отсечения выбросов) отличается от заявленных критериев. Оно несимметрично: правый хвост изначального распределения гораздо длиннее левого (для Москвы вполне естественны квартиры с площадью свыше 100 квадратных метров) и вовсе не колоколообразно. Попросту говоря, выбор метода поиска не оправдал себя."
   ]
  },
  {
   "cell_type": "markdown",
   "metadata": {},
   "source": [
    "Но не стоит расстраиваться! Никто не говорил, что вы должны должны ограничиваться только 1.5 межквартильных размахов. Вы можете сами подбирать число размахов влево и/или вправо и таким образом отбирать выбросы, учитывая особенности ваших данных."
   ]
  },
  {
   "attachments": {},
   "cell_type": "markdown",
   "metadata": {},
   "source": [
    "### ЗАДАНИЕ 6.1 (ВЫПОЛНЯЕТСЯ В CODEBOARD НИЖЕ)\n",
    "\n",
    "?\n",
    "\n",
    "Давайте немного модифицируем функцию outliers_iqr(). Добавьте в неё параметры left и right, которые задают число IQR влево и вправо от границ ящика (пусть по умолчанию они равны 1.5). Функция, как и раньше, должна возвращать потенциальные выбросы и очищенный DataFrame.\n",
    "\n",
    "При работе с заданием в Codeboard не используйте кириллицу — писать решение надо полностью на английском языке, иначе написанный вами код не запустится!\n",
    "\n",
    "Начните работу традиционно с открытия файла main.py — там вы увидите условие задачи.\n",
    "Впишите требуемый код вместо знаков ??? и нажмите RUN.\n",
    "Нажмите SUBMIT, чтобы отправить ваш ответ на проверку и получить баллы в случае верного решения."
   ]
  },
  {
   "cell_type": "code",
   "execution_count": 130,
   "metadata": {},
   "outputs": [
    {
     "name": "stdout",
     "output_type": "stream",
     "text": [
      "Количество выбросов: 963\n",
      "Количество записей: 29508\n"
     ]
    }
   ],
   "source": [
    "def outliers_iqr_mod(data, feature, left=1.5, right=1.5):\n",
    "    \n",
    "    x = data[feature]\n",
    "    quartile_1, quartile_3 = x.quantile(0.25), x.quantile(0.75),\n",
    "    iqr = quartile_3 - quartile_1\n",
    "    \n",
    "    lower_bound = quartile_1 - (iqr * left)\n",
    "    upper_bound = quartile_3 + (iqr * right)\n",
    "    \n",
    "    outliers = data[(x<lower_bound) | (x > upper_bound)]\n",
    "    cleaned = data[(x>lower_bound) & (x < upper_bound)]\n",
    "    return outliers, cleaned    \n",
    "    \"\"\"\n",
    "    Давайте немного модифицируем нашу функцию outliers_iqr(). \n",
    "    Добавьте в нее параметры left и right, которые задают число IQR влево и вправо от границ ящика (пусть по умолчанию они равны 1.5).\n",
    "    Функция, как и раньше должна возвращать потенциальные выбросы и очищенный DataFrame.\n",
    "    \"\"\"\n",
    "\n",
    "outliers, cleaned = outliers_iqr_mod(sber_data, 'full_sq')\n",
    "print('Количество выбросов:', outliers.shape[0])\n",
    "print('Количество записей:', cleaned.shape[0])"
   ]
  },
  {
   "cell_type": "markdown",
   "metadata": {},
   "source": [
    "Задание 6.2\n",
    "\n",
    "Давайте ослабим границы метода Тьюки справа и усилим их влево. Примените модифицированную функцию outliers_iqr_mod() к признаку full_sq из таблицы sber_data данным с параметрами left=1 и right=6. Результаты работы поместите в переменные outliers и cleaned. Чему равно результирующее число выбросов в данных?"
   ]
  },
  {
   "cell_type": "code",
   "execution_count": 131,
   "metadata": {},
   "outputs": [
    {
     "name": "stdout",
     "output_type": "stream",
     "text": [
      "Количество выбросов: 59\n",
      "Количество записей: 30403\n"
     ]
    }
   ],
   "source": [
    "outliers, cleaned = outliers_iqr_mod(sber_data, 'full_sq', left=1, right=6)\n",
    "print('Количество выбросов:', outliers.shape[0])\n",
    "print('Количество записей:', cleaned.shape[0])"
   ]
  },
  {
   "cell_type": "markdown",
   "metadata": {},
   "source": [
    "Если мы построим гистограмму и коробчатую диаграмму на полученных данных, то увидим вот такую картинку:"
   ]
  },
  {
   "cell_type": "code",
   "execution_count": 132,
   "metadata": {},
   "outputs": [
    {
     "data": {
      "image/png": "[encoded data removed]",
      "text/plain": [
       "<Figure size 1080x288 with 2 Axes>"
      ]
     },
     "metadata": {
      "needs_background": "light"
     },
     "output_type": "display_data"
    }
   ],
   "source": [
    "fig, axes = plt.subplots(nrows=1, ncols=2, figsize=(15, 4))\n",
    "histplot = sns.histplot(data=cleaned, x='full_sq', ax=axes[0]);\n",
    "histplot.set_title('Cleaned Full Square Distribution');\n",
    "boxplot = sns.boxplot(data=cleaned, x='full_sq', ax=axes[1]);\n",
    "boxplot.set_title('Cleaned Full Square Boxplot');"
   ]
  },
  {
   "cell_type": "markdown",
   "metadata": {},
   "source": [
    "Согласитесь, это уже больше похоже на реальный рынок недвижимости: основная часть квартир имеет площадь в интервале от 25 до 85 кв. м, а далее частота наблюдений постепенно падает."
   ]
  },
  {
   "cell_type": "markdown",
   "metadata": {},
   "source": [
    "##МЕТОД Z-ОТКЛОНЕНИЙ (МЕТОД СИГМ)\n",
    "\n",
    "Последний метод, который мы рассмотрим, — это метод, основанный на правиле трёх сигм для нормального распределения. \n",
    "\n",
    "Правило трёх сигм гласит: если распределение данных является нормальным, то 99,73 % лежат в интервале от , где   (мю) — математическое ожидание (для выборки это среднее значение), а  (сигма) — стандартное отклонение. Наблюдения, которые лежат за пределами этого интервала, будут считаться выбросами."
   ]
  },
  {
   "cell_type": "markdown",
   "metadata": {},
   "source": [
    "Схематично правило трёх сигм для нормального распределения представлено на рисунке ниже:"
   ]
  },
  {
   "cell_type": "markdown",
   "metadata": {},
   "source": [
    "![](https://lms.skillfactory.ru/assets/courseware/v1/721bbe7e904e9a3f3700f24a7dba48fd/asset-v1:SkillFactory+DST-3.0+28FEB2021+type@asset+block/dst-3-unit-1-mod-14-25.png)"
   ]
  },
  {
   "cell_type": "markdown",
   "metadata": {},
   "source": [
    ">А что делать, если данные не распределены нормально? \n",
    "\n",
    "На такой случай есть один трюк. Иногда для распределений, похожих на логнормальное, может помочь логарифмирование. Оно может привести исходное распределение к подобию нормального. Причем, основание логарифма может быть любым.\n",
    "\n",
    "✍️ Рассмотрим логарифмирование на примере. \n",
    "\n",
    "Построим две гистограммы признака расстояния до МКАД (mkad_km): первая — в обычном масштабе, а вторая — в логарифмическом. Логарифмировать будем с помощью функции log() из библиотеки numpy (натуральный логарифм — логарифм по основанию числа e). Признак имеет среди своих значений 0. Из математики известно, что логарифма от 0 не существует, поэтому мы прибавляем к нашему признаку 1, чтобы не логарифмировать нули и не получать предупреждения."
   ]
  },
  {
   "cell_type": "code",
   "execution_count": 133,
   "metadata": {},
   "outputs": [
    {
     "data": {
      "image/png": "[encoded data removed]",
      "text/plain": [
       "<Figure size 1080x288 with 2 Axes>"
      ]
     },
     "metadata": {
      "needs_background": "light"
     },
     "output_type": "display_data"
    }
   ],
   "source": [
    "fig, axes = plt.subplots(1, 2, figsize=(15, 4))\n",
    "\n",
    "#гистограмма исходного признака\n",
    "histplot = sns.histplot(sber_data['mkad_km'], bins=30, ax=axes[0])\n",
    "histplot.set_title('MKAD Km Distribution');\n",
    "\n",
    "#гистограмма в логарифмическом масштабе\n",
    "log_mkad_km= np.log(sber_data['mkad_km'] + 1)\n",
    "histplot = sns.histplot(log_mkad_km , bins=30, ax=axes[1])\n",
    "histplot.set_title('Log MKAD Km Distribution');"
   ]
  },
  {
   "cell_type": "markdown",
   "metadata": {},
   "source": [
    "Что мы тут видим? \n",
    "\n",
    "Левое распределение напоминает логнормальное распределение с наличием потенциальных выбросов-«пеньков», далеко отстоящих от основной массы наблюдений.\n",
    "\n",
    "Взяв натуральный логарифм от левого распределения, мы получаем правое, которое напоминает слегка перекошенное нормальное. Слева от моды (самого высокого столбика) наблюдается чуть больше наблюдений, нежели справа. По-научному это будет звучать так: «распределение имеет левостороннюю асимметрию»."
   ]
  },
  {
   "cell_type": "markdown",
   "metadata": {},
   "source": [
    "✏️ Примечание: Численный показатель асимметрии можно вычислить с помощью метода:"
   ]
  },
  {
   "cell_type": "code",
   "execution_count": 134,
   "metadata": {},
   "outputs": [
    {
     "name": "stdout",
     "output_type": "stream",
     "text": [
      "-0.14263612203024953\n"
     ]
    }
   ],
   "source": [
    "#skew():\n",
    "print(log_mkad_km.skew())"
   ]
  },
  {
   "cell_type": "markdown",
   "metadata": {},
   "source": [
    "* Асимметрия распределения называется правосторонней, если она положительная:\n",
    ";\n",
    "\n",
    "* Асимметрия распределения называется левосторонней, если она отрицательная:\n",
    "."
   ]
  },
  {
   "cell_type": "markdown",
   "metadata": {},
   "source": [
    "Давайте реализуем алгоритм метода z-отклонения. Описание алгоритма метода:\n",
    "\n",
    "→ вычислить математическое ожидание  (среднее) и стандартное отклонение  признака ;\n",
    "\n",
    "→ вычислить нижнюю и верхнюю границу интервала как:\n",
    "\n",
    "Bound_lower = mu - 3 * sigma,\n",
    "Bound_upper = mu + 3 * sigma\n",
    "\n",
    "→ найти наблюдения, которые выходят за пределы границ.\n",
    "\n",
    "✍️ Напишем функцию outliers_z_score(), которая реализует этот алгоритм. \n",
    "\n",
    "На вход она принимает DataFrame и признак, по которому ищутся выбросы. В дополнение добавим в функцию возможность работы в логарифмическом масштабе: для этого введём аргумент log_scale. Если он равен True, то будем логарифмировать рассматриваемый признак, иначе — оставляем его в исходном виде.\n",
    "\n",
    "Как и раньше, функция будет возвращать выбросы и очищенные от них данные:"
   ]
  },
  {
   "cell_type": "code",
   "execution_count": 135,
   "metadata": {},
   "outputs": [],
   "source": [
    "def outliers_z_score(data, feature, log_scale=False):\n",
    "    if log_scale:\n",
    "        x = np.log(data[feature]+1)\n",
    "    else:\n",
    "        x = data[feature]\n",
    "    mu = x.mean()\n",
    "    sigma = x.std()\n",
    "    lower_bound = mu - 3 * sigma\n",
    "    upper_bound = mu + 3 * sigma\n",
    "    outliers = data[(x < lower_bound) | (x > upper_bound)]\n",
    "    cleaned = data[(x > lower_bound) & (x < upper_bound)]\n",
    "    return outliers, cleaned"
   ]
  },
  {
   "cell_type": "markdown",
   "metadata": {},
   "source": [
    "Применим эту функцию к таблице sber_data и признаку mkad_km, а также выведем размерности результатов:"
   ]
  },
  {
   "cell_type": "code",
   "execution_count": 136,
   "metadata": {},
   "outputs": [
    {
     "name": "stdout",
     "output_type": "stream",
     "text": [
      "Число выбросов по методу z-отклонения: 33\n",
      "Результирующее число записей: 30438\n"
     ]
    }
   ],
   "source": [
    "outliers, cleaned = outliers_z_score(sber_data, 'mkad_km', log_scale=True)\n",
    "print(f'Число выбросов по методу z-отклонения: {outliers.shape[0]}')\n",
    "print(f'Результирующее число записей: {cleaned.shape[0]}')"
   ]
  },
  {
   "cell_type": "markdown",
   "metadata": {},
   "source": [
    "Итак, метод z-отклонения нашел нам 33 потенциальных выброса по признаку расстояния до МКАД. Давайте узнаем, в каких районах (sub_area) представлены эти квартиры:"
   ]
  },
  {
   "cell_type": "code",
   "execution_count": 137,
   "metadata": {},
   "outputs": [
    {
     "name": "stdout",
     "output_type": "stream",
     "text": [
      "['Poselenie Rogovskoe' 'Poselenie Kievskij']\n"
     ]
    }
   ],
   "source": [
    "print(outliers['sub_area'].unique())\n"
   ]
  },
  {
   "cell_type": "markdown",
   "metadata": {},
   "source": [
    "Наши потенциальные выбросы — это квартиры из поселений «Роговское» и «Киевский». Снова обращаемся к силе интернета и «пробиваем» наших подозреваемых. Эти поселения — самые удалённые районы Московской области; первое из них — это и вовсе граница с Калужской областью. "
   ]
  },
  {
   "cell_type": "markdown",
   "metadata": {},
   "source": [
    "И тут возникает закономерный вопрос: а стоит ли считать такие наблюдения за выбросы? \n",
    "\n",
    "Вопрос в действительности не имеет определенного ответа: с одной стороны, метод прямо-таки говорит нам об этом, а с другой — эти наблюдения имеют право на существование, ведь они являются частью Московской области."
   ]
  },
  {
   "cell_type": "markdown",
   "metadata": {},
   "source": [
    "✏️ Возможно, мы не учли того факта, что наш логарифм распределения всё-таки не идеально нормален и в нём присутствует некоторая асимметрия. Возможно, стоит дать некоторое «послабление» на границы интервалов? Давайте отдельно построим гистограмму прологарифмированного распределения, а также отобразим на гистограмме вертикальные линии, соответствующие среднему (центру интервала в методе трёх сигм) и границы интервала mu + 3 * sigma. Вертикальные линии можно построить с помощью метода axvline(). Для среднего линия будет обычной, а для границ интервала — пунктирной (параметр ls ='--'):"
   ]
  },
  {
   "cell_type": "code",
   "execution_count": 138,
   "metadata": {},
   "outputs": [
    {
     "data": {
      "image/png": "[encoded data removed]",
      "text/plain": [
       "<Figure size 576x288 with 1 Axes>"
      ]
     },
     "metadata": {
      "needs_background": "light"
     },
     "output_type": "display_data"
    }
   ],
   "source": [
    "fig, ax = plt.subplots(1, 1, figsize=(8, 4))\n",
    "log_mkad_km = np.log(sber_data['mkad_km'] + 1)\n",
    "histplot = sns.histplot(log_mkad_km, bins=30, ax=ax)\n",
    "histplot.axvline(log_mkad_km.mean(), color='k', lw=2)\n",
    "histplot.axvline(log_mkad_km.mean()+ 3 * log_mkad_km.std(), color='k', ls='--', lw=2)\n",
    "histplot.axvline(log_mkad_km.mean()- 3 * log_mkad_km.std(), color='k', ls='--', lw=2)\n",
    "histplot.set_title('Log MKAD Km Distribution');"
   ]
  },
  {
   "cell_type": "markdown",
   "metadata": {},
   "source": [
    "Итак, что мы графически построили интервал метода трёх сигм поверх нашего распределения. Он показывает, какие наблюдения мы берем в интервал, а какие считаем выбросами. Легко заметить, среднее значение (жирная вертикальная линия) находится левее моды, это свойство распределений с левосторонней асимметрией. Также видны наблюдения, которые мы не захватили своим интервалом (небольшой пенек правее верхней границы) — это и есть наши квартиры из из поселений \"Роговское\" и \"Киевский\". Очевидно, что если немного (меньше чем на одну сигму) \"сдвинуть\" верхнюю границу вправо, мы захватим эти наблюдения. Давайте сделаем это?!"
   ]
  },
  {
   "attachments": {},
   "cell_type": "markdown",
   "metadata": {},
   "source": [
    "### ЗАДАНИЕ 6.3 (ВЫПОЛНЯЕТСЯ В CODEBOARD НИЖЕ)\n",
    "\n",
    "Давайте расширим правило трёх сигм, чтобы иметь возможность особенности данных. Добавьте в функцию outliers_z_score() параметры left и right, которые будут задавать число сигм (стандартных отклонений) влево и вправо соответственно, определяющее границы метода z-отклонения. По умолчанию оба параметры равны 3. Результирующую функцию назовите outliers_z_score_mod()."
   ]
  },
  {
   "cell_type": "code",
   "execution_count": 139,
   "metadata": {},
   "outputs": [
    {
     "name": "stdout",
     "output_type": "stream",
     "text": [
      "Число выбросов по методу z-отклонения: 33\n",
      "Результирующее число записей: 30438\n"
     ]
    }
   ],
   "source": [
    "def outliers_z_score_mod(data, feature, log_scale=False, left=3, right=3):\n",
    "    \"\"\"\n",
    "    Давайте расширим правило 3ех сигм, чтобы иметь возможность учитывать особенности данных.\n",
    "    Добавьте в функцию outliers_z_score() параметры left и right, которые будут задавать число сигм (стандартных отклонений) \n",
    "    влево и вправо соответственно, которые определяют границы метода z-отклонения. \n",
    "    По умолчанию оба параметры равны 3\n",
    "    \"\"\"\n",
    "\n",
    "    if log_scale:\n",
    "        x = np.log(data[feature]+1)\n",
    "    else:\n",
    "        x = data[feature]\n",
    "    mu = x.mean()\n",
    "    sigma = x.std()\n",
    "    lower_bound = mu - left * sigma\n",
    "    upper_bound = mu + right * sigma\n",
    "    outliers = data[(x < lower_bound) | (x > upper_bound)]\n",
    "    cleaned = data[(x > lower_bound) & (x < upper_bound)]\n",
    "    return outliers, cleaned\n",
    "    \n",
    "outliers, cleaned = outliers_z_score_mod(sber_data, 'mkad_km', log_scale=True)\n",
    "print(f'Число выбросов по методу z-отклонения: {outliers.shape[0]}')\n",
    "print(f'Результирующее число записей: {cleaned.shape[0]}')\n"
   ]
  },
  {
   "attachments": {},
   "cell_type": "markdown",
   "metadata": {},
   "source": [
    "### Задание 6.4\n",
    "1 point possible (graded)\n",
    "Проверьте, что будет, если дать «послабление» вправо, увеличив число сигм. Наша задача — узнать, начиная с какой границы поселения «Роговское» и «Киевское» перестают считаться выбросами. Примените свою функцию outliers_z_score_mod() к признаку mkad_km с параметрами left=3, right=3.5, log_scale=True. Чему равно результирующее число выбросов?"
   ]
  },
  {
   "cell_type": "code",
   "execution_count": 140,
   "metadata": {},
   "outputs": [
    {
     "name": "stdout",
     "output_type": "stream",
     "text": [
      "Число выбросов по методу z-отклонения: 0\n",
      "Результирующее число записей: 30471\n"
     ]
    }
   ],
   "source": [
    "outliers, cleaned = outliers_z_score_mod(sber_data, 'mkad_km', left=3, right=3.5, log_scale=True)\n",
    "print(f'Число выбросов по методу z-отклонения: {outliers.shape[0]}')\n",
    "print(f'Результирующее число записей: {cleaned.shape[0]}')"
   ]
  },
  {
   "cell_type": "markdown",
   "metadata": {},
   "source": [
    "Стоило нам немного увеличить правую границу метода z-отклонений, как мы получили отсутствие выбросов в признаке. Давать ли такие «послабления» или нет — это ваше решение и полностью зависит от специфики задачи, однако вы можете пользоваться этим трюком, чтобы более тщательно подходить к поиску аномалий.\n",
    "\n"
   ]
  },
  {
   "attachments": {},
   "cell_type": "markdown",
   "metadata": {},
   "source": [
    "## РЕЗЮМЕ ПО МЕТОДАМ ПОИСКА ВЫБРОСОВ\n",
    "\n",
    "Мы рассмотрели классические методы выявления аномальных данных. Как вы сами поняли, каждый из них имеет свои преимущества и недостатки.\n",
    "\n",
    "Метод ручного поиска тяжело автоматизировать, однако вы сами организовываете проверки, следите за процессом отсеивания выбросов и руководствуетесь не только статистикой, но и здравым смыслом. К тому же из всех представленных только этот метод способен выявить логические нестыковки в данных (например, общая площадь меньше жилой или число этажей более 77 в районе, где нет таких зданий). Обычно этот метод используется в комплексе с другими, чтобы удостовериться в том, что найденные данные действительно являются выбросами, и произвести логическую очистку, на которую неспособны другие методы.\n",
    "Методы межквартильного размаха и z-отклонений довольно просты в реализации и основаны на стройной математической теории, а не на эвристиках. Но это их преимущество и недостаток. Оба метода разработаны для данных, распределённых приблизительно нормально. Проблема в том, что далеко не всё в мире имеет нормальное распределение. Необходимо внимательно «рыться» в данных, совершать дополнительные преобразования, чтобы привести их хотя бы к подобию нормального распределения, либо подбирать границы методов, чтобы учитывать особенности распределений. В противном случае методы начинают считать выбросами всё, что не вписывается в жёсткие границы, и вы рискуете лишиться важных данных! Учитывайте это в своей работе и всегда проверяйте результаты."
   ]
  },
  {
   "attachments": {},
   "cell_type": "markdown",
   "metadata": {},
   "source": [
    "## ДРУГИЕ МЕТОДЫ ПОИСКА ВЫБРОСОВ\n",
    "\n",
    "Конечно, наука о данных не ограничивается тремя методами. Скажем даже больше: в машинном обучении есть отдельная активно развивающаяся подобласть, именуемая Outliers (Anomaly) Detection. Она включает в себя большое количество методов для поиска аномалий в совершенно различных видах данных: от временных рядов до географических данных. Специалисты этой области обучают целые модели, которые помогают отыскать выбросы в данных. \n",
    "\n",
    "Мы рассмотрели самые простые, но очень распространённые методы поиска выбросов, главный недостаток которых состоит в том, что они основываются на информации только по одному признаку. Для глубокого поиска аномалий могут применяться методы, которые используют информацию обо всех признаках.\n",
    "\n",
    "Например, для поиска аномалий часто используется метод кластеризации DBSCAN, о котором мы ещё будем говорить в модуле по кластеризации данных далее. Метод пытается объединить данные в группы (кластеры), например: квартиры низкого, среднего и премиального класса, опираясь на все признаки. Всё, что не попало ни в какой из кластеров, помечается как выброс (шум).\n",
    "\n",
    "Графическая иллюстрация метода\n",
    "\n",
    "![](https://lms.skillfactory.ru/assets/courseware/v1/258a1f47ca22f3497647aa583265be85/asset-v1:SkillFactory+DST-3.0+28FEB2021+type@asset+block/dst-3-unit-1-mod-14-28.png)"
   ]
  },
  {
   "cell_type": "markdown",
   "metadata": {},
   "source": [
    "Но ситуация остаётся прежней: ни один из методов не гарантирует, что найденные наблюдения действительно являются выбросами и подлежат исключению из данных."
   ]
  },
  {
   "attachments": {},
   "cell_type": "markdown",
   "metadata": {},
   "source": [
    "### Задание 6.5\n",
    "\n",
    "Постройте гистограмму для признака price_doc в логарифмическом масштабе. А также, добавьте на график линии, отображающие среднее и границы интервала для метода трех сигм. Выберите верные утверждения:"
   ]
  },
  {
   "cell_type": "code",
   "execution_count": 141,
   "metadata": {},
   "outputs": [
    {
     "data": {
      "image/png": "[encoded data removed]",
      "text/plain": [
       "<Figure size 576x288 with 1 Axes>"
      ]
     },
     "metadata": {
      "needs_background": "light"
     },
     "output_type": "display_data"
    }
   ],
   "source": [
    "fig, ax = plt.subplots(1, 1, figsize=(8, 4))\n",
    "log_price_data = np.log(sber_data['price_doc'])\n",
    "histplot = sns.histplot(log_price_data, bins=30, ax=ax)\n",
    "\n",
    "histplot.axvline(log_price_data.mean(), color='k', lw=2)\n",
    "histplot.axvline(log_price_data.mean()+ 3 * log_price_data.std(), color='k', ls='--', lw=2)\n",
    "histplot.axvline(log_price_data.mean()- 3 * log_price_data.std(), color='k', ls='--', lw=2)\n",
    "\n",
    "histplot.set_title('Price Distribution');\n",
    "\n",
    "#fig, ax = plt.subplots(1, 1, figsize=(8, 4))\n",
    "#log_mkad_km = np.log(sber_data['mkad_km'] + 1)\n",
    "#histplot = sns.histplot(log_mkad_km, bins=30, ax=ax)\n",
    "#histplot.axvline(log_mkad_km.mean(), color='k', lw=2)\n",
    "#histplot.axvline(log_mkad_km.mean()+ 3 * log_mkad_km.std(), color='k', ls='--', lw=2)\n",
    "#histplot.axvline(log_mkad_km.mean()- 3 * log_mkad_km.std(), color='k', ls='--', lw=2)\n",
    "#histplot.set_title('Log MKAD Km Distribution');\n",
    "\n"
   ]
  },
  {
   "cell_type": "code",
   "execution_count": 142,
   "metadata": {},
   "outputs": [
    {
     "data": {
      "text/plain": [
       "0        15.581952\n",
       "1        15.607270\n",
       "2        15.555977\n",
       "3        16.388123\n",
       "4        16.608603\n",
       "           ...    \n",
       "30466    15.816991\n",
       "30467    17.034386\n",
       "30468    15.757263\n",
       "30469    16.418200\n",
       "30470    15.538277\n",
       "Name: price_doc, Length: 30471, dtype: float64"
      ]
     },
     "execution_count": 142,
     "metadata": {},
     "output_type": "execute_result"
    }
   ],
   "source": [
    "log_price_data"
   ]
  },
  {
   "cell_type": "code",
   "execution_count": 146,
   "metadata": {},
   "outputs": [
    {
     "name": "stdout",
     "output_type": "stream",
     "text": [
      "Число выбросов по методу z-отклонения: 52\n",
      "Результирующее число записей: 30419\n"
     ]
    }
   ],
   "source": [
    "outliers, cleaned = outliers_z_score_mod(sber_data, 'price_doc', left=3.7, right=3.7, log_scale=True)\n",
    "print(f'Число выбросов по методу z-отклонения: {outliers.shape[0]}')\n",
    "print(f'Результирующее число записей: {cleaned.shape[0]}')"
   ]
  },
  {
   "attachments": {},
   "cell_type": "markdown",
   "metadata": {},
   "source": [
    "### Задание 6.7  \n",
    "\n",
    "Добавьте фишку с логарифмированием в свою функцию outliers_iqr_mod(). Добавьте в неё параметр log_scale. Если он выставлен в True, то производится логарифмирование признака. Примените полученную функцию к признаку price_doc. Число межквартильных размахов в обе стороны обозначьте как 3. Чему равно число выбросов, полученных таким методом?\n",
    "\n",
    "При логарифмировании признака price_doc добавлять к нему 1 не нужно, он не имеет нулевых значений!"
   ]
  },
  {
   "cell_type": "code",
   "execution_count": 171,
   "metadata": {},
   "outputs": [
    {
     "name": "stdout",
     "output_type": "stream",
     "text": [
      "Количество выбросов: 92\n",
      "Количество записей: 30379\n"
     ]
    }
   ],
   "source": [
    "def outliers_iqr_mod(data, feature, left=1.5, right=1.5, log_scale=False):\n",
    "    \n",
    "    if log_scale:\n",
    "        x = np.log(data[feature])\n",
    "    else:\n",
    "                \n",
    "        x = data[feature]\n",
    "        quartile_1, quartile_3 = x.quantile(0.25), x.quantile(0.75),\n",
    "        iqr = quartile_3 - quartile_1\n",
    "        \n",
    "        lower_bound = quartile_1 - (iqr * left)\n",
    "        upper_bound = quartile_3 + (iqr * right)\n",
    "        \n",
    "        outliers = data[(x<lower_bound) | (x > upper_bound)]\n",
    "        cleaned = data[(x>lower_bound) & (x < upper_bound)]\n",
    "        return outliers, cleaned\n",
    "    \"\"\"\n",
    "    Давайте немного модифицируем нашу функцию outliers_iqr(). \n",
    "    Добавьте в нее параметры left и right, которые задают число IQR влево и вправо от границ ящика (пусть по умолчанию они равны 1.5).\n",
    "    Функция, как и раньше должна возвращать потенциальные выбросы и очищенный DataFrame.\n",
    "    \"\"\"\n",
    "\n",
    "outliers, cleaned = outliers_iqr_mod(sber_data, 'price_doc', left=3, right=3)\n",
    "print('Количество выбросов:', outliers.shape[0])\n",
    "print('Количество записей:', cleaned.shape[0])"
   ]
  },
  {
   "attachments": {},
   "cell_type": "markdown",
   "metadata": {},
   "source": [
    "# Работа с дубликатами и неинформативными признаками"
   ]
  },
  {
   "attachments": {},
   "cell_type": "markdown",
   "metadata": {},
   "source": [
    "## ДУБЛИКАТЫ\n",
    "\n",
    "Иногда данные могут содержать повторяющиеся записи (дубликаты).\n",
    "\n",
    "Дубликатами называются записи, для которых значения (всех или большинства) признаков совпадают. \n",
    "\n",
    "Мы уже сталкивались с такой проблемой, когда рассматривали датасет с информацией о фильмах и их рейтингах. В двух таблицах с рейтингами возникали дубликаты, из-за которых мы не могли правильно объединить данные. \n",
    "\n",
    "В том случае дубликаты было очень просто найти: это была последняя строка первой и первая строка второй таблиц. Но так бывает не всегда. Иногда дубликаты тщательно скрываются в данных и необходимо приложить немало усилий, чтобы их отыскать."
   ]
  },
  {
   "attachments": {},
   "cell_type": "markdown",
   "metadata": {},
   "source": [
    "## ЧЕМ ОПАСНЫ ДУБЛИКАТЫ?\n",
    "\n",
    "Дублирующаяся информация никогда не приводит ни к чему хорошему. В Data Science одинаковые записи не несут полезной информации и искажают реальную статистику. Модель несколько раз видит одно и то же наблюдение и начинает подстраиваться под него. Если дубликатов много, это может стать большой проблемой при обучении."
   ]
  },
  {
   "attachments": {},
   "cell_type": "markdown",
   "metadata": {},
   "source": [
    "## ОБНАРУЖЕНИЕ И ЛИКВИДАЦИЯ ДУБЛИКАТОВ\n",
    "\n",
    "Способ обнаружения дубликатов зависит от того, что именно вы считаете дубликатом. Например, за дубликаты можно посчитать записи, у которых совпадают все признаки или их часть. Если в таблице есть столбец с уникальным идентификатором (id), вы можете попробовать поискать дубликаты по нему: одинаковые записи могут иметь одинаковый id.\n",
    "\n",
    "✍️ Проверим, есть у нас такие записи: для этого сравним число уникальных значений в столбце id с числом строк. Число уникальных значений вычислим с помощью метода nunique():"
   ]
  },
  {
   "cell_type": "code",
   "execution_count": 172,
   "metadata": {},
   "outputs": [
    {
     "data": {
      "text/plain": [
       "True"
      ]
     },
     "execution_count": 172,
     "metadata": {},
     "output_type": "execute_result"
    }
   ],
   "source": [
    "sber_data['id'].nunique() == sber_data.shape[0]\n"
   ]
  },
  {
   "cell_type": "markdown",
   "metadata": {},
   "source": [
    "Вроде бы всё в порядке: каждой записи в таблице соответствует свой уникальный идентификатор. Но это ещё не означает, что в таблице нет дубликатов!"
   ]
  },
  {
   "cell_type": "markdown",
   "metadata": {},
   "source": [
    "Столбец с id задаёт каждой строке свой уникальный номер, поэтому сама по себе каждая строка является уникальной. Однако содержимое других столбцов может повторяться.\n",
    "\n",
    "Чтобы отследить дубликаты, можно воспользоваться методом duplicated(), который возвращает булеву маску для фильтрации. Для записей, у которых совпадают признаки, переданные методу, он возвращает True, для остальных — False.\n",
    "\n",
    "У метода есть параметр ```subset``` — список признаков, по которым производится поиск дубликатов. По умолчанию используются все столбцы в DataFrame и ищутся полные дубликаты.\n",
    "\n",
    "✍️ Найдём число полных дубликатов таблице sber_data. Предварительно создадим список столбцов dupl_columns, по которым будем искать совпадения (все столбцы, не включая id). \n",
    "\n",
    "Создадим маску дубликатов с помощью метода duplicated() и произведём фильтрацию. Результат заносим в переменную sber_duplicates. Выведем число строк в результирующем DataFrame:"
   ]
  },
  {
   "cell_type": "code",
   "execution_count": 173,
   "metadata": {},
   "outputs": [
    {
     "name": "stdout",
     "output_type": "stream",
     "text": [
      "Число найденных дубликатов: 562\n"
     ]
    }
   ],
   "source": [
    "dupl_columns = list(sber_data.columns)\n",
    "dupl_columns.remove('id')\n",
    "\n",
    "mask = sber_data.duplicated(subset=dupl_columns)\n",
    "sber_duplicates = sber_data[mask]\n",
    "print(f'Число найденных дубликатов: {sber_duplicates.shape[0]}')"
   ]
  },
  {
   "cell_type": "markdown",
   "metadata": {},
   "source": [
    "Итак, 562 строки в таблице являются полными копиями других записей. Ручной поиск совпадающих строк по 30 тысячам записей был бы практически невыполним, а с помощью pandas мы быстро, а главное, легко обнаружили дублирующиеся данные!\n",
    "\n",
    "Теперь нам необходимо от них избавиться. Для этого легче всего воспользоваться методом drop_duplicates(), который удаляет повторяющиеся записи из таблицы. \n",
    "\n",
    "✍️ Создадим новую таблицу sber_dedupped, которая будет версией исходной таблицы, очищенной от полных дубликатов."
   ]
  },
  {
   "cell_type": "code",
   "execution_count": 174,
   "metadata": {},
   "outputs": [
    {
     "name": "stdout",
     "output_type": "stream",
     "text": [
      "Результирующее число записей: 29909\n"
     ]
    }
   ],
   "source": [
    "sber_dedupped = sber_data.drop_duplicates(subset=dupl_columns)\n",
    "print(f'Результирующее число записей: {sber_dedupped.shape[0]}')"
   ]
  },
  {
   "attachments": {},
   "cell_type": "markdown",
   "metadata": {},
   "source": [
    "## НЕИНФОРМАТИВНЫЕ ПРИЗНАКИ\n",
    "\n",
    "Отсутствием новой и полезной информации могут «похвастаться» не только отдельные записи в таблице, но и целые признаки.\n",
    "\n",
    "Неинформативными называются признаки, в которых большая часть строк содержит одинаковые значения (например, пол клиентов в мужском барбершопе), либо наоборот — признак, в котором для большинства записей значения уникальны (например, номер телефона клиента). \n",
    "\n",
    "Мы уже сталкивались с неинформативными признаками. Вспомните датасет о домах в Мельбурне, где был признак адреса дома с уникальным значением для каждого дома."
   ]
  },
  {
   "attachments": {},
   "cell_type": "markdown",
   "metadata": {},
   "source": [
    "### ЧЕМ ОПАСНЫ НЕИНФОРМАТИВНЫЕ ПРИЗНАКИ?\n",
    "\n",
    "Такие признаки не играют роли при моделировании и лишь засоряют таблицу, увеличивая размерность данных. Они усиливают уже знакомое нам проклятие размерности, которое увеличивает время обучения модели и потенциально может снизить ее качество. \n",
    "\n",
    "Поэтому от таких признаков необходимо безжалостно избавляться."
   ]
  },
  {
   "attachments": {},
   "cell_type": "markdown",
   "metadata": {},
   "source": [
    "## ОБНАРУЖЕНИЕ И ЛИКВИДАЦИЯ НЕИНФОРМАТИВНЫХ ПРИЗНАКОВ\n",
    "\n",
    "Чтобы считать признак неинформативным, прежде всего нужно задать какой-то определённый порог. Например, часто используют пороги в 0.95 и 0.99. Это означает: признак неинформативен, если в нем 95 % (99 %) одинаковых значений или же 95 % (99 %) данных полностью уникальны.\n",
    "\n",
    "К сожалению, в pandas пока нет волшебной палочки, которая мгновенно бы выдавала список столбцов, обладающих низкой информативностью. Однако процедура их поиска легко реализуется вручную."
   ]
  },
  {
   "cell_type": "markdown",
   "metadata": {},
   "source": [
    "Разберём алгоритм:\n",
    "\n",
    "→ Создаём пустой список low_information_cols, куда будем добавлять названия признаков, которые мы посчитаем неинформативными.\n",
    "\n",
    "→ В цикле пройдёмся по всем именам столбцов в таблице и для каждого будем совершать следующие действия:\n",
    "\n",
    "рассчитаем top_freq — наибольшую относительную частоту с помощью метода value_counts() с параметром normalize=True. Метод вернёт долю от общих данных, которую занимает каждое уникальное значение в признаке.\n",
    "Например, для столбца oil_chemistry_raion (нефтехимический район) результат будет следующим:\n",
    "\n",
    "![](https://lms.skillfactory.ru/assets/courseware/v1/26d5cb5e089bb2fb7a342c000aa81599/asset-v1:SkillFactory+DST-3.0+28FEB2021+type@asset+block/dst-3-unit-1-mod-14-29.png)\n",
    "\n",
    "Отсюда нам нужен максимум.\n",
    "\n",
    "рассчитаем nunique_ratio — отношение числа уникальных значений в столбце к размеру всего столбца. Число уникальных значений в столбце получим с помощью метода nunique(), а размер признака — с помощью метода count(). Например, для столбца id число уникальных значений — 30471; оно же равно размеру таблицы. Поэтому результат отношения будет 1.\n",
    "сравним каждое из полученных чисел с пороговым значением (у нас это 0.95) и добавим в список неинформативных признаков, если условие истинно."
   ]
  },
  {
   "cell_type": "code",
   "execution_count": 175,
   "metadata": {},
   "outputs": [
    {
     "name": "stdout",
     "output_type": "stream",
     "text": [
      "id: 100.0% уникальных значений\n",
      "oil_chemistry_raion: 99.03% одинаковых значений\n",
      "railroad_terminal_raion: 96.27% одинаковых значений\n",
      "nuclear_reactor_raion: 97.17% одинаковых значений\n",
      "big_road1_1line: 97.44% одинаковых значений\n",
      "mosque_count_1000: 98.08% одинаковых значений\n"
     ]
    }
   ],
   "source": [
    "#список неинформативных признаков\n",
    "low_information_cols = [] \n",
    "\n",
    "#цикл по всем столбцам\n",
    "for col in sber_data.columns:\n",
    "    #наибольшая относительная частота в признаке\n",
    "    top_freq = sber_data[col].value_counts(normalize=True).max()\n",
    "    #доля уникальных значений от размера признака\n",
    "    nunique_ratio = sber_data[col].nunique() / sber_data[col].count()\n",
    "    # сравниваем наибольшую частоту с порогом\n",
    "    if top_freq > 0.95:\n",
    "        low_information_cols.append(col)\n",
    "        print(f'{col}: {round(top_freq*100, 2)}% одинаковых значений')\n",
    "    # сравниваем долю уникальных значений с порогом\n",
    "    if nunique_ratio > 0.95:\n",
    "        low_information_cols.append(col)\n",
    "        print(f'{col}: {round(nunique_ratio*100, 2)}% уникальных значений')"
   ]
  },
  {
   "cell_type": "markdown",
   "metadata": {},
   "source": [
    "Итак, мы нашли шесть неинформативных признаков. Теперь можно удалить их с помощью метода drop(), передав результирующий список в его аргументы."
   ]
  },
  {
   "cell_type": "code",
   "execution_count": 176,
   "metadata": {},
   "outputs": [
    {
     "name": "stdout",
     "output_type": "stream",
     "text": [
      "Результирующее число признаков: 55\n"
     ]
    }
   ],
   "source": [
    "information_sber_data = sber_data.drop(low_information_cols, axis=1)\n",
    "print(f'Результирующее число признаков: {information_sber_data.shape[1]}')"
   ]
  },
  {
   "cell_type": "markdown",
   "metadata": {},
   "source": [
    "Однако всегда следует скептически относиться к результатам, которые предоставил алгоритм поиска неинформативных признаков. В противном случае можно лишиться важных данных. \n",
    "\n",
    "Например, в ваших данных есть признак цены акций, которая всё время меняется. В каждый момент времени её цена уникальна, то есть число уникальных значений в столбце совпадает с размером столбца. Казалось бы, по критерию информативности это кандидат на выбывание, но если мы рассматриваем задачу предсказания спроса на эти самые акции, то очевидно, что цена — это очень важный фактор, несмотря на свою уникальность. Именно цена на акции определяет спрос на них.\n",
    "\n",
    "Могут возникнуть ситуации, когда присутствует огромная разница в частотах для каждого уникального значения в столбце, но это вовсе не значит, что признак неинформативен. Например, у нас могут быть данные о различных переводах между счетами пользователей. В этих данных может быть очень важный признак мошенничества (два возможных значения — да и нет). Как правило, соотношение между мошенниками и обычными пользователями около — 2/98 % (мошенников 1-2 %, а обычных пользователей — 98-99 %). Но стоит ли удалять данный признак из данных зависит от поставленной перед нами задачи.\n",
    "\n",
    "Будьте внимательны и рассудительны при поиске неинформативных признаков. Лучшее решение — для начала использовать все признаки для построения базовой модели, а затем уже выбирать те, которые обладают наибольшей информативностью.\n",
    "\n",
    "Более подробно мы рассмотрим данные нюансы в блоке по машинному обучению."
   ]
  },
  {
   "attachments": {},
   "cell_type": "markdown",
   "metadata": {},
   "source": [
    "## ВАЖНОСТЬ ПРИЗНАКОВ\n",
    "\n",
    "На самом деле информативность признаков определяется не только числом уникальных значений, но и их влиянием на целевой признак (тот, который мы хотим предсказать). Это называется важностью признака. \n",
    "\n",
    "Признаки, которые обладают низкой важностью, называют нерелевантными признаками. \n",
    "\n",
    "Например, если бы в наших данных о квартирах был признак, содержащий информацию о температуре воздуха за окном, он был бы нерелевантным.\n",
    "\n",
    "Нерелевантные признаки могут быть не такими очевидными. В таких случаях применяются более сложные способы их поиска с использованием статистики и моделей машинного обучения. Мы поговорим об этом позже, когда вплотную подойдём к Machine Learning.\n",
    "\n",
    "Мы рассмотрели методы поиска данных, которые не несут полезной информации и поэтому подлежат исключению. Давайте проверим, как вы усвоили материал ↓"
   ]
  }
 ],
 "metadata": {
  "interpreter": {
   "hash": "5f5b4eacd33b247cead3be2c2dec86fdbc4f1d00fa25e3e547e648f85c13e2b2"
  },
  "kernelspec": {
   "display_name": "Python 3.9.7 ('base')",
   "language": "python",
   "name": "python3"
  },
  "language_info": {
   "codemirror_mode": {
    "name": "ipython",
    "version": 3
   },
   "file_extension": ".py",
   "mimetype": "text/x-python",
   "name": "python",
   "nbconvert_exporter": "python",
   "pygments_lexer": "ipython3",
   "version": "3.9.7"
  },
  "orig_nbformat": 4
 },
 "nbformat": 4,
 "nbformat_minor": 2
}
