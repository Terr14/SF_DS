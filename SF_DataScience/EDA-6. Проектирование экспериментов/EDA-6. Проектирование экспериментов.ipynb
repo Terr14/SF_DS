{
 "cells": [
  {
   "cell_type": "markdown",
   "metadata": {},
   "source": [
    "# **EDA-6. Проектирование экспериментов**"
   ]
  },
  {
   "cell_type": "markdown",
   "metadata": {},
   "source": [
    "# 1. Введение в модуль\n",
    "\n",
    "→ Помимо получения хороших результатов от обучения модели машинного обучения, ещё одной важной задачей специалиста по данным является организация экспериментов, позволяющая делать качественные выводы.\n",
    "\n",
    "В качестве ответа на такую потребность используется отслеживание экспериментов. Комьюнити машинного обучения реализует отслеживание экспериментов по-разному, будь то электронные таблицы, GitHub или самодельные платформы. Тем не менее, наиболее эффективный вариант — делать это с помощью инструментов, специально разработанных для отслеживания и управления экспериментами по машинному обучению.\n",
    "\n",
    "**В ЭТОМ МОДУЛЕ МЫ УЗНАЕМ:**\n",
    "\n",
    "* какую роль занимают эксперименты в проектах по машинному обучению;\n",
    "\n",
    "* что означает отслеживание экспериментов;\n",
    "\n",
    "* как пользоваться популярным инструментом для мониторинга проектов в ML.\n",
    "\n",
    "**В ЭТОМ МОДУЛЕ МЫ НАУЧИМСЯ:**\n",
    "\n",
    "* проектировать эксперименты и строить по ним выводы;\n",
    "\n",
    "* запускать платформу для трекинга и производить логирование экспериментов из Colab."
   ]
  },
  {
   "cell_type": "markdown",
   "metadata": {},
   "source": [
    "# 2. Введение в проектирование экспериментов\n",
    "\n",
    "→ Вы уже познакомились с такими разделами разведывательного анализа данных, как визуализация данных, постановка и проверка гипотез о данных, A/B-тестирование. А ведь всё это можно отнести ещё только к началу работы над проектом по машинному обучению! \n",
    "\n",
    "**Машинное обучение (ML)** — это область компьютерных наук, которая использует алгоритмы для создания и обучения моделей для выполнения рутинных задач. \n",
    "\n",
    "Типичный подход к управлению проектами машинного обучения основан на проектировании моделей машинного обучения вручную. И обычно он представлен следующими этапами:\n",
    "\n",
    "![](https://lms.skillfactory.ru/assets/courseware/v1/55016f8e2b093a5e8f2faa175f0638ed/asset-v1:SkillFactory+DST-3.0+28FEB2021+type@asset+block/dst-eda-6-1.png)\n",
    "\n",
    "Например, вы хотите сделать анализ спроса людей на определённое лекарство. Вы собираете данные о клиентах и информацию о том, купил ли конкретный клиент лекарство. Затем вы анализируете доступные данные, создаёте и обучаете модель машинного обучения, потом используете готовую модель на новых данных такого же формата, что и предыдущие.\n"
   ]
  },
  {
   "cell_type": "markdown",
   "metadata": {},
   "source": [
    "Этот процесс предполагает, что обученная модель должна быть конечным результатом проекта машинного обучения. Однако такой подход ошибочен по нескольким причинам.\n",
    "\n",
    "Мир постоянно развивается, стимулируемый прорывными технологиями, что приводит к постоянному увеличению объёма данных. Следовательно, данные, которые инженеры машинного обучения должны обрабатывать для обучения моделей, также постоянно меняются. Обученная модель может удовлетворить непосредственные потребности заказчика только на основе данных, которые ей были предоставлены, но в долгосрочной перспективе она может оказаться неэффективной, поскольку она не приспосабливается автоматически к изменениям в наборах данных. \n",
    "\n",
    "> Например, если вы хотите использовать готовую модель анализа спроса на лекарства, которая была обучена на данных покупателей (регион проживания, цвет глаз, возраст), но о новых покупателях нет возможности собрать подобные данные (в анкетах больше не указывались цвет глаз и регион проживания),\n",
    "\n",
    "Обновления в фиксированных наборах данных, используемых для обучения, приводят к изменениям в модели, что снижает её точность. В примере выше столбцы регион и цвет глаз будут иметь пропуски для новых клиентов, а следовательно, прогноз модели, который является суммой признаков, умноженных на обученные коэффициенты, не будет достоверным.\n",
    "\n",
    "> Это особенно важно для проектов в сфере здравоохранения. Чем выше точность показывает модель при классификации медицинских изображений, тем выше шансы, что она сможет соперничать с профессиональными медиками в постановке точных диагнозов, исключая риск человеческой ошибки."
   ]
  },
  {
   "cell_type": "markdown",
   "metadata": {},
   "source": [
    "> **Точность модели** (accuracy) машинного обучения определяется как процент правильных прогнозов для тестовых данных и рассчитывается путём деления количества правильных прогнозов на общее количество прогнозов. Обычно это определяющий фактор при оценке успеха проекта машинного обучения — чем выше точность, тем лучше работает модель машинного обучения. \n",
    "\n",
    "Например, вы оцениваете спрос на товар. Ваша цель — узнать, купит ли клиент продукт. Вы строите модель на основе данных и реальных ответов, а затем сравниваете свои предсказания и реальные ответы. Если предсказания совпадают с реальными ответами чаще, чем в 90 % случаях, то обычно говорят, что модель надёжна, и её можно использовать для предсказаний спроса уже других клиентов. \n",
    "\n",
    "![](https://lms.skillfactory.ru/assets/courseware/v1/51d97d83c89292c847920693528eaaa6/asset-v1:SkillFactory+DST-3.0+28FEB2021+type@asset+block/dst-eda-6-2.png)\n",
    "\n",
    "КАК ДОБИТЬСЯ ЛУЧШЕЙ ТОЧНОСТИ МОДЕЛИ ML?\n",
    "\n",
    "Чтобы оптимизировать метрики для тестовых данных, необходимо пространство для многочисленных экспериментов. Экспериментирование с различными архитектурами моделей, кодом предварительной обработки и параметрами модели, определяющими успех процесса обучения, несколько раз приводит к повторному обучению модели. Всё это вы будете изучать в будущих модулях, посвящённых моделированию в ML.  \n",
    "\n",
    "Возникает необходимость отслеживания экспериментов, то есть сохранения всей важной информации, связанной с каждым запускаемым экспериментом, например сохранение параметров запуска, влияющих на производительность модели. Выполнять эту задачу вручную обременительно, поэтому имеет смысл поставить для процесса автоматизированную инфраструктуру — **пайплайн** (pipeline) машинного обучения."
   ]
  },
  {
   "cell_type": "markdown",
   "metadata": {},
   "source": [
    "**Пайплайном** (pipeline) в ML называется способ систематизации и автоматизации рабочего процесса, необходимого для создания модели машинного обучения. Пайплайны состоят из нескольких последовательных шагов, которые выполняют всё — от извлечения и предварительной обработки данных до обучения и проверки моделей.\n",
    "\n",
    "Пайплайн машинного обучения состоит из следующих шагов:\n",
    "\n",
    "![](https://lms.skillfactory.ru/assets/courseware/v1/39ebef88c19308deecbce2266474b48e/asset-v1:SkillFactory+DST-3.0+28FEB2021+type@asset+block/dst-eda-6-3.png)\n",
    "\n",
    "Этот рабочий процесс позволяет осуществлять непрерывную настройку существующих моделей наряду с постоянной оценкой производительности. Самым большим преимуществом этого процесса является то, что его можно автоматизировать с помощью доступных инструментов."
   ]
  },
  {
   "cell_type": "markdown",
   "metadata": {},
   "source": [
    "Для медицинских стартапов это означает, что они могут получить модель машинного обучения для конкретного проекта, которая будет постоянно обновляться по мере поступления новых данных о пациентах, что приведёт к более высокой точности полученных результатов.\n",
    "\n",
    "✍️ Давайте на примере подробно разберём проектирование экспериментов и построение пайплайна. \n",
    "\n",
    "> Представьте, что вы специалист по данным, а ваша компания сотрудничает с медицинскими учреждениями. Перед вами стоит задача выяснить, почему люди, получившие инструкции по лечению, не приходят на следующий приём. В качестве набора данных вы используете информацию о посещениях и характеристики пациентов. \n",
    "\n",
    "Каждая история болезни характеризуется следующими признаками:\n",
    "\n",
    "* No_show — пациент не пришёл на приём;\n",
    "* Gender — пол пациента;\n",
    "* ScheduledDay — день, когда планируется встреча;\n",
    "* AppointmentDay — реальная дата встречи;\n",
    "* Age — возраст пациента;\n",
    "* Neighbourhood — район проживания каждого пациента;\n",
    "* Scholarship — получает ли пациент стипендию;\n",
    "* …и несколько других признаков."
   ]
  },
  {
   "cell_type": "markdown",
   "metadata": {},
   "source": [
    "### 1. Первым этапом данных является загрузка данных: "
   ]
  },
  {
   "cell_type": "code",
   "execution_count": 2,
   "metadata": {},
   "outputs": [],
   "source": [
    "import pandas as pd\n",
    "import matplotlib.pyplot as plt"
   ]
  },
  {
   "cell_type": "markdown",
   "metadata": {},
   "source": [
    "**Что делать, если не получается загрузить данные с Kaggle?**\n",
    "\n",
    "Воспользуйтесь [альтернативной ссылкой](https://lms.skillfactory.ru/assets/courseware/v1/757324828c4c8e82141ee30b3a5e2022/asset-v1:SkillFactory+DST-3.0+28FEB2021+type@asset+block/KaggleV2-May-2016.csv.zip) на данные."
   ]
  },
  {
   "cell_type": "code",
   "execution_count": 3,
   "metadata": {},
   "outputs": [],
   "source": [
    "df = pd.read_csv('data\\KaggleV2-May-2016.csv')"
   ]
  },
  {
   "cell_type": "markdown",
   "metadata": {},
   "source": [
    "Основная цель проекта — выделить факторы, способствующие пропуску встреч с врачом. Однако это долгосрочная цель. Прежде чем копнуть глубже, необходимо попытаться ответить на следующие вопросы:\n",
    "\n",
    "* Каково соотношение людей, которые пропускают встречи, к тем, кто этого не делает?\n",
    "* Кто не появляется чаще — мужчины или женщины?"
   ]
  },
  {
   "cell_type": "markdown",
   "metadata": {},
   "source": [
    "### 2. Для ответа на эти и другие подобные вопросы используется EDA.\n",
    "\n",
    "Найти соотношение людей, которые пропускают приёмы, к тем, кто этого не делает, можно с помощью гистограммы:"
   ]
  },
  {
   "cell_type": "code",
   "execution_count": 4,
   "metadata": {},
   "outputs": [
    {
     "data": {
      "image/png": "[encoded data removed]",
      "text/plain": [
       "<Figure size 576x288 with 1 Axes>"
      ]
     },
     "metadata": {
      "needs_background": "light"
     },
     "output_type": "display_data"
    }
   ],
   "source": [
    "plt.figure(figsize=(8,4))\n",
    "df['No-show'].hist()\n",
    "plt.title('Соотношение людей, которые пропускают приемы, к тем, кто этого не делает');"
   ]
  },
  {
   "cell_type": "markdown",
   "metadata": {},
   "source": [
    "Или, если мы хотим получить точную пропорцию, — с помощью метода value_counts():"
   ]
  },
  {
   "cell_type": "code",
   "execution_count": 5,
   "metadata": {},
   "outputs": [
    {
     "data": {
      "text/plain": [
       "No     0.798067\n",
       "Yes    0.201933\n",
       "Name: No-show, dtype: float64"
      ]
     },
     "execution_count": 5,
     "metadata": {},
     "output_type": "execute_result"
    }
   ],
   "source": [
    "df['No-show'].value_counts(True)"
   ]
  },
  {
   "cell_type": "markdown",
   "metadata": {},
   "source": [
    "Данный метод также может помочь оценить, кто не появляется чаще — мужчины или женщины:"
   ]
  },
  {
   "cell_type": "code",
   "execution_count": 6,
   "metadata": {},
   "outputs": [
    {
     "data": {
      "text/plain": [
       "F    0.653882\n",
       "M    0.346118\n",
       "Name: Gender, dtype: float64"
      ]
     },
     "execution_count": 6,
     "metadata": {},
     "output_type": "execute_result"
    }
   ],
   "source": [
    "df[df['No-show']=='Yes']['Gender'].value_counts(True)\n"
   ]
  },
  {
   "cell_type": "markdown",
   "metadata": {},
   "source": [
    "Итак, мы видим, что людей, пропускающих приём, примерно 20 %, и из них 65 % — женщины."
   ]
  },
  {
   "cell_type": "markdown",
   "metadata": {},
   "source": [
    "### 3. Предобработка данных\n",
    "После того, как выполнен разведывательный анализ данных, переходим к предобработке данных. Некоторые столбцы, например ```‘Gender’``` и ```‘Neighbourhood’```, представлены в текстовом виде, а модели машинного обучения работают с числовыми признаками. Необходимо закодировать такие данные. Для one-hot кодировки можно воспользоваться методом ```get_dummies()``` библиотеки pandas:"
   ]
  },
  {
   "cell_type": "code",
   "execution_count": 7,
   "metadata": {},
   "outputs": [],
   "source": [
    "categorical_columns_names = ['Gender', 'Neighbourhood']\n",
    "encoded_columns = pd.get_dummies(df, columns = categorical_columns_names)"
   ]
  },
  {
   "cell_type": "markdown",
   "metadata": {},
   "source": [
    "### 4. Создание предсказания\n",
    "\n",
    "После этих этапов можно переходить к созданию предсказания, придёт ли пациент на приём, обучению и оптимизации модели, а также выделению наиболее важных признаков, способствующих высокой производительности модели. Об этом вы узнаете в будущих модулях!  \n",
    "\n",
    "Предположим, вы несколько раз обучили модель с разными параметрами, подобрали наилучшие и достигли $accuracy>0.9$. То есть доля верных предсказаний превышает 90 %. Также вы узнали, что наибольший вклад в модель вносят такие признаки, как пол, регион и факт наличия стипендии. Про влияние пола на результат вы догадались во время проведения EDA, регион кажется тоже понятным фактором: люди в крупных городах больше склонны приходить на последующий назначенный прием, а вот факт наличия стипендии — не такой очевидный фактор. \n",
    "\n",
    "Это подтверждает тезис о том, что модели машинного обучения могут рассматриваться как чёрный ящик: нечто, куда мы кладём свои данные и получаем предсказание. Не всегда результаты прогнозов легко интерпретируемы. Обычно существует **трэйд-офф** между качеством модели и её интерпретируемостью: чем сложнее модель, тем выше, но менее очевиден её результат.    \n",
    "\n"
   ]
  },
  {
   "cell_type": "markdown",
   "metadata": {},
   "source": [
    "⬇️ Ноутбук с продемонстрированным кодом доступен по [ссылке](https://lms.skillfactory.ru/assets/courseware/v1/a60205a7aef74bb8877c204d4c570551/asset-v1:SkillFactory+DST-3.0+28FEB2021+type@asset+block/noshowappointments.ipynb)."
   ]
  },
  {
   "cell_type": "markdown",
   "metadata": {},
   "source": [
    "Как мы уже выяснили, в реальных проектах может понадобиться не один эксперимент для улучшения производительности модели. Появляется необходимость сохранения всей важной информации, связанной с каждым запускаемым экспериментом. Как сохранять такую информацию, вы узнаете в следующем юните."
   ]
  },
  {
   "cell_type": "markdown",
   "metadata": {},
   "source": [
    "# 3. Логирование экспериментов"
   ]
  },
  {
   "cell_type": "markdown",
   "metadata": {},
   "source": [
    "→ Итак, запуск экспериментов по машинному обучению включает в себя множество задач, таких как EDA и предобработка данных. В последнюю может входить заполнение пропусков данных, проверка различных алгоритмов с целью поиска наилучшего, анализ производительности модели и другие связанные задачи, которые зависят от решаемой проблемы.\n",
    "\n",
    "Как вы уже знаете, в процессе проведения эксперимента по машинному обучению можно использовать функцию print() для просмотра выходных данных экспериментов, таких как уровень корреляции данных в выборке, результат тестирования статистической гипотезы и так далее. \n",
    "\n",
    "Однако время от времени выводить результат на экран с помощью функции print() бесполезно, так как при запуске следующего эксперимента вы потеряете все результаты предыдущего эксперимента, если не запишете их вручную в документ. \n",
    "\n",
    "Таким образом, сравнение результатов ML-экспериментов становится весьма затруднительным процессом, потому что необходимо иметь записи всех проводимых ранее экспериментов. Например, если во время EDA-задачи предсказания спроса на лекарство изменяются данные, то каждый раз выводить на экран новую визуализацию неудобно. \n",
    "\n",
    "Логирование решает эту проблему! Даже если информация изменится с запуском нового эксперимента, всё будет зафиксировано в логе. "
   ]
  },
  {
   "cell_type": "markdown",
   "metadata": {},
   "source": [
    "> **Лог** (log) — это специальный журнал, в котором хранится информация о состоянии работы программы. Логирование (ведение журнала) обеспечивает отслеживание событий, происходящих во время работы программы, и может выводить эти события в отдельный файл, чтобы вы могли отслеживать, что происходит во время выполнения кода. \n",
    "\n",
    "Пример такого файла: \n",
    "\n",
    "![](https://lms.skillfactory.ru/assets/courseware/v1/950fc343eb32dab13e94f0f30764ca54/asset-v1:SkillFactory+DST-3.0+28FEB2021+type@asset+block/dst-eda-6-14.png)"
   ]
  },
  {
   "cell_type": "markdown",
   "metadata": {},
   "source": [
    "Здесь зафиксирована информация о форме данных и соотношение классов целевой переменной Gender. Это даёт возможность отлаживать код. Далее мы подробнее разберём, как создавать логи. \n",
    "\n",
    "Для логирования в Python используется модуль logging. Он используется большинством сторонних библиотек Python, поэтому вы можете интегрировать свои логи с сообщениями из этих библиотек для создания единого журнала логов приложения. Данный модуль импортируется как другие библиотеки:"
   ]
  },
  {
   "cell_type": "code",
   "execution_count": 8,
   "metadata": {},
   "outputs": [],
   "source": [
    "import pandas as pd \n",
    "import logging\n",
    "import os"
   ]
  },
  {
   "cell_type": "code",
   "execution_count": 9,
   "metadata": {},
   "outputs": [],
   "source": [
    "df = pd.read_csv('./data/KaggleV2-May-2016.csv')"
   ]
  },
  {
   "cell_type": "markdown",
   "metadata": {},
   "source": [
    "Прежде чем приступить к логированию, необходимо установить базовые настройки:\n",
    "\n",
    "* уровень;\n",
    "* обработчик (хендлер);\n",
    "* формат логирования.\n",
    "\n",
    "✍️ Давайте разберёмся с этими конфигурациями по порядку.\n",
    "\n"
   ]
  },
  {
   "cell_type": "markdown",
   "metadata": {},
   "source": [
    "## НАСТРОЙКА УРОВНЯ ЛОГИРОВАНИЯ\n",
    "\n",
    "![](https://lms.skillfactory.ru/assets/courseware/v1/465691fef92f3a3ae2b612c14e2dbde2/asset-v1:SkillFactory+DST-3.0+28FEB2021+type@asset+block/dst-eda-6-10.png)"
   ]
  },
  {
   "cell_type": "markdown",
   "metadata": {},
   "source": [
    "С импортированным модулем logging вы можете использовать так называемый «logger» для логирования сообщений, которые вы хотите видеть (вместо вывода их на экран командой print()). \n",
    "\n",
    "По умолчанию существует пять стандартных уровней логирования, указывающих на важность событий: \n",
    "\n",
    "* отладка;\n",
    "* информация;\n",
    "* предупреждение;\n",
    "* ошибка;\n",
    "* критический. \n",
    "\n",
    "Самый низкий уровень из данных — не установлен, а самый высокий уровень является критическим. Установив уровень логирования, можно записать сообщение специально для этого уровня в определённый файл журнала. Возле сообщения будет указан его уровень."
   ]
  },
  {
   "cell_type": "code",
   "execution_count": 10,
   "metadata": {},
   "outputs": [],
   "source": [
    "df = pd.read_csv('./data/KaggleV2-May-2016.csv')"
   ]
  },
  {
   "cell_type": "code",
   "execution_count": 11,
   "metadata": {},
   "outputs": [
    {
     "name": "stderr",
     "output_type": "stream",
     "text": [
      "WARNING:root:Это сообщение-предупреждение\n",
      "ERROR:root:Это сообщение об ошибке\n",
      "CRITICAL:root:Это критическое сообщение\n"
     ]
    }
   ],
   "source": [
    "import logging\n",
    "logging.debug('Это сообщение отладки')\n",
    "logging.info('Это информационное сообщение')\n",
    "logging.warning('Это сообщение-предупреждение')\n",
    "logging.error('Это сообщение об ошибке')\n",
    "logging.critical('Это критическое сообщение')"
   ]
  },
  {
   "cell_type": "markdown",
   "metadata": {},
   "source": [
    "Здесь мы дали команду залогировать пять сообщений. Вывод команд показывает уровень важности перед каждым сообщением (WARNING/ERROR/CRITICAL). root — имя логера по умолчанию.\n",
    "\n",
    "Этот формат, который показывает уровень, имя и сообщение, разделенные двоеточием (:), является форматом вывода по умолчанию. Его можно изменить для включения таких вещей, как отметка времени, номер строки и других деталей. Мы научимся делать это чуть ниже.\n",
    "\n",
    "Обратите внимание, что сообщения debug() и info() не были отображены. Это связано с тем, что по умолчанию модуль ведения журнала регистрирует сообщения только с уровнем ПРЕДУПРЕЖДЕНИЕ (WARNING) или выше. Вы можете изменить это, сконфигурировав модуль logging для регистрации событий всех уровней, то есть установив уровень на ОТЛАДКУ (DEBUG). \n",
    "\n",
    "![](https://lms.skillfactory.ru/assets/courseware/v1/104c7f4800236ffbd2c6408a909cdfe2/asset-v1:SkillFactory+DST-3.0+28FEB2021+type@asset+block/dst-eda-6-12.png)\n",
    "\n",
    "В приведённом ниже примере кода показано, как можно настроить уровень ведения журнала на DEBUG."
   ]
  },
  {
   "cell_type": "code",
   "execution_count": 12,
   "metadata": {},
   "outputs": [],
   "source": [
    "logging.basicConfig(level=logging.DEBUG)\n",
    "logging.debug('Сообщение будет залогировано!')"
   ]
  },
  {
   "cell_type": "markdown",
   "metadata": {},
   "source": [
    "Мы настроили уровень ведения журнала DEBUG, что означает, что будут отслеживаться только сообщения этого уровня (DEBUG) и выше.\n",
    "\n",
    "Помимо файла лог может быть записан и в другой формат. Для этого используются **обработчики (хендлеры) логов**."
   ]
  },
  {
   "cell_type": "markdown",
   "metadata": {},
   "source": [
    "## УСТАНОВКА ОБРАБОТЧИКА ЛОГИРОВАНИЯ\n",
    "\n",
    "> Функция **обработчиков ведения журналов** состоит в том, чтобы отображать записи/сообщения журнала на любом выходе, который вы выберете. То есть вы можете выбрать, отображать ли ваш лог в виде файла, HTTP-страницы или даже отправить лог на электронную почту через SMTP. \n",
    "\n",
    "Более того, у созданного вами logger может быть несколько обработчиков, а это значит, что вы можете настроить его на сохранение в файл журнала, а также на отправку по email одновременно. Подробнее ознакомиться с видами хендлеров можно здесь.\n",
    "\n",
    "Обработчики являются классами модуля logging. Нам понадобится обработчик FileHandler, который возьмёт запись/сообщение журнала и добавит его в файл журнала log_file.log:"
   ]
  },
  {
   "cell_type": "code",
   "execution_count": 13,
   "metadata": {},
   "outputs": [
    {
     "data": {
      "text/plain": [
       "<FileHandler e:\\Study\\Data science SF\\IDE\\SkillFactory\\EDA-6. Проектирование экспериментов\\log_file.log (NOTSET)>"
      ]
     },
     "execution_count": 13,
     "metadata": {},
     "output_type": "execute_result"
    }
   ],
   "source": [
    "logging.FileHandler('log_file.log')\n"
   ]
  },
  {
   "cell_type": "markdown",
   "metadata": {},
   "source": [
    "## УСТАНОВКА ФОРМАТА ЛОГИРОВАНИЯ\n",
    "\n",
    "Как мы уже сказали, типичный формат лога выглядит так: уровень: имя: сообщение. Однако его можно изменить.\n",
    "\n",
    "Существуют различные способы форматирования записи журнала. Вы можете включить дату, время и уровень ведения журнала в свой формат, чтобы знать, когда журнал был отправлен и на каком уровне. В приведённом ниже примере показано, как можно настроить формат записей журнала."
   ]
  },
  {
   "cell_type": "code",
   "execution_count": 14,
   "metadata": {},
   "outputs": [],
   "source": [
    "logging.basicConfig(format=\"%(levelname)s: %(asctime)s: %(message)s\", \n",
    "                    level=logging.DEBUG,\n",
    "                    filename='log_file.log')\n",
    "logging.info('Проверка')"
   ]
  },
  {
   "cell_type": "markdown",
   "metadata": {},
   "source": [
    "![](https://lms.skillfactory.ru/assets/courseware/v1/f6e11f128ad7abe52fea82273400b35f/asset-v1:SkillFactory+DST-3.0+28FEB2021+type@asset+block/dst-eda-6-13.png)\n",
    "\n",
    "Здесь формат записей журнала включает дату, время, уровень ведения журнала и само сообщение.\n",
    "\n",
    "Таким образом, вы можете изменять как формат лога, так и формат вывода. Добавление времени сообщения существенно облегчает работу — становится легко отследить, когда было получено сообщение.\n",
    "\n",
    "✍️ Теперь, когда вы понимаете основы модуля logging в Python, посмотрим, как можно его использовать при проведении экспериментов по машинному обучению. Давайте залогируем информацию о нашем датасете [Medical Appointment No Shows](https://www.kaggle.com/joniarroba/noshowappointments). \n",
    "\n",
    "Создадим функцию log() для генерации лог-файла и записи в него информации."
   ]
  },
  {
   "cell_type": "code",
   "execution_count": 15,
   "metadata": {},
   "outputs": [],
   "source": [
    "# Функция для создания лог-файла и записи в него информации\n",
    "def get_logger(path, file):\n",
    "   \"\"\"[Создает лог-файл для логирования в него]\n",
    "   Аргументы:\n",
    "       path {string} -- путь к директории\n",
    "       file {string} -- имя файла\n",
    "  \n",
    "   Возвращает:\n",
    "       [obj] -- [логер]\n",
    "   \"\"\"\n",
    " \n",
    "   # проверяем, существует ли файл\n",
    "   log_file = os.path.join(path, file)\n",
    " \n",
    "   if not os.path.isfile(log_file):\n",
    "       open(log_file, \"w+\").close()\n",
    " \n",
    "   # поменяем формат логирования\n",
    "   file_logging_format = \"%(levelname)s: %(asctime)s: %(message)s\"\n",
    " \n",
    "   # конфигурируем лог-файл\n",
    "   logging.basicConfig(level=logging.INFO, \n",
    "   format = file_logging_format)\n",
    "   logger = logging.getLogger()\n",
    "  \n",
    "   # создадим хэнлдер для записи лога в файл\n",
    "   handler = logging.FileHandler(log_file)\n",
    " \n",
    "   # установим уровень логирования\n",
    "   handler.setLevel(logging.INFO)\n",
    "  \n",
    "   # создадим формат логирования, используя file_logging_format\n",
    "   formatter = logging.Formatter(file_logging_format)\n",
    "   handler.setFormatter(formatter)\n",
    " \n",
    "   # добавим хэндлер лог-файлу\n",
    "   logger.addHandler(handler)\n",
    " \n",
    "   return logger"
   ]
  },
  {
   "cell_type": "markdown",
   "metadata": {},
   "source": [
    "Итак, get_logger принимает на вход папку, в которой вы хотите хранить файл лога и имя файла. Функция нацелена на создание информационных сообщений и записи их в лог-файл. Для того, чтобы освежить в памяти знания по работе с файлами, вы можете вернуться к Блоку 2 нашего курса («Подгрузка данных»).  \n",
    "\n",
    "Для удобства лог-файлы хранят в отдельной директории. Новую папку можно создать с помощью команды mkdir:"
   ]
  },
  {
   "cell_type": "code",
   "execution_count": 16,
   "metadata": {},
   "outputs": [
    {
     "name": "stderr",
     "output_type": "stream",
     "text": [
      "�������� ��� 䠩� logs 㦥 �������.\n"
     ]
    }
   ],
   "source": [
    "!mkdir logs"
   ]
  },
  {
   "cell_type": "markdown",
   "metadata": {},
   "source": [
    "Создадим лог-файл и запишем туда информацию о датасете.\n",
    "\n"
   ]
  },
  {
   "cell_type": "code",
   "execution_count": 17,
   "metadata": {},
   "outputs": [],
   "source": [
    "# создаем лог-файл\n",
    "logger = get_logger(path=\"logs/\", file=\"data.logs\")"
   ]
  },
  {
   "cell_type": "code",
   "execution_count": 18,
   "metadata": {},
   "outputs": [],
   "source": [
    "logger.info(\"Data\")"
   ]
  },
  {
   "cell_type": "code",
   "execution_count": 19,
   "metadata": {},
   "outputs": [],
   "source": [
    "logger.info(\"Data shape {}\".format(df.shape))"
   ]
  },
  {
   "cell_type": "code",
   "execution_count": 20,
   "metadata": {},
   "outputs": [],
   "source": [
    "logger.info(\"Percentage of women: {}\".format(df[df['No-show']=='Yes']['Gender'].value_counts(True)[0]))"
   ]
  },
  {
   "cell_type": "code",
   "execution_count": 21,
   "metadata": {},
   "outputs": [],
   "source": [
    "logger.info(\"Percentage of men: {}\".format(df[df['No-show']=='Yes']['Gender'].value_counts(True)[1]))"
   ]
  },
  {
   "cell_type": "markdown",
   "metadata": {},
   "source": [
    "В директории logs появится файл data.logs, который будет выглядеть следующим образом:\n",
    "\n",
    "![](https://lms.skillfactory.ru/assets/courseware/v1/950fc343eb32dab13e94f0f30764ca54/asset-v1:SkillFactory+DST-3.0+28FEB2021+type@asset+block/dst-eda-6-14.png)"
   ]
  },
  {
   "cell_type": "markdown",
   "metadata": {},
   "source": [
    "⭐️ Отлично! Мы зафиксировали информацию о датасете в лог-файл. Такой файл отражает сведения о том, что всё работает в штатном режиме (то есть просто ежедневный мониторинг программы) или что произошла какая-то ошибка, на которую нужно максимально срочно отреагировать и устранить. Например, мы можем проверять форму данных, и, если форма не соответствует необходимой, логировать ошибку:"
   ]
  },
  {
   "cell_type": "code",
   "execution_count": 22,
   "metadata": {},
   "outputs": [
    {
     "name": "stderr",
     "output_type": "stream",
     "text": [
      "ERROR:root:Data shape is incorrect!\n"
     ]
    }
   ],
   "source": [
    "if df.shape != (110526,14):\n",
    "    logger.error('Data shape is incorrect!')"
   ]
  },
  {
   "cell_type": "markdown",
   "metadata": {},
   "source": [
    "Посмотрим на обновленный файл data.logs:\n",
    "\n",
    "![](https://lms.skillfactory.ru/assets/courseware/v1/b71e2ff5896d1d29b1d002dd7ef23115/asset-v1:SkillFactory+DST-3.0+28FEB2021+type@asset+block/dst-eda-6-9.png)\n",
    "\n",
    "⬇️ Ноутбук доступен по ссылке.\n",
    "\n",
    "⭐️ В следующем юните вы познакомитесь с платформой, которая позволяет не только логировать информацию об эксперименте, но и с лёгкостью сравнивать эксперименты между собой, а также работать над ними в команде!"
   ]
  },
  {
   "cell_type": "markdown",
   "metadata": {},
   "source": [
    "# 4. Знакомство с Comet.ml"
   ]
  },
  {
   "cell_type": "markdown",
   "metadata": {},
   "source": [
    "→ Comet.ml — это онлайн-платформа, позволяющая отслеживать эксперименты. Основное преимущество Comet состоит в том, что с её помощью можно легко построить панель отчётности и систему мониторинга.\n",
    "\n",
    "\t\n",
    "Comet предоставляет следующие возможности:\n",
    "\n",
    "* сравнивать эксперименты с точки зрения метрик, параметров и так далее;\n",
    "* следить за моделью от создания до вывода в продакшен;\n",
    "* делиться своим проектом с другими людьми, которые в режиме реального * времени будут следить за результатами;\n",
    "* строить отчёты исходя из результатов эксперимента;\n",
    "* оставить проект приватным или сделать его общедоступным.\n",
    "\n",
    "Для начала работы с платформой [Comet.ml](https://www.comet.ml/site/) необходимо зарегистрировать бесплатную учётную запись. После этого вы сможете создавать как публичные, так и приватные проекты. \n",
    "\n"
   ]
  },
  {
   "cell_type": "markdown",
   "metadata": {},
   "source": [
    "### 1. Install Comet Using pip\n",
    "\n",
    "```python\n",
    "pip install comet_ml  \n",
    "\n",
    "pip3 install comet_ml\n",
    "```\n",
    "\n",
    "### 2. Add Tracking Code for Keras\n",
    "More details available at Keras Quickstart Guide and Examples\n",
    "\n",
    "```python\n",
    "# import comet_ml at the top of your file\n",
    "from comet_ml import Experiment\n",
    "\n",
    "# Create an experiment with your api key\n",
    "experiment = Experiment(\n",
    "    api_key=\"5vZWA3irmzydGpLocyL2ZTJEq\",\n",
    "    project_name=\"general\",\n",
    "    workspace=\"terr-14\",\n",
    ")\n",
    "\n",
    "# Run your code and go to /\n",
    "```\n",
    "\n",
    "### 3. Run your experiment\n",
    "Run your training code just like you normally do (ie. python train.py).\n",
    "\n",
    "### 4. See data on Comet\n",
    "In a few moments your data will be transmitted to the experiments page. Your experiment will send data to Comet."
   ]
  },
  {
   "cell_type": "markdown",
   "metadata": {},
   "source": [
    "\n",
    "![](https://lms.skillfactory.ru/assets/courseware/v1/447c57fadc3e9c848b233c9e2aa11c45/asset-v1:SkillFactory+DST-3.0+28FEB2021+type@asset+block/dst-eda-6-16.png)"
   ]
  },
  {
   "cell_type": "markdown",
   "metadata": {},
   "source": [
    "После создания проекта появится пустая доска, на которую можно добавить эксперименты, нажав на кнопку **+Add**. \n",
    "\n",
    "![](https://lms.skillfactory.ru/assets/courseware/v1/0d23dd53c20f59c030b67e1e64ddc518/asset-v1:SkillFactory+DST-3.0+28FEB2021+type@asset+block/dst-eda-6-17.png)\n",
    "\n",
    "Платформа генерирует новый API для эксперимента, который можно использовать в коде Python:"
   ]
  },
  {
   "cell_type": "code",
   "execution_count": 3,
   "metadata": {},
   "outputs": [],
   "source": [
    "#pip install comet_ml"
   ]
  },
  {
   "cell_type": "code",
   "execution_count": 5,
   "metadata": {},
   "outputs": [],
   "source": [
    "# import comet_ml at the top of your file\n",
    "from comet_ml import Experiment"
   ]
  },
  {
   "cell_type": "code",
   "execution_count": 6,
   "metadata": {},
   "outputs": [
    {
     "name": "stderr",
     "output_type": "stream",
     "text": [
      "COMET WARNING: As you are running in a Jupyter environment, you will need to call `experiment.end()` when finished to ensure all metrics and code are logged before exiting.\n",
      "COMET ERROR: Run will not be logged \n",
      "For more details, please refer to: https://www.comet.ml/docs/python-sdk/warnings-errors/\n",
      "Traceback (most recent call last):\n",
      "  File \"c:\\Users\\Home\\anaconda3\\lib\\site-packages\\comet_ml\\experiment.py\", line 890, in _start\n",
      "    self.alive = self._setup_streamer()\n",
      "  File \"c:\\Users\\Home\\anaconda3\\lib\\site-packages\\comet_ml\\_online.py\", line 308, in _setup_streamer\n",
      "    self._initialize_streamer(full_ws_url, initial_offset)\n",
      "  File \"c:\\Users\\Home\\anaconda3\\lib\\site-packages\\comet_ml\\_online.py\", line 365, in _initialize_streamer\n",
      "    self.ws_connection = WebSocketConnection(\n",
      "  File \"c:\\Users\\Home\\anaconda3\\lib\\site-packages\\comet_ml\\connection.py\", line 1042, in __init__\n",
      "    self.ws = self.connect_ws()\n",
      "  File \"c:\\Users\\Home\\anaconda3\\lib\\site-packages\\comet_ml\\connection.py\", line 1059, in connect_ws\n",
      "    ws = websocket.WebSocketApp(\n",
      "AttributeError: module 'websocket' has no attribute 'WebSocketApp'\n"
     ]
    }
   ],
   "source": [
    "# import comet_ml at the top of your file\n",
    "from comet_ml import Experiment\n",
    "\n",
    "# Create an experiment with your api key\n",
    "experiment = Experiment(\n",
    "    api_key=\"5vZWA3irmzydGpLocyL2ZTJEq\",\n",
    "    project_name=\"medical-appointment\",\n",
    "    workspace=\"terr-14\",\n",
    ")\n",
    "\n",
    "# Run your code and go to /"
   ]
  },
  {
   "cell_type": "markdown",
   "metadata": {},
   "source": [
    "Например:\n",
    "\n",
    "![](https://lms.skillfactory.ru/assets/courseware/v1/1c54dcc11104d4a9bdfebb2d65cf5877/asset-v1:SkillFactory+DST-3.0+28FEB2021+type@asset+block/dst-eda-6-18.png)\n",
    "\n",
    "> Класс **Experiment** — это интерфейс локального кода для Comet. Он определяет множество методов, описанных в официальной документации Comet. Платформа позволяет хранить информацию о коде, логировать графики, гиперпараметры модели (о них вы узнаете дальше в курсе), метрики. \n",
    "\n",
    "Давайте рассмотрим некоторые популярные методы:\n",
    "\n",
    "* log_metric() и log_metrics() — логируют в эксперименте одну или несколько * оценочных метрик, таких как accuracy;\n",
    "* log_figure() — логирует рисунок;\n",
    "* display() — создаёт интерактивную среду в Jupyter, показывающую приборную * панель Comet как вывод ячейки;\n",
    "* end() — если эксперимент выполняется в Jupyter, этот метод указывает, что эксперимент завершён.\n",
    "\n",
    "После завершения эксперимента Comet предоставляет информационную панель, где можно увидеть все залогированные в коде метрики, цифры, параметры и так далее.\n",
    "\n",
    "Показатели оценки отображаются автоматически. Например, если эксперимент состоит из нескольких шагов, можно легко нарисовать графики, показывающие метрики в зависимости от количества шагов.\n",
    "\n",
    "Ниже представлен пример графика, иллюстрирующего изменение accuracy на каждом шаге обучения нейронной сети (про нейронные сети вы узнаете далее по курсу). \n",
    "\n",
    "![](https://lms.skillfactory.ru/assets/courseware/v1/2f45c36c0cac87337eab8f6b4e639106/asset-v1:SkillFactory+DST-3.0+28FEB2021+type@asset+block/dst-eda-6-20.png)"
   ]
  },
  {
   "cell_type": "markdown",
   "metadata": {},
   "source": [
    "Итак, Comet.ml — это платформа для экспериментов с машинным обучением, которую специалисты по данным используют для отслеживания, сравнения и объяснения своих экспериментов по машинному обучению. Она обеспечивает воспроизведение моделей, простое обслуживание рабочего процесса машинного обучения и бесперебойную совместную работу на протяжении всего жизненного цикла проекта.  \n",
    "\n",
    "Например, вы в команде строите модель оценки спроса на лекарство. Вы можете разделить пайплайн машинного обучения между участниками проекта, при этом каждый участник получит возможность отслеживать все эксперименты каждого этапа в Comet: от логирования визуализаций до подбора параметров обучения модели и оценки её производительности."
   ]
  },
  {
   "cell_type": "markdown",
   "metadata": {},
   "source": []
  }
 ],
 "metadata": {
  "interpreter": {
   "hash": "950b5653ccfc34417735dd321d006fd482b31f7611416c3d8236dc5b17587d3f"
  },
  "kernelspec": {
   "display_name": "Python 3.9.7 ('base')",
   "language": "python",
   "name": "python3"
  },
  "language_info": {
   "codemirror_mode": {
    "name": "ipython",
    "version": 3
   },
   "file_extension": ".py",
   "mimetype": "text/x-python",
   "name": "python",
   "nbconvert_exporter": "python",
   "pygments_lexer": "ipython3",
   "version": "3.9.7"
  },
  "orig_nbformat": 4
 },
 "nbformat": 4,
 "nbformat_minor": 2
}
