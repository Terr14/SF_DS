{
 "cells": [
  {
   "cell_type": "code",
   "execution_count": 20,
   "id": "1759040f",
   "metadata": {},
   "outputs": [],
   "source": [
    "# Попробуйте добавить в новую функцию get_time из примера выше проверку скорости на равенство нулю. \n",
    "# Если скорость равна нулю, верните ValueError с сообщением \"Speed cannot be equal to 0!\".\n",
    "# Вы можете проверить своё решение, вызвав функцию get_time:\n",
    "# get_time(100, 0)"
   ]
  },
  {
   "cell_type": "code",
   "execution_count": 31,
   "id": "4682aa9f",
   "metadata": {},
   "outputs": [],
   "source": [
    "def get_time(distance, speed):\n",
    "    if distance < 0 or speed < 0:\n",
    "        raise ValueError(\"Distance or speed cannot be below 0!\") \n",
    "    if distance == 0 or speed == 0:\n",
    "        raise ZeroDivisionError('Speed cannot be equal to 0!')\n",
    "    result = distance / speed\n",
    "    return result\n",
    "        "
   ]
  },
  {
   "cell_type": "code",
   "execution_count": 32,
   "id": "602b0a1f",
   "metadata": {},
   "outputs": [
    {
     "data": {
      "text/plain": [
       "2.0"
      ]
     },
     "execution_count": 32,
     "metadata": {},
     "output_type": "execute_result"
    }
   ],
   "source": [
    "get_time(100, 50)\n"
   ]
  },
  {
   "cell_type": "code",
   "execution_count": null,
   "id": "427064de",
   "metadata": {},
   "outputs": [],
   "source": []
  },
  {
   "cell_type": "code",
   "execution_count": null,
   "id": "7768ae26",
   "metadata": {},
   "outputs": [],
   "source": []
  },
  {
   "cell_type": "code",
   "execution_count": null,
   "id": "a9cdd5bd",
   "metadata": {},
   "outputs": [],
   "source": []
  }
 ],
 "metadata": {
  "kernelspec": {
   "display_name": "Python 3 (ipykernel)",
   "language": "python",
   "name": "python3"
  },
  "language_info": {
   "codemirror_mode": {
    "name": "ipython",
    "version": 3
   },
   "file_extension": ".py",
   "mimetype": "text/x-python",
   "name": "python",
   "nbconvert_exporter": "python",
   "pygments_lexer": "ipython3",
   "version": "3.10.1"
  }
 },
 "nbformat": 4,
 "nbformat_minor": 5
}
