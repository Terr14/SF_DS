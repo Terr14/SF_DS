{
 "cells": [
  {
   "cell_type": "code",
   "execution_count": 160,
   "id": "7610b6fb",
   "metadata": {},
   "outputs": [],
   "source": [
    "punctuation_list = ['.', ',', ';', ':', '...', '!', '?', '-', '\"', '(', ')']\n",
    "text_example = \"A beginning is the time for taking the most delicate care that the balances are correct. This every sister of the Bene Gesserit knows. To begin your study of the life of Muad'Dib, then take care that you first place him in his time: born in the 57th year of the Padishah Emperor, Shaddam IV. And take the most special care that you locate Muad'Dib in his place: the planet Arrakis. Do not be deceived by the fact that he was born on Caladan and lived his first fifteen years there. Arrakis, the planet known as Dune, is forever his place.\"\n"
   ]
  },
  {
   "cell_type": "code",
   "execution_count": 161,
   "id": "22d90ecf",
   "metadata": {},
   "outputs": [
    {
     "name": "stdout",
     "output_type": "stream",
     "text": [
      "['a', 'beginning', 'is', 'the', 'time', 'for', 'taking', 'the', 'most', 'delicate', 'care', 'that', 'the', 'balances', 'are', 'correct', 'this', 'every', 'sister', 'of', 'the', 'bene', 'gesserit', 'knows', 'to', 'begin', 'your', 'study', 'of', 'the', 'life', 'of', \"muad'dib\", 'then', 'take', 'care', 'that', 'you', 'first', 'place', 'him', 'in', 'his', 'time', 'born', 'in', 'the', '57th', 'year', 'of', 'the', 'padishah', 'emperor', 'shaddam', 'iv', 'and', 'take', 'the', 'most', 'special', 'care', 'that', 'you', 'locate', \"muad'dib\", 'in', 'his', 'place', 'the', 'planet', 'arrakis', 'do', 'not', 'be', 'deceived', 'by', 'the', 'fact', 'that', 'he', 'was', 'born', 'on', 'caladan', 'and', 'lived', 'his', 'first', 'fifteen', 'years', 'there', 'arrakis', 'the', 'planet', 'known', 'as', 'dune', 'is', 'forever', 'his', 'place']\n"
     ]
    }
   ],
   "source": [
    "def get_unique_words(text):\n",
    "    punctuation_list = ['.', ',', ';', ':', '...', '!', '?', '-', '\"', '(', ')']\n",
    "    \n",
    "    text = text.lower()\n",
    "    \n",
    "    for symbol in punctuation_list:\n",
    "        if symbol[0] is not int:\n",
    "            text = text.replace(symbol, '')\n",
    "       \n",
    "    word_list = list(text.split(' '))\n",
    "      \n",
    "   \n",
    "    return word_list\n",
    "\n",
    "\n",
    "print(get_unique_words(text_example))"
   ]
  },
  {
   "cell_type": "code",
   "execution_count": 162,
   "id": "18ec5bd8",
   "metadata": {},
   "outputs": [
    {
     "name": "stdout",
     "output_type": "stream",
     "text": [
      "{'57th': 1, 'a': 1, 'and': 2, 'are': 1, 'arrakis': 2, 'as': 1, 'balances': 1, 'be': 1, 'begin': 1, 'beginning': 1, 'bene': 1, 'born': 2, 'by': 1, 'caladan': 1, 'care': 3, 'correct': 1, 'deceived': 1, 'delicate': 1, 'do': 1, 'dune': 1, 'emperor': 1, 'every': 1, 'fact': 1, 'fifteen': 1, 'first': 2, 'for': 1, 'forever': 1, 'gesserit': 1, 'he': 1, 'him': 1, 'his': 4, 'in': 3, 'is': 2, 'iv': 1, 'known': 1, 'knows': 1, 'life': 1, 'lived': 1, 'locate': 1, 'most': 2, \"muad'dib\": 2, 'not': 1, 'of': 4, 'on': 1, 'padishah': 1, 'place': 3, 'planet': 2, 'shaddam': 1, 'sister': 1, 'special': 1, 'study': 1, 'take': 2, 'taking': 1, 'that': 4, 'the': 11, 'then': 1, 'there': 1, 'this': 1, 'time': 2, 'to': 1, 'was': 1, 'year': 1, 'years': 1, 'you': 2, 'your': 1}\n"
     ]
    }
   ],
   "source": [
    "word_dict = {}\n",
    "for word in word_list:\n",
    "    word_dict.update({word : word_list.count(word)})\n",
    "print(word_dict)\n",
    "    "
   ]
  },
  {
   "cell_type": "code",
   "execution_count": 163,
   "id": "8921f76c",
   "metadata": {},
   "outputs": [
    {
     "name": "stdout",
     "output_type": "stream",
     "text": [
      "the\n"
     ]
    }
   ],
   "source": [
    "for word, n in word_dict.items():\n",
    "\n",
    "        if n == max(word_dict.values()):\n",
    "            most_frequent_word = word\n",
    "print(most_frequent_word)"
   ]
  },
  {
   "cell_type": "code",
   "execution_count": 166,
   "id": "a7c88e55",
   "metadata": {},
   "outputs": [
    {
     "name": "stdout",
     "output_type": "stream",
     "text": [
      "{'a': 1, 'beginning': 1, 'is': 2, 'the': 11, 'time': 2, 'for': 1, 'taking': 1, 'most': 2, 'delicate': 1, 'care': 3, 'that': 4, 'balances': 1, 'are': 1, 'correct': 1, 'this': 1, 'every': 1, 'sister': 1, 'of': 4, 'bene': 1, 'gesserit': 1, 'knows': 1, 'to': 1, 'begin': 1, 'your': 1, 'study': 1, 'life': 1, \"muad'dib\": 2, 'then': 1, 'take': 2, 'you': 2, 'first': 2, 'place': 3, 'him': 1, 'in': 3, 'his': 4, 'born': 2, '57th': 1, 'year': 1, 'padishah': 1, 'emperor': 1, 'shaddam': 1, 'iv': 1, 'and': 2, 'special': 1, 'locate': 1, 'planet': 2, 'arrakis': 2, 'do': 1, 'not': 1, 'be': 1, 'deceived': 1, 'by': 1, 'fact': 1, 'he': 1, 'was': 1, 'on': 1, 'caladan': 1, 'lived': 1, 'fifteen': 1, 'years': 1, 'there': 1, 'known': 1, 'as': 1, 'dune': 1, 'forever': 1}\n",
      "the\n"
     ]
    }
   ],
   "source": [
    "def get_most_frequent_word(text):\n",
    "    \n",
    "    punctuation_list = ['.', ',', ';', ':', '...', '!', '?', '-', '\"', '(', ')']\n",
    "    \n",
    "    text = text.lower()\n",
    "    \n",
    "    for symbol in punctuation_list:\n",
    "        if symbol[0] is not int:\n",
    "            text = text.replace(symbol, '')\n",
    "       \n",
    "    word_list = list(text.split(' '))\n",
    "    \n",
    "    word_dict = {}\n",
    "    for word in word_list:\n",
    "        word_dict.update({word : word_list.count(word)})\n",
    "     \n",
    "    for word, n in word_dict.items():\n",
    "        if n == max(word_dict.values()):\n",
    "            most_frequent_word = word\n",
    "    \n",
    "    return most_frequent_word\n",
    "    \n",
    "print(get_most_frequent_word(text_example))"
   ]
  },
  {
   "cell_type": "code",
   "execution_count": null,
   "id": "bc940319",
   "metadata": {},
   "outputs": [],
   "source": []
  }
 ],
 "metadata": {
  "kernelspec": {
   "display_name": "Python 3 (ipykernel)",
   "language": "python",
   "name": "python3"
  },
  "language_info": {
   "codemirror_mode": {
    "name": "ipython",
    "version": 3
   },
   "file_extension": ".py",
   "mimetype": "text/x-python",
   "name": "python",
   "nbconvert_exporter": "python",
   "pygments_lexer": "ipython3",
   "version": "3.9.7"
  }
 },
 "nbformat": 4,
 "nbformat_minor": 5
}
