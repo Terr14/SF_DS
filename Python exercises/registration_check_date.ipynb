{
 "cells": [
  {
   "cell_type": "markdown",
   "id": "9051c0f5",
   "metadata": {},
   "source": [
    "Представьте, что вы пишете приложение, предусматривающее регистрацию пользователей. Давайте реализуем небольшой функционал регистрации. Не забудем также про «проверку на дурака».\n",
    "\n",
    "Напишите функцию register(surname, name, date, middle_name, registry).\n",
    "\n",
    "Функция имеет следующие аргументы:\n",
    "\n",
    "surname — фамилия;\n",
    "name — имя;\n",
    "date — дата рождения (в виде кортежа из трёх чисел — день, месяц, год);\n",
    "middle_name — отчество ;\n",
    "registry — список, в который необходимо добавить полученные аргументы в виде кортежа в следующем порядке: фамилия, имя, отчество, день, месяц, год рождения.\n",
    "Функция должна возвращать список, в который добавила запись. \n",
    "\n",
    "Указание: сделайте отчество аргументом по умолчанию со значением None, так как отчество может быть не у всех регистрирующихся.\n",
    "\n",
    "Также сделайте так, чтобы пустой список создавался в том случае, если он не был передан извне. Таким образом, по умолчанию registry имеет значение None, и если при вызове функции список так и не был передан, он создаётся в теле функции.\n",
    "\n",
    "Наконец, проверьте дату на корректность. Если дата неправильная, верните ошибку ValueError(\"Invalid Date!\"). Для этого вам пригодится функция check_date из предыдущего задания.\n",
    "\n",
    "Пример работы функции:\n",
    "\n",
    "reg = register('Petrova', 'Maria', (13, 3, 2003), 'Ivanovna')\n",
    "reg = register('Ivanov', 'Sergej', (24, 9, 1995), registry=reg)\n",
    "reg = register('Smith', 'John', (13, 2, 2003), registry=reg)\n",
    "print(reg)\n",
    " [('Petrova', 'Maria', 'Ivanovna', 13, 3, 2003), ('Ivanov', 'Sergej', None, 24, 9, 1995), ('Smith', 'John', None, 13, 2, 2003)]\n",
    " \n",
    "reg = register('Ivanov', 'Sergej', (24, 13, 1995))\n",
    " ValueError: Invalid Date!"
   ]
  },
  {
   "cell_type": "code",
   "execution_count": 141,
   "id": "bd21755f",
   "metadata": {},
   "outputs": [],
   "source": [
    "def check_date(day, month, year):\n",
    "    if day<1 or day>31 or type(day) is not int: return False\n",
    "    \n",
    "    elif day > 28 and month == 2:\n",
    "        if year%400!=0 and year%4!=0 :\n",
    "            return False\n",
    "        else: return True\n",
    "    elif day == 31 and month%2!=0:\n",
    "        return False\n",
    "    \n",
    "    elif month<1 or month>12 or type(month) is not int: return False\n",
    "    elif year<1900 or year>2022 or type(year) is not int: return False\n",
    "      \n",
    "    else: return True\n",
    "    \n",
    "\n",
    "\n",
    "def register(surname, name, date, middle_name=None, registry=None):\n",
    "    if check_date(*date):\n",
    "\n",
    "            if registry is None: \n",
    "                registry = []        \n",
    "            registry.append((surname, name, middle_name, *date))\n",
    "            return(registry)\n",
    "\n",
    "    else: \n",
    "        raise ValueError(\"Invalid Date!\")\n",
    "        \n",
    "    \n",
    "    \n",
    "   \n",
    "   \n"
   ]
  },
  {
   "cell_type": "code",
   "execution_count": 142,
   "id": "e13947fe",
   "metadata": {},
   "outputs": [
    {
     "name": "stdout",
     "output_type": "stream",
     "text": [
      "[('Petrova', 'Maria', 'Ivanovna', 13, 3, 2003), ('Ivanov', 'Sergej', None, 24, 9, 1995), ('Smith', 'John', None, 13, 2, 2003)]\n"
     ]
    }
   ],
   "source": [
    "reg = register('Petrova', 'Maria', (13, 3, 2003), 'Ivanovna')\n",
    "reg = register('Ivanov', 'Sergej', (24, 9, 1995), registry=reg)\n",
    "reg = register('Smith', 'John', (13, 2, 2003), registry=reg)\n",
    "print(reg)"
   ]
  },
  {
   "cell_type": "code",
   "execution_count": 138,
   "id": "da83fdef",
   "metadata": {},
   "outputs": [
    {
     "ename": "ValueError",
     "evalue": "Invalid Date!",
     "output_type": "error",
     "traceback": [
      "\u001b[1;31m---------------------------------------------------------------------------\u001b[0m",
      "\u001b[1;31mValueError\u001b[0m                                Traceback (most recent call last)",
      "\u001b[1;32m~\\AppData\\Local\\Temp/ipykernel_2128/3849793222.py\u001b[0m in \u001b[0;36m<module>\u001b[1;34m\u001b[0m\n\u001b[1;32m----> 1\u001b[1;33m \u001b[0mreg\u001b[0m \u001b[1;33m=\u001b[0m \u001b[0mregister\u001b[0m\u001b[1;33m(\u001b[0m\u001b[1;34m'Ivanov'\u001b[0m\u001b[1;33m,\u001b[0m \u001b[1;34m'Sergej'\u001b[0m\u001b[1;33m,\u001b[0m \u001b[1;33m(\u001b[0m\u001b[1;36m24\u001b[0m\u001b[1;33m,\u001b[0m \u001b[1;36m13\u001b[0m\u001b[1;33m,\u001b[0m \u001b[1;36m1995\u001b[0m\u001b[1;33m)\u001b[0m\u001b[1;33m)\u001b[0m\u001b[1;33m\u001b[0m\u001b[1;33m\u001b[0m\u001b[0m\n\u001b[0m\u001b[0;32m      2\u001b[0m \u001b[0mprint\u001b[0m\u001b[1;33m(\u001b[0m\u001b[0mreg\u001b[0m\u001b[1;33m)\u001b[0m\u001b[1;33m\u001b[0m\u001b[1;33m\u001b[0m\u001b[0m\n",
      "\u001b[1;32m~\\AppData\\Local\\Temp/ipykernel_2128/1048628558.py\u001b[0m in \u001b[0;36mregister\u001b[1;34m(surname, name, date, middle_name, registry)\u001b[0m\n\u001b[0;32m     32\u001b[0m \u001b[1;31m#            raise ValueError(\"Invalid Name!\")\u001b[0m\u001b[1;33m\u001b[0m\u001b[1;33m\u001b[0m\u001b[0m\n\u001b[0;32m     33\u001b[0m     \u001b[1;32melse\u001b[0m\u001b[1;33m:\u001b[0m\u001b[1;33m\u001b[0m\u001b[1;33m\u001b[0m\u001b[0m\n\u001b[1;32m---> 34\u001b[1;33m         \u001b[1;32mraise\u001b[0m \u001b[0mValueError\u001b[0m\u001b[1;33m(\u001b[0m\u001b[1;34m\"Invalid Date!\"\u001b[0m\u001b[1;33m)\u001b[0m\u001b[1;33m\u001b[0m\u001b[1;33m\u001b[0m\u001b[0m\n\u001b[0m\u001b[0;32m     35\u001b[0m \u001b[1;33m\u001b[0m\u001b[0m\n\u001b[0;32m     36\u001b[0m \u001b[1;33m\u001b[0m\u001b[0m\n",
      "\u001b[1;31mValueError\u001b[0m: Invalid Date!"
     ]
    }
   ],
   "source": [
    "reg = register('Ivanov', 'Sergej', (24, 13, 1995))\n",
    "print(reg)"
   ]
  },
  {
   "cell_type": "code",
   "execution_count": null,
   "id": "c4e628ff",
   "metadata": {},
   "outputs": [],
   "source": []
  },
  {
   "cell_type": "code",
   "execution_count": null,
   "id": "d23f5fa3",
   "metadata": {},
   "outputs": [],
   "source": [
    "[('as[19 chars]fg', (1, 3, 2001)), ('fgrt', 'fgbh', 'fvgbht',[523 chars]05))] != \n",
    "[('as[19 chars]fg', 1, 3, 2001), ('fgrt', 'fgbh', 'fvgbht', 2[485 chars]005)]\n",
    "\n"
   ]
  }
 ],
 "metadata": {
  "kernelspec": {
   "display_name": "Python 3 (ipykernel)",
   "language": "python",
   "name": "python3"
  },
  "language_info": {
   "codemirror_mode": {
    "name": "ipython",
    "version": 3
   },
   "file_extension": ".py",
   "mimetype": "text/x-python",
   "name": "python",
   "nbconvert_exporter": "python",
   "pygments_lexer": "ipython3",
   "version": "3.9.7"
  }
 },
 "nbformat": 4,
 "nbformat_minor": 5
}
