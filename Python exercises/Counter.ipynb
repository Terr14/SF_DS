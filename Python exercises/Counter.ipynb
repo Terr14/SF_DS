{
 "cells": [
  {
   "cell_type": "code",
   "execution_count": 16,
   "id": "bcf0745c",
   "metadata": {},
   "outputs": [],
   "source": [
    "# Функция, которая создаёт счётчик\n",
    "def counter():\n",
    "    number = 0\n",
    "    def add():\n",
    "        nonlocal number\n",
    "        number += 1\n",
    "        return number\n",
    "    return add\n",
    "n = counter() \n"
   ]
  },
  {
   "cell_type": "code",
   "execution_count": 17,
   "id": "8f645eb6",
   "metadata": {},
   "outputs": [
    {
     "name": "stdout",
     "output_type": "stream",
     "text": [
      "1\n",
      "2\n",
      "3\n"
     ]
    }
   ],
   "source": [
    "print(n())\n",
    "print(n())\n",
    "print(n())"
   ]
  },
  {
   "cell_type": "code",
   "execution_count": null,
   "id": "bac59151",
   "metadata": {},
   "outputs": [],
   "source": []
  }
 ],
 "metadata": {
  "kernelspec": {
   "display_name": "Python 3 (ipykernel)",
   "language": "python",
   "name": "python3"
  },
  "language_info": {
   "codemirror_mode": {
    "name": "ipython",
    "version": 3
   },
   "file_extension": ".py",
   "mimetype": "text/x-python",
   "name": "python",
   "nbconvert_exporter": "python",
   "pygments_lexer": "ipython3",
   "version": "3.9.7"
  }
 },
 "nbformat": 4,
 "nbformat_minor": 5
}
