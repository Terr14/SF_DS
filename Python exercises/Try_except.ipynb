{
 "cells": [
  {
   "cell_type": "markdown",
   "id": "e997d06b",
   "metadata": {},
   "source": []
  },
  {
   "cell_type": "code",
   "execution_count": 6,
   "id": "26498de1",
   "metadata": {},
   "outputs": [
    {
     "name": "stdout",
     "output_type": "stream",
     "text": [
      "Before exception\n",
      "a: 5\n",
      "b: 0\n",
      "After exception\n",
      "Finally finished!\n",
      "After After exception\n"
     ]
    }
   ],
   "source": [
    "try:\n",
    "    print(\"Before exception\") # перед исключением\n",
    "    a = int(input(\"a: \"))\n",
    "    b = int(input(\"b: \"))\n",
    "    c = a / b\n",
    "    print(c) # печатаем c = a / b, если всё хорошо\n",
    "except ZeroDivisionError as e:\n",
    "    print(\"After exception\") # после исключения\n",
    "else: # код в блоке else выполняется только в том случае, если код в блоке try выполнился успешно (т. е. не произошло никакого исключения)\n",
    "    print(\"Everything's fine!\") # всё отлично!\n",
    "finally: # код в блоке finally выполнится в любом случае при выходе из try-except\n",
    "    print(\"Finally finished!\") # наконец-то завершено!\n",
    " \n",
    "print(\"After After exception\") # после после исключения"
   ]
  },
  {
   "cell_type": "code",
   "execution_count": null,
   "id": "6f3da35a",
   "metadata": {},
   "outputs": [],
   "source": []
  },
  {
   "cell_type": "code",
   "execution_count": null,
   "id": "b4ca5275",
   "metadata": {},
   "outputs": [],
   "source": []
  }
 ],
 "metadata": {
  "kernelspec": {
   "display_name": "Python 3 (ipykernel)",
   "language": "python",
   "name": "python3"
  },
  "language_info": {
   "codemirror_mode": {
    "name": "ipython",
    "version": 3
   },
   "file_extension": ".py",
   "mimetype": "text/x-python",
   "name": "python",
   "nbconvert_exporter": "python",
   "pygments_lexer": "ipython3",
   "version": "3.9.7"
  }
 },
 "nbformat": 4,
 "nbformat_minor": 5
}
