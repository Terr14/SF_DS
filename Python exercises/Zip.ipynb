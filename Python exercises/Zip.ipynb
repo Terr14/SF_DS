{
 "cells": [
  {
   "cell_type": "markdown",
   "id": "fd11bf1a",
   "metadata": {},
   "source": [
    "Перед вами стоит задача разбить пользователей на три группы, чтобы в дальнейшем проводить А/B/C-тестирование. Например, первой группе вы выдаёте первый вариант интерфейса вашего приложения, второй группе — второй, третьей группе — третий. Затем вы будете сравнивать реакцию пользователей и делать вывод, какой интерфейс лучше.\n",
    "\n",
    "Для генерации групп дан генератор group_gen. Аргументом данного генератора является число n — число групп (у нас n = 3). При каждом вызове  генератора он возвращает число от 1 до n. После достижения n генератор снова возвращает номера групп, начиная с 1.\n",
    "\n",
    "def group_gen(n=3):\n",
    "    while True:\n",
    "        for i in range(1, n+1):\n",
    "            yield i\n",
    "Пример списка пользователей:\n",
    "\n",
    "users = ['Smith J.', 'Petrova M.', 'Lubimov M.', 'Holov J.']\n",
    "Напишите функцию print_groups, которая принимает список с именами пользователей. Используя генератор групп group_gen, печатайте на экран:\n",
    "\n",
    "<Фамилия И.> in group <номер группы по порядку>.\n",
    "\n",
    "Например для списка users вывод будет таким:\n",
    "\n",
    "Smith J. in group 1\n",
    "Petrova M. in group 2\n",
    "Lubimov M. in group 3\n",
    "Holov J. in group 1\n",
    "Указание. Используйте функцию zip() для одновременной работы со списком и генератором."
   ]
  },
  {
   "cell_type": "code",
   "execution_count": 8,
   "id": "f1a8e91e",
   "metadata": {},
   "outputs": [
    {
     "name": "stdout",
     "output_type": "stream",
     "text": [
      "Smith J. in group 1\n",
      "Petrova M. in group 2\n",
      "Lubimov M. in group 3\n",
      "Holov J. in group 1\n"
     ]
    }
   ],
   "source": [
    "def group_gen(n=3):\n",
    "    while True:\n",
    "        for i in range(1, n+1):\n",
    "            yield i\n",
    "\n",
    "def print_groups(users):\n",
    "    result = (list(zip(users, group_gen())))\n",
    "    for e in result:\n",
    "        print(e[0], 'in group', e[1])\n",
    "\n",
    "users = ['Smith J.', 'Petrova M.', 'Lubimov M.', 'Holov J.']\n",
    "print_groups(users)"
   ]
  },
  {
   "cell_type": "code",
   "execution_count": null,
   "id": "0ed9d46e",
   "metadata": {},
   "outputs": [],
   "source": []
  }
 ],
 "metadata": {
  "kernelspec": {
   "display_name": "Python 3 (ipykernel)",
   "language": "python",
   "name": "python3"
  },
  "language_info": {
   "codemirror_mode": {
    "name": "ipython",
    "version": 3
   },
   "file_extension": ".py",
   "mimetype": "text/x-python",
   "name": "python",
   "nbconvert_exporter": "python",
   "pygments_lexer": "ipython3",
   "version": "3.9.7"
  }
 },
 "nbformat": 4,
 "nbformat_minor": 5
}
