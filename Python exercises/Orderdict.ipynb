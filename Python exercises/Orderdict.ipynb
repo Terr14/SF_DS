{
 "cells": [
  {
   "cell_type": "code",
   "execution_count": 31,
   "metadata": {},
   "outputs": [
    {
     "name": "stdout",
     "output_type": "stream",
     "text": [
      "{'Ivan': 19, 'Mark': 25, 'Andrey': 23, 'Maria': 20}\n"
     ]
    }
   ],
   "source": [
    "# Напоминаем способ создания словаря через список кортежей\n",
    "# (ключ, значение)\n",
    "data = [('Ivan', 19),('Mark', 25),('Andrey', 23),('Maria', 20)]\n",
    "client_ages = dict(data)\n",
    "print(client_ages)"
   ]
  },
  {
   "cell_type": "code",
   "execution_count": 32,
   "metadata": {},
   "outputs": [
    {
     "name": "stdout",
     "output_type": "stream",
     "text": [
      "OrderedDict([('Ivan', 19), ('Mark', 25), ('Andrey', 23), ('Maria', 20)])\n"
     ]
    }
   ],
   "source": [
    "from collections import OrderedDict\n",
    "data = [('Ivan', 19),('Mark', 25),('Andrey', 23),('Maria', 20)]\n",
    "ordered_client_ages = OrderedDict(data)\n",
    "print(ordered_client_ages)"
   ]
  },
  {
   "cell_type": "code",
   "execution_count": 36,
   "metadata": {},
   "outputs": [
    {
     "name": "stdout",
     "output_type": "stream",
     "text": [
      "OrderedDict([('Ivan', 19), ('Maria', 20), ('Andrey', 23), ('Mark', 25)])\n"
     ]
    }
   ],
   "source": [
    "data = [('Ivan', 19),('Mark', 25),('Andrey', 23),('Maria', 20)]\n",
    "# Сортируем по второму значению из кортежа, то есть по возрасту\n",
    "ordered_client_ages = OrderedDict(sorted(data, key=lambda x: x[1]))\n",
    "print(ordered_client_ages)\n",
    "# OrderedDict([('Ivan', 19), ('Maria', 20), ('Andrey', 23), ('Mark', 25)]"
   ]
  },
  {
   "cell_type": "code",
   "execution_count": 37,
   "metadata": {},
   "outputs": [
    {
     "name": "stdout",
     "output_type": "stream",
     "text": [
      "OrderedDict([('Ivan', 19), ('Maria', 20), ('Andrey', 23), ('Mark', 25), ('Nikita', 18)])\n"
     ]
    }
   ],
   "source": [
    "ordered_client_ages['Nikita'] = 18\n",
    "print(ordered_client_ages)"
   ]
  },
  {
   "cell_type": "code",
   "execution_count": 38,
   "metadata": {},
   "outputs": [
    {
     "name": "stdout",
     "output_type": "stream",
     "text": [
      "OrderedDict([('Ivan', 19), ('Maria', 20), ('Mark', 25), ('Nikita', 18)])\n",
      "OrderedDict([('Ivan', 19), ('Maria', 20), ('Mark', 25), ('Nikita', 18), ('Andrey', 23)])\n"
     ]
    }
   ],
   "source": [
    "del ordered_client_ages['Andrey']\n",
    "print(ordered_client_ages)\n",
    "ordered_client_ages['Andrey'] = 23\n",
    "print(ordered_client_ages)"
   ]
  },
  {
   "cell_type": "code",
   "execution_count": 39,
   "metadata": {},
   "outputs": [
    {
     "name": "stdout",
     "output_type": "stream",
     "text": [
      "3.10.1 (tags/v3.10.1:2cd268a, Dec  6 2021, 19:10:37) [MSC v.1929 64 bit (AMD64)]\n"
     ]
    }
   ],
   "source": [
    "import sys\n",
    "print(sys.version)"
   ]
  },
  {
   "cell_type": "code",
   "execution_count": null,
   "metadata": {},
   "outputs": [],
   "source": []
  }
 ],
 "metadata": {
  "interpreter": {
   "hash": "0b6ce98c3096834a7a501856e3303731ddbe0942f37d88665ab51c442e15a354"
  },
  "kernelspec": {
   "display_name": "Python 3.10.1 64-bit",
   "language": "python",
   "name": "python3"
  },
  "language_info": {
   "codemirror_mode": {
    "name": "ipython",
    "version": 3
   },
   "file_extension": ".py",
   "mimetype": "text/x-python",
   "name": "python",
   "nbconvert_exporter": "python",
   "pygments_lexer": "ipython3",
   "version": "3.10.1"
  },
  "orig_nbformat": 4
 },
 "nbformat": 4,
 "nbformat_minor": 2
}
