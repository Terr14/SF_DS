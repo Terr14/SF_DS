{
 "cells": [
  {
   "cell_type": "markdown",
   "id": "44106240",
   "metadata": {},
   "source": [
    "Вспомним декораторы.\n",
    "\n",
    "Дан список пользователей:\n",
    "\n",
    "users_list = ['admin', 'ivan', 'ivan_ivan']\n",
    "Напишите декоратор, который запрашивает имя пользователя и проверяет, есть ли оно в списке пользователей. Если да, то мы можем выполнить следующую нашу функцию:\n",
    "\n",
    "def get_data_from_database():\n",
    "    print(\"Super secure data from database\")\n",
    "Если пользователя нет в списке, нужно вывести об этом сообщение и пропустить выполнение функции get_data_from_database()."
   ]
  },
  {
   "cell_type": "code",
   "execution_count": 2,
   "id": "139a8aa7",
   "metadata": {},
   "outputs": [
    {
     "name": "stdout",
     "output_type": "stream",
     "text": [
      "Enter your name: ivan\n"
     ]
    }
   ],
   "source": [
    "users_list = ['admin', 'ivan', 'ivan_ivan']\n",
    "\n",
    "def decorator(func):\n",
    "    name  = input(\"Enter your name: \")\n",
    "    if name not in users_list:\n",
    "        print('Name is not found in user_list')\n",
    "    else:\n",
    "        return func\n",
    "            \n",
    "    \n",
    "\n",
    "@decorator\n",
    "def get_data_from_database():\n",
    "    print(\"Super secure data from database\")\n",
    "    \n",
    "    "
   ]
  },
  {
   "cell_type": "code",
   "execution_count": null,
   "id": "8de19cde",
   "metadata": {},
   "outputs": [],
   "source": []
  },
  {
   "cell_type": "code",
   "execution_count": null,
   "id": "5cb0bef9",
   "metadata": {},
   "outputs": [],
   "source": []
  }
 ],
 "metadata": {
  "kernelspec": {
   "display_name": "Python 3 (ipykernel)",
   "language": "python",
   "name": "python3"
  },
  "language_info": {
   "codemirror_mode": {
    "name": "ipython",
    "version": 3
   },
   "file_extension": ".py",
   "mimetype": "text/x-python",
   "name": "python",
   "nbconvert_exporter": "python",
   "pygments_lexer": "ipython3",
   "version": "3.9.7"
  }
 },
 "nbformat": 4,
 "nbformat_minor": 5
}
