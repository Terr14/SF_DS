{
 "cells": [
  {
   "cell_type": "markdown",
   "id": "0e5c0bc6",
   "metadata": {},
   "source": [
    "При разработке пользовательского интерфейса и программ, взаимодействующих с человеком, очень важна проверка корректности введённых пользователем данных. Такую проверку в сообществе программистов принято называть «проверкой на дурака». Некорректно введённые данные могут «сломать» вашу программу, если она не была подготовлена для их обработки.\n",
    "\n",
    "Напишите функцию check_date(day, month, year), которая проверяет корректность даты рождения по следующим условиям:\n",
    "\n",
    "Все аргументы должны быть целыми числами (проверить с помощью type(day) is int).\n",
    "Годом рождения не может быть год до 1900 и год после 2022.\n",
    "Номер месяца не может быть больше 12 и меньше 1.\n",
    "Номер дня не может быть больше 31 и меньше 1.\n",
    "В сентябре, апреле, июне и ноябре 30 дней.\n",
    "Если год является високосным, то в феврале (второймесяц) должно быть 29 дней, в противном случае — 28.\n",
    "Если дата корректна, вернуть True, если же хотя бы одно из представленных условий не было выполнено — False. \n",
    "\n",
    "print(check_date(18,9,1999))\n",
    "print(check_date(29,2,2000))\n",
    "print(check_date(29,2,2021))\n",
    "print(check_date(13,13,2021))\n",
    "print(check_date(13.5,12,2021))\n",
    "# True\n",
    "# True\n",
    "# False\n",
    "# False\n",
    "# False"
   ]
  },
  {
   "cell_type": "code",
   "execution_count": 60,
   "id": "20c40a46",
   "metadata": {},
   "outputs": [],
   "source": [
    "def check_date(day, month, year):\n",
    "    if day<1 or day>31 or type(day) is not int: return False\n",
    "    \n",
    "    elif day > 28 and month == 2:\n",
    "        if year%400!=0 and year%4!=0 :\n",
    "            return False\n",
    "        else: return True\n",
    "    elif day == 31 and month%2!=0:\n",
    "        return False\n",
    "    \n",
    "    elif month<1 or month>12 or type(month) is not int: return False\n",
    "    elif year<1900 or year>2022 or type(year) is not int: return False\n",
    "      \n",
    "    else: return True"
   ]
  },
  {
   "cell_type": "code",
   "execution_count": 62,
   "id": "60ddfde2",
   "metadata": {},
   "outputs": [
    {
     "name": "stdout",
     "output_type": "stream",
     "text": [
      "True\n",
      "True\n",
      "False\n",
      "False\n",
      "False\n",
      "\n",
      "True\n",
      "False\n"
     ]
    }
   ],
   "source": [
    "print(check_date(30,9,1999))\n",
    "print(check_date(29,2,2000))\n",
    "print(check_date(29,2,2021))\n",
    "print(check_date(13,13,2021))\n",
    "print(check_date(13.5,12,2021))\n",
    "print()\n",
    "print(check_date(29,2,2020))\n",
    "print(check_date(31,11,2020))"
   ]
  },
  {
   "cell_type": "code",
   "execution_count": null,
   "id": "3838b1f1",
   "metadata": {},
   "outputs": [],
   "source": []
  }
 ],
 "metadata": {
  "kernelspec": {
   "display_name": "Python 3 (ipykernel)",
   "language": "python",
   "name": "python3"
  },
  "language_info": {
   "codemirror_mode": {
    "name": "ipython",
    "version": 3
   },
   "file_extension": ".py",
   "mimetype": "text/x-python",
   "name": "python",
   "nbconvert_exporter": "python",
   "pygments_lexer": "ipython3",
   "version": "3.9.7"
  }
 },
 "nbformat": 4,
 "nbformat_minor": 5
}
