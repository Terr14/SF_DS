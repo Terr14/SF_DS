{
 "cells": [
  {
   "cell_type": "markdown",
   "id": "b1f9a2e0",
   "metadata": {},
   "source": [
    "Напишем функцию, преобразующую произвольный список вида ['2018-01-01', 'yandex', 'cpc', 100] (он может быть любой длины) в словарь {'2018-01-01': {'yandex': {'cpc': 100}}}"
   ]
  },
  {
   "cell_type": "code",
   "execution_count": 41,
   "id": "e9953c98",
   "metadata": {},
   "outputs": [
    {
     "name": "stdout",
     "output_type": "stream",
     "text": [
      "['2018-01-01', 'yandex', 'cpc', 100]\n",
      "['yandex', 'cpc', 100]\n",
      "['cpc', 100]\n",
      "[100]\n",
      "{'2018-01-01': {'yandex': {'cpc': 100}}}\n"
     ]
    }
   ],
   "source": [
    "crazy_list = ['2018-01-01', 'yandex', 'cpc', 100]\n",
    "def get_crazy_nested_dict(some_list):\n",
    "    print(some_list)\n",
    "    if len(some_list) == 1:\n",
    "        return some_list[0]\n",
    "    return {some_list[0]:get_crazy_nested_dict(some_list[1:])}\n",
    "\n",
    "print(get_crazy_nested_dict(crazy_list))"
   ]
  },
  {
   "cell_type": "code",
   "execution_count": null,
   "id": "ad07a5f1",
   "metadata": {},
   "outputs": [],
   "source": []
  }
 ],
 "metadata": {
  "kernelspec": {
   "display_name": "Python 3 (ipykernel)",
   "language": "python",
   "name": "python3"
  },
  "language_info": {
   "codemirror_mode": {
    "name": "ipython",
    "version": 3
   },
   "file_extension": ".py",
   "mimetype": "text/x-python",
   "name": "python",
   "nbconvert_exporter": "python",
   "pygments_lexer": "ipython3",
   "version": "3.9.7"
  }
 },
 "nbformat": 4,
 "nbformat_minor": 5
}
