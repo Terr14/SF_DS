{
 "cells": [
  {
   "cell_type": "markdown",
   "id": "c47f638f",
   "metadata": {},
   "source": [
    "Числа Фибоначчи — пример последовательности, которую можно получить рекурсивно. Вот первые числа этой последовательности: 0, 1, 1, 2, 3, 5, 8, 13 …\n",
    "\n",
    "Как уже отмечалось, последовательность Фибоначчи имеет важное значение в комбинаторике и аналитике.\n",
    "\n",
    "Как вы могли заметить, каждый -ый элемент — это сумма  и  элементов.\n",
    "\n",
    "Можно записать рекурсивное выражение для расчёта -ого числа из последовательности Фибоначчи:\n",
    "\n",
    "Напишите рекурсивную функцию fib(n), которая считает -ое число Фибоначчи. Будем считать, что fib(0) = 0 и fib(1) = 1.\n",
    "\n",
    "Пример работы функции:\n",
    "\n",
    "print(fib(0))\n",
    "print(fib(2))\n",
    "print(fib(6))"
   ]
  },
  {
   "cell_type": "code",
   "execution_count": 94,
   "id": "2f2a2af4",
   "metadata": {},
   "outputs": [
    {
     "data": {
      "text/plain": [
       "5"
      ]
     },
     "execution_count": 94,
     "metadata": {},
     "output_type": "execute_result"
    }
   ],
   "source": [
    "\n",
    "\n",
    "  \n",
    "    \n",
    "def fib_c(n):\n",
    "    if n == 0: return 0\n",
    "    if n == 1: return 1\n",
    "    f1=f2=1\n",
    "    for i in range(2, n):\n",
    "        \n",
    "        f1, f2 = f2, f1+f2 \n",
    "      \n",
    "        \n",
    "    return(f1)\n",
    "   \n",
    "   \n",
    "\n",
    "fib_c(6)\n",
    "    \n"
   ]
  },
  {
   "cell_type": "code",
   "execution_count": 70,
   "id": "6e3495cb",
   "metadata": {},
   "outputs": [],
   "source": [
    "def fib(n):\n",
    "    if n == 0: return 0\n",
    "    if n == 1: return 1\n",
    "    return fib(n - 1) + fib(n - 2)\n",
    "    "
   ]
  },
  {
   "cell_type": "code",
   "execution_count": 83,
   "id": "5434a390",
   "metadata": {},
   "outputs": [
    {
     "data": {
      "text/plain": [
       "2"
      ]
     },
     "execution_count": 83,
     "metadata": {},
     "output_type": "execute_result"
    }
   ],
   "source": [
    "fib(3)\n"
   ]
  },
  {
   "cell_type": "code",
   "execution_count": null,
   "id": "5305c5f0",
   "metadata": {},
   "outputs": [],
   "source": []
  }
 ],
 "metadata": {
  "kernelspec": {
   "display_name": "Python 3 (ipykernel)",
   "language": "python",
   "name": "python3"
  },
  "language_info": {
   "codemirror_mode": {
    "name": "ipython",
    "version": 3
   },
   "file_extension": ".py",
   "mimetype": "text/x-python",
   "name": "python",
   "nbconvert_exporter": "python",
   "pygments_lexer": "ipython3",
   "version": "3.9.7"
  }
 },
 "nbformat": 4,
 "nbformat_minor": 5
}
