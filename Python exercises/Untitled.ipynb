{
 "cells": [
  {
   "cell_type": "code",
   "execution_count": 1,
   "id": "86550c57",
   "metadata": {},
   "outputs": [],
   "source": [
    "# Функция, которая создаёт счётчик\n",
    "def counter():\n",
    "    number = 0\n",
    "    def add():\n",
    "        nonlocal number\n",
    "        number += 1\n",
    "        return number\n",
    "    return add\n",
    "n = counter() \n"
   ]
  },
  {
   "cell_type": "code",
   "execution_count": null,
   "id": "d469cfa6",
   "metadata": {},
   "outputs": [],
   "source": []
  },
  {
   "cell_type": "code",
   "execution_count": null,
   "id": "8f992e70",
   "metadata": {},
   "outputs": [],
   "source": []
  }
 ],
 "metadata": {
  "kernelspec": {
   "display_name": "Python 3 (ipykernel)",
   "language": "python",
   "name": "python3"
  },
  "language_info": {
   "codemirror_mode": {
    "name": "ipython",
    "version": 3
   },
   "file_extension": ".py",
   "mimetype": "text/x-python",
   "name": "python",
   "nbconvert_exporter": "python",
   "pygments_lexer": "ipython3",
   "version": "3.9.7"
  }
 },
 "nbformat": 4,
 "nbformat_minor": 5
}
