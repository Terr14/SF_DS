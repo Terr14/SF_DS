{
 "cells": [
  {
   "cell_type": "markdown",
   "id": "e06273fe",
   "metadata": {},
   "source": [
    "Напишите функцию-декоратор-логгер logger(name).\n",
    "\n",
    "При создании декоратора передаётся имя логгера, которое выводится при каждом запуске декорируемой функции.\n",
    "\n",
    "Декорированная функция должна печатать:\n",
    "\n",
    "перед запуском основной:\n",
    "<имя логгера>: Function <имя декорируемой функции> started\n",
    "после запуска основной:\n",
    "<имя логгера>: Function <имя декорируемой функции> finished\n",
    "Примечание: узнать имя функции из переменной func, переданной в декоратор, можно с помощью конструкции: func.__name__.\n",
    "\n",
    "Пример работы функции:\n",
    "\n",
    "@logger('MainLogger')\n",
    "def root(val, n=2):\n",
    "    res = val ** (1/n)\n",
    "    return res\n",
    " \n",
    "print(root(25))\n",
    " MainLogger: Function root started\n",
    " MainLogger: Function root finished\n",
    " 5.0"
   ]
  },
  {
   "cell_type": "code",
   "execution_count": 310,
   "id": "4d79cfe9",
   "metadata": {},
   "outputs": [],
   "source": [
    "def logger(name):\n",
    "    def decorator(func):\n",
    "        def decorated_func(*args, **kwargs):        \n",
    "            print(name, ': Function ', func.__name__, ' started', sep='')\n",
    "            result = func(*args, **kwargs)\n",
    "            print(name, ': Function ', func.__name__, ' finished', sep='')\n",
    "            return result\n",
    "        return decorated_func\n",
    "    return decorator\n",
    "    \n",
    "    \n",
    "    \n",
    "    \n",
    "@logger('MainLogger')\n",
    "def root(val, n=2):\n",
    "    res = val ** (1/n)\n",
    "    return res"
   ]
  },
  {
   "cell_type": "code",
   "execution_count": 311,
   "id": "5ee939b5",
   "metadata": {},
   "outputs": [
    {
     "name": "stdout",
     "output_type": "stream",
     "text": [
      "MainLogger: Function root started\n",
      "MainLogger: Function root finished\n"
     ]
    },
    {
     "data": {
      "text/plain": [
       "3.0"
      ]
     },
     "execution_count": 311,
     "metadata": {},
     "output_type": "execute_result"
    }
   ],
   "source": [
    "root(9, 2)"
   ]
  },
  {
   "cell_type": "code",
   "execution_count": null,
   "id": "b34acb7c",
   "metadata": {},
   "outputs": [],
   "source": []
  }
 ],
 "metadata": {
  "kernelspec": {
   "display_name": "Python 3 (ipykernel)",
   "language": "python",
   "name": "python3"
  },
  "language_info": {
   "codemirror_mode": {
    "name": "ipython",
    "version": 3
   },
   "file_extension": ".py",
   "mimetype": "text/x-python",
   "name": "python",
   "nbconvert_exporter": "python",
   "pygments_lexer": "ipython3",
   "version": "3.9.7"
  }
 },
 "nbformat": 4,
 "nbformat_minor": 5
}
