{
 "cells": [
  {
   "cell_type": "code",
   "execution_count": null,
   "id": "bb52ae84",
   "metadata": {},
   "outputs": [],
   "source": [
    "import numpy as np\n",
    "\n",
    "def random_predict_v3(number:int=1) -> int:\n",
    "    \"\"\"Рандомно угадываем число\n",
    "\n",
    "    Args:\n",
    "        number (int, optional): Загаданное число. Defaults to 1.\n",
    "\n",
    "    Returns:\n",
    "        int: Число попыток\n",
    "    \"\"\"\n",
    "    \n",
    "    n_min = 1\n",
    "    n_max = 101\n",
    "    count = 0\n",
    "    predict_number = 40\n",
    "    #predict_number = np.random.randint(n_min, n_max)        \n",
    "    while True: # Выбирам число из середины диапазона, пока не угадаем\n",
    "        count += 1\n",
    "        n_mid = round((n_min+n_max)/2) \n",
    "        num = np.random.randint(n_min, n_max)\n",
    "\n",
    "            \n",
    "        if num > predict_number:\n",
    "            n_max = n_mid\n",
    "        \n",
    "        elif num < predict_number:\n",
    "            n_min = n_mid\n",
    "\n",
    "        else:\n",
    "            print(f'Result - {count}')\n",
    "            return count\n",
    "\n",
    "random_predict_v3()"
   ]
  },
  {
   "cell_type": "code",
   "execution_count": null,
   "id": "6a8c8c50",
   "metadata": {},
   "outputs": [],
   "source": []
  },
  {
   "cell_type": "code",
   "execution_count": null,
   "id": "55fd84d3",
   "metadata": {},
   "outputs": [],
   "source": []
  }
 ],
 "metadata": {
  "kernelspec": {
   "display_name": "Python 3 (ipykernel)",
   "language": "python",
   "name": "python3"
  },
  "language_info": {
   "codemirror_mode": {
    "name": "ipython",
    "version": 3
   },
   "file_extension": ".py",
   "mimetype": "text/x-python",
   "name": "python",
   "nbconvert_exporter": "python",
   "pygments_lexer": "ipython3",
   "version": "3.9.7"
  }
 },
 "nbformat": 4,
 "nbformat_minor": 5
}
