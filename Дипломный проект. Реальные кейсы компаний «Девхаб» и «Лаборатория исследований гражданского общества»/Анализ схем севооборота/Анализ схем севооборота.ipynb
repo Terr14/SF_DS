{
 "cells": [
  {
   "cell_type": "code",
   "execution_count": 1,
   "metadata": {},
   "outputs": [],
   "source": [
    "import pandas as pd\n",
    "import os\n",
    "import re\n",
    "from functools import reduce\n",
    "import numpy as np\n",
    "import time\n",
    "\n",
    "import geopandas as gpd\n",
    "from pyproj import Proj\n",
    "import geojson"
   ]
  },
  {
   "cell_type": "code",
   "execution_count": 2,
   "metadata": {},
   "outputs": [],
   "source": [
    "data_path = 'data/'\n",
    "train_path = data_path + 'train/'\n",
    "test_2019_path = data_path + 'test/test 2019/'\n",
    "test_2020_path = data_path + 'test/test 2020/'\n",
    "years = ['2015', '2016', '2017', '2018', '2019', '2020']"
   ]
  },
  {
   "cell_type": "code",
   "execution_count": 3,
   "metadata": {},
   "outputs": [],
   "source": [
    "def get_merged_df_from_csv_files(path):\n",
    "\n",
    "  files_names = os.listdir(path)\n",
    "\n",
    "  df_list = []\n",
    "  for i in range(len(files_names)):\n",
    "    df = pd.read_csv(path+files_names[i])\n",
    "    columns = df.columns\n",
    "    df = df.rename(columns={\n",
    "        columns[0]:columns[0]+'_'+years[i],\n",
    "        columns[1]:columns[1]+'_'+years[i]\n",
    "    })\n",
    "    df_list.append(df)\n",
    "\n",
    "  merged_df = reduce(lambda left, right: pd.merge(\n",
    "      left, right, on=['centroid'], how='outer'), df_list)\n",
    "\n",
    "  return merged_df"
   ]
  },
  {
   "cell_type": "code",
   "execution_count": 4,
   "metadata": {},
   "outputs": [],
   "source": [
    "train_df = get_merged_df_from_csv_files(train_path)"
   ]
  },
  {
   "cell_type": "code",
   "execution_count": 5,
   "metadata": {},
   "outputs": [],
   "source": [
    "train_df = train_df.reindex(columns=[\n",
    "    'centroid', 'CODE_CULTU_2015', 'CODE_GROUP_2015', 'CODE_CULTU_2016',\n",
    "    'CODE_GROUP_2016', 'CODE_CULTU_2017', 'CODE_GROUP_2017',\n",
    "    'CODE_CULTU_2018', 'CODE_GROUP_2018', 'CODE_CULTU_2019',\n",
    "    'CODE_GROUP_2019'])"
   ]
  },
  {
   "cell_type": "code",
   "execution_count": 6,
   "metadata": {},
   "outputs": [],
   "source": [
    "test_2019_df = get_merged_df_from_csv_files(test_2019_path)"
   ]
  },
  {
   "cell_type": "code",
   "execution_count": 7,
   "metadata": {},
   "outputs": [],
   "source": [
    "test_2019_df = test_2019_df.reindex(columns=[\n",
    "    'centroid', 'CODE_CULTU_2015', 'CODE_GROUP_2015', 'CODE_CULTU_2016',\n",
    "    'CODE_GROUP_2016', 'CODE_CULTU_2017', 'CODE_GROUP_2017',\n",
    "    'CODE_CULTU_2018', 'CODE_GROUP_2018'])"
   ]
  },
  {
   "cell_type": "code",
   "execution_count": 8,
   "metadata": {},
   "outputs": [],
   "source": [
    "train_part = train_df.iloc[:3600]"
   ]
  },
  {
   "cell_type": "code",
   "execution_count": 9,
   "metadata": {},
   "outputs": [
    {
     "data": {
      "text/html": [
       "<div>\n",
       "<style scoped>\n",
       "    .dataframe tbody tr th:only-of-type {\n",
       "        vertical-align: middle;\n",
       "    }\n",
       "\n",
       "    .dataframe tbody tr th {\n",
       "        vertical-align: top;\n",
       "    }\n",
       "\n",
       "    .dataframe thead th {\n",
       "        text-align: right;\n",
       "    }\n",
       "</style>\n",
       "<table border=\"1\" class=\"dataframe\">\n",
       "  <thead>\n",
       "    <tr style=\"text-align: right;\">\n",
       "      <th></th>\n",
       "      <th>centroid</th>\n",
       "      <th>CODE_CULTU_2015</th>\n",
       "      <th>CODE_GROUP_2015</th>\n",
       "      <th>CODE_CULTU_2016</th>\n",
       "      <th>CODE_GROUP_2016</th>\n",
       "      <th>CODE_CULTU_2017</th>\n",
       "      <th>CODE_GROUP_2017</th>\n",
       "      <th>CODE_CULTU_2018</th>\n",
       "      <th>CODE_GROUP_2018</th>\n",
       "      <th>CODE_CULTU_2019</th>\n",
       "      <th>CODE_GROUP_2019</th>\n",
       "    </tr>\n",
       "  </thead>\n",
       "  <tbody>\n",
       "    <tr>\n",
       "      <th>3595</th>\n",
       "      <td>Point (847960.90537215 6582819.57682417)</td>\n",
       "      <td>NVT</td>\n",
       "      <td>25</td>\n",
       "      <td>MIS</td>\n",
       "      <td>2</td>\n",
       "      <td>NVT</td>\n",
       "      <td>25</td>\n",
       "      <td>SNE</td>\n",
       "      <td>28</td>\n",
       "      <td>SNE</td>\n",
       "      <td>28</td>\n",
       "    </tr>\n",
       "    <tr>\n",
       "      <th>3596</th>\n",
       "      <td>Point (848694.18482885 6583204.68504862)</td>\n",
       "      <td>CMB</td>\n",
       "      <td>25</td>\n",
       "      <td>PTC</td>\n",
       "      <td>25</td>\n",
       "      <td>ORH</td>\n",
       "      <td>3</td>\n",
       "      <td>SNE</td>\n",
       "      <td>28</td>\n",
       "      <td>SNE</td>\n",
       "      <td>28</td>\n",
       "    </tr>\n",
       "    <tr>\n",
       "      <th>3597</th>\n",
       "      <td>Point (848661.59276403 6583147.24438944)</td>\n",
       "      <td>PTC</td>\n",
       "      <td>25</td>\n",
       "      <td>MIS</td>\n",
       "      <td>2</td>\n",
       "      <td>ORH</td>\n",
       "      <td>3</td>\n",
       "      <td>SNE</td>\n",
       "      <td>28</td>\n",
       "      <td>SNE</td>\n",
       "      <td>28</td>\n",
       "    </tr>\n",
       "    <tr>\n",
       "      <th>3598</th>\n",
       "      <td>Point (854694.36657987 6569838.61993557)</td>\n",
       "      <td>BTH</td>\n",
       "      <td>1</td>\n",
       "      <td>ORH</td>\n",
       "      <td>3</td>\n",
       "      <td>BTH</td>\n",
       "      <td>1</td>\n",
       "      <td>MIE</td>\n",
       "      <td>2</td>\n",
       "      <td>ORH</td>\n",
       "      <td>3</td>\n",
       "    </tr>\n",
       "    <tr>\n",
       "      <th>3599</th>\n",
       "      <td>Point (854680.93860896 6571477.30489434)</td>\n",
       "      <td>MIS</td>\n",
       "      <td>2</td>\n",
       "      <td>MIE</td>\n",
       "      <td>2</td>\n",
       "      <td>MIS</td>\n",
       "      <td>2</td>\n",
       "      <td>MIE</td>\n",
       "      <td>2</td>\n",
       "      <td>BTH</td>\n",
       "      <td>1</td>\n",
       "    </tr>\n",
       "  </tbody>\n",
       "</table>\n",
       "</div>"
      ],
      "text/plain": [
       "                                      centroid CODE_CULTU_2015  \\\n",
       "3595  Point (847960.90537215 6582819.57682417)             NVT   \n",
       "3596  Point (848694.18482885 6583204.68504862)             CMB   \n",
       "3597  Point (848661.59276403 6583147.24438944)             PTC   \n",
       "3598  Point (854694.36657987 6569838.61993557)             BTH   \n",
       "3599  Point (854680.93860896 6571477.30489434)             MIS   \n",
       "\n",
       "      CODE_GROUP_2015 CODE_CULTU_2016  CODE_GROUP_2016 CODE_CULTU_2017  \\\n",
       "3595               25             MIS                2             NVT   \n",
       "3596               25             PTC               25             ORH   \n",
       "3597               25             MIS                2             ORH   \n",
       "3598                1             ORH                3             BTH   \n",
       "3599                2             MIE                2             MIS   \n",
       "\n",
       "      CODE_GROUP_2017 CODE_CULTU_2018  CODE_GROUP_2018 CODE_CULTU_2019  \\\n",
       "3595               25             SNE               28             SNE   \n",
       "3596                3             SNE               28             SNE   \n",
       "3597                3             SNE               28             SNE   \n",
       "3598                1             MIE                2             ORH   \n",
       "3599                2             MIE                2             BTH   \n",
       "\n",
       "      CODE_GROUP_2019  \n",
       "3595               28  \n",
       "3596               28  \n",
       "3597               28  \n",
       "3598                3  \n",
       "3599                1  "
      ]
     },
     "execution_count": 9,
     "metadata": {},
     "output_type": "execute_result"
    }
   ],
   "source": [
    "train_part.tail()"
   ]
  },
  {
   "cell_type": "code",
   "execution_count": 10,
   "metadata": {},
   "outputs": [],
   "source": [
    "reg_data = gpd.read_file('fr_geojson/fr_reg.geojson')"
   ]
  },
  {
   "cell_type": "code",
   "execution_count": 11,
   "metadata": {},
   "outputs": [
    {
     "data": {
      "text/html": [
       "<div>\n",
       "<style scoped>\n",
       "    .dataframe tbody tr th:only-of-type {\n",
       "        vertical-align: middle;\n",
       "    }\n",
       "\n",
       "    .dataframe tbody tr th {\n",
       "        vertical-align: top;\n",
       "    }\n",
       "\n",
       "    .dataframe thead th {\n",
       "        text-align: right;\n",
       "    }\n",
       "</style>\n",
       "<table border=\"1\" class=\"dataframe\">\n",
       "  <thead>\n",
       "    <tr style=\"text-align: right;\">\n",
       "      <th></th>\n",
       "      <th>code</th>\n",
       "      <th>nom</th>\n",
       "      <th>geometry</th>\n",
       "    </tr>\n",
       "  </thead>\n",
       "  <tbody>\n",
       "    <tr>\n",
       "      <th>13</th>\n",
       "      <td>06</td>\n",
       "      <td>Mayotte</td>\n",
       "      <td>MULTIPOLYGON (((45.04101 -12.64686, 45.03392 -...</td>\n",
       "    </tr>\n",
       "    <tr>\n",
       "      <th>14</th>\n",
       "      <td>76</td>\n",
       "      <td>Occitanie</td>\n",
       "      <td>MULTIPOLYGON (((1.78613 42.57362, 1.78094 42.5...</td>\n",
       "    </tr>\n",
       "    <tr>\n",
       "      <th>15</th>\n",
       "      <td>84</td>\n",
       "      <td>Auvergne-Rhône-Alpes</td>\n",
       "      <td>POLYGON ((3.36135 44.97141, 3.35453 44.95482, ...</td>\n",
       "    </tr>\n",
       "    <tr>\n",
       "      <th>16</th>\n",
       "      <td>93</td>\n",
       "      <td>Provence-Alpes-Côte d'Azur</td>\n",
       "      <td>MULTIPOLYGON (((6.94833 44.65482, 6.95451 44.6...</td>\n",
       "    </tr>\n",
       "    <tr>\n",
       "      <th>17</th>\n",
       "      <td>94</td>\n",
       "      <td>Corse</td>\n",
       "      <td>MULTIPOLYGON (((9.27103 41.36496, 9.26570 41.3...</td>\n",
       "    </tr>\n",
       "  </tbody>\n",
       "</table>\n",
       "</div>"
      ],
      "text/plain": [
       "   code                         nom  \\\n",
       "13   06                     Mayotte   \n",
       "14   76                   Occitanie   \n",
       "15   84        Auvergne-Rhône-Alpes   \n",
       "16   93  Provence-Alpes-Côte d'Azur   \n",
       "17   94                       Corse   \n",
       "\n",
       "                                             geometry  \n",
       "13  MULTIPOLYGON (((45.04101 -12.64686, 45.03392 -...  \n",
       "14  MULTIPOLYGON (((1.78613 42.57362, 1.78094 42.5...  \n",
       "15  POLYGON ((3.36135 44.97141, 3.35453 44.95482, ...  \n",
       "16  MULTIPOLYGON (((6.94833 44.65482, 6.95451 44.6...  \n",
       "17  MULTIPOLYGON (((9.27103 41.36496, 9.26570 41.3...  "
      ]
     },
     "execution_count": 11,
     "metadata": {},
     "output_type": "execute_result"
    }
   ],
   "source": [
    "reg_data.tail()"
   ]
  },
  {
   "cell_type": "code",
   "execution_count": 12,
   "metadata": {},
   "outputs": [],
   "source": [
    "def get_roration_plan(seq):\n",
    "    plan = ''\n",
    "    usedplanValues = {}\n",
    "    planValue = 'a'\n",
    "    for el in seq:\n",
    "        if el in usedplanValues:\n",
    "            plan += usedplanValues[el]\n",
    "        else:\n",
    "            plan += planValue\n",
    "            usedplanValues[el] = planValue\n",
    "            planValue = chr(ord(planValue) + 1)\n",
    "    return plan\n",
    "\n",
    "def provide_culture_and_culture_group_encodings(df):\n",
    "    df['roration_plan'] = df.apply(lambda row: get_roration_plan([row[column] for column in df.columns if column.startswith('plan_GROUP_')]), axis=1)"
   ]
  },
  {
   "cell_type": "code",
   "execution_count": 13,
   "metadata": {},
   "outputs": [
    {
     "name": "stderr",
     "output_type": "stream",
     "text": [
      "C:\\Users\\egor\\AppData\\Local\\Temp\\ipykernel_9260\\3443537487.py:15: SettingWithCopyWarning: \n",
      "A value is trying to be set on a copy of a slice from a DataFrame.\n",
      "Try using .loc[row_indexer,col_indexer] = value instead\n",
      "\n",
      "See the caveats in the documentation: https://pandas.pydata.org/pandas-docs/stable/user_guide/indexing.html#returning-a-view-versus-a-copy\n",
      "  df['cultuCode'] = df.apply(lambda row: seqToCode([row[column] for column in df.columns if column.startswith('CODE_CULTU_')]), axis=1)\n",
      "C:\\Users\\egor\\AppData\\Local\\Temp\\ipykernel_9260\\3443537487.py:16: SettingWithCopyWarning: \n",
      "A value is trying to be set on a copy of a slice from a DataFrame.\n",
      "Try using .loc[row_indexer,col_indexer] = value instead\n",
      "\n",
      "See the caveats in the documentation: https://pandas.pydata.org/pandas-docs/stable/user_guide/indexing.html#returning-a-view-versus-a-copy\n",
      "  df['groupCode'] = df.apply(lambda row: seqToCode([row[column] for column in df.columns if column.startswith('CODE_GROUP_')]), axis=1)\n"
     ]
    }
   ],
   "source": [
    "provide_culture_and_culture_group_encodings(train_part)\n",
    "\n"
   ]
  },
  {
   "cell_type": "code",
   "execution_count": 14,
   "metadata": {},
   "outputs": [],
   "source": [
    "groupCode_popularity = train_part.groupby(by='groupCode')['groupCode'].count().sort_values(ascending=False)"
   ]
  },
  {
   "cell_type": "code",
   "execution_count": 15,
   "metadata": {},
   "outputs": [],
   "source": [
    "cultuCode_popularity = train_part.groupby(by='cultuCode')['cultuCode'].count().sort_values(ascending=False)"
   ]
  },
  {
   "cell_type": "code",
   "execution_count": 16,
   "metadata": {},
   "outputs": [
    {
     "data": {
      "text/plain": [
       "groupCode\n",
       "aaaaa    2062\n",
       "abbbb     125\n",
       "ababa      79\n",
       "abccc      72\n",
       "aaabb      70\n",
       "aaaab      56\n",
       "abaca      50\n",
       "abcab      49\n",
       "aabbb      47\n",
       "aaabc      44\n",
       "aabaa      44\n",
       "abaaa      43\n",
       "abcdd      43\n",
       "abcba      42\n",
       "abcbd      40\n",
       "aaaba      38\n",
       "abcdb      32\n",
       "ababc      30\n",
       "abcad      30\n",
       "aabcd      29\n",
       "abcaa      28\n",
       "abaac      28\n",
       "abbcd      27\n",
       "abbab      27\n",
       "abacc      26\n",
       "aabcb      24\n",
       "aabab      23\n",
       "abbbc      23\n",
       "abaab      22\n",
       "abcac      21\n",
       "aabca      20\n",
       "abacd      20\n",
       "abccb      18\n",
       "abbcc      18\n",
       "abcde      17\n",
       "abbaa      17\n",
       "abcdc      16\n",
       "abcda      16\n",
       "abbcb      16\n",
       "aabcc      16\n",
       "ababb      16\n",
       "abcbc      15\n",
       "abacb      15\n",
       "abbac      15\n",
       "abcbb      14\n",
       "abbca      13\n",
       "abcca      12\n",
       "aabac      12\n",
       "abccd      11\n",
       "aabbc      11\n",
       "abbba      10\n",
       "aabba       8\n",
       "Name: groupCode, dtype: int64"
      ]
     },
     "execution_count": 16,
     "metadata": {},
     "output_type": "execute_result"
    }
   ],
   "source": [
    "groupCode_popularity"
   ]
  },
  {
   "cell_type": "code",
   "execution_count": 17,
   "metadata": {},
   "outputs": [
    {
     "data": {
      "text/plain": [
       "cultuCode\n",
       "aaaaa    1877\n",
       "abbbb     188\n",
       "aabbb      86\n",
       "abccc      78\n",
       "ababa      62\n",
       "aaabb      57\n",
       "abaaa      56\n",
       "abcde      56\n",
       "abcbd      53\n",
       "abcdd      52\n",
       "aaaab      51\n",
       "abaca      51\n",
       "abbcd      46\n",
       "aaabc      46\n",
       "abcab      46\n",
       "abcdb      38\n",
       "abcba      38\n",
       "aabcd      37\n",
       "aabaa      36\n",
       "abcad      35\n",
       "ababc      31\n",
       "aaaba      30\n",
       "abacd      30\n",
       "abcdc      30\n",
       "abccd      26\n",
       "abaac      25\n",
       "abacc      25\n",
       "abbbc      24\n",
       "abcaa      23\n",
       "abbab      22\n",
       "aabcb      22\n",
       "abccb      21\n",
       "aabca      20\n",
       "abcac      20\n",
       "aabab      20\n",
       "abbcb      19\n",
       "abcda      19\n",
       "aabcc      19\n",
       "abaab      19\n",
       "abbcc      17\n",
       "abcbc      16\n",
       "abacb      16\n",
       "abbac      15\n",
       "aabac      13\n",
       "abcca      13\n",
       "abcbb      13\n",
       "abbaa      12\n",
       "aabbc      12\n",
       "abbca      11\n",
       "ababb      11\n",
       "abbba      10\n",
       "aabba       7\n",
       "Name: cultuCode, dtype: int64"
      ]
     },
     "execution_count": 17,
     "metadata": {},
     "output_type": "execute_result"
    }
   ],
   "source": [
    "cultuCode_popularity"
   ]
  },
  {
   "cell_type": "code",
   "execution_count": 18,
   "metadata": {},
   "outputs": [
    {
     "data": {
      "text/html": [
       "<div>\n",
       "<style scoped>\n",
       "    .dataframe tbody tr th:only-of-type {\n",
       "        vertical-align: middle;\n",
       "    }\n",
       "\n",
       "    .dataframe tbody tr th {\n",
       "        vertical-align: top;\n",
       "    }\n",
       "\n",
       "    .dataframe thead th {\n",
       "        text-align: right;\n",
       "    }\n",
       "</style>\n",
       "<table border=\"1\" class=\"dataframe\">\n",
       "  <thead>\n",
       "    <tr style=\"text-align: right;\">\n",
       "      <th></th>\n",
       "      <th>centroid</th>\n",
       "      <th>CODE_CULTU_2015</th>\n",
       "      <th>CODE_CULTU_2016</th>\n",
       "      <th>CODE_CULTU_2017</th>\n",
       "      <th>CODE_CULTU_2018</th>\n",
       "      <th>CODE_CULTU_2019</th>\n",
       "      <th>cultuCode</th>\n",
       "      <th>groupCode</th>\n",
       "    </tr>\n",
       "  </thead>\n",
       "  <tbody>\n",
       "    <tr>\n",
       "      <th>count</th>\n",
       "      <td>3600</td>\n",
       "      <td>3600</td>\n",
       "      <td>3600</td>\n",
       "      <td>3600</td>\n",
       "      <td>3600</td>\n",
       "      <td>3600</td>\n",
       "      <td>3600</td>\n",
       "      <td>3600</td>\n",
       "    </tr>\n",
       "    <tr>\n",
       "      <th>unique</th>\n",
       "      <td>3600</td>\n",
       "      <td>46</td>\n",
       "      <td>55</td>\n",
       "      <td>57</td>\n",
       "      <td>61</td>\n",
       "      <td>53</td>\n",
       "      <td>52</td>\n",
       "      <td>52</td>\n",
       "    </tr>\n",
       "    <tr>\n",
       "      <th>top</th>\n",
       "      <td>Point (907753.82834152 6554634.46488151)</td>\n",
       "      <td>PPH</td>\n",
       "      <td>PPH</td>\n",
       "      <td>PPH</td>\n",
       "      <td>PPH</td>\n",
       "      <td>PPH</td>\n",
       "      <td>aaaaa</td>\n",
       "      <td>aaaaa</td>\n",
       "    </tr>\n",
       "    <tr>\n",
       "      <th>freq</th>\n",
       "      <td>1</td>\n",
       "      <td>1589</td>\n",
       "      <td>1677</td>\n",
       "      <td>1716</td>\n",
       "      <td>1737</td>\n",
       "      <td>1735</td>\n",
       "      <td>1877</td>\n",
       "      <td>2062</td>\n",
       "    </tr>\n",
       "  </tbody>\n",
       "</table>\n",
       "</div>"
      ],
      "text/plain": [
       "                                        centroid CODE_CULTU_2015  \\\n",
       "count                                       3600            3600   \n",
       "unique                                      3600              46   \n",
       "top     Point (907753.82834152 6554634.46488151)             PPH   \n",
       "freq                                           1            1589   \n",
       "\n",
       "       CODE_CULTU_2016 CODE_CULTU_2017 CODE_CULTU_2018 CODE_CULTU_2019  \\\n",
       "count             3600            3600            3600            3600   \n",
       "unique              55              57              61              53   \n",
       "top                PPH             PPH             PPH             PPH   \n",
       "freq              1677            1716            1737            1735   \n",
       "\n",
       "       cultuCode groupCode  \n",
       "count       3600      3600  \n",
       "unique        52        52  \n",
       "top        aaaaa     aaaaa  \n",
       "freq        1877      2062  "
      ]
     },
     "execution_count": 18,
     "metadata": {},
     "output_type": "execute_result"
    }
   ],
   "source": [
    "train_part.describe(include='object')"
   ]
  },
  {
   "cell_type": "code",
   "execution_count": 19,
   "metadata": {},
   "outputs": [
    {
     "name": "stderr",
     "output_type": "stream",
     "text": [
      "C:\\Users\\egor\\AppData\\Local\\Temp\\ipykernel_9260\\2820476352.py:1: SettingWithCopyWarning: \n",
      "A value is trying to be set on a copy of a slice from a DataFrame.\n",
      "Try using .loc[row_indexer,col_indexer] = value instead\n",
      "\n",
      "See the caveats in the documentation: https://pandas.pydata.org/pandas-docs/stable/user_guide/indexing.html#returning-a-view-versus-a-copy\n",
      "  train_part['crs_centroid'] = gpd.GeoSeries.from_wkt(train_part['centroid'], crs='epsg:2154').to_crs('epsg:4326')\n"
     ]
    }
   ],
   "source": [
    "train_part['crs_centroid'] = gpd.GeoSeries.from_wkt(train_part['centroid'], crs='epsg:2154').to_crs('epsg:4326')"
   ]
  },
  {
   "cell_type": "code",
   "execution_count": 20,
   "metadata": {},
   "outputs": [],
   "source": [
    "def get_region_name(point):\n",
    "\n",
    "  try:\n",
    "    region = reg_data.nom[reg_data.geometry.intersects(point)].values[0]\n",
    "    return region\n",
    "  except:\n",
    "    return 'unknown'"
   ]
  },
  {
   "cell_type": "code",
   "execution_count": 25,
   "metadata": {},
   "outputs": [
    {
     "name": "stderr",
     "output_type": "stream",
     "text": [
      "C:\\Users\\egor\\AppData\\Local\\Temp\\ipykernel_9260\\3687640763.py:1: SettingWithCopyWarning: \n",
      "A value is trying to be set on a copy of a slice from a DataFrame.\n",
      "Try using .loc[row_indexer,col_indexer] = value instead\n",
      "\n",
      "See the caveats in the documentation: https://pandas.pydata.org/pandas-docs/stable/user_guide/indexing.html#returning-a-view-versus-a-copy\n",
      "  train_part['region'] = 0\n"
     ]
    }
   ],
   "source": [
    "train_part['region'] = 0"
   ]
  },
  {
   "cell_type": "code",
   "execution_count": 26,
   "metadata": {},
   "outputs": [
    {
     "name": "stderr",
     "output_type": "stream",
     "text": [
      "C:\\Users\\egor\\AppData\\Local\\Temp\\ipykernel_9260\\4263443248.py:6: SettingWithCopyWarning: \n",
      "A value is trying to be set on a copy of a slice from a DataFrame\n",
      "\n",
      "See the caveats in the documentation: https://pandas.pydata.org/pandas-docs/stable/user_guide/indexing.html#returning-a-view-versus-a-copy\n",
      "  train_part['region'][i] = get_region_name(train_part['crs_centroid'][i])\n"
     ]
    },
    {
     "name": "stdout",
     "output_type": "stream",
     "text": [
      "10.345516204833984\n"
     ]
    }
   ],
   "source": [
    "# !nohup python\n",
    "\n",
    "start_time = time.time()\n",
    "\n",
    "for i in range(0, train_part.shape[0]):\n",
    "  train_part['region'][i] = get_region_name(train_part['crs_centroid'][i])\n",
    "\n",
    "# train_part[['region']].to_csv('/content/drive/MyDrive/SkillFactory/CropRotationAnalysis/data/region_part1', index=False)\n",
    "\n",
    "end_time = time.time()\n",
    "delta = end_time - start_time\n",
    "print(delta)\n"
   ]
  },
  {
   "cell_type": "code",
   "execution_count": 29,
   "metadata": {},
   "outputs": [
    {
     "name": "stdout",
     "output_type": "stream",
     "text": [
      "9.507605791091919\n"
     ]
    },
    {
     "name": "stderr",
     "output_type": "stream",
     "text": [
      "C:\\Users\\egor\\AppData\\Local\\Temp\\ipykernel_9260\\697925226.py:4: SettingWithCopyWarning: \n",
      "A value is trying to be set on a copy of a slice from a DataFrame.\n",
      "Try using .loc[row_indexer,col_indexer] = value instead\n",
      "\n",
      "See the caveats in the documentation: https://pandas.pydata.org/pandas-docs/stable/user_guide/indexing.html#returning-a-view-versus-a-copy\n",
      "  train_part['region'] = train_part['crs_centroid'].apply(get_region_name)\n"
     ]
    }
   ],
   "source": [
    "start_time = time.time()\n",
    "\n",
    "\n",
    "train_part['region'] = train_part['crs_centroid'].apply(get_region_name)\n",
    "\n",
    "# train_part[['region']].to_csv('/content/drive/MyDrive/SkillFactory/CropRotationAnalysis/data/region_part1', index=False)\n",
    "\n",
    "end_time = time.time()\n",
    "delta = end_time - start_time\n",
    "print(delta)\n"
   ]
  }
 ],
 "metadata": {
  "interpreter": {
   "hash": "6a9c32adbf172abf1ab83bf5acc54ce3d383c674374c21a032346261b39f107a"
  },
  "kernelspec": {
   "display_name": "Python 3.11.4 64-bit",
   "language": "python",
   "name": "python3"
  },
  "language_info": {
   "codemirror_mode": {
    "name": "ipython",
    "version": 3
   },
   "file_extension": ".py",
   "mimetype": "text/x-python",
   "name": "python",
   "nbconvert_exporter": "python",
   "pygments_lexer": "ipython3",
   "version": "3.11.4"
  },
  "orig_nbformat": 4
 },
 "nbformat": 4,
 "nbformat_minor": 2
}
