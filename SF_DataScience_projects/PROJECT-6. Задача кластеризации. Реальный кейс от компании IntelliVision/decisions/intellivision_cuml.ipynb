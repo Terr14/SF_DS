{
  "cells": [
    {
      "cell_type": "markdown",
      "id": "e25ed3d4",
      "metadata": {
        "id": "e25ed3d4",
        "papermill": {
          "duration": 0.008076,
          "end_time": "2023-04-15T19:50:55.680403",
          "exception": false,
          "start_time": "2023-04-15T19:50:55.672327",
          "status": "completed"
        },
        "tags": []
      },
      "source": [
        "# <center> Кластеризация изображений транспортных средств"
      ]
    },
    {
      "cell_type": "markdown",
      "id": "1e9fef1b",
      "metadata": {
        "id": "1e9fef1b",
        "papermill": {
          "duration": 0.00637,
          "end_time": "2023-04-15T19:50:55.693603",
          "exception": false,
          "start_time": "2023-04-15T19:50:55.687233",
          "status": "completed"
        },
        "tags": []
      },
      "source": [
        "## Постановка задачи"
      ]
    },
    {
      "cell_type": "markdown",
      "id": "19193c5d",
      "metadata": {
        "id": "19193c5d",
        "papermill": {
          "duration": 0.006231,
          "end_time": "2023-04-15T19:50:55.706382",
          "exception": false,
          "start_time": "2023-04-15T19:50:55.700151",
          "status": "completed"
        },
        "tags": []
      },
      "source": [
        "<center> <img src=https://i.ibb.co/t8DvkyB/smart-city-image-1.jpg align=\"right\" width=\"300\"/> </center>\n",
        "<center> <img src=https://i.ibb.co/qYkWNVh/smart-city-image-3.jpg align=\"right\" width=\"300\"/> </center>\n",
        "\n",
        "\n",
        "Один из ключевых проектов IntelliVision — Smart City/Transportation, система, обеспечивающая безопасность дорожного движения и более эффективную работу парковок. С помощью Smart City/Transportation можно контролировать сигналы светофоров и соблюдение ограничений скорости, определять виды транспортных средств, распознавать номерные знаки, считать автомобили и людей.\n",
        "\n",
        "В основе всех перечисленных возможностей проекта лежит CV (Computer Vision, компьютерное зрение). Чтобы их реализовать, компания использует модели, для обучения которых применяются огромные размеченные датасеты с изображениями транспортных средств. Однако система работает в режиме реального времени и с каждым днём данных становится всё больше. Алгоритм нуждается в постоянной модернизации и должен учитывать множество факторов.\n",
        "\n",
        "Для модификации и повышения эффективности системы Smart City/Transportation команде необходимо автоматизировать определение дополнительных параметров авто на изображении:\n",
        "\n",
        "* тип автомобиля (кузова),\n",
        "* ракурс снимка (вид сзади/спереди),\n",
        "* цвет автомобиля,\n",
        "* другие характеристики.\n",
        "\n",
        "Также необходимо автоматизировать поиск выбросов в данных (засветы и блики на изображениях, изображения, на которых отсутствуют автомобили и т. д.).\n",
        "\n",
        "К сожалению, у компании нет комплексной модели, которая могла бы одновременно находить на изображении автомобиль и определять все нужные параметры. Её нужно построить, однако многокомпонентная разметка новых данных по всем этим параметрам — очень трудозатратное занятие, которое стоит больших денег.\n",
        "\n",
        "При решении задачи разметки данных у команды возникла гипотеза, которая нуждается в исследовании.\n",
        "\n",
        "\n",
        "**Гипотеза:** разметку исходных данных можно эффективно провести с помощью методов кластеризации. \n",
        "\n",
        "\n",
        "**В чём идея?**\n",
        "\n",
        "*Давайте будем использовать небольшой набор моделей свёрточных нейронных сетей, обученных на различных датасетах и решающих различные задачи от классификации изображений по цвету до классификации типов транспортных средств, пропустим нашу базу изображений через каждую модель, но возьмём не выходной результат модели, а только промежуточное представление признаков (дескриптор), полученное на свёрточных слоях сети.*\n",
        "\n",
        "*Выполним такую операцию для всех изображений из набора данных, на основе полученных дескрипторов кластеризуем изображения, проинтерпретируем полученные кластеры и попробуем найти в них необходимую информацию.*\n",
        "\n",
        "Теперь, когда мы обсудили гипотезу, перейдём к постановке задачи.\n",
        "\n",
        "<center> <img src=https://i.ibb.co/hLcBpZF/2023-03-27-12-11-17.png align=\"right\" width=\"500\"/> </center>\n",
        "\n",
        "У вас будет набор из 416 314 изображений транспортных средств различных типов, цветов и снятых с разных ракурсов.\n",
        "\n",
        "Команда IntelliVision уже обработала свой набор данных с помощью нескольких моделей глубокого обучения (свёрточных нейронных сетей) и получила четыре варианта вектора признаков (дескрипторов) для каждого изображения.\n",
        "\n",
        "**Ваша задача** — используя готовые дескрипторы, разбить изображения на кластеры и проинтерпретировать каждый из них. Для всех вариантов дескрипторов нужно применить несколько алгоритмов кластеризации и сравнить полученные результаты. Сравнивать можно на основе метрик, визуализаций плотностей кластеров и по тому, насколько хорошо интерпретируются кластеры.\n",
        "\n",
        "Дополнительная подзадача — найти выбросы среди изображений. Это могут быть изображения плохого качества, изображения с бликами или изображения, на которых нет транспортных средств и т. д.\n",
        "\n",
        "Бизнес-задача: исследовать возможность применения алгоритмов кластеризации для разметки новых данных и поиска выбросов.\n",
        "\n",
        "Техническая задача для вас как для специалиста в Data Science: построить модель кластеризации изображений на основе дескрипторов, выделяемых с помощью различных архитектур нейронных сетей, проинтерпретировать полученные результаты и выбрать модель или комбинацию моделей, которая выделяет наиболее пригодные для интерпретации признаки.\n",
        "\n",
        "**Ваши основные цели:**\n",
        "1. Для каждого типа дескрипторов необходимо:\n",
        "    * выполнить предобработку дескрипторов;\n",
        "    * произвести кластеризацию изображений на основе их дескрипторов, подобрав алгоритм и параметры кластеризации;\n",
        "    * сделать визуализацию полученных кластеров в 2D- или 3D-пространстве;\n",
        "    * проинтерпретировать полученные кластеры — в паре предложений сформулировать, какие изображения попали в каждый из кластеров.\n",
        "2. Сравнить между собой полученные кластеризации для каждого типа дескрипторов (по метрикам, визуализации и результатам интерпретации).\n",
        "3. Выполнить автоматизированный поиск выбросов среди изображений на основе дескрипторов.\n",
        "4. Дополнительная задача (не оценивается): попробовать воспользоваться смесью дескрипторов, полученных различными моделями, и проинтерпретировать полученные результаты.\n",
        "\n",
        "**Примечание.** При выборе алгоритма кластеризации следует ориентироваться на внутренние метрики, а именно на индекс Калински — Харабаса (`calinski_harabasz_score`) и индекс Дэвиса — Болдина (`davies_bouldin_score`), а также на интерпретируемость кластеров и визуализацию."
      ]
    },
    {
      "cell_type": "markdown",
      "id": "2be9a5ee",
      "metadata": {
        "id": "2be9a5ee",
        "papermill": {
          "duration": 0.006492,
          "end_time": "2023-04-15T19:50:55.719509",
          "exception": false,
          "start_time": "2023-04-15T19:50:55.713017",
          "status": "completed"
        },
        "tags": []
      },
      "source": [
        "## Данные и их описание"
      ]
    },
    {
      "cell_type": "markdown",
      "id": "ddfa9d63",
      "metadata": {
        "id": "ddfa9d63",
        "papermill": {
          "duration": 0.00662,
          "end_time": "2023-04-15T19:50:55.732777",
          "exception": false,
          "start_time": "2023-04-15T19:50:55.726157",
          "status": "completed"
        },
        "tags": []
      },
      "source": [
        "Исходная папка с данными имеет следующую структуру:\n",
        "\n",
        "```\n",
        "IntelliVision_case\n",
        "├─descriptors\n",
        "    └─efficientnet-b7.pickle\n",
        "    └─osnet.pickle\n",
        "    └─vdc_color.pickle\n",
        "    └─vdc_type.pickle\n",
        "├─row_data\n",
        "    └─veriwild.zip\n",
        "├─images_paths.csv \n",
        "```\n",
        "\n",
        "Давайте разберёмся в ней:\n",
        "\n",
        "* В папке `descriptors` содержатся дескрипторы, полученные для каждого из изображений с помощью соответствующих нейронных сетей, в формате numpy-массивов, сохранённых в файлах pickle:\n",
        "    * `efficientnet-b7.pickle` — дескрипторы, выделенные моделью классификации с архитектурой EfficientNet версии 7. Эта модель является свёрточной нейронной сетью, предобученной на на датасете ImageNet, в котором содержатся изображения более 1000 различных классов. Эта модель при обучении не видела датасета veriwiId. \n",
        "\n",
        "    * `osnet.pickle` — дескрипторы, выделенные моделью OSNet, обученной для детектирования людей, животных и машин. Модель не обучалась на исходном датасете veriwiId.\n",
        "\n",
        "    * `vdc_color.pickle` — дескрипторы, выделенные моделью регрессии для определения цвета транспортных средств в формате RGB. Частично обучена на исходном датасете veriwild.\n",
        "    \n",
        "    * `vdc_type.pickle` — дескрипторы, выделенные моделью классификации транспортных средств по типу на десяти классах. Частично обучена на исходном датасете veriwild.\n",
        "\n",
        "* В папке `row_data` содержится zip-архив с исходными изображениями автомобилей. Распакуйте его содержимое в папку row_data. Архив содержит десять папок с изображениями, пронумерованных от 1 до 10. Каждая папка содержит подпапки, обозначенные пятизначными цифрами, например 36191. \n",
        "\n",
        "В каждой из таких подпапок содержатся фотографии одного конкретного автомобиля с разных ракурсов, снятые с помощью дорожных видеокамер.\n",
        "\n",
        "* В файле `images_paths.csv` представлен список из полных путей до изображений. Он пригодится вам при анализе изображений, попавших в определённый кластер.\n"
      ]
    },
    {
      "cell_type": "markdown",
      "id": "12d71418",
      "metadata": {
        "id": "12d71418",
        "papermill": {
          "duration": 0.006293,
          "end_time": "2023-04-15T19:50:55.745671",
          "exception": false,
          "start_time": "2023-04-15T19:50:55.739378",
          "status": "completed"
        },
        "tags": []
      },
      "source": [
        "Импорт базовых библиотек:"
      ]
    },
    {
      "cell_type": "code",
      "source": [
        "# ! pip install cudf-cu11 dask-cudf-cu11 --extra-index-url=https://pypi.nvidia.com\n",
        "# ! pip install cuml-cu11 --extra-index-url=https://pypi.nvidia.com\n",
        "# ! pip install cugraph-cu11 --extra-index-url=https://pypi.nvidia.com\n",
        "!git clone https://github.com/rapidsai/rapidsai-csp-utils.git\n",
        "!python rapidsai-csp-utils/colab/pip-install.py"
      ],
      "metadata": {
        "colab": {
          "base_uri": "https://localhost:8080/"
        },
        "id": "7yJ-cRHP8DHg",
        "outputId": "0727fdb6-ed8b-459f-fd5c-739b55d501b6"
      },
      "id": "7yJ-cRHP8DHg",
      "execution_count": null,
      "outputs": [
        {
          "output_type": "stream",
          "name": "stdout",
          "text": [
            "Cloning into 'rapidsai-csp-utils'...\n",
            "remote: Enumerating objects: 385, done.\u001b[K\n",
            "remote: Counting objects: 100% (116/116), done.\u001b[K\n",
            "remote: Compressing objects: 100% (65/65), done.\u001b[K\n",
            "remote: Total 385 (delta 86), reused 51 (delta 51), pack-reused 269\u001b[K\n",
            "Receiving objects: 100% (385/385), 105.74 KiB | 7.55 MiB/s, done.\n",
            "Resolving deltas: 100% (188/188), done.\n",
            "Looking in indexes: https://pypi.org/simple, https://us-python.pkg.dev/colab-wheels/public/simple/\n",
            "Collecting pynvml\n",
            "  Downloading pynvml-11.5.0-py3-none-any.whl (53 kB)\n",
            "     ━━━━━━━━━━━━━━━━━━━━━━━━━━━━━━━━━━━━━━━━ 53.1/53.1 kB 1.6 MB/s eta 0:00:00\n",
            "Installing collected packages: pynvml\n",
            "Successfully installed pynvml-11.5.0\n",
            "Traceback (most recent call last):\n",
            "  File \"/usr/local/lib/python3.9/dist-packages/pynvml/nvml.py\", line 1798, in _LoadNvmlLibrary\n",
            "    nvmlLib = CDLL(\"libnvidia-ml.so.1\")\n",
            "  File \"/usr/lib/python3.9/ctypes/__init__.py\", line 374, in __init__\n",
            "    self._handle = _dlopen(self._name, mode)\n",
            "OSError: libnvidia-ml.so.1: cannot open shared object file: No such file or directory\n",
            "\n",
            "During handling of the above exception, another exception occurred:\n",
            "\n",
            "Traceback (most recent call last):\n",
            "  File \"/content/rapidsai-csp-utils/colab/pip-install.py\", line 17, in <module>\n",
            "    pynvml.nvmlInit()\n",
            "  File \"/usr/local/lib/python3.9/dist-packages/pynvml/nvml.py\", line 1770, in nvmlInit\n",
            "    nvmlInitWithFlags(0)\n",
            "  File \"/usr/local/lib/python3.9/dist-packages/pynvml/nvml.py\", line 1753, in nvmlInitWithFlags\n",
            "    _LoadNvmlLibrary()\n",
            "  File \"/usr/local/lib/python3.9/dist-packages/pynvml/nvml.py\", line 1800, in _LoadNvmlLibrary\n",
            "    _nvmlCheckReturn(NVML_ERROR_LIBRARY_NOT_FOUND)\n",
            "  File \"/usr/local/lib/python3.9/dist-packages/pynvml/nvml.py\", line 833, in _nvmlCheckReturn\n",
            "    raise NVMLError(ret)\n",
            "pynvml.nvml.NVMLError_LibraryNotFound: NVML Shared Library Not Found\n",
            "\n",
            "During handling of the above exception, another exception occurred:\n",
            "\n",
            "Traceback (most recent call last):\n",
            "  File \"/content/rapidsai-csp-utils/colab/pip-install.py\", line 19, in <module>\n",
            "    raise Exception(\"\"\"\n",
            "Exception: \n",
            "                  Unfortunately you're in a Colab instance that doesn't have a GPU.\n",
            "\n",
            "                  Please make sure you've configured Colab to request a GPU Instance Type.\n",
            "               \n",
            "                  Go to 'Runtime -> Change Runtime Type --> under the Hardware Accelerator, select GPU', then try again.\n"
          ]
        }
      ]
    },
    {
      "cell_type": "code",
      "execution_count": null,
      "id": "37ea9229",
      "metadata": {
        "execution": {
          "iopub.execute_input": "2023-04-15T19:50:55.762058Z",
          "iopub.status.busy": "2023-04-15T19:50:55.760895Z",
          "iopub.status.idle": "2023-04-15T19:50:58.617741Z",
          "shell.execute_reply": "2023-04-15T19:50:58.616488Z"
        },
        "id": "37ea9229",
        "papermill": {
          "duration": 2.868477,
          "end_time": "2023-04-15T19:50:58.620761",
          "exception": false,
          "start_time": "2023-04-15T19:50:55.752284",
          "status": "completed"
        },
        "tags": [],
        "colab": {
          "base_uri": "https://localhost:8080/",
          "height": 391
        },
        "outputId": "d8210224-d717-46cd-c841-d3e7483c2b58"
      },
      "outputs": [
        {
          "output_type": "error",
          "ename": "ModuleNotFoundError",
          "evalue": "ignored",
          "traceback": [
            "\u001b[0;31m---------------------------------------------------------------------------\u001b[0m",
            "\u001b[0;31mModuleNotFoundError\u001b[0m                       Traceback (most recent call last)",
            "\u001b[0;32m<ipython-input-3-0dc3bef8fa96>\u001b[0m in \u001b[0;36m<cell line: 2>\u001b[0;34m()\u001b[0m\n\u001b[1;32m      1\u001b[0m \u001b[0;31m# import cupy as cp\u001b[0m\u001b[0;34m\u001b[0m\u001b[0;34m\u001b[0m\u001b[0m\n\u001b[0;32m----> 2\u001b[0;31m \u001b[0;32mimport\u001b[0m \u001b[0mcudf\u001b[0m\u001b[0;34m\u001b[0m\u001b[0;34m\u001b[0m\u001b[0m\n\u001b[0m\u001b[1;32m      3\u001b[0m \u001b[0;32mimport\u001b[0m \u001b[0mpandas\u001b[0m \u001b[0;32mas\u001b[0m \u001b[0mpd\u001b[0m\u001b[0;34m\u001b[0m\u001b[0;34m\u001b[0m\u001b[0m\n\u001b[1;32m      4\u001b[0m \u001b[0;32mimport\u001b[0m \u001b[0mnumpy\u001b[0m \u001b[0;32mas\u001b[0m \u001b[0mnp\u001b[0m\u001b[0;34m\u001b[0m\u001b[0;34m\u001b[0m\u001b[0m\n\u001b[1;32m      5\u001b[0m \u001b[0;32mimport\u001b[0m \u001b[0mcupy\u001b[0m \u001b[0;32mas\u001b[0m \u001b[0mcp\u001b[0m\u001b[0;34m\u001b[0m\u001b[0;34m\u001b[0m\u001b[0m\n",
            "\u001b[0;31mModuleNotFoundError\u001b[0m: No module named 'cudf'",
            "",
            "\u001b[0;31m---------------------------------------------------------------------------\u001b[0;32m\nNOTE: If your import is failing due to a missing package, you can\nmanually install dependencies using either !pip or !apt.\n\nTo view examples of installing some common dependencies, click the\n\"Open Examples\" button below.\n\u001b[0;31m---------------------------------------------------------------------------\u001b[0m\n"
          ],
          "errorDetails": {
            "actions": [
              {
                "action": "open_url",
                "actionText": "Open Examples",
                "url": "/notebooks/snippets/importing_libraries.ipynb"
              }
            ]
          }
        }
      ],
      "source": [
        "import cupy as cp\n",
        "import cudf\n",
        "import pandas as pd\n",
        "import numpy as np\n",
        "import cupy as cp\n",
        "import cudf\n",
        "import matplotlib.pyplot as plt\n",
        "import seaborn as sns\n",
        "from mpl_toolkits.mplot3d import Axes3D\n",
        "\n",
        "import plotly.graph_objs as go\n",
        "import plotly.express as px\n",
        "from plotly.subplots import make_subplots\n",
        "\n",
        "import warnings \n",
        "\n",
        "from IPython.display import display, HTML\n",
        "\n",
        "warnings.filterwarnings(\"ignore\")\n",
        "\n",
        "plt.rcParams[\"patch.force_edgecolor\"] = True"
      ]
    },
    {
      "cell_type": "markdown",
      "id": "fe174c2e",
      "metadata": {
        "id": "fe174c2e",
        "papermill": {
          "duration": 0.006962,
          "end_time": "2023-04-15T19:50:58.635367",
          "exception": false,
          "start_time": "2023-04-15T19:50:58.628405",
          "status": "completed"
        },
        "tags": []
      },
      "source": [
        "## 1. Знакомство со структурой данных"
      ]
    },
    {
      "cell_type": "markdown",
      "id": "24a91840",
      "metadata": {
        "id": "24a91840",
        "papermill": {
          "duration": 0.006546,
          "end_time": "2023-04-15T19:50:58.648838",
          "exception": false,
          "start_time": "2023-04-15T19:50:58.642292",
          "status": "completed"
        },
        "tags": []
      },
      "source": [
        "Прочитайте numpy-массивы из предоставленных pickle-файлов.\n",
        "\n",
        "**Примечание** Для удобства дальнейшей работы вы можете составить четыре DataFrame с путями до изображений и соответствующими им дескрипторами.\n",
        "\n",
        "Посмотрите на размерности каждой из четырёх заданных матриц и сравните использованные модели глубокого обучения по размерностям выходных дескрипторов изображений. \n"
      ]
    },
    {
      "cell_type": "code",
      "execution_count": null,
      "id": "B6DhFfE7hsi1",
      "metadata": {
        "id": "B6DhFfE7hsi1"
      },
      "outputs": [],
      "source": [
        "from google.colab import drive\n",
        "drive.mount('/content/drive')"
      ]
    },
    {
      "cell_type": "code",
      "execution_count": null,
      "id": "b722848f",
      "metadata": {
        "execution": {
          "iopub.execute_input": "2023-04-15T19:50:58.664053Z",
          "iopub.status.busy": "2023-04-15T19:50:58.663620Z",
          "iopub.status.idle": "2023-04-15T19:52:51.997396Z",
          "shell.execute_reply": "2023-04-15T19:52:51.995826Z"
        },
        "id": "b722848f",
        "papermill": {
          "duration": 113.345301,
          "end_time": "2023-04-15T19:52:52.000876",
          "exception": false,
          "start_time": "2023-04-15T19:50:58.655575",
          "status": "completed"
        },
        "tags": []
      },
      "outputs": [],
      "source": [
        "import pickle\n",
        "\n",
        "desc_1 = cudf.DataFrame(pickle.load(open(\n",
        "    '/content/drive/MyDrive/SkillFactory/IntelliVision_case/descriptors/efficientnet-b7.pickle', \n",
        "    'rb')))[:5000]\n",
        "# desc_2 = pd.DataFrame(pickle.load(open(\n",
        "#     '/content/drive/MyDrive/SkillFactory/IntelliVision_case/descriptors/osnet.pickle', \n",
        "#     'rb')))\n",
        "# desc_3 = pd.DataFrame(pickle.load(open(\n",
        "#     '/content/drive/MyDrive/SkillFactory/IntelliVision_case/descriptors/vdc_color.pickle', \n",
        "#     'rb')))\n",
        "# desc_4 = pd.DataFrame(pickle.load(open(\n",
        "#     '/content/drive/MyDrive/SkillFactory/IntelliVision_case/descriptors/vdc_type.pickle', \n",
        "#     'rb')))\n",
        "\n",
        "images = cudf.DataFrame(pd.read_csv('/content/drive/MyDrive/SkillFactory/IntelliVision_case/images_paths.csv')[:5000])\n",
        "\n",
        "\n"
      ]
    },
    {
      "cell_type": "markdown",
      "id": "1deb7090",
      "metadata": {
        "id": "1deb7090",
        "papermill": {
          "duration": 0.006641,
          "end_time": "2023-04-15T19:52:52.015029",
          "exception": false,
          "start_time": "2023-04-15T19:52:52.008388",
          "status": "completed"
        },
        "tags": []
      },
      "source": [
        "## 2. Преобразование, очистка и анализ данных"
      ]
    },
    {
      "cell_type": "markdown",
      "id": "ef81c101",
      "metadata": {
        "id": "ef81c101",
        "papermill": {
          "duration": 0.00645,
          "end_time": "2023-04-15T19:52:52.028316",
          "exception": false,
          "start_time": "2023-04-15T19:52:52.021866",
          "status": "completed"
        },
        "tags": []
      },
      "source": [
        "Признаки, найденные с помощью некоторых моделей, исчисляются тысячами, что довольно много, учитывая общее количество наблюдений.\n",
        "\n",
        "Как вы понимаете, производить кластеризацию на таком большом количестве признаков, которые были сформированы исходными моделями глубокого обучения, довольно сложно и затратно по времени. К тому же, многие признаки, найденные моделями на изображениях, могут быть сильно скоррелированы между собой.\n",
        "\n",
        "Понизьте размерность исходных дескрипторов с помощью соответствующих методов. Можно уменьшить размерность входных данных до 100 или 200 признаков — этого будет достаточно, чтобы произвести кластеризацию, однако рекомендуем вам самостоятельно подобрать необходимое количество компонент в новом пространстве признаков.\n",
        "\n",
        "Также позаботьтесь о масштабе признаков, воспользовавшись стандартизацией и нормализацией. После кластеризации определите, какой вариант масштабирования более успешен для каждого варианта дескрипторов.\n"
      ]
    },
    {
      "cell_type": "code",
      "execution_count": null,
      "id": "2f0f5a7f",
      "metadata": {
        "execution": {
          "iopub.execute_input": "2023-04-15T19:52:52.044016Z",
          "iopub.status.busy": "2023-04-15T19:52:52.043540Z",
          "iopub.status.idle": "2023-04-15T19:52:52.083202Z",
          "shell.execute_reply": "2023-04-15T19:52:52.081965Z"
        },
        "id": "2f0f5a7f",
        "papermill": {
          "duration": 0.050996,
          "end_time": "2023-04-15T19:52:52.086096",
          "exception": false,
          "start_time": "2023-04-15T19:52:52.035100",
          "status": "completed"
        },
        "tags": []
      },
      "outputs": [],
      "source": [
        "from cuml.preprocessing import StandardScaler\n",
        "\n",
        "scaler = StandardScaler()\n",
        "\n",
        "desc_1_scaled = cudf.DataFrame(scaler.fit_transform(desc_1))\n",
        "# desc_2_scaled = cudf.DataFrame(scaler.fit_transform(desc_2))\n",
        "# desc_3_scaled = cudf.DataFrame(scaler.fit_transform(desc_3))\n",
        "# desc_4_scaled = cudf.DataFrame(scaler.fit_transform(desc_4))"
      ]
    },
    {
      "cell_type": "code",
      "source": [
        "from cuml.decomposition import PCA\n",
        "\n",
        "def get_principal_components(data):\n",
        "  for n in range(100, 400, 10):\n",
        "    pca = PCA(n_components=n)\n",
        "    principal_components = pca.fit_transform(desc_1_scaled)\n",
        "    if pca.explained_variance_ratio_.sum() > 0.8:\n",
        "      return principal_components\n"
      ],
      "metadata": {
        "id": "PMKuDmpmECNm"
      },
      "id": "PMKuDmpmECNm",
      "execution_count": null,
      "outputs": []
    },
    {
      "cell_type": "code",
      "execution_count": null,
      "id": "df78ff5e",
      "metadata": {
        "id": "df78ff5e"
      },
      "outputs": [],
      "source": [
        "# from cuml.decomposition import PCA\n",
        "\n",
        "# def get_principal_components(data):\n",
        "\n",
        "#   n_components = []\n",
        "\n",
        "#   for n in np.linspace(0.9,0.5,5):\n",
        "#       pca = PCA(n_components=n)\n",
        "#       principal_components = pca.fit_transform(desc_1_scaled)\n",
        "#       n_components.append(principal_components.shape[1])\n",
        "        \n",
        "#   result = pd.DataFrame({\n",
        "#       'explained variance':np.linspace(0.9,0.5,5),\n",
        "#       'n_components':n_components\n",
        "#       })\n",
        "  \n",
        "#   return display(result)"
      ]
    },
    {
      "cell_type": "code",
      "source": [
        "# def get_principal_components(data):\n",
        "\n",
        "#   pca = PCA(n_components=0.8)\n",
        "#   principal_components = pca.fit_transform(desc_1_scaled)\n",
        "\n",
        "#   return principal_components"
      ],
      "metadata": {
        "id": "klB86eYQFbHN"
      },
      "id": "klB86eYQFbHN",
      "execution_count": null,
      "outputs": []
    },
    {
      "cell_type": "code",
      "source": [
        "desc_1_pca = get_principal_components(desc_1_scaled)\n",
        "# desc_2_pca = get_principal_components(desc_2_scaled)\n",
        "# desc_3_pca = get_principal_components(desc_3_scaled)\n",
        "# desc_4_pca = get_principal_components(desc_4_scaled)"
      ],
      "metadata": {
        "id": "qdn7_sDbErTv"
      },
      "id": "qdn7_sDbErTv",
      "execution_count": null,
      "outputs": []
    },
    {
      "cell_type": "markdown",
      "id": "b9e20031",
      "metadata": {
        "id": "b9e20031",
        "papermill": {
          "duration": 0.006878,
          "end_time": "2023-04-15T19:52:52.100351",
          "exception": false,
          "start_time": "2023-04-15T19:52:52.093473",
          "status": "completed"
        },
        "tags": []
      },
      "source": [
        "## 3. Моделирование и оценка качества модели"
      ]
    },
    {
      "cell_type": "markdown",
      "id": "537e8338",
      "metadata": {
        "id": "537e8338",
        "papermill": {
          "duration": 0.006919,
          "end_time": "2023-04-15T19:52:52.115132",
          "exception": false,
          "start_time": "2023-04-15T19:52:52.108213",
          "status": "completed"
        },
        "tags": []
      },
      "source": [
        "### 3.1. Кластеризация изображений"
      ]
    },
    {
      "cell_type": "markdown",
      "id": "bd253bf3",
      "metadata": {
        "id": "bd253bf3",
        "papermill": {
          "duration": 0.006998,
          "end_time": "2023-04-15T19:52:52.129455",
          "exception": false,
          "start_time": "2023-04-15T19:52:52.122457",
          "status": "completed"
        },
        "tags": []
      },
      "source": [
        "После предобработки исходных данных произведите кластеризацию для каждого набора дескрипторов.\n",
        "\n",
        "Для решения задачи используйте несколько различных методов, подобрав оптимальное количество кластеров для каждого метода и варианта дескрипторов.\n",
        "\n",
        "В качестве метрики для подбора оптимального количества кластеров используйте внутренние меры индекс Калински — Харабаса (`calinski_harabasz_score`) и индекс Дэвиса — Болдина (`davies_bouldin_score`).\n",
        "\n",
        "Рекомендуем вынести код для построения моделей кластеризации и подбора их параметров в отдельную функцию, чтобы не множить одинаковый код для четырёх случаев дескрипторов.\n",
        "\n",
        "**Примечание.** Поскольку исходных данных много, могут возникнуть проблемы с оперативной памятью и скоростью работы таких алгоритмов, как K-Means. Вместо стандартного алгоритма K-Means можно воспользоваться реализацией MiniBatchKMeans. \n",
        "\n",
        "**Примечание.** Постарайтесь написать чистый код, максимально уменьшая количество дублирующихся участков."
      ]
    },
    {
      "cell_type": "code",
      "execution_count": null,
      "id": "754e0bbd",
      "metadata": {
        "id": "754e0bbd"
      },
      "outputs": [],
      "source": [
        "# from sklearn.cluster import MiniBatchKMeans\n",
        "\n",
        "# from sklearn.metrics import calinski_harabasz_score, davies_bouldin_score\n",
        "\n",
        "# def get_scales_figs(data):    \n",
        "\n",
        "#     calinski_harabasz = []\n",
        "#     davies_bouldin = []\n",
        "\n",
        "#     for n in range(2,31):    \n",
        "#         mbkmeans = MiniBatchKMeans(\n",
        "#             n_clusters=n)    \n",
        "#         mbkmeans.fit_predict(data)      \n",
        "\n",
        "#         calinski_harabasz.append(calinski_harabasz_score(data, mbkmeans.labels_))\n",
        "#         davies_bouldin.append(davies_bouldin_score(data, mbkmeans.labels_))\n",
        "            \n",
        "#     n_clusters_scales = pd.DataFrame({\n",
        "#         'n_clusters':range(2,31),\n",
        "#         'calinski_harabasz':calinski_harabasz,\n",
        "#         'davies_bouldin':davies_bouldin\n",
        "#     })\n",
        "\n",
        "#     fig_ch = px.line(\n",
        "#         data_frame = n_clusters_scales,\n",
        "#         x = 'n_clusters',\n",
        "#         y = 'calinski_harabasz',\n",
        "#         title = 'Зависимость индекса Калински — Харабаса от количества кластеров'\n",
        "#         )\n",
        "\n",
        "#     fig_db = px.line(data_frame = n_clusters_scales,\n",
        "#         x = 'n_clusters',\n",
        "#         y = 'davies_bouldin',\n",
        "#         title='Зависимость индекса Дэвиса — Болдина от количества кластеров'\n",
        "#     )\n",
        "\n",
        "#     fig_ch.show()\n",
        "#     fig_db.show()"
      ]
    },
    {
      "cell_type": "code",
      "execution_count": null,
      "id": "44e4228a",
      "metadata": {
        "id": "44e4228a"
      },
      "outputs": [],
      "source": [
        "from cuml.cluster import KMeans\n",
        "from sklearn.metrics import silhouette_score, calinski_harabasz_score, davies_bouldin_score\n",
        "\n",
        "def get_scales_figs(data):    \n",
        "\n",
        "    calinski_harabasz = []\n",
        "    davies_bouldin = []\n",
        "    silhouette = []\n",
        "\n",
        "    for n in range(2,11):    \n",
        "        kmeans = KMeans(\n",
        "            n_clusters=n)    \n",
        "        kmeans.fit_predict(data)      \n",
        "\n",
        "        calinski_harabasz.append(calinski_harabasz_score(data.to_numpy(), kmeans.labels_.to_numpy()))\n",
        "        davies_bouldin.append(davies_bouldin_score(data.to_numpy(), kmeans.labels_.to_numpy()))\n",
        "        silhouette.append(silhouette_score(data.to_numpy(), kmeans.labels_.to_numpy()))\n",
        "            \n",
        "    n_clusters_scales = pd.DataFrame({\n",
        "        'n_clusters':range(2,11),\n",
        "        'silhouette_score':silhouette,\n",
        "        'calinski_harabasz':calinski_harabasz,\n",
        "        'davies_bouldin':davies_bouldin\n",
        "    })\n",
        "\n",
        "    fig_sil = px.line(\n",
        "        data_frame = n_clusters_scales,\n",
        "        x = 'n_clusters',\n",
        "        y = 'silhouette_score',\n",
        "        title = 'Зависимость коэффициента силуэта от количества кластеров',\n",
        "        width=600\n",
        "        )   \n",
        "\n",
        "    fig_ch = px.line(\n",
        "        data_frame = n_clusters_scales,\n",
        "        x = 'n_clusters',\n",
        "        y = 'calinski_harabasz',\n",
        "        title = 'Зависимость индекса Калински — Харабаса от количества кластеров',\n",
        "        width=600\n",
        "        )\n",
        "\n",
        "    fig_db = px.line(data_frame = n_clusters_scales,\n",
        "        x = 'n_clusters',\n",
        "        y = 'davies_bouldin',\n",
        "        title='Зависимость индекса Дэвиса — Болдина от количества кластеров',\n",
        "        width=600\n",
        "    )\n",
        "\n",
        "    fig_sil.show()\n",
        "    fig_ch.show()\n",
        "    fig_db.show()"
      ]
    },
    {
      "cell_type": "code",
      "execution_count": null,
      "id": "016a62f6",
      "metadata": {
        "id": "016a62f6"
      },
      "outputs": [],
      "source": [
        "def get_cluster(data, best_n):\n",
        "        kmeans = KMeans(\n",
        "            n_clusters=best_n)    \n",
        "        kmeans.fit_predict(data)\n",
        "        return kmeans.labels_"
      ]
    },
    {
      "cell_type": "code",
      "execution_count": null,
      "id": "d848032d",
      "metadata": {
        "id": "d848032d"
      },
      "outputs": [],
      "source": [
        "# def get_cluster(data, best_n):\n",
        "#         mbkmeans = MiniBatchKMeans(\n",
        "#             n_clusters=best_n)    \n",
        "#         mbkmeans.fit_predict(data)\n",
        "#         return mbkmeans.labels_"
      ]
    },
    {
      "cell_type": "markdown",
      "id": "059bed3b",
      "metadata": {
        "id": "059bed3b"
      },
      "source": [
        "Вычислим метрики кластеризации в зависимости от количества кластеров для первого дескриптора:"
      ]
    },
    {
      "cell_type": "code",
      "execution_count": null,
      "id": "9d3232a0",
      "metadata": {
        "id": "9d3232a0"
      },
      "outputs": [],
      "source": [
        "get_scales_figs(desc_1_pca)"
      ]
    },
    {
      "cell_type": "markdown",
      "id": "3d47c8dd",
      "metadata": {
        "id": "3d47c8dd"
      },
      "source": [
        "Наилучшие результаты кластеризации первого дескриптора наблюдаются при разбиении на 2 кластера."
      ]
    },
    {
      "cell_type": "code",
      "execution_count": null,
      "id": "50f3687c",
      "metadata": {
        "id": "50f3687c"
      },
      "outputs": [],
      "source": [
        "best_n_1 = 9\n",
        "\n",
        "labels_1 = get_cluster(desc_1_pca, best_n_1)"
      ]
    },
    {
      "cell_type": "markdown",
      "id": "beab852c",
      "metadata": {
        "id": "beab852c"
      },
      "source": [
        "Вычислим метрики кластеризации в зависимости от количества кластеров для второго дескриптора:"
      ]
    },
    {
      "cell_type": "code",
      "execution_count": null,
      "id": "f3e4108d",
      "metadata": {
        "id": "f3e4108d"
      },
      "outputs": [],
      "source": [
        "# get_scales_figs(desc_2_pca)"
      ]
    },
    {
      "cell_type": "markdown",
      "id": "c6cb7e8f",
      "metadata": {
        "id": "c6cb7e8f"
      },
      "source": [
        "Наилучшие результаты кластеризации второго дескриптора наблюдаются при разбиении на 2 кластера."
      ]
    },
    {
      "cell_type": "code",
      "execution_count": null,
      "id": "8c80eee9",
      "metadata": {
        "id": "8c80eee9"
      },
      "outputs": [],
      "source": [
        "# best_n_2 = 2\n",
        "\n",
        "# labels_2 = get_cluster(desc_2_pca, best_n_2)"
      ]
    },
    {
      "cell_type": "markdown",
      "id": "7c4469df",
      "metadata": {
        "id": "7c4469df"
      },
      "source": [
        "Вычислим метрики кластеризации в зависимости от количества кластеров для третьего дескриптора:"
      ]
    },
    {
      "cell_type": "code",
      "execution_count": null,
      "id": "86ec633e",
      "metadata": {
        "id": "86ec633e"
      },
      "outputs": [],
      "source": [
        "# get_scales_figs(desc_3_pca)"
      ]
    },
    {
      "cell_type": "markdown",
      "id": "7727cefe",
      "metadata": {
        "id": "7727cefe"
      },
      "source": [
        "Наилучшие результаты кластеризации третьего дескриптора наблюдаются при разбиении на 2 кластера."
      ]
    },
    {
      "cell_type": "code",
      "execution_count": null,
      "id": "05101fb3",
      "metadata": {
        "id": "05101fb3"
      },
      "outputs": [],
      "source": [
        "# best_n_3 = 2\n",
        "\n",
        "# labels_3 = get_cluster(desc_3_pca, best_n_3)"
      ]
    },
    {
      "cell_type": "markdown",
      "id": "70e91c48",
      "metadata": {
        "id": "70e91c48"
      },
      "source": [
        "Вычислим метрики кластеризации в зависимости от количества кластеров для четвертого дескриптора:"
      ]
    },
    {
      "cell_type": "code",
      "execution_count": null,
      "id": "9b9ca75b",
      "metadata": {
        "id": "9b9ca75b"
      },
      "outputs": [],
      "source": [
        "# get_scales_figs(desc_4_pca)"
      ]
    },
    {
      "cell_type": "markdown",
      "id": "a845e138",
      "metadata": {
        "id": "a845e138"
      },
      "source": [
        "Наилучшие результаты кластеризации четвертого дескриптора наблюдаются при разбиении на 2 кластера."
      ]
    },
    {
      "cell_type": "code",
      "execution_count": null,
      "id": "c92ca305",
      "metadata": {
        "id": "c92ca305"
      },
      "outputs": [],
      "source": [
        "# best_n_4 = 2\n",
        "\n",
        "# labels_4 = get_cluster(desc_4_pca, best_n_4)"
      ]
    },
    {
      "cell_type": "markdown",
      "id": "37e4f91b",
      "metadata": {
        "id": "37e4f91b",
        "papermill": {
          "duration": 0.007246,
          "end_time": "2023-04-15T19:52:52.158279",
          "exception": false,
          "start_time": "2023-04-15T19:52:52.151033",
          "status": "completed"
        },
        "tags": []
      },
      "source": [
        "### 3.2. Интерпретация кластеров"
      ]
    },
    {
      "cell_type": "markdown",
      "id": "60767619",
      "metadata": {
        "id": "60767619",
        "papermill": {
          "duration": 0.006786,
          "end_time": "2023-04-15T19:52:52.172404",
          "exception": false,
          "start_time": "2023-04-15T19:52:52.165618",
          "status": "completed"
        },
        "tags": []
      },
      "source": [
        "#### 3.2.1 Визуализация кластеров"
      ]
    },
    {
      "cell_type": "markdown",
      "id": "c4c8fae3",
      "metadata": {
        "id": "c4c8fae3",
        "papermill": {
          "duration": 0.007002,
          "end_time": "2023-04-15T19:52:52.187071",
          "exception": false,
          "start_time": "2023-04-15T19:52:52.180069",
          "status": "completed"
        },
        "tags": []
      },
      "source": [
        "Визуализируйте результаты кластеризации в двух- или трёхмерном пространстве, предварительно понизив размерность дескрипторов изображений до соответствующих размерностей с помощью метода t-SNE. \n",
        "\n",
        "По результатам визуализации кластеров сделайте предположение о качестве полученной кластеризации."
      ]
    },
    {
      "cell_type": "code",
      "execution_count": null,
      "id": "5fb424e6",
      "metadata": {
        "id": "5fb424e6",
        "papermill": {
          "duration": 0.006841,
          "end_time": "2023-04-15T19:52:52.201306",
          "exception": false,
          "start_time": "2023-04-15T19:52:52.194465",
          "status": "completed"
        },
        "tags": []
      },
      "outputs": [],
      "source": [
        "from cuml.manifold import TSNE\n",
        "\n",
        "def cluster_fig(data):\n",
        "\n",
        "    tsne = TSNE(n_components=2)\n",
        "    data_tsne = pd.DataFrame(tsne.fit_transform(data).to_numpy())\n",
        "\n",
        "    data_tsne['label'] = labels_1.to_numpy()\n",
        "\n",
        "    fig = px.scatter(\n",
        "        data_frame=data_tsne,\n",
        "        x=0,\n",
        "        y=1,\n",
        "        color='label',\n",
        "        title='Визуализация кластеров'\n",
        "    )\n",
        "    \n",
        "    return fig.show()"
      ]
    },
    {
      "cell_type": "code",
      "execution_count": null,
      "id": "07506eb3",
      "metadata": {
        "id": "07506eb3"
      },
      "outputs": [],
      "source": [
        "cluster_fig(desc_1_pca)\n",
        "# cluster_fig(desc_2_pca)\n",
        "# cluster_fig(desc_3_pca)\n",
        "# cluster_fig(desc_4_pca)"
      ]
    },
    {
      "cell_type": "markdown",
      "id": "cb7f0903",
      "metadata": {
        "id": "cb7f0903",
        "papermill": {
          "duration": 0.006947,
          "end_time": "2023-04-15T19:52:52.215899",
          "exception": false,
          "start_time": "2023-04-15T19:52:52.208952",
          "status": "completed"
        },
        "tags": []
      },
      "source": [
        "#### 3.2.2. Визуализация изображений в кластере\n"
      ]
    },
    {
      "cell_type": "markdown",
      "id": "82229b96",
      "metadata": {
        "id": "82229b96",
        "papermill": {
          "duration": 0.006908,
          "end_time": "2023-04-15T19:52:52.230113",
          "exception": false,
          "start_time": "2023-04-15T19:52:52.223205",
          "status": "completed"
        },
        "tags": []
      },
      "source": [
        "Визуализируйте несколько изображений из каждого кластера, чтобы проинтерпретировать результаты.\n",
        "\n",
        "**Как визуализировать изображения, соответствующие определённому кластеру?**\n",
        "\n",
        "Мы не рассматривали работу с изображениями как отдельную тему, однако не волнуйтесь — в этом нет ничего страшного.\n",
        "\n",
        "В стандартных библиотеках для визуализации, которые мы изучали ранее, есть встроенный функционал для чтения и визуализации изображений. Например, в библиотеке matplotlib есть функция `plt.imread()`, которая позволяет читать изображение по переданному пути. Она возвращает numpy-массив размерности (h, w, c), где:\n",
        "\n",
        "* h — высота изображения, \n",
        "* w — его ширина,\n",
        "* c — количество каналов.\n",
        "\n",
        "Так как все изображения в нашем датасете цветные, каналов (c) три:\n",
        "\n",
        "* R — матрица интенсивности пикселей красного цвета,\n",
        "* G — матрица интенсивности пикселей зелёного цвета,\n",
        "* B — матрица интенсивности пикселей синего цвета.\n",
        "\n",
        "Например, вот так можно прочитать изображение 000001.jpg:\n",
        "\n",
        "```python\n",
        "img = plt.imread('raw_data/veriwild/1/00001/000001.jpg')\n",
        "print(img.shape)\n",
        "## (557, 756, 3)\n",
        "```\n",
        "\n",
        "То есть изображение состоит из трёх матриц (R, G и B) с размерностью 557 строк на 756 столбцов. Элементами каждой из матриц являются интенсивности пикселей (от 0 до 255) соответствующего цвета.\n",
        "\n",
        "Что касается вывода изображений на экран, в библиотеке matplotlib есть встроенная функция `plt.imshow()`, которая позволяет вывести переданное ей в аргументы изображение:\n",
        "\n",
        "```python\n",
        "fig = plt.figure(figsize=(5, 5))\n",
        "plt.imshow(img);\n",
        "```\n",
        "\n",
        "Функцию `imshow()` можно вызывать и от имени координатных плоскостей при использовании `subplots` из библиотеки `matplotlib`:\n",
        "\n",
        "```python\n",
        "img1 = plt.imread('raw_data/veriwild/1/00001/000001.jpg')\n",
        "img2 = plt.imread('raw_data/veriwild/1/00001/000002.jpg')\n",
        "fig, axes = plt.subplots(1, 2, figsize=(5, 5))\n",
        "axes[0].imshow(img1);\n",
        "axes[1].imshow(img2);\n",
        "```\n",
        "\n",
        "После кластеризации для интерпретации результатов вам понадобится визуализировать несколько изображений из каждого кластера. Для этого мы подготовили функцию `plot_sample_cluster_images()`."
      ]
    },
    {
      "cell_type": "code",
      "execution_count": null,
      "id": "e38ebe3f",
      "metadata": {
        "execution": {
          "iopub.execute_input": "2023-04-15T19:52:52.247914Z",
          "iopub.status.busy": "2023-04-15T19:52:52.247461Z",
          "iopub.status.idle": "2023-04-15T19:52:52.258885Z",
          "shell.execute_reply": "2023-04-15T19:52:52.257328Z"
        },
        "id": "e38ebe3f",
        "papermill": {
          "duration": 0.023662,
          "end_time": "2023-04-15T19:52:52.261817",
          "exception": false,
          "start_time": "2023-04-15T19:52:52.238155",
          "status": "completed"
        },
        "tags": []
      },
      "outputs": [],
      "source": [
        "def plot_samples_images(data, cluster_label, nrows=3, ncols=3, figsize=(12, 5)):\n",
        "    \"\"\"Функция для визуализации нескольких случайных изображений из кластера cluster_label.\n",
        "    Пути до изображений и метки кластеров должны быть представлены в виде DataFrame со столбцами \"paths\" и \"cluster\".\n",
        "\n",
        "\n",
        "    Args:\n",
        "        data (DataFrame): таблица с разметкой изображений и соответствующих им кластеров.\n",
        "        cluster_label (int): номер кластера изображений.\n",
        "        nrows (int, optional): количество изображений по строкам таблицы (по умолчанию 3).\n",
        "        ncols (int, optional): количество изображений по столбцам (по умолчанию 3).\n",
        "        figsize (tuple, optional): размер фигуры (по умолчанию (12, 5)).\n",
        "    \"\"\"\n",
        "    # Фильтруем данные по номеру кластера\n",
        "    samples_indexes = np.array(data[data['cluster'] == cluster_label].index)\n",
        "    # Перемешиваем результаты\n",
        "    np.random.shuffle(samples_indexes)\n",
        "    # Составляем пути до изображений\n",
        "    paths = data.loc[samples_indexes, 'paths']\n",
        "   \n",
        "    # Создаём фигуру и набор координатных плоскостей\n",
        "    fig, axes = plt.subplots(nrows,ncols)\n",
        "    # Устанавливаем размер фигуры\n",
        "    fig.set_size_inches(*figsize)\n",
        "    # Устанавливаем название графика\n",
        "    fig.suptitle(f\"Images from cluster {cluster_label}\", fontsize=16)\n",
        "    # Создаём цикл по строкам в таблице с координатными плоскостями\n",
        "    for i in range(nrows):\n",
        "        # Создаём цикл по столбцам в таблице с координатными плоскостями\n",
        "        for j in range(ncols):\n",
        "            # Определяем индекс пути до изображения\n",
        "            path_idx = i * ncols + j\n",
        "            if path_idx >= len(paths):\n",
        "                break\n",
        "            # Извлекаем путь до изображения\n",
        "            path = paths.iloc[path_idx]\n",
        "            # Читаем изображение            \n",
        "            img = plt.imread('/content/drive/MyDrive/SkillFactory/IntelliVision_case/raw_data/'+path.replace('\\\\','/'))\n",
        "            # Отображаем его на соответствующей координатной плоскости\n",
        "            axes[i,j].imshow(img)\n",
        "            # Убираем пометки координатных осей\n",
        "            axes[i,j].axis('off')\n"
      ]
    },
    {
      "cell_type": "markdown",
      "id": "7785c7bd",
      "metadata": {
        "id": "7785c7bd",
        "papermill": {
          "duration": 0.00687,
          "end_time": "2023-04-15T19:52:52.276168",
          "exception": false,
          "start_time": "2023-04-15T19:52:52.269298",
          "status": "completed"
        },
        "tags": []
      },
      "source": [
        "Например, вы произвели кластеризацию и записали пути до изображений в виде столбца \"paths\" и метки кластеров в виде столбца \"cluster\" в некоторый DataFrame с именем data. Тогда, чтобы визуализировать несколько случайных изображений из кластера 0, вам нужно вызвать функцию `plot_sample_cluster_images()` следующим образом:\n",
        "\n",
        "```python\n",
        "plot_samples_images(data=data, cluster_label=0)\n",
        "```"
      ]
    },
    {
      "cell_type": "code",
      "execution_count": null,
      "id": "4513ad20",
      "metadata": {
        "id": "4513ad20",
        "papermill": {
          "duration": 0.006877,
          "end_time": "2023-04-15T19:52:52.290193",
          "exception": false,
          "start_time": "2023-04-15T19:52:52.283316",
          "status": "completed"
        },
        "tags": []
      },
      "outputs": [],
      "source": [
        "clustered_images_desc_1 = images\n",
        "clustered_images_desc_1['cluster'] = labels_1\n",
        "\n",
        "for n in range(best_n_1):\n",
        "    plot_samples_images(data=clustered_images_desc_1.to_numpy(), cluster_label=n)\n"
      ]
    },
    {
      "cell_type": "code",
      "execution_count": null,
      "id": "d8f9cc3e",
      "metadata": {
        "id": "d8f9cc3e"
      },
      "outputs": [],
      "source": [
        "# clustered_images_desc_2 = images\n",
        "# clustered_images_desc_2['cluster'] = labels_1\n",
        "# plot_samples_images(data=clustered_images_desc_1, cluster_label=0)\n",
        "# plot_samples_images(data=clustered_images_desc_1, cluster_label=1)"
      ]
    },
    {
      "cell_type": "code",
      "execution_count": null,
      "id": "1ec27083",
      "metadata": {
        "id": "1ec27083"
      },
      "outputs": [],
      "source": [
        "# clustered_images_desc_3 = images\n",
        "# clustered_images_desc_3['cluster'] = labels_1\n",
        "# plot_samples_images(data=clustered_images_desc_1, cluster_label=0)\n",
        "# plot_samples_images(data=clustered_images_desc_1, cluster_label=1)"
      ]
    },
    {
      "cell_type": "code",
      "execution_count": null,
      "id": "323cd8bb",
      "metadata": {
        "id": "323cd8bb"
      },
      "outputs": [],
      "source": [
        "# clustered_images_desc_4 = images\n",
        "# clustered_images_desc_4['cluster'] = labels_1\n",
        "# plot_samples_images(data=clustered_images_desc_1, cluster_label=0)\n",
        "# plot_samples_images(data=clustered_images_desc_1, cluster_label=1)"
      ]
    },
    {
      "cell_type": "markdown",
      "id": "4c2de170",
      "metadata": {
        "id": "4c2de170",
        "papermill": {
          "duration": 0.006854,
          "end_time": "2023-04-15T19:52:52.304639",
          "exception": false,
          "start_time": "2023-04-15T19:52:52.297785",
          "status": "completed"
        },
        "tags": []
      },
      "source": [
        "### 3.3. Поиск выбросов"
      ]
    },
    {
      "cell_type": "markdown",
      "id": "0c52076e",
      "metadata": {
        "id": "0c52076e",
        "papermill": {
          "duration": 0.00677,
          "end_time": "2023-04-15T19:52:52.318559",
          "exception": false,
          "start_time": "2023-04-15T19:52:52.311789",
          "status": "completed"
        },
        "tags": []
      },
      "source": [
        "С помощью известных вам методов поиска выбросов (например, DBSCAN) попытайтесь найти выбросы среди изображений, используя все варианты дескрипторов. Подберите параметры алгоритма.\n",
        "\n",
        "Визуализируйте изображения, попавшие в раздел выбросов, и попробуйте проинтерпретировать полученные результаты. Подумайте, почему именно эти изображения попали в выбросы.\n",
        "\n",
        "Сравните результаты для всех вариантов дескрипторов. Какой вариант дескрипторов даёт наилучшее представление о выбросах?\n",
        "\n"
      ]
    },
    {
      "cell_type": "code",
      "execution_count": null,
      "id": "04186e9e",
      "metadata": {
        "id": "04186e9e",
        "papermill": {
          "duration": 0.006916,
          "end_time": "2023-04-15T19:52:52.332826",
          "exception": false,
          "start_time": "2023-04-15T19:52:52.325910",
          "status": "completed"
        },
        "tags": []
      },
      "outputs": [],
      "source": [
        "from sklearn.metrics import silhouette_score\n",
        "from collections import Counter\n",
        "\n",
        "from sklearn.cluster import DBSCAN\n",
        "\n",
        "db = DBSCAN(eps=28)\n",
        "\n",
        "db.fit(pd.DataFrame(desc_1_pca))\n",
        "\n",
        "print(dict(Counter(db.labels_)))"
      ]
    },
    {
      "cell_type": "code",
      "execution_count": null,
      "id": "f49dc63a",
      "metadata": {
        "id": "f49dc63a"
      },
      "outputs": [],
      "source": [
        "from sklearn.cluster import AgglomerativeClustering\n",
        "\n",
        "agg = AgglomerativeClustering()\n",
        "\n",
        "agg.fit(pd.DataFrame(desc_1_scaled))\n",
        "\n",
        "print(dict(Counter(agg.labels_)))\n",
        "\n",
        "silhouette_score(desc_1_scaled, agg.labels_)"
      ]
    },
    {
      "cell_type": "code",
      "execution_count": null,
      "id": "f4afe5af",
      "metadata": {
        "id": "f4afe5af"
      },
      "outputs": [],
      "source": [
        "silhouette_score(desc_1_scaled, agg.labels_)"
      ]
    },
    {
      "cell_type": "markdown",
      "id": "1247b4f3",
      "metadata": {
        "id": "1247b4f3",
        "papermill": {
          "duration": 0.007285,
          "end_time": "2023-04-15T19:52:52.347417",
          "exception": false,
          "start_time": "2023-04-15T19:52:52.340132",
          "status": "completed"
        },
        "tags": []
      },
      "source": [
        "## 4. Выводы и оформление проекта"
      ]
    },
    {
      "cell_type": "markdown",
      "id": "ccc9f559",
      "metadata": {
        "id": "ccc9f559",
        "papermill": {
          "duration": 0.007683,
          "end_time": "2023-04-15T19:52:52.362485",
          "exception": false,
          "start_time": "2023-04-15T19:52:52.354802",
          "status": "completed"
        },
        "tags": []
      },
      "source": [
        "На основе результатов, полученных при выполнении проекта, сделайте вывод по задаче, приведя таблицу со сравнением результатов кластеризации на каждом из наборов дескрипторов. Приведите сравнение вариантов предобработки исходных данных по качеству кластеризации.\n",
        "\n",
        "Результатом вашей работы должно стать небольшое исследование, в котором вы даёте команде IntelliVision рекомендации, какие дескрипторы, с какой предобработкой и каким алгоритмом кластеризации лучше всего подходят для решения задачи.\n",
        "\n",
        "Также сохраните результаты лучшего алгоритма в CSV-файл со столбцами path (путь до изображения) и cluster (номер кластера). В описании к проекту приведите расшифровку каждого из кластеров.\n",
        "\n",
        "Когда вы закончите выполнять проект, создайте в своём репозитории файл README.md и кратко опишите содержание проекта по принципу, который мы приводили ранее.\n",
        "\n",
        "Выложите свой проект на GitHub и оформите удалённый репозиторий, добавив в него описание и теги (придумайте их самостоятельно в зависимости от того, какую задачу вы решали)."
      ]
    },
    {
      "cell_type": "code",
      "execution_count": null,
      "id": "1d27262f",
      "metadata": {
        "id": "1d27262f",
        "papermill": {
          "duration": 0.006773,
          "end_time": "2023-04-15T19:52:52.376773",
          "exception": false,
          "start_time": "2023-04-15T19:52:52.370000",
          "status": "completed"
        },
        "tags": []
      },
      "outputs": [],
      "source": []
    }
  ],
  "metadata": {
    "accelerator": "GPU",
    "colab": {
      "provenance": [],
      "toc_visible": true
    },
    "gpuClass": "standard",
    "kernelspec": {
      "display_name": "Python 3",
      "language": "python",
      "name": "python3"
    },
    "language_info": {
      "codemirror_mode": {
        "name": "ipython",
        "version": 3
      },
      "file_extension": ".py",
      "mimetype": "text/x-python",
      "name": "python",
      "nbconvert_exporter": "python",
      "pygments_lexer": "ipython3",
      "version": "3.9.7"
    },
    "papermill": {
      "default_parameters": {},
      "duration": 128.230746,
      "end_time": "2023-04-15T19:52:53.810255",
      "environment_variables": {},
      "exception": null,
      "input_path": "__notebook__.ipynb",
      "output_path": "__notebook__.ipynb",
      "parameters": {},
      "start_time": "2023-04-15T19:50:45.579509",
      "version": "2.4.0"
    }
  },
  "nbformat": 4,
  "nbformat_minor": 5
}